{
 "cells": [
  {
   "cell_type": "code",
   "execution_count": 514,
   "metadata": {},
   "outputs": [],
   "source": [
    "import pandas as pd"
   ]
  },
  {
   "cell_type": "code",
   "execution_count": 515,
   "metadata": {},
   "outputs": [],
   "source": [
    "train = pd.read_csv('train.csv', index_col= 'Id')\n",
    "test = pd.read_csv('test.csv', index_col= 'Id')"
   ]
  },
  {
   "cell_type": "code",
   "execution_count": 516,
   "metadata": {
    "scrolled": true
   },
   "outputs": [
    {
     "data": {
      "text/html": [
       "<div>\n",
       "<style scoped>\n",
       "    .dataframe tbody tr th:only-of-type {\n",
       "        vertical-align: middle;\n",
       "    }\n",
       "\n",
       "    .dataframe tbody tr th {\n",
       "        vertical-align: top;\n",
       "    }\n",
       "\n",
       "    .dataframe thead th {\n",
       "        text-align: right;\n",
       "    }\n",
       "</style>\n",
       "<table border=\"1\" class=\"dataframe\">\n",
       "  <thead>\n",
       "    <tr style=\"text-align: right;\">\n",
       "      <th></th>\n",
       "      <th>MSSubClass</th>\n",
       "      <th>MSZoning</th>\n",
       "      <th>LotFrontage</th>\n",
       "      <th>LotArea</th>\n",
       "      <th>Street</th>\n",
       "      <th>Alley</th>\n",
       "      <th>LotShape</th>\n",
       "      <th>LandContour</th>\n",
       "      <th>Utilities</th>\n",
       "      <th>LotConfig</th>\n",
       "      <th>...</th>\n",
       "      <th>PoolArea</th>\n",
       "      <th>PoolQC</th>\n",
       "      <th>Fence</th>\n",
       "      <th>MiscFeature</th>\n",
       "      <th>MiscVal</th>\n",
       "      <th>MoSold</th>\n",
       "      <th>YrSold</th>\n",
       "      <th>SaleType</th>\n",
       "      <th>SaleCondition</th>\n",
       "      <th>SalePrice</th>\n",
       "    </tr>\n",
       "    <tr>\n",
       "      <th>Id</th>\n",
       "      <th></th>\n",
       "      <th></th>\n",
       "      <th></th>\n",
       "      <th></th>\n",
       "      <th></th>\n",
       "      <th></th>\n",
       "      <th></th>\n",
       "      <th></th>\n",
       "      <th></th>\n",
       "      <th></th>\n",
       "      <th></th>\n",
       "      <th></th>\n",
       "      <th></th>\n",
       "      <th></th>\n",
       "      <th></th>\n",
       "      <th></th>\n",
       "      <th></th>\n",
       "      <th></th>\n",
       "      <th></th>\n",
       "      <th></th>\n",
       "      <th></th>\n",
       "    </tr>\n",
       "  </thead>\n",
       "  <tbody>\n",
       "    <tr>\n",
       "      <td>1</td>\n",
       "      <td>20</td>\n",
       "      <td>RL</td>\n",
       "      <td>NaN</td>\n",
       "      <td>21695</td>\n",
       "      <td>Pave</td>\n",
       "      <td>NaN</td>\n",
       "      <td>IR1</td>\n",
       "      <td>Lvl</td>\n",
       "      <td>AllPub</td>\n",
       "      <td>Corner</td>\n",
       "      <td>...</td>\n",
       "      <td>0</td>\n",
       "      <td>NaN</td>\n",
       "      <td>NaN</td>\n",
       "      <td>NaN</td>\n",
       "      <td>0</td>\n",
       "      <td>12</td>\n",
       "      <td>2009</td>\n",
       "      <td>WD</td>\n",
       "      <td>Normal</td>\n",
       "      <td>222000.000000</td>\n",
       "    </tr>\n",
       "    <tr>\n",
       "      <td>2</td>\n",
       "      <td>20</td>\n",
       "      <td>RL</td>\n",
       "      <td>NaN</td>\n",
       "      <td>10530</td>\n",
       "      <td>Pave</td>\n",
       "      <td>NaN</td>\n",
       "      <td>IR1</td>\n",
       "      <td>Lvl</td>\n",
       "      <td>AllPub</td>\n",
       "      <td>Corner</td>\n",
       "      <td>...</td>\n",
       "      <td>0</td>\n",
       "      <td>NaN</td>\n",
       "      <td>NaN</td>\n",
       "      <td>NaN</td>\n",
       "      <td>0</td>\n",
       "      <td>3</td>\n",
       "      <td>2007</td>\n",
       "      <td>WD</td>\n",
       "      <td>Normal</td>\n",
       "      <td>143250.000000</td>\n",
       "    </tr>\n",
       "    <tr>\n",
       "      <td>3</td>\n",
       "      <td>20</td>\n",
       "      <td>RL</td>\n",
       "      <td>88.0</td>\n",
       "      <td>12803</td>\n",
       "      <td>Pave</td>\n",
       "      <td>NaN</td>\n",
       "      <td>IR1</td>\n",
       "      <td>Lvl</td>\n",
       "      <td>AllPub</td>\n",
       "      <td>Inside</td>\n",
       "      <td>...</td>\n",
       "      <td>0</td>\n",
       "      <td>NaN</td>\n",
       "      <td>NaN</td>\n",
       "      <td>NaN</td>\n",
       "      <td>0</td>\n",
       "      <td>9</td>\n",
       "      <td>2008</td>\n",
       "      <td>WD</td>\n",
       "      <td>Normal</td>\n",
       "      <td>221000.000000</td>\n",
       "    </tr>\n",
       "    <tr>\n",
       "      <td>4</td>\n",
       "      <td>60</td>\n",
       "      <td>FV</td>\n",
       "      <td>114.0</td>\n",
       "      <td>8314</td>\n",
       "      <td>Pave</td>\n",
       "      <td>Pave</td>\n",
       "      <td>IR1</td>\n",
       "      <td>Lvl</td>\n",
       "      <td>AllPub</td>\n",
       "      <td>Corner</td>\n",
       "      <td>...</td>\n",
       "      <td>0</td>\n",
       "      <td>NaN</td>\n",
       "      <td>GdPrv</td>\n",
       "      <td>NaN</td>\n",
       "      <td>0</td>\n",
       "      <td>11</td>\n",
       "      <td>2006</td>\n",
       "      <td>WD</td>\n",
       "      <td>Normal</td>\n",
       "      <td>190269.599579</td>\n",
       "    </tr>\n",
       "    <tr>\n",
       "      <td>5</td>\n",
       "      <td>20</td>\n",
       "      <td>RL</td>\n",
       "      <td>78.0</td>\n",
       "      <td>10335</td>\n",
       "      <td>Pave</td>\n",
       "      <td>NaN</td>\n",
       "      <td>IR1</td>\n",
       "      <td>Lvl</td>\n",
       "      <td>AllPub</td>\n",
       "      <td>Inside</td>\n",
       "      <td>...</td>\n",
       "      <td>0</td>\n",
       "      <td>NaN</td>\n",
       "      <td>MnPrv</td>\n",
       "      <td>NaN</td>\n",
       "      <td>0</td>\n",
       "      <td>7</td>\n",
       "      <td>2006</td>\n",
       "      <td>WD</td>\n",
       "      <td>Normal</td>\n",
       "      <td>180000.000000</td>\n",
       "    </tr>\n",
       "  </tbody>\n",
       "</table>\n",
       "<p>5 rows × 80 columns</p>\n",
       "</div>"
      ],
      "text/plain": [
       "    MSSubClass MSZoning  LotFrontage  LotArea Street Alley LotShape  \\\n",
       "Id                                                                    \n",
       "1           20       RL          NaN    21695   Pave   NaN      IR1   \n",
       "2           20       RL          NaN    10530   Pave   NaN      IR1   \n",
       "3           20       RL         88.0    12803   Pave   NaN      IR1   \n",
       "4           60       FV        114.0     8314   Pave  Pave      IR1   \n",
       "5           20       RL         78.0    10335   Pave   NaN      IR1   \n",
       "\n",
       "   LandContour Utilities LotConfig  ... PoolArea PoolQC  Fence MiscFeature  \\\n",
       "Id                                  ...                                      \n",
       "1          Lvl    AllPub    Corner  ...        0    NaN    NaN         NaN   \n",
       "2          Lvl    AllPub    Corner  ...        0    NaN    NaN         NaN   \n",
       "3          Lvl    AllPub    Inside  ...        0    NaN    NaN         NaN   \n",
       "4          Lvl    AllPub    Corner  ...        0    NaN  GdPrv         NaN   \n",
       "5          Lvl    AllPub    Inside  ...        0    NaN  MnPrv         NaN   \n",
       "\n",
       "   MiscVal MoSold  YrSold  SaleType  SaleCondition      SalePrice  \n",
       "Id                                                                 \n",
       "1        0     12    2009        WD         Normal  222000.000000  \n",
       "2        0      3    2007        WD         Normal  143250.000000  \n",
       "3        0      9    2008        WD         Normal  221000.000000  \n",
       "4        0     11    2006        WD         Normal  190269.599579  \n",
       "5        0      7    2006        WD         Normal  180000.000000  \n",
       "\n",
       "[5 rows x 80 columns]"
      ]
     },
     "execution_count": 516,
     "metadata": {},
     "output_type": "execute_result"
    }
   ],
   "source": [
    "train.head()"
   ]
  },
  {
   "cell_type": "code",
   "execution_count": 501,
   "metadata": {},
   "outputs": [
    {
     "data": {
      "text/plain": [
       "<matplotlib.axes._subplots.AxesSubplot at 0x27634e65e08>"
      ]
     },
     "execution_count": 501,
     "metadata": {},
     "output_type": "execute_result"
    },
    {
     "data": {
      "image/png": "[encoded data removed]",
      "text/plain": [
       "<Figure size 1008x864 with 2 Axes>"
      ]
     },
     "metadata": {
      "needs_background": "light"
     },
     "output_type": "display_data"
    }
   ],
   "source": [
    "cor = train.corr() #corr()함수로 훈련데이터셋 내 모든 변수들의 상관관계 확인\n",
    "top_corr = train[cor.nlargest(20,'SalePrice')['SalePrice'].index].corr() #타켓과 상관관계 큰 값의 인덱스를 차례로 40개 저장\n",
    "plt.figure(figsize = (14,12))\n",
    "sns.heatmap(top_corr, annot = True)"
   ]
  },
  {
   "cell_type": "code",
   "execution_count": 502,
   "metadata": {},
   "outputs": [
    {
     "data": {
      "text/plain": [
       "<matplotlib.axes._subplots.AxesSubplot at 0x2763e789f88>"
      ]
     },
     "execution_count": 502,
     "metadata": {},
     "output_type": "execute_result"
    },
    {
     "data": {
      "image/png": "[encoded data removed]",
      "text/plain": [
       "<Figure size 1008x864 with 2 Axes>"
      ]
     },
     "metadata": {
      "needs_background": "light"
     },
     "output_type": "display_data"
    }
   ],
   "source": [
    "# corr()함수를 통한 df내 모든 변수의상관관계 그린 후 상관관계가 0.3이상인 변수만..\n",
    "corrmat = train.corr() #상관관계 확인\n",
    "top_corr_features = corrmat.index[abs(corrmat[\"SalePrice\"])>=0.3]\n",
    "top_corr_features\n",
    "\n",
    "#위룰 토대로 heatmap 출력\n",
    "plt.figure(figsize = (14,12))\n",
    "sns.heatmap(train[top_corr_features].corr(), annot = True) #annot=True 각 셀안에 값 출력"
   ]
  },
  {
   "cell_type": "code",
   "execution_count": 503,
   "metadata": {
    "scrolled": true
   },
   "outputs": [
    {
     "data": {
      "text/html": [
       "<div>\n",
       "<style scoped>\n",
       "    .dataframe tbody tr th:only-of-type {\n",
       "        vertical-align: middle;\n",
       "    }\n",
       "\n",
       "    .dataframe tbody tr th {\n",
       "        vertical-align: top;\n",
       "    }\n",
       "\n",
       "    .dataframe thead th {\n",
       "        text-align: right;\n",
       "    }\n",
       "</style>\n",
       "<table border=\"1\" class=\"dataframe\">\n",
       "  <thead>\n",
       "    <tr style=\"text-align: right;\">\n",
       "      <th></th>\n",
       "      <th>MSSubClass</th>\n",
       "      <th>MSZoning</th>\n",
       "      <th>LotFrontage</th>\n",
       "      <th>LotArea</th>\n",
       "      <th>Street</th>\n",
       "      <th>Alley</th>\n",
       "      <th>LotShape</th>\n",
       "      <th>LandContour</th>\n",
       "      <th>Utilities</th>\n",
       "      <th>LotConfig</th>\n",
       "      <th>...</th>\n",
       "      <th>ScreenPorch</th>\n",
       "      <th>PoolArea</th>\n",
       "      <th>PoolQC</th>\n",
       "      <th>Fence</th>\n",
       "      <th>MiscFeature</th>\n",
       "      <th>MiscVal</th>\n",
       "      <th>MoSold</th>\n",
       "      <th>YrSold</th>\n",
       "      <th>SaleType</th>\n",
       "      <th>SaleCondition</th>\n",
       "    </tr>\n",
       "    <tr>\n",
       "      <th>Id</th>\n",
       "      <th></th>\n",
       "      <th></th>\n",
       "      <th></th>\n",
       "      <th></th>\n",
       "      <th></th>\n",
       "      <th></th>\n",
       "      <th></th>\n",
       "      <th></th>\n",
       "      <th></th>\n",
       "      <th></th>\n",
       "      <th></th>\n",
       "      <th></th>\n",
       "      <th></th>\n",
       "      <th></th>\n",
       "      <th></th>\n",
       "      <th></th>\n",
       "      <th></th>\n",
       "      <th></th>\n",
       "      <th></th>\n",
       "      <th></th>\n",
       "      <th></th>\n",
       "    </tr>\n",
       "  </thead>\n",
       "  <tbody>\n",
       "    <tr>\n",
       "      <td>1752</td>\n",
       "      <td>20</td>\n",
       "      <td>RL</td>\n",
       "      <td>78.0</td>\n",
       "      <td>10206</td>\n",
       "      <td>Pave</td>\n",
       "      <td>NaN</td>\n",
       "      <td>Reg</td>\n",
       "      <td>Lvl</td>\n",
       "      <td>AllPub</td>\n",
       "      <td>Inside</td>\n",
       "      <td>...</td>\n",
       "      <td>0</td>\n",
       "      <td>0</td>\n",
       "      <td>NaN</td>\n",
       "      <td>NaN</td>\n",
       "      <td>NaN</td>\n",
       "      <td>0</td>\n",
       "      <td>9</td>\n",
       "      <td>2009</td>\n",
       "      <td>WD</td>\n",
       "      <td>Normal</td>\n",
       "    </tr>\n",
       "    <tr>\n",
       "      <td>1753</td>\n",
       "      <td>50</td>\n",
       "      <td>RL</td>\n",
       "      <td>50.0</td>\n",
       "      <td>5000</td>\n",
       "      <td>Pave</td>\n",
       "      <td>Pave</td>\n",
       "      <td>Reg</td>\n",
       "      <td>Lvl</td>\n",
       "      <td>AllPub</td>\n",
       "      <td>Inside</td>\n",
       "      <td>...</td>\n",
       "      <td>0</td>\n",
       "      <td>0</td>\n",
       "      <td>NaN</td>\n",
       "      <td>NaN</td>\n",
       "      <td>NaN</td>\n",
       "      <td>0</td>\n",
       "      <td>5</td>\n",
       "      <td>2010</td>\n",
       "      <td>WD</td>\n",
       "      <td>Normal</td>\n",
       "    </tr>\n",
       "    <tr>\n",
       "      <td>1754</td>\n",
       "      <td>60</td>\n",
       "      <td>RL</td>\n",
       "      <td>NaN</td>\n",
       "      <td>9930</td>\n",
       "      <td>Pave</td>\n",
       "      <td>NaN</td>\n",
       "      <td>IR1</td>\n",
       "      <td>Lvl</td>\n",
       "      <td>AllPub</td>\n",
       "      <td>Inside</td>\n",
       "      <td>...</td>\n",
       "      <td>0</td>\n",
       "      <td>0</td>\n",
       "      <td>NaN</td>\n",
       "      <td>NaN</td>\n",
       "      <td>NaN</td>\n",
       "      <td>0</td>\n",
       "      <td>7</td>\n",
       "      <td>2006</td>\n",
       "      <td>WD</td>\n",
       "      <td>Normal</td>\n",
       "    </tr>\n",
       "    <tr>\n",
       "      <td>1755</td>\n",
       "      <td>60</td>\n",
       "      <td>RL</td>\n",
       "      <td>92.0</td>\n",
       "      <td>9920</td>\n",
       "      <td>Pave</td>\n",
       "      <td>NaN</td>\n",
       "      <td>IR1</td>\n",
       "      <td>Lvl</td>\n",
       "      <td>AllPub</td>\n",
       "      <td>CulDSac</td>\n",
       "      <td>...</td>\n",
       "      <td>0</td>\n",
       "      <td>0</td>\n",
       "      <td>NaN</td>\n",
       "      <td>NaN</td>\n",
       "      <td>NaN</td>\n",
       "      <td>0</td>\n",
       "      <td>6</td>\n",
       "      <td>2007</td>\n",
       "      <td>WD</td>\n",
       "      <td>Normal</td>\n",
       "    </tr>\n",
       "    <tr>\n",
       "      <td>1756</td>\n",
       "      <td>50</td>\n",
       "      <td>RL</td>\n",
       "      <td>66.0</td>\n",
       "      <td>21780</td>\n",
       "      <td>Pave</td>\n",
       "      <td>NaN</td>\n",
       "      <td>Reg</td>\n",
       "      <td>Lvl</td>\n",
       "      <td>AllPub</td>\n",
       "      <td>Inside</td>\n",
       "      <td>...</td>\n",
       "      <td>144</td>\n",
       "      <td>0</td>\n",
       "      <td>NaN</td>\n",
       "      <td>NaN</td>\n",
       "      <td>NaN</td>\n",
       "      <td>0</td>\n",
       "      <td>7</td>\n",
       "      <td>2008</td>\n",
       "      <td>WD</td>\n",
       "      <td>Normal</td>\n",
       "    </tr>\n",
       "  </tbody>\n",
       "</table>\n",
       "<p>5 rows × 79 columns</p>\n",
       "</div>"
      ],
      "text/plain": [
       "      MSSubClass MSZoning  LotFrontage  LotArea Street Alley LotShape  \\\n",
       "Id                                                                      \n",
       "1752          20       RL         78.0    10206   Pave   NaN      Reg   \n",
       "1753          50       RL         50.0     5000   Pave  Pave      Reg   \n",
       "1754          60       RL          NaN     9930   Pave   NaN      IR1   \n",
       "1755          60       RL         92.0     9920   Pave   NaN      IR1   \n",
       "1756          50       RL         66.0    21780   Pave   NaN      Reg   \n",
       "\n",
       "     LandContour Utilities LotConfig  ... ScreenPorch PoolArea PoolQC Fence  \\\n",
       "Id                                    ...                                     \n",
       "1752         Lvl    AllPub    Inside  ...           0        0    NaN   NaN   \n",
       "1753         Lvl    AllPub    Inside  ...           0        0    NaN   NaN   \n",
       "1754         Lvl    AllPub    Inside  ...           0        0    NaN   NaN   \n",
       "1755         Lvl    AllPub   CulDSac  ...           0        0    NaN   NaN   \n",
       "1756         Lvl    AllPub    Inside  ...         144        0    NaN   NaN   \n",
       "\n",
       "     MiscFeature MiscVal  MoSold  YrSold  SaleType  SaleCondition  \n",
       "Id                                                                 \n",
       "1752         NaN       0       9    2009        WD         Normal  \n",
       "1753         NaN       0       5    2010        WD         Normal  \n",
       "1754         NaN       0       7    2006        WD         Normal  \n",
       "1755         NaN       0       6    2007        WD         Normal  \n",
       "1756         NaN       0       7    2008        WD         Normal  \n",
       "\n",
       "[5 rows x 79 columns]"
      ]
     },
     "execution_count": 503,
     "metadata": {},
     "output_type": "execute_result"
    }
   ],
   "source": [
    "test.head()"
   ]
  },
  {
   "cell_type": "code",
   "execution_count": 504,
   "metadata": {},
   "outputs": [],
   "source": [
    "#정답데이터 저장\n",
    "y = train['SalePrice'] "
   ]
  },
  {
   "cell_type": "code",
   "execution_count": 505,
   "metadata": {
    "scrolled": true
   },
   "outputs": [
    {
     "name": "stdout",
     "output_type": "stream",
     "text": [
      "<class 'pandas.core.frame.DataFrame'>\n",
      "Int64Index: 1751 entries, 1 to 1751\n",
      "Data columns (total 80 columns):\n",
      "MSSubClass       1751 non-null int64\n",
      "MSZoning         1747 non-null object\n",
      "LotFrontage      1450 non-null float64\n",
      "LotArea          1751 non-null int64\n",
      "Street           1751 non-null object\n",
      "Alley            125 non-null object\n",
      "LotShape         1751 non-null object\n",
      "LandContour      1751 non-null object\n",
      "Utilities        1750 non-null object\n",
      "LotConfig        1751 non-null object\n",
      "LandSlope        1751 non-null object\n",
      "Neighborhood     1751 non-null object\n",
      "Condition1       1751 non-null object\n",
      "Condition2       1751 non-null object\n",
      "BldgType         1751 non-null object\n",
      "HouseStyle       1751 non-null object\n",
      "OverallQual      1751 non-null int64\n",
      "OverallCond      1751 non-null int64\n",
      "YearBuilt        1751 non-null int64\n",
      "YearRemodAdd     1751 non-null int64\n",
      "RoofStyle        1751 non-null object\n",
      "RoofMatl         1751 non-null object\n",
      "Exterior1st      1751 non-null object\n",
      "Exterior2nd      1751 non-null object\n",
      "MasVnrType       1734 non-null object\n",
      "MasVnrArea       1735 non-null float64\n",
      "ExterQual        1751 non-null object\n",
      "ExterCond        1751 non-null object\n",
      "Foundation       1751 non-null object\n",
      "BsmtQual         1698 non-null object\n",
      "BsmtCond         1696 non-null object\n",
      "BsmtExposure     1698 non-null object\n",
      "BsmtFinType1     1699 non-null object\n",
      "BsmtFinSF1       1750 non-null float64\n",
      "BsmtFinType2     1699 non-null object\n",
      "BsmtFinSF2       1750 non-null float64\n",
      "BsmtUnfSF        1750 non-null float64\n",
      "TotalBsmtSF      1750 non-null float64\n",
      "Heating          1751 non-null object\n",
      "HeatingQC        1751 non-null object\n",
      "CentralAir       1751 non-null object\n",
      "Electrical       1750 non-null object\n",
      "1stFlrSF         1751 non-null int64\n",
      "2ndFlrSF         1751 non-null int64\n",
      "LowQualFinSF     1751 non-null int64\n",
      "GrLivArea        1751 non-null int64\n",
      "BsmtFullBath     1750 non-null float64\n",
      "BsmtHalfBath     1750 non-null float64\n",
      "FullBath         1751 non-null int64\n",
      "HalfBath         1751 non-null int64\n",
      "BedroomAbvGr     1751 non-null int64\n",
      "KitchenAbvGr     1751 non-null int64\n",
      "KitchenQual      1751 non-null object\n",
      "TotRmsAbvGrd     1751 non-null int64\n",
      "Functional       1749 non-null object\n",
      "Fireplaces       1751 non-null int64\n",
      "FireplaceQu      892 non-null object\n",
      "GarageType       1652 non-null object\n",
      "GarageYrBlt      1651 non-null float64\n",
      "GarageFinish     1651 non-null object\n",
      "GarageCars       1750 non-null float64\n",
      "GarageArea       1750 non-null float64\n",
      "GarageQual       1651 non-null object\n",
      "GarageCond       1651 non-null object\n",
      "PavedDrive       1751 non-null object\n",
      "WoodDeckSF       1751 non-null int64\n",
      "OpenPorchSF      1751 non-null int64\n",
      "EnclosedPorch    1751 non-null int64\n",
      "3SsnPorch        1751 non-null int64\n",
      "ScreenPorch      1751 non-null int64\n",
      "PoolArea         1751 non-null int64\n",
      "PoolQC           4 non-null object\n",
      "Fence            339 non-null object\n",
      "MiscFeature      63 non-null object\n",
      "MiscVal          1751 non-null int64\n",
      "MoSold           1751 non-null int64\n",
      "YrSold           1751 non-null int64\n",
      "SaleType         1751 non-null object\n",
      "SaleCondition    1751 non-null object\n",
      "SalePrice        1751 non-null float64\n",
      "dtypes: float64(12), int64(25), object(43)\n",
      "memory usage: 1.1+ MB\n"
     ]
    }
   ],
   "source": [
    "train.info()"
   ]
  },
  {
   "cell_type": "code",
   "execution_count": 506,
   "metadata": {},
   "outputs": [
    {
     "name": "stderr",
     "output_type": "stream",
     "text": [
      "C:\\Users\\USER\\Anaconda3\\lib\\site-packages\\ipykernel_launcher.py:2: FutureWarning: Sorting because non-concatenation axis is not aligned. A future version\n",
      "of pandas will change to not sort by default.\n",
      "\n",
      "To accept the future behavior, pass 'sort=False'.\n",
      "\n",
      "To retain the current behavior and silence the warning, pass 'sort=True'.\n",
      "\n",
      "  \n"
     ]
    },
    {
     "data": {
      "text/html": [
       "<div>\n",
       "<style scoped>\n",
       "    .dataframe tbody tr th:only-of-type {\n",
       "        vertical-align: middle;\n",
       "    }\n",
       "\n",
       "    .dataframe tbody tr th {\n",
       "        vertical-align: top;\n",
       "    }\n",
       "\n",
       "    .dataframe thead th {\n",
       "        text-align: right;\n",
       "    }\n",
       "</style>\n",
       "<table border=\"1\" class=\"dataframe\">\n",
       "  <thead>\n",
       "    <tr style=\"text-align: right;\">\n",
       "      <th></th>\n",
       "      <th>1stFlrSF</th>\n",
       "      <th>2ndFlrSF</th>\n",
       "      <th>3SsnPorch</th>\n",
       "      <th>Alley</th>\n",
       "      <th>BedroomAbvGr</th>\n",
       "      <th>BldgType</th>\n",
       "      <th>BsmtCond</th>\n",
       "      <th>BsmtExposure</th>\n",
       "      <th>BsmtFinSF1</th>\n",
       "      <th>BsmtFinSF2</th>\n",
       "      <th>...</th>\n",
       "      <th>SaleType</th>\n",
       "      <th>ScreenPorch</th>\n",
       "      <th>Street</th>\n",
       "      <th>TotRmsAbvGrd</th>\n",
       "      <th>TotalBsmtSF</th>\n",
       "      <th>Utilities</th>\n",
       "      <th>WoodDeckSF</th>\n",
       "      <th>YearBuilt</th>\n",
       "      <th>YearRemodAdd</th>\n",
       "      <th>YrSold</th>\n",
       "    </tr>\n",
       "    <tr>\n",
       "      <th>Id</th>\n",
       "      <th></th>\n",
       "      <th></th>\n",
       "      <th></th>\n",
       "      <th></th>\n",
       "      <th></th>\n",
       "      <th></th>\n",
       "      <th></th>\n",
       "      <th></th>\n",
       "      <th></th>\n",
       "      <th></th>\n",
       "      <th></th>\n",
       "      <th></th>\n",
       "      <th></th>\n",
       "      <th></th>\n",
       "      <th></th>\n",
       "      <th></th>\n",
       "      <th></th>\n",
       "      <th></th>\n",
       "      <th></th>\n",
       "      <th></th>\n",
       "      <th></th>\n",
       "    </tr>\n",
       "  </thead>\n",
       "  <tbody>\n",
       "    <tr>\n",
       "      <td>1</td>\n",
       "      <td>1680</td>\n",
       "      <td>0</td>\n",
       "      <td>182</td>\n",
       "      <td>NaN</td>\n",
       "      <td>3</td>\n",
       "      <td>1Fam</td>\n",
       "      <td>TA</td>\n",
       "      <td>No</td>\n",
       "      <td>808.0</td>\n",
       "      <td>0.0</td>\n",
       "      <td>...</td>\n",
       "      <td>WD</td>\n",
       "      <td>0</td>\n",
       "      <td>Pave</td>\n",
       "      <td>5</td>\n",
       "      <td>880.0</td>\n",
       "      <td>AllPub</td>\n",
       "      <td>292</td>\n",
       "      <td>1988</td>\n",
       "      <td>2007</td>\n",
       "      <td>2009</td>\n",
       "    </tr>\n",
       "    <tr>\n",
       "      <td>2</td>\n",
       "      <td>981</td>\n",
       "      <td>0</td>\n",
       "      <td>0</td>\n",
       "      <td>NaN</td>\n",
       "      <td>3</td>\n",
       "      <td>1Fam</td>\n",
       "      <td>TA</td>\n",
       "      <td>No</td>\n",
       "      <td>282.0</td>\n",
       "      <td>35.0</td>\n",
       "      <td>...</td>\n",
       "      <td>WD</td>\n",
       "      <td>0</td>\n",
       "      <td>Pave</td>\n",
       "      <td>5</td>\n",
       "      <td>981.0</td>\n",
       "      <td>AllPub</td>\n",
       "      <td>0</td>\n",
       "      <td>1971</td>\n",
       "      <td>1971</td>\n",
       "      <td>2007</td>\n",
       "    </tr>\n",
       "    <tr>\n",
       "      <td>3</td>\n",
       "      <td>1494</td>\n",
       "      <td>0</td>\n",
       "      <td>0</td>\n",
       "      <td>NaN</td>\n",
       "      <td>3</td>\n",
       "      <td>1Fam</td>\n",
       "      <td>TA</td>\n",
       "      <td>Mn</td>\n",
       "      <td>922.0</td>\n",
       "      <td>0.0</td>\n",
       "      <td>...</td>\n",
       "      <td>WD</td>\n",
       "      <td>0</td>\n",
       "      <td>Pave</td>\n",
       "      <td>6</td>\n",
       "      <td>1494.0</td>\n",
       "      <td>AllPub</td>\n",
       "      <td>192</td>\n",
       "      <td>2002</td>\n",
       "      <td>2002</td>\n",
       "      <td>2008</td>\n",
       "    </tr>\n",
       "    <tr>\n",
       "      <td>4</td>\n",
       "      <td>854</td>\n",
       "      <td>840</td>\n",
       "      <td>0</td>\n",
       "      <td>Pave</td>\n",
       "      <td>3</td>\n",
       "      <td>1Fam</td>\n",
       "      <td>TA</td>\n",
       "      <td>No</td>\n",
       "      <td>0.0</td>\n",
       "      <td>0.0</td>\n",
       "      <td>...</td>\n",
       "      <td>WD</td>\n",
       "      <td>110</td>\n",
       "      <td>Pave</td>\n",
       "      <td>6</td>\n",
       "      <td>569.0</td>\n",
       "      <td>AllPub</td>\n",
       "      <td>0</td>\n",
       "      <td>1997</td>\n",
       "      <td>1998</td>\n",
       "      <td>2006</td>\n",
       "    </tr>\n",
       "    <tr>\n",
       "      <td>5</td>\n",
       "      <td>1721</td>\n",
       "      <td>0</td>\n",
       "      <td>0</td>\n",
       "      <td>NaN</td>\n",
       "      <td>3</td>\n",
       "      <td>1Fam</td>\n",
       "      <td>TA</td>\n",
       "      <td>No</td>\n",
       "      <td>570.0</td>\n",
       "      <td>0.0</td>\n",
       "      <td>...</td>\n",
       "      <td>WD</td>\n",
       "      <td>0</td>\n",
       "      <td>Pave</td>\n",
       "      <td>7</td>\n",
       "      <td>1461.0</td>\n",
       "      <td>AllPub</td>\n",
       "      <td>0</td>\n",
       "      <td>1968</td>\n",
       "      <td>1993</td>\n",
       "      <td>2006</td>\n",
       "    </tr>\n",
       "  </tbody>\n",
       "</table>\n",
       "<p>5 rows × 80 columns</p>\n",
       "</div>"
      ],
      "text/plain": [
       "    1stFlrSF  2ndFlrSF  3SsnPorch Alley  BedroomAbvGr BldgType BsmtCond  \\\n",
       "Id                                                                        \n",
       "1       1680         0        182   NaN             3     1Fam       TA   \n",
       "2        981         0          0   NaN             3     1Fam       TA   \n",
       "3       1494         0          0   NaN             3     1Fam       TA   \n",
       "4        854       840          0  Pave             3     1Fam       TA   \n",
       "5       1721         0          0   NaN             3     1Fam       TA   \n",
       "\n",
       "   BsmtExposure  BsmtFinSF1  BsmtFinSF2  ... SaleType ScreenPorch  Street  \\\n",
       "Id                                       ...                                \n",
       "1            No       808.0         0.0  ...       WD           0    Pave   \n",
       "2            No       282.0        35.0  ...       WD           0    Pave   \n",
       "3            Mn       922.0         0.0  ...       WD           0    Pave   \n",
       "4            No         0.0         0.0  ...       WD         110    Pave   \n",
       "5            No       570.0         0.0  ...       WD           0    Pave   \n",
       "\n",
       "    TotRmsAbvGrd TotalBsmtSF  Utilities WoodDeckSF YearBuilt YearRemodAdd  \\\n",
       "Id                                                                          \n",
       "1              5       880.0     AllPub        292      1988         2007   \n",
       "2              5       981.0     AllPub          0      1971         1971   \n",
       "3              6      1494.0     AllPub        192      2002         2002   \n",
       "4              6       569.0     AllPub          0      1997         1998   \n",
       "5              7      1461.0     AllPub          0      1968         1993   \n",
       "\n",
       "   YrSold  \n",
       "Id         \n",
       "1    2009  \n",
       "2    2007  \n",
       "3    2008  \n",
       "4    2006  \n",
       "5    2006  \n",
       "\n",
       "[5 rows x 80 columns]"
      ]
     },
     "execution_count": 506,
     "metadata": {},
     "output_type": "execute_result"
    }
   ],
   "source": [
    "#train, test 합병\n",
    "data = pd.concat((train,test))\n",
    "data.head()"
   ]
  },
  {
   "cell_type": "code",
   "execution_count": 507,
   "metadata": {},
   "outputs": [],
   "source": [
    "del data['SalePrice']"
   ]
  },
  {
   "cell_type": "markdown",
   "metadata": {},
   "source": [
    "#### 상관관계 낮은 컬럼 (0.1이하)"
   ]
  },
  {
   "cell_type": "markdown",
   "metadata": {},
   "source": [
    "BsmtHalfBath    -0.030887\n",
    "MiscVal         -0.016499\n",
    "YrSold          -0.013871\n",
    "BsmtFinSF2       0.001869\n",
    "MoSold           0.038703\n",
    "3SsnPorch        0.064808\n",
    "PoolArea         0.075791"
   ]
  },
  {
   "cell_type": "markdown",
   "metadata": {},
   "source": [
    "del data['MiscVal'], data['YrSold'], data['BsmtFinSF2'],  data['BsmtHalfBath'], data['LowQualFinSF'], \\\n",
    "data['MoSold'], data['3SsnPorch']"
   ]
  },
  {
   "cell_type": "code",
   "execution_count": null,
   "metadata": {},
   "outputs": [],
   "source": [
    "data.info()"
   ]
  },
  {
   "cell_type": "code",
   "execution_count": null,
   "metadata": {},
   "outputs": [],
   "source": [
    "data.shape"
   ]
  },
  {
   "cell_type": "markdown",
   "metadata": {},
   "source": [
    "## 결측치 채우기"
   ]
  },
  {
   "cell_type": "markdown",
   "metadata": {},
   "source": [
    "채워줘야 할 컬럼들\n",
    "<br> 1   MSZoning       2915 non-null   object \n",
    "<br> 2   LotFrontage    2433 non-null   float64\n",
    "<br> 5   Alley          198 non-null    object \n",
    "<br> 8   Utilities      2917 non-null   object \n",
    "<br> 22  Exterior1st    2918 non-null   object \n",
    "<br> 23  Exterior2nd    2918 non-null   object \n",
    "<br> 24  MasVnrType     2895 non-null   object \n",
    "<br> 25  MasVnrArea     2896 non-null   float64 \n",
    "<br> 29  BsmtQual       2838 non-null   object \n",
    "<br> 30  BsmtCond       2837 non-null   object \n",
    "<br> 31  BsmtExposure   2837 non-null   object \n",
    "<br> 32  BsmtFinType1   2840 non-null   object \n",
    "<br> 33  BsmtFinSF1     2918 non-null   float64\n",
    "<br> 34  BsmtFinType2   2839 non-null   object \n",
    "<br> 35  BsmtFinSF2     2918 non-null   float64\n",
    "<br> 36  BsmtUnfSF      2918 non-null   float64\n",
    "<br> 37  TotalBsmtSF    2918 non-null   float64\n",
    "<br> 41  Electrical     2918 non-null   object \n",
    "<br> 46  BsmtFullBath   2917 non-null   float64\n",
    "<br> 47  BsmtHalfBath   2917 non-null   float64\n",
    "<br> 52  KitchenQual    2918 non-null   object \n",
    "<br> 54  Functional     2917 non-null   object \n",
    "<br> 56  FireplaceQu    1499 non-null   object \n",
    "<br> 57  GarageType     2762 non-null   object \n",
    "<br> 58  GarageYrBlt    2760 non-null   float64\n",
    "<br> 59  GarageFinish   2760 non-null   object \n",
    "<br> 60  GarageCars     2918 non-null   float64\n",
    "<br> 61  GarageArea     2918 non-null   float64\n",
    "<br> 62  GarageQual     2760 non-null   object \n",
    "<br> 63  GarageCond     2760 non-null   object \n",
    "<br> 71  PoolQC         10 non-null     object \n",
    "<br> 72  Fence          571 non-null    object \n",
    "<br> 73  MiscFeature    105 non-null    object \n",
    "<br> 77  SaleType       2918 non-null   object "
   ]
  },
  {
   "cell_type": "code",
   "execution_count": null,
   "metadata": {
    "scrolled": true
   },
   "outputs": [],
   "source": [
    "data.isnull().sum()"
   ]
  },
  {
   "cell_type": "markdown",
   "metadata": {},
   "source": [
    "### 1. MSZoning"
   ]
  },
  {
   "cell_type": "code",
   "execution_count": 333,
   "metadata": {},
   "outputs": [
    {
     "data": {
      "text/plain": [
       "4"
      ]
     },
     "execution_count": 333,
     "metadata": {},
     "output_type": "execute_result"
    }
   ],
   "source": [
    "data['MSZoning'].isnull().sum()"
   ]
  },
  {
   "cell_type": "code",
   "execution_count": 334,
   "metadata": {
    "scrolled": true
   },
   "outputs": [
    {
     "data": {
      "text/plain": [
       "RL         2265\n",
       "RM          460\n",
       "FV          139\n",
       "RH           26\n",
       "C (all)      25\n",
       "Name: MSZoning, dtype: int64"
      ]
     },
     "execution_count": 334,
     "metadata": {},
     "output_type": "execute_result"
    }
   ],
   "source": [
    "data['MSZoning'].value_counts()"
   ]
  },
  {
   "cell_type": "code",
   "execution_count": 335,
   "metadata": {},
   "outputs": [],
   "source": [
    "##최빈값으로 채움\n",
    "data['MSZoning'].fillna('RL',inplace=True)"
   ]
  },
  {
   "cell_type": "markdown",
   "metadata": {},
   "source": [
    "### 2. LotFrontage"
   ]
  },
  {
   "cell_type": "code",
   "execution_count": 336,
   "metadata": {},
   "outputs": [
    {
     "data": {
      "text/plain": [
       "486"
      ]
     },
     "execution_count": 336,
     "metadata": {},
     "output_type": "execute_result"
    }
   ],
   "source": [
    "data['LotFrontage'].isnull().sum()"
   ]
  },
  {
   "cell_type": "code",
   "execution_count": 337,
   "metadata": {},
   "outputs": [
    {
     "data": {
      "text/plain": [
       "60.0     276\n",
       "80.0     137\n",
       "70.0     133\n",
       "50.0     117\n",
       "75.0     105\n",
       "        ... \n",
       "144.0      1\n",
       "31.0       1\n",
       "152.0      1\n",
       "168.0      1\n",
       "133.0      1\n",
       "Name: LotFrontage, Length: 128, dtype: int64"
      ]
     },
     "execution_count": 337,
     "metadata": {},
     "output_type": "execute_result"
    }
   ],
   "source": [
    "data['LotFrontage'].value_counts()"
   ]
  },
  {
   "cell_type": "code",
   "execution_count": 338,
   "metadata": {},
   "outputs": [
    {
     "data": {
      "text/plain": [
       "count    2433.000000\n",
       "mean       69.305795\n",
       "std        23.344905\n",
       "min        21.000000\n",
       "25%        59.000000\n",
       "50%        68.000000\n",
       "75%        80.000000\n",
       "max       313.000000\n",
       "Name: LotFrontage, dtype: float64"
      ]
     },
     "execution_count": 338,
     "metadata": {},
     "output_type": "execute_result"
    }
   ],
   "source": [
    "data['LotFrontage'].describe() #수치형 데이터"
   ]
  },
  {
   "cell_type": "code",
   "execution_count": 339,
   "metadata": {},
   "outputs": [],
   "source": [
    "##평균값으로 채움\n",
    "data['LotFrontage'].fillna(69,inplace=True)"
   ]
  },
  {
   "cell_type": "markdown",
   "metadata": {},
   "source": [
    "### 3. Alley"
   ]
  },
  {
   "cell_type": "code",
   "execution_count": 340,
   "metadata": {},
   "outputs": [
    {
     "data": {
      "text/plain": [
       "2721"
      ]
     },
     "execution_count": 340,
     "metadata": {},
     "output_type": "execute_result"
    }
   ],
   "source": [
    "data['Alley'].isnull().sum()"
   ]
  },
  {
   "cell_type": "code",
   "execution_count": 341,
   "metadata": {},
   "outputs": [
    {
     "data": {
      "text/plain": [
       "Grvl    120\n",
       "Pave     78\n",
       "Name: Alley, dtype: int64"
      ]
     },
     "execution_count": 341,
     "metadata": {},
     "output_type": "execute_result"
    }
   ],
   "source": [
    "data['Alley'].value_counts()"
   ]
  },
  {
   "cell_type": "code",
   "execution_count": 342,
   "metadata": {},
   "outputs": [
    {
     "data": {
      "text/plain": [
       "Id\n",
       "1     NaN\n",
       "2     NaN\n",
       "3     NaN\n",
       "4    Pave\n",
       "5     NaN\n",
       "Name: Alley, dtype: object"
      ]
     },
     "execution_count": 342,
     "metadata": {},
     "output_type": "execute_result"
    }
   ],
   "source": [
    "data['Alley'].head()"
   ]
  },
  {
   "cell_type": "code",
   "execution_count": 343,
   "metadata": {},
   "outputs": [],
   "source": [
    "##NA --> no alley access 므로 None으로 채움\n",
    "data['Alley'].fillna('None',inplace=True)"
   ]
  },
  {
   "cell_type": "markdown",
   "metadata": {},
   "source": [
    "### 4. Utilities"
   ]
  },
  {
   "cell_type": "code",
   "execution_count": 344,
   "metadata": {},
   "outputs": [
    {
     "data": {
      "text/plain": [
       "2"
      ]
     },
     "execution_count": 344,
     "metadata": {},
     "output_type": "execute_result"
    }
   ],
   "source": [
    "data['Utilities'].isnull().sum()"
   ]
  },
  {
   "cell_type": "code",
   "execution_count": 345,
   "metadata": {},
   "outputs": [
    {
     "data": {
      "text/plain": [
       "AllPub    2916\n",
       "NoSeWa       1\n",
       "Name: Utilities, dtype: int64"
      ]
     },
     "execution_count": 345,
     "metadata": {},
     "output_type": "execute_result"
    }
   ],
   "source": [
    "data['Utilities'].value_counts()"
   ]
  },
  {
   "cell_type": "code",
   "execution_count": 346,
   "metadata": {},
   "outputs": [],
   "source": [
    "##최빈값으로\n",
    "data['Utilities'].fillna('AllPub',inplace=True)"
   ]
  },
  {
   "cell_type": "markdown",
   "metadata": {},
   "source": [
    "### 5. Exterior1st, Exterior2nd"
   ]
  },
  {
   "cell_type": "code",
   "execution_count": 347,
   "metadata": {},
   "outputs": [
    {
     "data": {
      "text/plain": [
       "1"
      ]
     },
     "execution_count": 347,
     "metadata": {},
     "output_type": "execute_result"
    }
   ],
   "source": [
    "data['Exterior1st'].isnull().sum()"
   ]
  },
  {
   "cell_type": "code",
   "execution_count": 348,
   "metadata": {},
   "outputs": [
    {
     "data": {
      "text/plain": [
       "1"
      ]
     },
     "execution_count": 348,
     "metadata": {},
     "output_type": "execute_result"
    }
   ],
   "source": [
    "data['Exterior2nd'].isnull().sum()"
   ]
  },
  {
   "cell_type": "code",
   "execution_count": 349,
   "metadata": {},
   "outputs": [
    {
     "data": {
      "text/plain": [
       "VinylSd    1025\n",
       "MetalSd     450\n",
       "HdBoard     442\n",
       "Wd Sdng     411\n",
       "Plywood     221\n",
       "CemntBd     126\n",
       "BrkFace      87\n",
       "WdShing      56\n",
       "AsbShng      44\n",
       "Stucco       43\n",
       "BrkComm       6\n",
       "AsphShn       2\n",
       "Stone         2\n",
       "CBlock        2\n",
       "ImStucc       1\n",
       "Name: Exterior1st, dtype: int64"
      ]
     },
     "execution_count": 349,
     "metadata": {},
     "output_type": "execute_result"
    }
   ],
   "source": [
    "data['Exterior1st'].value_counts()"
   ]
  },
  {
   "cell_type": "code",
   "execution_count": 350,
   "metadata": {},
   "outputs": [
    {
     "data": {
      "text/plain": [
       "VinylSd    1014\n",
       "MetalSd     447\n",
       "HdBoard     406\n",
       "Wd Sdng     391\n",
       "Plywood     270\n",
       "CmentBd     126\n",
       "Wd Shng      81\n",
       "BrkFace      47\n",
       "Stucco       47\n",
       "AsbShng      38\n",
       "Brk Cmn      22\n",
       "ImStucc      15\n",
       "Stone         6\n",
       "AsphShn       4\n",
       "CBlock        3\n",
       "Other         1\n",
       "Name: Exterior2nd, dtype: int64"
      ]
     },
     "execution_count": 350,
     "metadata": {},
     "output_type": "execute_result"
    }
   ],
   "source": [
    "data['Exterior2nd'].value_counts()"
   ]
  },
  {
   "cell_type": "code",
   "execution_count": 351,
   "metadata": {
    "scrolled": true
   },
   "outputs": [
    {
     "data": {
      "text/html": [
       "<div>\n",
       "<style scoped>\n",
       "    .dataframe tbody tr th:only-of-type {\n",
       "        vertical-align: middle;\n",
       "    }\n",
       "\n",
       "    .dataframe tbody tr th {\n",
       "        vertical-align: top;\n",
       "    }\n",
       "\n",
       "    .dataframe thead th {\n",
       "        text-align: right;\n",
       "    }\n",
       "</style>\n",
       "<table border=\"1\" class=\"dataframe\">\n",
       "  <thead>\n",
       "    <tr style=\"text-align: right;\">\n",
       "      <th></th>\n",
       "      <th>1stFlrSF</th>\n",
       "      <th>2ndFlrSF</th>\n",
       "      <th>3SsnPorch</th>\n",
       "      <th>Alley</th>\n",
       "      <th>BedroomAbvGr</th>\n",
       "      <th>BldgType</th>\n",
       "      <th>BsmtCond</th>\n",
       "      <th>BsmtExposure</th>\n",
       "      <th>BsmtFinSF1</th>\n",
       "      <th>BsmtFinSF2</th>\n",
       "      <th>...</th>\n",
       "      <th>SaleType</th>\n",
       "      <th>ScreenPorch</th>\n",
       "      <th>Street</th>\n",
       "      <th>TotRmsAbvGrd</th>\n",
       "      <th>TotalBsmtSF</th>\n",
       "      <th>Utilities</th>\n",
       "      <th>WoodDeckSF</th>\n",
       "      <th>YearBuilt</th>\n",
       "      <th>YearRemodAdd</th>\n",
       "      <th>YrSold</th>\n",
       "    </tr>\n",
       "    <tr>\n",
       "      <th>Id</th>\n",
       "      <th></th>\n",
       "      <th></th>\n",
       "      <th></th>\n",
       "      <th></th>\n",
       "      <th></th>\n",
       "      <th></th>\n",
       "      <th></th>\n",
       "      <th></th>\n",
       "      <th></th>\n",
       "      <th></th>\n",
       "      <th></th>\n",
       "      <th></th>\n",
       "      <th></th>\n",
       "      <th></th>\n",
       "      <th></th>\n",
       "      <th></th>\n",
       "      <th></th>\n",
       "      <th></th>\n",
       "      <th></th>\n",
       "      <th></th>\n",
       "      <th></th>\n",
       "    </tr>\n",
       "  </thead>\n",
       "  <tbody>\n",
       "    <tr>\n",
       "      <td>2505</td>\n",
       "      <td>1518</td>\n",
       "      <td>0</td>\n",
       "      <td>0</td>\n",
       "      <td>None</td>\n",
       "      <td>2</td>\n",
       "      <td>1Fam</td>\n",
       "      <td>TA</td>\n",
       "      <td>Gd</td>\n",
       "      <td>1035.0</td>\n",
       "      <td>0.0</td>\n",
       "      <td>...</td>\n",
       "      <td>WD</td>\n",
       "      <td>0</td>\n",
       "      <td>Pave</td>\n",
       "      <td>5</td>\n",
       "      <td>1580.0</td>\n",
       "      <td>AllPub</td>\n",
       "      <td>0</td>\n",
       "      <td>1940</td>\n",
       "      <td>2007</td>\n",
       "      <td>2008</td>\n",
       "    </tr>\n",
       "  </tbody>\n",
       "</table>\n",
       "<p>1 rows × 79 columns</p>\n",
       "</div>"
      ],
      "text/plain": [
       "      1stFlrSF  2ndFlrSF  3SsnPorch Alley  BedroomAbvGr BldgType BsmtCond  \\\n",
       "Id                                                                          \n",
       "2505      1518         0          0  None             2     1Fam       TA   \n",
       "\n",
       "     BsmtExposure  BsmtFinSF1  BsmtFinSF2  ... SaleType ScreenPorch  Street  \\\n",
       "Id                                         ...                                \n",
       "2505           Gd      1035.0         0.0  ...       WD           0    Pave   \n",
       "\n",
       "      TotRmsAbvGrd TotalBsmtSF  Utilities WoodDeckSF YearBuilt YearRemodAdd  \\\n",
       "Id                                                                            \n",
       "2505             5      1580.0     AllPub          0      1940         2007   \n",
       "\n",
       "     YrSold  \n",
       "Id           \n",
       "2505   2008  \n",
       "\n",
       "[1 rows x 79 columns]"
      ]
     },
     "execution_count": 351,
     "metadata": {},
     "output_type": "execute_result"
    }
   ],
   "source": [
    "data[data['Exterior1st'].isnull()]"
   ]
  },
  {
   "cell_type": "code",
   "execution_count": 352,
   "metadata": {},
   "outputs": [],
   "source": [
    "##최빈값으로\n",
    "data['Exterior1st'].fillna('VinylSd',inplace=True)\n",
    "data['Exterior2nd'].fillna('VinylSd',inplace=True)"
   ]
  },
  {
   "cell_type": "markdown",
   "metadata": {},
   "source": [
    "### 6. MasVnrType , MasVnrArea "
   ]
  },
  {
   "cell_type": "code",
   "execution_count": 353,
   "metadata": {},
   "outputs": [
    {
     "data": {
      "text/plain": [
       "24"
      ]
     },
     "execution_count": 353,
     "metadata": {},
     "output_type": "execute_result"
    }
   ],
   "source": [
    "data['MasVnrType'].isnull().sum()"
   ]
  },
  {
   "cell_type": "code",
   "execution_count": 354,
   "metadata": {},
   "outputs": [
    {
     "data": {
      "text/plain": [
       "23"
      ]
     },
     "execution_count": 354,
     "metadata": {},
     "output_type": "execute_result"
    }
   ],
   "source": [
    "data['MasVnrArea'].isnull().sum()"
   ]
  },
  {
   "cell_type": "code",
   "execution_count": 355,
   "metadata": {},
   "outputs": [
    {
     "data": {
      "text/plain": [
       "None       1742\n",
       "BrkFace     879\n",
       "Stone       249\n",
       "BrkCmn       25\n",
       "Name: MasVnrType, dtype: int64"
      ]
     },
     "execution_count": 355,
     "metadata": {},
     "output_type": "execute_result"
    }
   ],
   "source": [
    "data['MasVnrType'].value_counts()"
   ]
  },
  {
   "cell_type": "code",
   "execution_count": 356,
   "metadata": {},
   "outputs": [
    {
     "data": {
      "text/plain": [
       "0.0       1738\n",
       "120.0       15\n",
       "200.0       13\n",
       "176.0       13\n",
       "180.0       12\n",
       "          ... \n",
       "381.0        1\n",
       "235.0        1\n",
       "175.0        1\n",
       "207.0        1\n",
       "1031.0       1\n",
       "Name: MasVnrArea, Length: 444, dtype: int64"
      ]
     },
     "execution_count": 356,
     "metadata": {},
     "output_type": "execute_result"
    }
   ],
   "source": [
    "data['MasVnrArea'].value_counts()"
   ]
  },
  {
   "cell_type": "code",
   "execution_count": 357,
   "metadata": {},
   "outputs": [
    {
     "data": {
      "text/plain": [
       "count    2896.000000\n",
       "mean      102.201312\n",
       "std       179.334253\n",
       "min         0.000000\n",
       "25%         0.000000\n",
       "50%         0.000000\n",
       "75%       164.000000\n",
       "max      1600.000000\n",
       "Name: MasVnrArea, dtype: float64"
      ]
     },
     "execution_count": 357,
     "metadata": {},
     "output_type": "execute_result"
    }
   ],
   "source": [
    "data['MasVnrArea'].describe()"
   ]
  },
  {
   "cell_type": "code",
   "execution_count": 358,
   "metadata": {},
   "outputs": [
    {
     "data": {
      "text/plain": [
       "Id\n",
       "13        NaN\n",
       "263       NaN\n",
       "427       NaN\n",
       "613       NaN\n",
       "619     198.0\n",
       "649       NaN\n",
       "679       NaN\n",
       "720       NaN\n",
       "866       NaN\n",
       "946       NaN\n",
       "947       NaN\n",
       "1028      NaN\n",
       "1198      NaN\n",
       "1310      NaN\n",
       "1507      NaN\n",
       "1537      NaN\n",
       "1611      NaN\n",
       "2050      NaN\n",
       "2054      NaN\n",
       "2195      NaN\n",
       "2208      NaN\n",
       "2311      NaN\n",
       "2428      NaN\n",
       "2474      NaN\n",
       "Name: MasVnrArea, dtype: float64"
      ]
     },
     "execution_count": 358,
     "metadata": {},
     "output_type": "execute_result"
    }
   ],
   "source": [
    "data[data['MasVnrType'].isnull()]['MasVnrArea'] #type이 널이면 area도 널"
   ]
  },
  {
   "cell_type": "code",
   "execution_count": 359,
   "metadata": {},
   "outputs": [],
   "source": [
    "data['MasVnrType'].fillna('None',inplace=True)\n",
    "data['MasVnrArea'].fillna(0,inplace=True)"
   ]
  },
  {
   "cell_type": "markdown",
   "metadata": {},
   "source": [
    "### 7. BsmtQual, BsmtCond ,BsmtExposure, BsmtFinType1, BsmtFinSF1, BsmtFinType2, BsmtFinSF2, ,BsmtUnfSF, TotalBsmtSF, BsmtFullBath', 'BsmtHalfBath'"
   ]
  },
  {
   "cell_type": "code",
   "execution_count": 361,
   "metadata": {
    "scrolled": true
   },
   "outputs": [
    {
     "data": {
      "text/plain": [
       "81"
      ]
     },
     "execution_count": 361,
     "metadata": {},
     "output_type": "execute_result"
    }
   ],
   "source": [
    "data['BsmtQual'].isnull().sum()"
   ]
  },
  {
   "cell_type": "code",
   "execution_count": 362,
   "metadata": {
    "scrolled": true
   },
   "outputs": [
    {
     "data": {
      "text/plain": [
       "TA    1283\n",
       "Gd    1209\n",
       "Ex     258\n",
       "Fa      88\n",
       "Name: BsmtQual, dtype: int64"
      ]
     },
     "execution_count": 362,
     "metadata": {},
     "output_type": "execute_result"
    }
   ],
   "source": [
    "data['BsmtQual'].value_counts()"
   ]
  },
  {
   "cell_type": "code",
   "execution_count": 363,
   "metadata": {},
   "outputs": [
    {
     "data": {
      "text/plain": [
       "82"
      ]
     },
     "execution_count": 363,
     "metadata": {},
     "output_type": "execute_result"
    }
   ],
   "source": [
    "data['BsmtCond'].isnull().sum()"
   ]
  },
  {
   "cell_type": "code",
   "execution_count": 364,
   "metadata": {
    "scrolled": false
   },
   "outputs": [
    {
     "data": {
      "text/plain": [
       "TA    2606\n",
       "Gd     122\n",
       "Fa     104\n",
       "Po       5\n",
       "Name: BsmtCond, dtype: int64"
      ]
     },
     "execution_count": 364,
     "metadata": {},
     "output_type": "execute_result"
    }
   ],
   "source": [
    "data['BsmtCond'].value_counts()"
   ]
  },
  {
   "cell_type": "code",
   "execution_count": 365,
   "metadata": {},
   "outputs": [],
   "source": [
    "#BsmtQual, BsmtCond 의 NA == no basement! : None으로 채움\n",
    "data['BsmtQual'].fillna('None', inplace = True)\n",
    "data['BsmtCond'].fillna('None', inplace = True)"
   ]
  },
  {
   "cell_type": "code",
   "execution_count": 367,
   "metadata": {},
   "outputs": [],
   "source": [
    "#NA\tNo Basement == None\n",
    "data['BsmtExposure'].value_counts()\n",
    "data['BsmtExposure'].fillna('None', inplace = True)"
   ]
  },
  {
   "cell_type": "code",
   "execution_count": 368,
   "metadata": {},
   "outputs": [],
   "source": [
    "data['BsmtFinType1'].fillna('None',inplace=True)\n",
    "data['BsmtFinType2'].fillna('None',inplace=True)"
   ]
  },
  {
   "cell_type": "code",
   "execution_count": null,
   "metadata": {},
   "outputs": [],
   "source": [
    "data['BsmtHalfBath'].value_counts()\n",
    "data['BsmtHalfBath'].fillna(0,inplace=True)"
   ]
  },
  {
   "cell_type": "code",
   "execution_count": 369,
   "metadata": {},
   "outputs": [],
   "source": [
    "data['BsmtFullBath'].value_counts()\n",
    "data['BsmtFullBath'].fillna(0,inplace=True)"
   ]
  },
  {
   "cell_type": "code",
   "execution_count": 370,
   "metadata": {
    "scrolled": true
   },
   "outputs": [],
   "source": [
    "data['BsmtFinSF1'].describe()\n",
    "data['BsmtFinSF1'].fillna(0,inplace=True)\n",
    "data['BsmtFinSF2'].fillna(0,inplace=True)"
   ]
  },
  {
   "cell_type": "code",
   "execution_count": 371,
   "metadata": {},
   "outputs": [],
   "source": [
    "data['BsmtUnfSF'].value_counts()\n",
    "data['BsmtUnfSF'].fillna(0,inplace=True)"
   ]
  },
  {
   "cell_type": "code",
   "execution_count": 372,
   "metadata": {},
   "outputs": [],
   "source": [
    "data['TotalBsmtSF'].value_counts()\n",
    "data['TotalBsmtSF'].fillna(0,inplace=True)"
   ]
  },
  {
   "cell_type": "markdown",
   "metadata": {},
   "source": [
    "### 8. Electrical"
   ]
  },
  {
   "cell_type": "code",
   "execution_count": 373,
   "metadata": {},
   "outputs": [
    {
     "data": {
      "text/plain": [
       "SBrkr    2671\n",
       "FuseA     188\n",
       "FuseF      50\n",
       "FuseP       8\n",
       "Mix         1\n",
       "Name: Electrical, dtype: int64"
      ]
     },
     "execution_count": 373,
     "metadata": {},
     "output_type": "execute_result"
    }
   ],
   "source": [
    "data['Electrical'].value_counts()"
   ]
  },
  {
   "cell_type": "code",
   "execution_count": 374,
   "metadata": {},
   "outputs": [],
   "source": [
    "data['Electrical'].fillna('SBrkr',inplace=True)"
   ]
  },
  {
   "cell_type": "markdown",
   "metadata": {},
   "source": [
    "### 9. KitchenQual"
   ]
  },
  {
   "cell_type": "code",
   "execution_count": 375,
   "metadata": {},
   "outputs": [
    {
     "data": {
      "text/plain": [
       "TA    1492\n",
       "Gd    1151\n",
       "Ex     205\n",
       "Fa      70\n",
       "Name: KitchenQual, dtype: int64"
      ]
     },
     "execution_count": 375,
     "metadata": {},
     "output_type": "execute_result"
    }
   ],
   "source": [
    "data['KitchenQual'].value_counts()"
   ]
  },
  {
   "cell_type": "code",
   "execution_count": 376,
   "metadata": {},
   "outputs": [
    {
     "data": {
      "text/plain": [
       "Id\n",
       "1794    1\n",
       "Name: KitchenAbvGr, dtype: int64"
      ]
     },
     "execution_count": 376,
     "metadata": {},
     "output_type": "execute_result"
    }
   ],
   "source": [
    "data[data['KitchenQual'].isnull()]['KitchenAbvGr']"
   ]
  },
  {
   "cell_type": "code",
   "execution_count": 377,
   "metadata": {},
   "outputs": [],
   "source": [
    "data['KitchenQual'].fillna('TA',inplace=True)"
   ]
  },
  {
   "cell_type": "markdown",
   "metadata": {},
   "source": [
    "### 10. Functional"
   ]
  },
  {
   "cell_type": "code",
   "execution_count": 378,
   "metadata": {},
   "outputs": [
    {
     "data": {
      "text/plain": [
       "2"
      ]
     },
     "execution_count": 378,
     "metadata": {},
     "output_type": "execute_result"
    }
   ],
   "source": [
    "data['Functional'].isnull().sum()"
   ]
  },
  {
   "cell_type": "code",
   "execution_count": 379,
   "metadata": {},
   "outputs": [
    {
     "data": {
      "text/plain": [
       "Typ     2717\n",
       "Min2      70\n",
       "Min1      65\n",
       "Mod       35\n",
       "Maj1      19\n",
       "Maj2       9\n",
       "Sev        2\n",
       "Name: Functional, dtype: int64"
      ]
     },
     "execution_count": 379,
     "metadata": {},
     "output_type": "execute_result"
    }
   ],
   "source": [
    "data['Functional'].value_counts()"
   ]
  },
  {
   "cell_type": "code",
   "execution_count": 380,
   "metadata": {},
   "outputs": [],
   "source": [
    "data['Functional'].fillna('Typ',inplace=True)"
   ]
  },
  {
   "cell_type": "markdown",
   "metadata": {},
   "source": [
    "### 11. FireplaceQu"
   ]
  },
  {
   "cell_type": "code",
   "execution_count": 381,
   "metadata": {},
   "outputs": [
    {
     "data": {
      "text/plain": [
       "1420"
      ]
     },
     "execution_count": 381,
     "metadata": {},
     "output_type": "execute_result"
    }
   ],
   "source": [
    "data['FireplaceQu'].isnull().sum()"
   ]
  },
  {
   "cell_type": "code",
   "execution_count": 382,
   "metadata": {},
   "outputs": [
    {
     "data": {
      "text/plain": [
       "Gd    744\n",
       "TA    592\n",
       "Fa     74\n",
       "Po     46\n",
       "Ex     43\n",
       "Name: FireplaceQu, dtype: int64"
      ]
     },
     "execution_count": 382,
     "metadata": {},
     "output_type": "execute_result"
    }
   ],
   "source": [
    "data['FireplaceQu'].value_counts()"
   ]
  },
  {
   "cell_type": "code",
   "execution_count": 383,
   "metadata": {},
   "outputs": [],
   "source": [
    "## NA\tNo Fireplace\n",
    "data['FireplaceQu'].fillna('None',inplace=True)"
   ]
  },
  {
   "cell_type": "markdown",
   "metadata": {},
   "source": [
    "### 12. GarageType ,GarageYrBlt 2, GarageFinish, GarageCars , GarageArea , GarageQual , GarageCond "
   ]
  },
  {
   "cell_type": "code",
   "execution_count": 384,
   "metadata": {},
   "outputs": [
    {
     "data": {
      "text/plain": [
       "Attchd     1723\n",
       "Detchd      779\n",
       "BuiltIn     186\n",
       "Basment      36\n",
       "2Types       23\n",
       "CarPort      15\n",
       "Name: GarageType, dtype: int64"
      ]
     },
     "execution_count": 384,
     "metadata": {},
     "output_type": "execute_result"
    }
   ],
   "source": [
    "data['GarageType'].value_counts()"
   ]
  },
  {
   "cell_type": "code",
   "execution_count": 385,
   "metadata": {},
   "outputs": [],
   "source": [
    "## NA\tNo Gararge\n",
    "data['GarageType'].fillna('None',inplace=True)\n",
    "data['GarageFinish'].fillna('None',inplace=True)\n",
    "data['GarageQual'].fillna('None',inplace=True)\n",
    "data['GarageCond'].fillna('None',inplace=True)"
   ]
  },
  {
   "cell_type": "code",
   "execution_count": 386,
   "metadata": {},
   "outputs": [],
   "source": [
    "data['GarageArea'].fillna(0,inplace=True)\n",
    "data['GarageCars'].fillna(0,inplace=True)\n",
    "data['GarageYrBlt'].fillna(0,inplace=True)"
   ]
  },
  {
   "cell_type": "markdown",
   "metadata": {},
   "source": [
    "### 13. PoolQC"
   ]
  },
  {
   "cell_type": "code",
   "execution_count": 387,
   "metadata": {},
   "outputs": [
    {
     "data": {
      "text/plain": [
       "Ex    4\n",
       "Gd    4\n",
       "Fa    2\n",
       "Name: PoolQC, dtype: int64"
      ]
     },
     "execution_count": 387,
     "metadata": {},
     "output_type": "execute_result"
    }
   ],
   "source": [
    "data['PoolQC'].value_counts()"
   ]
  },
  {
   "cell_type": "code",
   "execution_count": 388,
   "metadata": {},
   "outputs": [],
   "source": [
    "# NA\tNo Pool\n",
    "data['PoolQC'].fillna('None',inplace=True)"
   ]
  },
  {
   "cell_type": "markdown",
   "metadata": {},
   "source": [
    "### 14. Fence"
   ]
  },
  {
   "cell_type": "code",
   "execution_count": 389,
   "metadata": {},
   "outputs": [],
   "source": [
    "# NA\tNo Fence\n",
    "data['Fence'].fillna('None',inplace=True)"
   ]
  },
  {
   "cell_type": "markdown",
   "metadata": {},
   "source": [
    "### 15. MiscFeature"
   ]
  },
  {
   "cell_type": "code",
   "execution_count": 390,
   "metadata": {},
   "outputs": [
    {
     "data": {
      "text/plain": [
       "Shed    95\n",
       "Gar2     5\n",
       "Othr     4\n",
       "TenC     1\n",
       "Name: MiscFeature, dtype: int64"
      ]
     },
     "execution_count": 390,
     "metadata": {},
     "output_type": "execute_result"
    }
   ],
   "source": [
    "data['MiscFeature'].value_counts()"
   ]
  },
  {
   "cell_type": "code",
   "execution_count": 391,
   "metadata": {},
   "outputs": [],
   "source": [
    "# NA\tNone\n",
    "data['MiscFeature'].fillna('None', inplace = True)"
   ]
  },
  {
   "cell_type": "markdown",
   "metadata": {},
   "source": [
    "### 16. SaleType"
   ]
  },
  {
   "cell_type": "code",
   "execution_count": 392,
   "metadata": {},
   "outputs": [
    {
     "data": {
      "text/plain": [
       "WD       2525\n",
       "New       239\n",
       "COD        87\n",
       "ConLD      26\n",
       "CWD        12\n",
       "ConLI       9\n",
       "ConLw       8\n",
       "Oth         7\n",
       "Con         5\n",
       "Name: SaleType, dtype: int64"
      ]
     },
     "execution_count": 392,
     "metadata": {},
     "output_type": "execute_result"
    }
   ],
   "source": [
    "data['SaleType'].value_counts()"
   ]
  },
  {
   "cell_type": "code",
   "execution_count": 393,
   "metadata": {},
   "outputs": [
    {
     "data": {
      "text/plain": [
       "1"
      ]
     },
     "execution_count": 393,
     "metadata": {},
     "output_type": "execute_result"
    }
   ],
   "source": [
    "data['SaleType'].isnull().sum()"
   ]
  },
  {
   "cell_type": "code",
   "execution_count": 394,
   "metadata": {},
   "outputs": [],
   "source": [
    "data['SaleType'].fillna('WD', inplace = True)"
   ]
  },
  {
   "cell_type": "code",
   "execution_count": 395,
   "metadata": {
    "scrolled": true
   },
   "outputs": [
    {
     "data": {
      "text/plain": [
       "3"
      ]
     },
     "execution_count": 395,
     "metadata": {},
     "output_type": "execute_result"
    }
   ],
   "source": [
    "data.isnull().sum().sum() #결측치 다 채워졌는지 확인~~"
   ]
  },
  {
   "cell_type": "markdown",
   "metadata": {},
   "source": [
    "### 컬럼새로 만들기 및 수정"
   ]
  },
  {
   "cell_type": "markdown",
   "metadata": {},
   "source": [
    "#### 1. MSSubclass"
   ]
  },
  {
   "cell_type": "code",
   "execution_count": 396,
   "metadata": {
    "scrolled": true
   },
   "outputs": [],
   "source": [
    "#MSSubClass str로\n",
    "data['MSSubClass'] = data['MSSubClass'].astype(str)"
   ]
  },
  {
   "cell_type": "code",
   "execution_count": 397,
   "metadata": {},
   "outputs": [
    {
     "data": {
      "text/plain": [
       "count     2919\n",
       "unique      16\n",
       "top         20\n",
       "freq      1079\n",
       "Name: MSSubClass, dtype: object"
      ]
     },
     "execution_count": 397,
     "metadata": {},
     "output_type": "execute_result"
    }
   ],
   "source": [
    "data['MSSubClass'].describe()"
   ]
  },
  {
   "cell_type": "markdown",
   "metadata": {},
   "source": [
    "#### 2. Street"
   ]
  },
  {
   "cell_type": "code",
   "execution_count": 398,
   "metadata": {},
   "outputs": [
    {
     "data": {
      "text/plain": [
       "Pave    2907\n",
       "Grvl      12\n",
       "Name: Street, dtype: int64"
      ]
     },
     "execution_count": 398,
     "metadata": {},
     "output_type": "execute_result"
    }
   ],
   "source": [
    "data['Street'].value_counts()"
   ]
  },
  {
   "cell_type": "code",
   "execution_count": 399,
   "metadata": {
    "scrolled": true
   },
   "outputs": [],
   "source": [
    "data['Street'] = data['Street'].map({'Pave' : 0, 'Grvl' : 1})"
   ]
  },
  {
   "cell_type": "markdown",
   "metadata": {},
   "source": [
    "#### 3. OverallQual/OverallCond"
   ]
  },
  {
   "cell_type": "code",
   "execution_count": 400,
   "metadata": {
    "scrolled": false
   },
   "outputs": [
    {
     "data": {
      "text/plain": [
       "5     825\n",
       "6     731\n",
       "7     600\n",
       "8     342\n",
       "4     226\n",
       "9     107\n",
       "3      40\n",
       "10     31\n",
       "2      13\n",
       "1       4\n",
       "Name: OverallQual, dtype: int64"
      ]
     },
     "execution_count": 400,
     "metadata": {},
     "output_type": "execute_result"
    }
   ],
   "source": [
    "data['OverallQual'].value_counts()"
   ]
  },
  {
   "cell_type": "code",
   "execution_count": 401,
   "metadata": {
    "scrolled": true
   },
   "outputs": [
    {
     "data": {
      "text/plain": [
       "5    1645\n",
       "6     531\n",
       "7     390\n",
       "8     144\n",
       "4     101\n",
       "3      50\n",
       "9      41\n",
       "2      10\n",
       "1       7\n",
       "Name: OverallCond, dtype: int64"
      ]
     },
     "execution_count": 401,
     "metadata": {},
     "output_type": "execute_result"
    }
   ],
   "source": [
    "data['OverallCond'].value_counts()"
   ]
  },
  {
   "cell_type": "code",
   "execution_count": 402,
   "metadata": {},
   "outputs": [],
   "source": [
    "data['OverallQual*Cond'] = data[\"OverallQual\"] * data[\"OverallCond\"]"
   ]
  },
  {
   "cell_type": "code",
   "execution_count": 403,
   "metadata": {},
   "outputs": [],
   "source": [
    "# OverallQual \n",
    "bins = [0, 2 , 4, 6, 8, 10] \n",
    "labels = ['Po', 'Fa', 'TA', 'Gd',' EX']\n",
    "data['OverallQualBins'] = pd.cut(data['OverallQual'],bins = bins, labels = labels)\n",
    "del data['OverallQual'] #상관관계 너무 높은 컬럼은 지우는게 나을수도 ?\n",
    "# OverallCond\n",
    "bins = [0, 2 , 4, 6, 8, 10] \n",
    "labels = ['Po', 'Fa', 'TA', 'Gd',' EX']\n",
    "data['OverallCondBins'] = pd.cut(data['OverallCond'],bins = bins, labels = labels)"
   ]
  },
  {
   "cell_type": "markdown",
   "metadata": {},
   "source": [
    "#### 4. Utilities"
   ]
  },
  {
   "cell_type": "code",
   "execution_count": 404,
   "metadata": {},
   "outputs": [
    {
     "data": {
      "text/plain": [
       "AllPub    2918\n",
       "NoSeWa       1\n",
       "Name: Utilities, dtype: int64"
      ]
     },
     "execution_count": 404,
     "metadata": {},
     "output_type": "execute_result"
    }
   ],
   "source": [
    "data['Utilities'].value_counts()"
   ]
  },
  {
   "cell_type": "code",
   "execution_count": 405,
   "metadata": {},
   "outputs": [],
   "source": [
    "##거의 같은 값 --> 의미 X 컬럼 삭제\n",
    "del data['Utilities']"
   ]
  },
  {
   "cell_type": "markdown",
   "metadata": {},
   "source": [
    "#### 5. YearBuilt/YearRemodAdd"
   ]
  },
  {
   "cell_type": "code",
   "execution_count": 406,
   "metadata": {
    "scrolled": true
   },
   "outputs": [
    {
     "data": {
      "text/plain": [
       "2005    142\n",
       "2006    138\n",
       "2007    109\n",
       "2004     99\n",
       "2003     88\n",
       "       ... \n",
       "1911      1\n",
       "1875      1\n",
       "1879      1\n",
       "1893      1\n",
       "1872      1\n",
       "Name: YearBuilt, Length: 118, dtype: int64"
      ]
     },
     "execution_count": 406,
     "metadata": {},
     "output_type": "execute_result"
    }
   ],
   "source": [
    "data['YearBuilt'].value_counts()"
   ]
  },
  {
   "cell_type": "code",
   "execution_count": 407,
   "metadata": {},
   "outputs": [
    {
     "data": {
      "text/plain": [
       "1950    361\n",
       "2006    202\n",
       "2007    164\n",
       "2005    141\n",
       "2004    111\n",
       "       ... \n",
       "2010     13\n",
       "1981     12\n",
       "1986     12\n",
       "1983     11\n",
       "1982      9\n",
       "Name: YearRemodAdd, Length: 61, dtype: int64"
      ]
     },
     "execution_count": 407,
     "metadata": {},
     "output_type": "execute_result"
    }
   ],
   "source": [
    "data['YearRemodAdd'].value_counts()"
   ]
  },
  {
   "cell_type": "code",
   "execution_count": 408,
   "metadata": {},
   "outputs": [],
   "source": [
    "data['TotalYear']=data['YearBuilt']+data['YearRemodAdd']"
   ]
  },
  {
   "cell_type": "code",
   "execution_count": 409,
   "metadata": {},
   "outputs": [],
   "source": [
    "# YearRemodAdd \n",
    "bins = [0, 1970, 1990, 2000, 2005, 2010] \n",
    "labels = ['Very Old', 'Old', 'Little Old', 'Normal', 'New']\n",
    "data['YearRemodAddBins'] = pd.cut(data['YearRemodAdd'],bins = bins, labels = labels)\n",
    "\n",
    "# YearBuilt\n",
    "bins = [0, 1900, 1960, 1975, 2000, 2010] \n",
    "labels = ['Very Old', 'Old', 'Little Old', 'Normal', 'New']\n",
    "data['YearBuiltBins'] = pd.cut(data['YearRemodAdd'],bins = bins, labels = labels)"
   ]
  },
  {
   "cell_type": "markdown",
   "metadata": {},
   "source": [
    "#### 6. MasVnrType/MasVnrArea"
   ]
  },
  {
   "cell_type": "code",
   "execution_count": 410,
   "metadata": {},
   "outputs": [
    {
     "data": {
      "text/plain": [
       "None       1766\n",
       "BrkFace     879\n",
       "Stone       249\n",
       "BrkCmn       25\n",
       "Name: MasVnrType, dtype: int64"
      ]
     },
     "execution_count": 410,
     "metadata": {},
     "output_type": "execute_result"
    }
   ],
   "source": [
    "data['MasVnrType'].value_counts()"
   ]
  },
  {
   "cell_type": "code",
   "execution_count": 411,
   "metadata": {},
   "outputs": [],
   "source": [
    "#시설 유무 여부로 0,1 구분\n",
    "data['hasMasVnr'] = data['MasVnrArea'].apply(lambda x: 1 if x > 0 else 0)"
   ]
  },
  {
   "cell_type": "code",
   "execution_count": 412,
   "metadata": {},
   "outputs": [
    {
     "data": {
      "text/plain": [
       "0    1761\n",
       "1    1158\n",
       "Name: hasMasVnr, dtype: int64"
      ]
     },
     "execution_count": 412,
     "metadata": {},
     "output_type": "execute_result"
    }
   ],
   "source": [
    "data['hasMasVnr'].value_counts()"
   ]
  },
  {
   "cell_type": "markdown",
   "metadata": {},
   "source": [
    "#### 7. ExterQual, ExterCond"
   ]
  },
  {
   "cell_type": "code",
   "execution_count": 413,
   "metadata": {},
   "outputs": [
    {
     "data": {
      "text/plain": [
       "TA    1798\n",
       "Gd     979\n",
       "Ex     107\n",
       "Fa      35\n",
       "Name: ExterQual, dtype: int64"
      ]
     },
     "execution_count": 413,
     "metadata": {},
     "output_type": "execute_result"
    }
   ],
   "source": [
    "data['ExterQual'].value_counts()"
   ]
  },
  {
   "cell_type": "code",
   "execution_count": 414,
   "metadata": {},
   "outputs": [
    {
     "data": {
      "text/plain": [
       "TA    2538\n",
       "Gd     299\n",
       "Fa      67\n",
       "Ex      12\n",
       "Po       3\n",
       "Name: ExterCond, dtype: int64"
      ]
     },
     "execution_count": 414,
     "metadata": {},
     "output_type": "execute_result"
    }
   ],
   "source": [
    "data['ExterCond'].value_counts()"
   ]
  },
  {
   "cell_type": "code",
   "execution_count": 415,
   "metadata": {},
   "outputs": [],
   "source": [
    "data['ExterQual'] = data['ExterQual'].map({'Ex' : 5, 'Gd' : 4, 'TA' : 3 , 'Fa' : 2, 'Po' : 1})\n",
    "data['ExterCond'] = data['ExterCond'].map({'Ex' : 5, 'Gd' : 4, 'TA' : 3 , 'Fa' : 2, 'Po' : 1})"
   ]
  },
  {
   "cell_type": "code",
   "execution_count": 416,
   "metadata": {},
   "outputs": [],
   "source": [
    "data['ExterQual*ExterCond'] = data[\"ExterQual\"] * data[\"ExterCond\"]"
   ]
  },
  {
   "cell_type": "markdown",
   "metadata": {},
   "source": [
    "#### 8. BsmtQual, BsmtCond, BsmtExposure, BsmtFinType1 , BsmtFinType2, BsmtFinSF2, </n>BsmtUnfSF, TotalBsmtSF"
   ]
  },
  {
   "cell_type": "code",
   "execution_count": 417,
   "metadata": {},
   "outputs": [
    {
     "data": {
      "text/plain": [
       "TA      1283\n",
       "Gd      1209\n",
       "Ex       258\n",
       "Fa        88\n",
       "None      81\n",
       "Name: BsmtQual, dtype: int64"
      ]
     },
     "execution_count": 417,
     "metadata": {},
     "output_type": "execute_result"
    }
   ],
   "source": [
    "data['BsmtQual'].value_counts()"
   ]
  },
  {
   "cell_type": "code",
   "execution_count": 418,
   "metadata": {},
   "outputs": [],
   "source": [
    "data['BsmtQual'] = data['BsmtQual'].map({'Ex' : 5, 'Gd' : 4, 'TA' : 3 , 'Fa' : 2, 'Po' : 1, 'None' : 0})\n",
    "data['BsmtCond'] = data['BsmtCond'].map({'Ex' : 5, 'Gd' : 4, 'TA' : 3 , 'Fa' : 2, 'Po' : 1, 'None' : 0})\n",
    "data['BsmtExposure'] = data['BsmtExposure'].map({'Gd' : 4, 'Av' : 3, 'Mn' :2, 'No' :1, 'None' : 0})"
   ]
  },
  {
   "cell_type": "code",
   "execution_count": 419,
   "metadata": {},
   "outputs": [],
   "source": [
    "data['BsmtQual*Cond*Expo'] = data[\"BsmtQual\"] * data[\"BsmtCond\"] * data['BsmtExposure']"
   ]
  },
  {
   "cell_type": "code",
   "execution_count": 420,
   "metadata": {},
   "outputs": [
    {
     "name": "stderr",
     "output_type": "stream",
     "text": [
      "C:\\Users\\USER\\Anaconda3\\lib\\site-packages\\ipykernel_launcher.py:2: SettingWithCopyWarning: \n",
      "A value is trying to be set on a copy of a slice from a DataFrame\n",
      "\n",
      "See the caveats in the documentation: http://pandas.pydata.org/pandas-docs/stable/user_guide/indexing.html#returning-a-view-versus-a-copy\n",
      "  \n",
      "C:\\Users\\USER\\Anaconda3\\lib\\site-packages\\ipykernel_launcher.py:3: SettingWithCopyWarning: \n",
      "A value is trying to be set on a copy of a slice from a DataFrame\n",
      "\n",
      "See the caveats in the documentation: http://pandas.pydata.org/pandas-docs/stable/user_guide/indexing.html#returning-a-view-versus-a-copy\n",
      "  This is separate from the ipykernel package so we can avoid doing imports until\n"
     ]
    }
   ],
   "source": [
    "for i in range(1,len(data)) :\n",
    "    if data['BsmtQual'][i] == 0 : data['BsmtCond'][i] = 0\n",
    "    elif data['BsmtCond'][i] == 0 : data['BsmtQual'][i] = 0"
   ]
  },
  {
   "cell_type": "code",
   "execution_count": 421,
   "metadata": {},
   "outputs": [
    {
     "data": {
      "text/plain": [
       "0    84\n",
       "Name: BsmtCond, dtype: int64"
      ]
     },
     "execution_count": 421,
     "metadata": {},
     "output_type": "execute_result"
    }
   ],
   "source": [
    "data[data['BsmtQual']==0]['BsmtCond'].value_counts()"
   ]
  },
  {
   "cell_type": "code",
   "execution_count": 422,
   "metadata": {},
   "outputs": [],
   "source": [
    "#시설 유무 여부로 0,1 구분\n",
    "data['hasBsmt'] = data['BsmtCond'].apply(lambda x: 1 if x > 0 else 0)"
   ]
  },
  {
   "cell_type": "code",
   "execution_count": 423,
   "metadata": {
    "scrolled": true
   },
   "outputs": [
    {
     "data": {
      "text/plain": [
       "Unf     851\n",
       "GLQ     849\n",
       "ALQ     429\n",
       "Rec     288\n",
       "BLQ     269\n",
       "LwQ     154\n",
       "None     79\n",
       "Name: BsmtFinType1, dtype: int64"
      ]
     },
     "execution_count": 423,
     "metadata": {},
     "output_type": "execute_result"
    }
   ],
   "source": [
    "data['BsmtFinType1'].value_counts()"
   ]
  },
  {
   "cell_type": "code",
   "execution_count": 424,
   "metadata": {},
   "outputs": [],
   "source": [
    "data['BsmtFinType1'] = data['BsmtFinType1'].map({'GLQ':6,'ALQ':5,'ALQ': 4, 'Rec' : 3, \\\n",
    "                                                 'LwQ' : 2, 'Unf' : 1, 'None' : 0})\n",
    "data['BsmtFinType2'] = data['BsmtFinType2'].map({'GLQ':6,'ALQ':5,'ALQ': 4, 'Rec' : 3, \\\n",
    "                                                 'LwQ' : 2, 'Unf' : 1, 'None' : 0})"
   ]
  },
  {
   "cell_type": "code",
   "execution_count": 425,
   "metadata": {},
   "outputs": [],
   "source": [
    "data['BsmtFinType1*Type2'] = data[\"BsmtFinType1\"] * data[\"BsmtFinType2\"]"
   ]
  },
  {
   "cell_type": "code",
   "execution_count": 426,
   "metadata": {
    "scrolled": true
   },
   "outputs": [
    {
     "data": {
      "text/plain": [
       "Id\n",
       "1        880.0\n",
       "2        981.0\n",
       "3       1494.0\n",
       "4        569.0\n",
       "5       1461.0\n",
       "         ...  \n",
       "2915    1120.0\n",
       "2916     629.0\n",
       "2917    1143.0\n",
       "2918     923.0\n",
       "2919     876.0\n",
       "Name: TotalBsmtSF, Length: 2919, dtype: float64"
      ]
     },
     "execution_count": 426,
     "metadata": {},
     "output_type": "execute_result"
    }
   ],
   "source": [
    "data['TotalBsmtSF'] #data['BsmtFinSF1'] + data['BsmtFinSF2'] + data['BsmtUnfSF']"
   ]
  },
  {
   "cell_type": "code",
   "execution_count": 427,
   "metadata": {},
   "outputs": [
    {
     "data": {
      "text/plain": [
       "4    855\n",
       "3    729\n",
       "2    469\n",
       "5    440\n",
       "1    216\n",
       "6    118\n",
       "0     79\n",
       "7     13\n",
       "Name: TotalBsmtSFBins, dtype: int64"
      ]
     },
     "execution_count": 427,
     "metadata": {},
     "output_type": "execute_result"
    }
   ],
   "source": [
    "# TotalBsmtSF \n",
    "bins = [-1, 0, 600, 800 , 1000 , 1400, 1800, 2500, 6200] \n",
    "labels = ['0','1','2','3','4','5','6','7']\n",
    "data['TotalBsmtSFBins'] = pd.cut(data['TotalBsmtSF'],bins = bins, labels = labels)\n",
    "\n",
    "data['TotalBsmtSFBins'].value_counts()\n"
   ]
  },
  {
   "cell_type": "markdown",
   "metadata": {},
   "source": [
    "#### 9. CentralAir"
   ]
  },
  {
   "cell_type": "code",
   "execution_count": 428,
   "metadata": {},
   "outputs": [
    {
     "data": {
      "text/plain": [
       "1    2723\n",
       "0     196\n",
       "Name: CentralAir, dtype: int64"
      ]
     },
     "execution_count": 428,
     "metadata": {},
     "output_type": "execute_result"
    }
   ],
   "source": [
    "data['CentralAir'] = data['CentralAir'].map({'N' : 0, 'Y' : 1})\n",
    "data['CentralAir'].value_counts()"
   ]
  },
  {
   "cell_type": "markdown",
   "metadata": {},
   "source": [
    "#### 10. 1stFlrSF , 2ndFlrSF"
   ]
  },
  {
   "cell_type": "code",
   "execution_count": 429,
   "metadata": {},
   "outputs": [],
   "source": [
    "data['TotalFlrSF'] = data['1stFlrSF'] + data['2ndFlrSF']\n",
    "data['TotalSF'] =  (data['BsmtFinSF1'] + data['BsmtFinSF2'] + data['1stFlrSF'] + data['2ndFlrSF'])"
   ]
  },
  {
   "cell_type": "code",
   "execution_count": 430,
   "metadata": {},
   "outputs": [],
   "source": [
    "# 1stFlrSF\n",
    "bins = [0, 500, 900 , 1100 , 1400, 2500, 5100] \n",
    "labels = ['1', '2', '3', '4', '5', '6']\n",
    "data['1stFlrSFBins'] = pd.cut(data['1stFlrSF'],bins = bins, labels = labels)\n",
    "\n",
    "# 2ndFlrSF\n",
    "bins = [-1,0, 500, 1000, 1500, 2100] \n",
    "labels = ['0', '1', '2', '3', '4']\n",
    "data['2ndFlrSFBins'] = pd.cut(data['2ndFlrSF'],bins = bins, labels = labels)"
   ]
  },
  {
   "cell_type": "code",
   "execution_count": 431,
   "metadata": {},
   "outputs": [
    {
     "data": {
      "text/plain": [
       "0    1668\n",
       "2     874\n",
       "3     210\n",
       "1     146\n",
       "4      21\n",
       "Name: 2ndFlrSFBins, dtype: int64"
      ]
     },
     "execution_count": 431,
     "metadata": {},
     "output_type": "execute_result"
    }
   ],
   "source": [
    "data['2ndFlrSFBins'].value_counts()"
   ]
  },
  {
   "cell_type": "markdown",
   "metadata": {},
   "source": [
    "#### 11. BsmtFullBath, BsmtHalfBath, FullBath, HalfBath"
   ]
  },
  {
   "cell_type": "code",
   "execution_count": 432,
   "metadata": {},
   "outputs": [],
   "source": [
    "data['TotalBsmtBath'] = data['BsmtFullBath'] + data['BsmtHalfBath'] * 0.5\n",
    "data['TotalBath'] = data['FullBath'] + data['HalfBath'] * 0.5 + data['BsmtFullBath'] + data['BsmtHalfBath'] * 0.5"
   ]
  },
  {
   "cell_type": "markdown",
   "metadata": {},
   "source": [
    "#### 12. Bedroom, Kitchen, KitchenQual"
   ]
  },
  {
   "cell_type": "code",
   "execution_count": 433,
   "metadata": {},
   "outputs": [],
   "source": [
    "data['BedroomAbvGr'].value_counts()\n",
    "bins = [-1,2,5,8] \n",
    "labels = ['Fa','TA','Gd']\n",
    "data['BedroomGrade'] = pd.cut(data['BedroomAbvGr'],bins = bins, labels = labels)"
   ]
  },
  {
   "cell_type": "code",
   "execution_count": 434,
   "metadata": {},
   "outputs": [
    {
     "data": {
      "text/plain": [
       "1    2785\n",
       "2     129\n",
       "0       3\n",
       "3       2\n",
       "Name: KitchenAbvGr, dtype: int64"
      ]
     },
     "execution_count": 434,
     "metadata": {},
     "output_type": "execute_result"
    }
   ],
   "source": [
    "data['KitchenAbvGr'].value_counts()"
   ]
  },
  {
   "cell_type": "code",
   "execution_count": 435,
   "metadata": {},
   "outputs": [
    {
     "data": {
      "text/plain": [
       "TA    1493\n",
       "Gd    1151\n",
       "Ex     205\n",
       "Fa      70\n",
       "Name: KitchenQual, dtype: int64"
      ]
     },
     "execution_count": 435,
     "metadata": {},
     "output_type": "execute_result"
    }
   ],
   "source": [
    "data['KitchenQual'].value_counts()"
   ]
  },
  {
   "cell_type": "code",
   "execution_count": 436,
   "metadata": {},
   "outputs": [],
   "source": [
    "data['TotRmsAbvGrd'].value_counts()\n",
    "bins = [0,4,7,10,15] \n",
    "labels = ['Po','TA','Gd','Ex']\n",
    "data['TotalRoomGrade'] = pd.cut(data['TotRmsAbvGrd'],bins = bins, labels = labels)"
   ]
  },
  {
   "cell_type": "code",
   "execution_count": 437,
   "metadata": {},
   "outputs": [
    {
     "data": {
      "text/plain": [
       "TA    2076\n",
       "Gd     570\n",
       "Po     222\n",
       "Ex      51\n",
       "Name: TotalRoomGrade, dtype: int64"
      ]
     },
     "execution_count": 437,
     "metadata": {},
     "output_type": "execute_result"
    }
   ],
   "source": [
    "data['TotalRoomGrade'].value_counts()"
   ]
  },
  {
   "cell_type": "markdown",
   "metadata": {},
   "source": [
    "#### 13. Fireplaces"
   ]
  },
  {
   "cell_type": "code",
   "execution_count": 438,
   "metadata": {},
   "outputs": [
    {
     "data": {
      "text/plain": [
       "0    1420\n",
       "1    1268\n",
       "2     219\n",
       "3      11\n",
       "4       1\n",
       "Name: Fireplaces, dtype: int64"
      ]
     },
     "execution_count": 438,
     "metadata": {},
     "output_type": "execute_result"
    }
   ],
   "source": [
    "data['Fireplaces'].value_counts()"
   ]
  },
  {
   "cell_type": "code",
   "execution_count": 439,
   "metadata": {},
   "outputs": [],
   "source": [
    "#시설 유무 여부로 0,1 구분\n",
    "data['hasFireplaces'] = data['Fireplaces'].apply(lambda x: 1 if x > 0 else 0)"
   ]
  },
  {
   "cell_type": "code",
   "execution_count": 440,
   "metadata": {},
   "outputs": [
    {
     "data": {
      "text/plain": [
       "0     1420\n",
       "4      637\n",
       "3      495\n",
       "8      112\n",
       "6       93\n",
       "2       63\n",
       "1       46\n",
       "5       37\n",
       "12       6\n",
       "10       5\n",
       "9        4\n",
       "15       1\n",
       "Name: FireplaceGrade, dtype: int64"
      ]
     },
     "execution_count": 440,
     "metadata": {},
     "output_type": "execute_result"
    }
   ],
   "source": [
    "data['FireplaceQu'] = data['FireplaceQu'].map({'Ex' : 5, 'Gd' : 4, 'TA' : 3 , 'Fa' : 2, 'Po' : 1, 'None' : 0})\n",
    "data['FireplaceGrade'] = data['Fireplaces'] * data['FireplaceQu']\n",
    "data['FireplaceGrade'].value_counts()"
   ]
  },
  {
   "cell_type": "markdown",
   "metadata": {},
   "source": [
    "#### 14. Garage"
   ]
  },
  {
   "cell_type": "code",
   "execution_count": 441,
   "metadata": {},
   "outputs": [
    {
     "data": {
      "text/plain": [
       "Attchd     1723\n",
       "Detchd      779\n",
       "BuiltIn     186\n",
       "None        157\n",
       "Basment      36\n",
       "2Types       23\n",
       "CarPort      15\n",
       "Name: GarageType, dtype: int64"
      ]
     },
     "execution_count": 441,
     "metadata": {},
     "output_type": "execute_result"
    }
   ],
   "source": [
    "data['GarageType'].value_counts()"
   ]
  },
  {
   "cell_type": "code",
   "execution_count": 442,
   "metadata": {
    "scrolled": true
   },
   "outputs": [
    {
     "data": {
      "text/plain": [
       "None    158\n",
       "Name: GarageQual, dtype: int64"
      ]
     },
     "execution_count": 442,
     "metadata": {},
     "output_type": "execute_result"
    }
   ],
   "source": [
    "data[data['GarageArea']==0]['GarageQual'].value_counts()"
   ]
  },
  {
   "cell_type": "code",
   "execution_count": 443,
   "metadata": {},
   "outputs": [],
   "source": [
    "#시설 유무 여부로 0,1 구분\n",
    "data['hasGarage'] = data['GarageArea'].apply(lambda x: 1 if x > 0 else 0)"
   ]
  },
  {
   "cell_type": "code",
   "execution_count": 444,
   "metadata": {},
   "outputs": [
    {
     "data": {
      "text/plain": [
       "2.0    1594\n",
       "1.0     776\n",
       "3.0     374\n",
       "0.0     158\n",
       "4.0      16\n",
       "5.0       1\n",
       "Name: GarageCars, dtype: int64"
      ]
     },
     "execution_count": 444,
     "metadata": {},
     "output_type": "execute_result"
    }
   ],
   "source": [
    "data['GarageCars'].value_counts()"
   ]
  },
  {
   "cell_type": "code",
   "execution_count": 445,
   "metadata": {},
   "outputs": [],
   "source": [
    "data['GarageQual'] = data['GarageQual'].map({'Ex' : 5, 'Gd' : 4, 'TA' : 3 , 'Fa' : 2, 'Po' : 1, 'None' : 0})\n",
    "data['GarageCond'] = data['GarageCond'].map({'Ex' : 5, 'Gd' : 4, 'TA' : 3 , 'Fa' : 2, 'Po' : 1, 'None' : 0})\n",
    "data['GarageGrade'] = data['GarageQual'] * data['GarageCond'] * data['GarageCars']"
   ]
  },
  {
   "cell_type": "code",
   "execution_count": 446,
   "metadata": {},
   "outputs": [],
   "source": [
    "# GarageArea \n",
    "bins = [-1, 0, 350, 500, 600, 1000, 1500] \n",
    "labels = ['0','1','2','3','4','5']\n",
    "data['GarageAreaBins'] = pd.cut(data['GarageArea'],bins = bins, labels = labels)"
   ]
  },
  {
   "cell_type": "markdown",
   "metadata": {},
   "source": [
    "#### 15. WoodDeckSF: OpenPorchSF: EnclosedPorch: 3SsnPorch: ScreenPorch: "
   ]
  },
  {
   "cell_type": "code",
   "execution_count": 447,
   "metadata": {},
   "outputs": [],
   "source": [
    "data['WoodDeckSF'].value_counts()\n",
    "#시설 유무 여부로 0,1 구분\n",
    "data['hasWoodDeckSF'] = data['WoodDeckSF'].apply(lambda x: 1 if x > 0 else 0)"
   ]
  },
  {
   "cell_type": "code",
   "execution_count": 448,
   "metadata": {},
   "outputs": [],
   "source": [
    "data['OpenPorchSF'].value_counts()\n",
    "#시설 유무 여부로 0,1 구분\n",
    "data['hasOpenPorchSF'] = data['OpenPorchSF'].apply(lambda x: 1 if x > 0 else 0)"
   ]
  },
  {
   "cell_type": "code",
   "execution_count": 449,
   "metadata": {},
   "outputs": [],
   "source": [
    "data['EnclosedPorch'].value_counts()\n",
    "#시설 유무 여부로 0,1 구분\n",
    "data['hasEnclosedPorch'] = data['EnclosedPorch'].apply(lambda x: 1 if x > 0 else 0)"
   ]
  },
  {
   "cell_type": "code",
   "execution_count": 450,
   "metadata": {},
   "outputs": [],
   "source": [
    "data['3SsnPorch'].value_counts()\n",
    "#시설 유무 여부로 0,1 구분\n",
    "data['has3SsnPorch'] = data['3SsnPorch'].apply(lambda x: 1 if x > 0 else 0)"
   ]
  },
  {
   "cell_type": "code",
   "execution_count": 451,
   "metadata": {},
   "outputs": [],
   "source": [
    "data['ScreenPorch'].value_counts()\n",
    "data['hasScreenPorch'] = data['ScreenPorch'].apply(lambda x: 1 if x > 0 else 0)"
   ]
  },
  {
   "cell_type": "code",
   "execution_count": null,
   "metadata": {},
   "outputs": [],
   "source": [
    "data[\"AllPorchSF\"] = data[\"OpenPorchSF\"] + data[\"EnclosedPorch\"] + data[\"3SsnPorch\"] + data[\"ScreenPorch\"] + data['WoodDeckSF']"
   ]
  },
  {
   "cell_type": "markdown",
   "metadata": {},
   "source": [
    "#### 16. Pool"
   ]
  },
  {
   "cell_type": "code",
   "execution_count": 452,
   "metadata": {},
   "outputs": [],
   "source": [
    "data['PoolArea'].value_counts()\n",
    "data['hasPoolArea'] = data['PoolArea'].apply(lambda x: 1 if x > 0 else 0)"
   ]
  },
  {
   "cell_type": "code",
   "execution_count": 453,
   "metadata": {},
   "outputs": [],
   "source": [
    "data['PoolQC'] = data['PoolQC'].map({'Ex' : 4, 'Gd' : 3, 'TA' : 2 , 'Fa' : 1, 'None' : 0})\n",
    "data['PoolGrade'] = data['PoolQC'] * data['PoolArea']"
   ]
  },
  {
   "cell_type": "markdown",
   "metadata": {},
   "source": [
    "#### 17. Fence"
   ]
  },
  {
   "cell_type": "code",
   "execution_count": 454,
   "metadata": {},
   "outputs": [
    {
     "name": "stderr",
     "output_type": "stream",
     "text": [
      "C:\\Users\\USER\\Anaconda3\\lib\\site-packages\\ipykernel_launcher.py:5: SettingWithCopyWarning: \n",
      "A value is trying to be set on a copy of a slice from a DataFrame\n",
      "\n",
      "See the caveats in the documentation: http://pandas.pydata.org/pandas-docs/stable/user_guide/indexing.html#returning-a-view-versus-a-copy\n",
      "  \"\"\"\n",
      "C:\\Users\\USER\\Anaconda3\\lib\\site-packages\\ipykernel_launcher.py:7: SettingWithCopyWarning: \n",
      "A value is trying to be set on a copy of a slice from a DataFrame\n",
      "\n",
      "See the caveats in the documentation: http://pandas.pydata.org/pandas-docs/stable/user_guide/indexing.html#returning-a-view-versus-a-copy\n",
      "  import sys\n"
     ]
    },
    {
     "data": {
      "text/plain": [
       "0    2348\n",
       "1     571\n",
       "Name: hasFence, dtype: int64"
      ]
     },
     "execution_count": 454,
     "metadata": {},
     "output_type": "execute_result"
    }
   ],
   "source": [
    "data['Fence'].value_counts()\n",
    "data['hasFence'] = 0\n",
    "for i in range(1, len(data)) :\n",
    "    if data['Fence'][i] == 'None' :\n",
    "        data['hasFence'][i] = 0\n",
    "    else :\n",
    "        data['hasFence'][i] = 1\n",
    "data['hasFence'].value_counts()"
   ]
  },
  {
   "cell_type": "markdown",
   "metadata": {},
   "source": [
    "#### 18. MiscFeature"
   ]
  },
  {
   "cell_type": "code",
   "execution_count": 455,
   "metadata": {},
   "outputs": [
    {
     "data": {
      "text/plain": [
       "None    2814\n",
       "Shed      95\n",
       "Gar2       5\n",
       "Othr       4\n",
       "TenC       1\n",
       "Name: MiscFeature, dtype: int64"
      ]
     },
     "execution_count": 455,
     "metadata": {},
     "output_type": "execute_result"
    }
   ],
   "source": [
    "data['MiscFeature'].value_counts()"
   ]
  },
  {
   "cell_type": "code",
   "execution_count": 456,
   "metadata": {},
   "outputs": [
    {
     "name": "stderr",
     "output_type": "stream",
     "text": [
      "C:\\Users\\USER\\Anaconda3\\lib\\site-packages\\ipykernel_launcher.py:4: SettingWithCopyWarning: \n",
      "A value is trying to be set on a copy of a slice from a DataFrame\n",
      "\n",
      "See the caveats in the documentation: http://pandas.pydata.org/pandas-docs/stable/user_guide/indexing.html#returning-a-view-versus-a-copy\n",
      "  after removing the cwd from sys.path.\n",
      "C:\\Users\\USER\\Anaconda3\\lib\\site-packages\\ipykernel_launcher.py:6: SettingWithCopyWarning: \n",
      "A value is trying to be set on a copy of a slice from a DataFrame\n",
      "\n",
      "See the caveats in the documentation: http://pandas.pydata.org/pandas-docs/stable/user_guide/indexing.html#returning-a-view-versus-a-copy\n",
      "  \n"
     ]
    },
    {
     "data": {
      "text/plain": [
       "0    2814\n",
       "1     105\n",
       "Name: hasMiscFeature, dtype: int64"
      ]
     },
     "execution_count": 456,
     "metadata": {},
     "output_type": "execute_result"
    }
   ],
   "source": [
    "data['hasMiscFeature'] = 0\n",
    "for i in range(1, len(data)) :\n",
    "    if data['MiscFeature'][i] == 'None' :\n",
    "        data['hasMiscFeature'][i] = 0\n",
    "    else :\n",
    "        data['hasMiscFeature'][i] = 1\n",
    "data['hasMiscFeature'].value_counts()"
   ]
  },
  {
   "cell_type": "markdown",
   "metadata": {},
   "source": [
    "#### 19. MoSold, YrSold"
   ]
  },
  {
   "cell_type": "code",
   "execution_count": 457,
   "metadata": {},
   "outputs": [
    {
     "data": {
      "text/plain": [
       "EnclosedPorch   -0.143471\n",
       "KitchenAbvGr    -0.121199\n",
       "MSSubClass      -0.102403\n",
       "OverallCond     -0.075580\n",
       "LowQualFinSF    -0.045149\n",
       "BsmtHalfBath    -0.030887\n",
       "MiscVal         -0.016499\n",
       "YrSold          -0.013871\n",
       "BsmtFinSF2       0.001869\n",
       "MoSold           0.038703\n",
       "3SsnPorch        0.064808\n",
       "PoolArea         0.075791\n",
       "ScreenPorch      0.099102\n",
       "BedroomAbvGr     0.151129\n",
       "BsmtUnfSF        0.217641\n",
       "2ndFlrSF         0.262407\n",
       "LotArea          0.264751\n",
       "BsmtFullBath     0.264883\n",
       "HalfBath         0.288713\n",
       "OpenPorchSF      0.307070\n",
       "WoodDeckSF       0.324476\n",
       "LotFrontage      0.358583\n",
       "BsmtFinSF1       0.420841\n",
       "Fireplaces       0.485241\n",
       "TotRmsAbvGrd     0.498221\n",
       "MasVnrArea       0.503970\n",
       "GarageYrBlt      0.538430\n",
       "YearRemodAdd     0.539269\n",
       "YearBuilt        0.551999\n",
       "FullBath         0.553401\n",
       "1stFlrSF         0.637123\n",
       "GarageArea       0.642899\n",
       "TotalBsmtSF      0.647987\n",
       "GarageCars       0.661647\n",
       "GrLivArea        0.709685\n",
       "OverallQual      0.803108\n",
       "SalePrice        1.000000\n",
       "Name: SalePrice, dtype: float64"
      ]
     },
     "execution_count": 457,
     "metadata": {},
     "output_type": "execute_result"
    }
   ],
   "source": [
    "train.corr()['SalePrice'].sort_values()"
   ]
  },
  {
   "cell_type": "code",
   "execution_count": 458,
   "metadata": {},
   "outputs": [],
   "source": [
    "del data['MoSold'], data['YrSold'] #노쓸모 컬럼 드랍(상관관계 낮음)\n",
    "del data['Utilities'] #대부분 같은값이라 의미없어서 컬럼 삭제"
   ]
  },
  {
   "cell_type": "code",
   "execution_count": 459,
   "metadata": {
    "scrolled": true
   },
   "outputs": [
    {
     "data": {
      "text/plain": [
       "(2919, 109)"
      ]
     },
     "execution_count": 459,
     "metadata": {},
     "output_type": "execute_result"
    }
   ],
   "source": [
    "data.shape"
   ]
  },
  {
   "cell_type": "code",
   "execution_count": 460,
   "metadata": {},
   "outputs": [],
   "source": [
    "from matplotlib import pyplot as plt\n",
    "%matplotlib inline\n",
    "import seaborn as sns"
   ]
  },
  {
   "cell_type": "markdown",
   "metadata": {},
   "source": [
    "## 데이터 모델링"
   ]
  },
  {
   "cell_type": "code",
   "execution_count": 461,
   "metadata": {},
   "outputs": [],
   "source": [
    "from sklearn.tree import DecisionTreeRegressor\n",
    "from sklearn.ensemble import RandomForestRegressor\n",
    "from sklearn.svm import LinearSVC \n",
    "from sklearn.linear_model import LogisticRegression\n",
    "from sklearn.metrics import confusion_matrix, classification_report, roc_curve, auc\n",
    "from sklearn.preprocessing import MinMaxScaler, LabelEncoder\n",
    "from sklearn.model_selection import train_test_split, GridSearchCV, cross_val_score \n",
    "from sklearn.metrics import mean_squared_error,r2_score\n",
    "from sklearn.ensemble import GradientBoostingRegressor\n",
    "import numpy as np\n",
    "from xgboost import XGBRegressor\n",
    "from matplotlib import pyplot as plt\n",
    "from catboost import CatBoostRegressor"
   ]
  },
  {
   "cell_type": "code",
   "execution_count": 462,
   "metadata": {},
   "outputs": [],
   "source": [
    "import winsound as sd \n",
    "def beepsound(): \n",
    "    fre = 2000\n",
    "    du = 3000\n",
    "    sd.Beep(fre, du)\n",
    "    # range : 37 ~ 32767 du = 1000 # 1000 ms ==1second sd.Beep(fr, du)"
   ]
  },
  {
   "cell_type": "code",
   "execution_count": 463,
   "metadata": {},
   "outputs": [
    {
     "data": {
      "text/plain": [
       "(2919, 337)"
      ]
     },
     "execution_count": 463,
     "metadata": {},
     "output_type": "execute_result"
    }
   ],
   "source": [
    "#원핫인코딩\n",
    "data = pd.get_dummies(data)\n",
    "data.shape"
   ]
  },
  {
   "cell_type": "code",
   "execution_count": 464,
   "metadata": {},
   "outputs": [
    {
     "data": {
      "text/html": [
       "<div>\n",
       "<style scoped>\n",
       "    .dataframe tbody tr th:only-of-type {\n",
       "        vertical-align: middle;\n",
       "    }\n",
       "\n",
       "    .dataframe tbody tr th {\n",
       "        vertical-align: top;\n",
       "    }\n",
       "\n",
       "    .dataframe thead th {\n",
       "        text-align: right;\n",
       "    }\n",
       "</style>\n",
       "<table border=\"1\" class=\"dataframe\">\n",
       "  <thead>\n",
       "    <tr style=\"text-align: right;\">\n",
       "      <th></th>\n",
       "      <th>1stFlrSF</th>\n",
       "      <th>2ndFlrSF</th>\n",
       "      <th>3SsnPorch</th>\n",
       "      <th>BedroomAbvGr</th>\n",
       "      <th>BsmtCond</th>\n",
       "      <th>BsmtExposure</th>\n",
       "      <th>BsmtFinSF1</th>\n",
       "      <th>BsmtFinSF2</th>\n",
       "      <th>BsmtFinType1</th>\n",
       "      <th>BsmtFinType2</th>\n",
       "      <th>...</th>\n",
       "      <th>TotalRoomGrade_Po</th>\n",
       "      <th>TotalRoomGrade_TA</th>\n",
       "      <th>TotalRoomGrade_Gd</th>\n",
       "      <th>TotalRoomGrade_Ex</th>\n",
       "      <th>GarageAreaBins_0</th>\n",
       "      <th>GarageAreaBins_1</th>\n",
       "      <th>GarageAreaBins_2</th>\n",
       "      <th>GarageAreaBins_3</th>\n",
       "      <th>GarageAreaBins_4</th>\n",
       "      <th>GarageAreaBins_5</th>\n",
       "    </tr>\n",
       "    <tr>\n",
       "      <th>Id</th>\n",
       "      <th></th>\n",
       "      <th></th>\n",
       "      <th></th>\n",
       "      <th></th>\n",
       "      <th></th>\n",
       "      <th></th>\n",
       "      <th></th>\n",
       "      <th></th>\n",
       "      <th></th>\n",
       "      <th></th>\n",
       "      <th></th>\n",
       "      <th></th>\n",
       "      <th></th>\n",
       "      <th></th>\n",
       "      <th></th>\n",
       "      <th></th>\n",
       "      <th></th>\n",
       "      <th></th>\n",
       "      <th></th>\n",
       "      <th></th>\n",
       "      <th></th>\n",
       "    </tr>\n",
       "  </thead>\n",
       "  <tbody>\n",
       "    <tr>\n",
       "      <td>1</td>\n",
       "      <td>1680</td>\n",
       "      <td>0</td>\n",
       "      <td>182</td>\n",
       "      <td>3</td>\n",
       "      <td>3</td>\n",
       "      <td>1</td>\n",
       "      <td>808.0</td>\n",
       "      <td>0.0</td>\n",
       "      <td>6.0</td>\n",
       "      <td>1.0</td>\n",
       "      <td>...</td>\n",
       "      <td>0</td>\n",
       "      <td>1</td>\n",
       "      <td>0</td>\n",
       "      <td>0</td>\n",
       "      <td>0</td>\n",
       "      <td>0</td>\n",
       "      <td>0</td>\n",
       "      <td>1</td>\n",
       "      <td>0</td>\n",
       "      <td>0</td>\n",
       "    </tr>\n",
       "    <tr>\n",
       "      <td>2</td>\n",
       "      <td>981</td>\n",
       "      <td>0</td>\n",
       "      <td>0</td>\n",
       "      <td>3</td>\n",
       "      <td>3</td>\n",
       "      <td>1</td>\n",
       "      <td>282.0</td>\n",
       "      <td>35.0</td>\n",
       "      <td>4.0</td>\n",
       "      <td>2.0</td>\n",
       "      <td>...</td>\n",
       "      <td>0</td>\n",
       "      <td>1</td>\n",
       "      <td>0</td>\n",
       "      <td>0</td>\n",
       "      <td>0</td>\n",
       "      <td>0</td>\n",
       "      <td>0</td>\n",
       "      <td>1</td>\n",
       "      <td>0</td>\n",
       "      <td>0</td>\n",
       "    </tr>\n",
       "    <tr>\n",
       "      <td>3</td>\n",
       "      <td>1494</td>\n",
       "      <td>0</td>\n",
       "      <td>0</td>\n",
       "      <td>3</td>\n",
       "      <td>3</td>\n",
       "      <td>2</td>\n",
       "      <td>922.0</td>\n",
       "      <td>0.0</td>\n",
       "      <td>6.0</td>\n",
       "      <td>1.0</td>\n",
       "      <td>...</td>\n",
       "      <td>0</td>\n",
       "      <td>1</td>\n",
       "      <td>0</td>\n",
       "      <td>0</td>\n",
       "      <td>0</td>\n",
       "      <td>0</td>\n",
       "      <td>0</td>\n",
       "      <td>1</td>\n",
       "      <td>0</td>\n",
       "      <td>0</td>\n",
       "    </tr>\n",
       "    <tr>\n",
       "      <td>4</td>\n",
       "      <td>854</td>\n",
       "      <td>840</td>\n",
       "      <td>0</td>\n",
       "      <td>3</td>\n",
       "      <td>3</td>\n",
       "      <td>1</td>\n",
       "      <td>0.0</td>\n",
       "      <td>0.0</td>\n",
       "      <td>1.0</td>\n",
       "      <td>1.0</td>\n",
       "      <td>...</td>\n",
       "      <td>0</td>\n",
       "      <td>1</td>\n",
       "      <td>0</td>\n",
       "      <td>0</td>\n",
       "      <td>0</td>\n",
       "      <td>0</td>\n",
       "      <td>1</td>\n",
       "      <td>0</td>\n",
       "      <td>0</td>\n",
       "      <td>0</td>\n",
       "    </tr>\n",
       "    <tr>\n",
       "      <td>5</td>\n",
       "      <td>1721</td>\n",
       "      <td>0</td>\n",
       "      <td>0</td>\n",
       "      <td>3</td>\n",
       "      <td>3</td>\n",
       "      <td>1</td>\n",
       "      <td>570.0</td>\n",
       "      <td>0.0</td>\n",
       "      <td>3.0</td>\n",
       "      <td>1.0</td>\n",
       "      <td>...</td>\n",
       "      <td>0</td>\n",
       "      <td>1</td>\n",
       "      <td>0</td>\n",
       "      <td>0</td>\n",
       "      <td>0</td>\n",
       "      <td>0</td>\n",
       "      <td>1</td>\n",
       "      <td>0</td>\n",
       "      <td>0</td>\n",
       "      <td>0</td>\n",
       "    </tr>\n",
       "  </tbody>\n",
       "</table>\n",
       "<p>5 rows × 337 columns</p>\n",
       "</div>"
      ],
      "text/plain": [
       "    1stFlrSF  2ndFlrSF  3SsnPorch  BedroomAbvGr  BsmtCond  BsmtExposure  \\\n",
       "Id                                                                        \n",
       "1       1680         0        182             3         3             1   \n",
       "2        981         0          0             3         3             1   \n",
       "3       1494         0          0             3         3             2   \n",
       "4        854       840          0             3         3             1   \n",
       "5       1721         0          0             3         3             1   \n",
       "\n",
       "    BsmtFinSF1  BsmtFinSF2  BsmtFinType1  BsmtFinType2  ...  \\\n",
       "Id                                                      ...   \n",
       "1        808.0         0.0           6.0           1.0  ...   \n",
       "2        282.0        35.0           4.0           2.0  ...   \n",
       "3        922.0         0.0           6.0           1.0  ...   \n",
       "4          0.0         0.0           1.0           1.0  ...   \n",
       "5        570.0         0.0           3.0           1.0  ...   \n",
       "\n",
       "    TotalRoomGrade_Po  TotalRoomGrade_TA  TotalRoomGrade_Gd  \\\n",
       "Id                                                            \n",
       "1                   0                  1                  0   \n",
       "2                   0                  1                  0   \n",
       "3                   0                  1                  0   \n",
       "4                   0                  1                  0   \n",
       "5                   0                  1                  0   \n",
       "\n",
       "    TotalRoomGrade_Ex  GarageAreaBins_0  GarageAreaBins_1  GarageAreaBins_2  \\\n",
       "Id                                                                            \n",
       "1                   0                 0                 0                 0   \n",
       "2                   0                 0                 0                 0   \n",
       "3                   0                 0                 0                 0   \n",
       "4                   0                 0                 0                 1   \n",
       "5                   0                 0                 0                 1   \n",
       "\n",
       "    GarageAreaBins_3  GarageAreaBins_4  GarageAreaBins_5  \n",
       "Id                                                        \n",
       "1                  1                 0                 0  \n",
       "2                  1                 0                 0  \n",
       "3                  1                 0                 0  \n",
       "4                  0                 0                 0  \n",
       "5                  0                 0                 0  \n",
       "\n",
       "[5 rows x 337 columns]"
      ]
     },
     "execution_count": 464,
     "metadata": {},
     "output_type": "execute_result"
    }
   ],
   "source": [
    "data.head()"
   ]
  },
  {
   "cell_type": "code",
   "execution_count": 465,
   "metadata": {},
   "outputs": [
    {
     "data": {
      "text/plain": [
       "Id\n",
       "1       222000.000000\n",
       "2       143250.000000\n",
       "3       221000.000000\n",
       "4       190269.599579\n",
       "5       180000.000000\n",
       "            ...      \n",
       "1747    231500.000000\n",
       "1748    158900.000000\n",
       "1749    280000.000000\n",
       "1750    334400.985840\n",
       "1751    172283.666694\n",
       "Name: SalePrice, Length: 1751, dtype: float64"
      ]
     },
     "execution_count": 465,
     "metadata": {},
     "output_type": "execute_result"
    }
   ],
   "source": [
    "y"
   ]
  },
  {
   "cell_type": "code",
   "execution_count": 466,
   "metadata": {},
   "outputs": [
    {
     "name": "stdout",
     "output_type": "stream",
     "text": [
      "(1751, 337)\n",
      "(1168, 337)\n"
     ]
    }
   ],
   "source": [
    "#트레인, 테스트 분리\n",
    "train = data.iloc[:1751] \n",
    "test = data.iloc[1751:]\n",
    "print(train.shape)\n",
    "print(test.shape)\n",
    "x = train"
   ]
  },
  {
   "cell_type": "code",
   "execution_count": 467,
   "metadata": {},
   "outputs": [
    {
     "data": {
      "text/plain": [
       "((1313, 337), (438, 337), (1313,), (438,))"
      ]
     },
     "execution_count": 467,
     "metadata": {},
     "output_type": "execute_result"
    }
   ],
   "source": [
    "x_train, x_test, y_train, y_test = train_test_split(x,y,random_state=7,test_size=0.25)\n",
    "x_train.shape, x_test.shape, y_train.shape, y_test.shape"
   ]
  },
  {
   "cell_type": "markdown",
   "metadata": {},
   "source": [
    "### 특성 중요도 탐색"
   ]
  },
  {
   "cell_type": "code",
   "execution_count": 468,
   "metadata": {
    "scrolled": true
   },
   "outputs": [
    {
     "name": "stdout",
     "output_type": "stream",
     "text": [
      "0:\tlearn: 75748.8630442\ttotal: 152ms\tremaining: 2m 31s\n",
      "1:\tlearn: 74345.6962956\ttotal: 161ms\tremaining: 1m 20s\n",
      "2:\tlearn: 72855.6977349\ttotal: 170ms\tremaining: 56.6s\n",
      "3:\tlearn: 71411.4602624\ttotal: 181ms\tremaining: 45.2s\n",
      "4:\tlearn: 69986.0519032\ttotal: 192ms\tremaining: 38.1s\n",
      "5:\tlearn: 68644.4205366\ttotal: 201ms\tremaining: 33.3s\n",
      "6:\tlearn: 67361.3222234\ttotal: 210ms\tremaining: 29.8s\n",
      "7:\tlearn: 66172.5442884\ttotal: 220ms\tremaining: 27.2s\n",
      "8:\tlearn: 64895.9604122\ttotal: 229ms\tremaining: 25.2s\n",
      "9:\tlearn: 63657.1575462\ttotal: 238ms\tremaining: 23.6s\n",
      "10:\tlearn: 62466.9273503\ttotal: 247ms\tremaining: 22.2s\n",
      "11:\tlearn: 61339.0210768\ttotal: 256ms\tremaining: 21.1s\n",
      "12:\tlearn: 60296.1333223\ttotal: 265ms\tremaining: 20.1s\n",
      "13:\tlearn: 59212.3050262\ttotal: 274ms\tremaining: 19.3s\n",
      "14:\tlearn: 58269.4184757\ttotal: 283ms\tremaining: 18.6s\n",
      "15:\tlearn: 57275.5379981\ttotal: 293ms\tremaining: 18s\n",
      "16:\tlearn: 56293.6928039\ttotal: 302ms\tremaining: 17.4s\n",
      "17:\tlearn: 55254.8932357\ttotal: 311ms\tremaining: 16.9s\n",
      "18:\tlearn: 54284.3329391\ttotal: 320ms\tremaining: 16.5s\n",
      "19:\tlearn: 53438.9507028\ttotal: 329ms\tremaining: 16.1s\n",
      "20:\tlearn: 52485.9655506\ttotal: 341ms\tremaining: 15.9s\n",
      "21:\tlearn: 51627.0854605\ttotal: 354ms\tremaining: 15.8s\n",
      "22:\tlearn: 50763.7448516\ttotal: 366ms\tremaining: 15.5s\n",
      "23:\tlearn: 49982.4155625\ttotal: 375ms\tremaining: 15.3s\n",
      "24:\tlearn: 49284.7303878\ttotal: 385ms\tremaining: 15s\n",
      "25:\tlearn: 48503.5973951\ttotal: 395ms\tremaining: 14.8s\n",
      "26:\tlearn: 47730.5909808\ttotal: 405ms\tremaining: 14.6s\n",
      "27:\tlearn: 46989.3761684\ttotal: 416ms\tremaining: 14.4s\n",
      "28:\tlearn: 46236.4006432\ttotal: 425ms\tremaining: 14.2s\n",
      "29:\tlearn: 45569.2854432\ttotal: 435ms\tremaining: 14.1s\n",
      "30:\tlearn: 44914.8207514\ttotal: 448ms\tremaining: 14s\n",
      "31:\tlearn: 44209.5200935\ttotal: 457ms\tremaining: 13.8s\n",
      "32:\tlearn: 43580.8412136\ttotal: 466ms\tremaining: 13.7s\n",
      "33:\tlearn: 42959.8858381\ttotal: 476ms\tremaining: 13.5s\n",
      "34:\tlearn: 42337.0482181\ttotal: 485ms\tremaining: 13.4s\n",
      "35:\tlearn: 41713.1534748\ttotal: 494ms\tremaining: 13.2s\n",
      "36:\tlearn: 41146.9816809\ttotal: 503ms\tremaining: 13.1s\n",
      "37:\tlearn: 40574.5727246\ttotal: 517ms\tremaining: 13.1s\n",
      "38:\tlearn: 40021.2411960\ttotal: 529ms\tremaining: 13s\n",
      "39:\tlearn: 39461.0872721\ttotal: 540ms\tremaining: 13s\n",
      "40:\tlearn: 38944.9966502\ttotal: 550ms\tremaining: 12.9s\n",
      "41:\tlearn: 38405.5668443\ttotal: 560ms\tremaining: 12.8s\n",
      "42:\tlearn: 37926.6613341\ttotal: 570ms\tremaining: 12.7s\n",
      "43:\tlearn: 37486.8655190\ttotal: 579ms\tremaining: 12.6s\n",
      "44:\tlearn: 36954.5210469\ttotal: 589ms\tremaining: 12.5s\n",
      "45:\tlearn: 36479.5040422\ttotal: 598ms\tremaining: 12.4s\n",
      "46:\tlearn: 36069.5158453\ttotal: 608ms\tremaining: 12.3s\n",
      "47:\tlearn: 35639.2738397\ttotal: 623ms\tremaining: 12.4s\n",
      "48:\tlearn: 35294.1173364\ttotal: 633ms\tremaining: 12.3s\n",
      "49:\tlearn: 34826.9289918\ttotal: 643ms\tremaining: 12.2s\n",
      "50:\tlearn: 34454.8627031\ttotal: 654ms\tremaining: 12.2s\n",
      "51:\tlearn: 34051.2848796\ttotal: 665ms\tremaining: 12.1s\n",
      "52:\tlearn: 33686.4338684\ttotal: 676ms\tremaining: 12.1s\n",
      "53:\tlearn: 33312.4982315\ttotal: 686ms\tremaining: 12s\n",
      "54:\tlearn: 32934.5503145\ttotal: 697ms\tremaining: 12s\n",
      "55:\tlearn: 32566.5610305\ttotal: 707ms\tremaining: 11.9s\n",
      "56:\tlearn: 32202.3352870\ttotal: 717ms\tremaining: 11.9s\n",
      "57:\tlearn: 31809.9595837\ttotal: 727ms\tremaining: 11.8s\n",
      "58:\tlearn: 31484.0015000\ttotal: 737ms\tremaining: 11.8s\n",
      "59:\tlearn: 31124.4798676\ttotal: 746ms\tremaining: 11.7s\n",
      "60:\tlearn: 30769.8002573\ttotal: 758ms\tremaining: 11.7s\n",
      "61:\tlearn: 30481.5011042\ttotal: 769ms\tremaining: 11.6s\n",
      "62:\tlearn: 30184.5177356\ttotal: 779ms\tremaining: 11.6s\n",
      "63:\tlearn: 29861.9908542\ttotal: 788ms\tremaining: 11.5s\n",
      "64:\tlearn: 29591.5209803\ttotal: 799ms\tremaining: 11.5s\n",
      "65:\tlearn: 29273.0278635\ttotal: 811ms\tremaining: 11.5s\n",
      "66:\tlearn: 28990.9235786\ttotal: 821ms\tremaining: 11.4s\n",
      "67:\tlearn: 28720.2174928\ttotal: 834ms\tremaining: 11.4s\n",
      "68:\tlearn: 28427.1878609\ttotal: 848ms\tremaining: 11.4s\n",
      "69:\tlearn: 28142.5489270\ttotal: 858ms\tremaining: 11.4s\n",
      "70:\tlearn: 27881.0714758\ttotal: 870ms\tremaining: 11.4s\n",
      "71:\tlearn: 27577.3622550\ttotal: 881ms\tremaining: 11.4s\n",
      "72:\tlearn: 27300.8666623\ttotal: 893ms\tremaining: 11.3s\n",
      "73:\tlearn: 27012.9967768\ttotal: 906ms\tremaining: 11.3s\n",
      "74:\tlearn: 26768.7339757\ttotal: 920ms\tremaining: 11.3s\n",
      "75:\tlearn: 26546.2243809\ttotal: 946ms\tremaining: 11.5s\n",
      "76:\tlearn: 26277.5806261\ttotal: 955ms\tremaining: 11.4s\n",
      "77:\tlearn: 26092.9738511\ttotal: 965ms\tremaining: 11.4s\n",
      "78:\tlearn: 25892.9944075\ttotal: 978ms\tremaining: 11.4s\n",
      "79:\tlearn: 25693.0066834\ttotal: 988ms\tremaining: 11.4s\n",
      "80:\tlearn: 25496.5730214\ttotal: 998ms\tremaining: 11.3s\n",
      "81:\tlearn: 25306.8708563\ttotal: 1.01s\tremaining: 11.3s\n",
      "82:\tlearn: 25172.0297860\ttotal: 1.02s\tremaining: 11.2s\n",
      "83:\tlearn: 24984.0031665\ttotal: 1.03s\tremaining: 11.3s\n",
      "84:\tlearn: 24836.3735151\ttotal: 1.05s\tremaining: 11.3s\n",
      "85:\tlearn: 24667.8938094\ttotal: 1.06s\tremaining: 11.2s\n",
      "86:\tlearn: 24494.1918959\ttotal: 1.07s\tremaining: 11.2s\n",
      "87:\tlearn: 24323.7384977\ttotal: 1.08s\tremaining: 11.2s\n",
      "88:\tlearn: 24142.0964171\ttotal: 1.09s\tremaining: 11.2s\n",
      "89:\tlearn: 23961.0337379\ttotal: 1.11s\tremaining: 11.2s\n",
      "90:\tlearn: 23775.2651563\ttotal: 1.13s\tremaining: 11.3s\n",
      "91:\tlearn: 23620.4364849\ttotal: 1.14s\tremaining: 11.2s\n",
      "92:\tlearn: 23470.4936067\ttotal: 1.16s\tremaining: 11.3s\n",
      "93:\tlearn: 23318.7454642\ttotal: 1.17s\tremaining: 11.3s\n",
      "94:\tlearn: 23203.5074183\ttotal: 1.18s\tremaining: 11.2s\n",
      "95:\tlearn: 23066.6188043\ttotal: 1.19s\tremaining: 11.2s\n",
      "96:\tlearn: 22934.5328628\ttotal: 1.2s\tremaining: 11.2s\n",
      "97:\tlearn: 22757.2629128\ttotal: 1.21s\tremaining: 11.1s\n",
      "98:\tlearn: 22607.0307844\ttotal: 1.23s\tremaining: 11.2s\n",
      "99:\tlearn: 22479.6732751\ttotal: 1.24s\tremaining: 11.2s\n",
      "100:\tlearn: 22371.7089326\ttotal: 1.25s\tremaining: 11.2s\n",
      "101:\tlearn: 22248.3829827\ttotal: 1.26s\tremaining: 11.1s\n",
      "102:\tlearn: 22113.8650141\ttotal: 1.27s\tremaining: 11.1s\n",
      "103:\tlearn: 22004.8847999\ttotal: 1.29s\tremaining: 11.1s\n",
      "104:\tlearn: 21903.8479344\ttotal: 1.3s\tremaining: 11.1s\n",
      "105:\tlearn: 21762.6374122\ttotal: 1.31s\tremaining: 11s\n",
      "106:\tlearn: 21635.8087097\ttotal: 1.32s\tremaining: 11s\n",
      "107:\tlearn: 21501.8945252\ttotal: 1.33s\tremaining: 11s\n",
      "108:\tlearn: 21396.8178622\ttotal: 1.34s\tremaining: 11s\n",
      "109:\tlearn: 21284.4430512\ttotal: 1.36s\tremaining: 11s\n",
      "110:\tlearn: 21161.0799103\ttotal: 1.37s\tremaining: 11s\n",
      "111:\tlearn: 21064.9580583\ttotal: 1.39s\tremaining: 11s\n",
      "112:\tlearn: 20949.1951187\ttotal: 1.4s\tremaining: 11s\n",
      "113:\tlearn: 20828.8734100\ttotal: 1.42s\tremaining: 11s\n",
      "114:\tlearn: 20682.2511200\ttotal: 1.43s\tremaining: 11s\n",
      "115:\tlearn: 20605.5641873\ttotal: 1.44s\tremaining: 11s\n",
      "116:\tlearn: 20500.6436746\ttotal: 1.45s\tremaining: 10.9s\n",
      "117:\tlearn: 20408.6772393\ttotal: 1.46s\tremaining: 10.9s\n",
      "118:\tlearn: 20314.4565820\ttotal: 1.47s\tremaining: 10.9s\n",
      "119:\tlearn: 20233.1459841\ttotal: 1.48s\tremaining: 10.8s\n",
      "120:\tlearn: 20141.0006996\ttotal: 1.49s\tremaining: 10.8s\n",
      "121:\tlearn: 20033.6953293\ttotal: 1.49s\tremaining: 10.8s\n",
      "122:\tlearn: 19942.3559087\ttotal: 1.5s\tremaining: 10.7s\n",
      "123:\tlearn: 19819.4097283\ttotal: 1.51s\tremaining: 10.7s\n",
      "124:\tlearn: 19719.2475437\ttotal: 1.52s\tremaining: 10.7s\n",
      "125:\tlearn: 19633.1265549\ttotal: 1.53s\tremaining: 10.6s\n",
      "126:\tlearn: 19549.4596906\ttotal: 1.54s\tremaining: 10.6s\n",
      "127:\tlearn: 19472.4069578\ttotal: 1.55s\tremaining: 10.6s\n",
      "128:\tlearn: 19401.2914141\ttotal: 1.56s\tremaining: 10.6s\n",
      "129:\tlearn: 19304.4739849\ttotal: 1.58s\tremaining: 10.6s\n",
      "130:\tlearn: 19284.0436853\ttotal: 1.59s\tremaining: 10.6s\n",
      "131:\tlearn: 19179.7871811\ttotal: 1.61s\tremaining: 10.6s\n",
      "132:\tlearn: 19115.9882869\ttotal: 1.61s\tremaining: 10.5s\n",
      "133:\tlearn: 19039.0539571\ttotal: 1.62s\tremaining: 10.5s\n",
      "134:\tlearn: 18941.6674230\ttotal: 1.63s\tremaining: 10.5s\n",
      "135:\tlearn: 18866.9515051\ttotal: 1.64s\tremaining: 10.4s\n",
      "136:\tlearn: 18786.4230255\ttotal: 1.65s\tremaining: 10.4s\n",
      "137:\tlearn: 18703.4171710\ttotal: 1.66s\tremaining: 10.4s\n",
      "138:\tlearn: 18615.0898807\ttotal: 1.67s\tremaining: 10.4s\n",
      "139:\tlearn: 18531.5258177\ttotal: 1.68s\tremaining: 10.3s\n",
      "140:\tlearn: 18508.4318020\ttotal: 1.69s\tremaining: 10.3s\n",
      "141:\tlearn: 18409.6263729\ttotal: 1.7s\tremaining: 10.3s\n",
      "142:\tlearn: 18319.8653859\ttotal: 1.71s\tremaining: 10.2s\n",
      "143:\tlearn: 18237.6204252\ttotal: 1.72s\tremaining: 10.2s\n",
      "144:\tlearn: 18170.3347469\ttotal: 1.73s\tremaining: 10.2s\n",
      "145:\tlearn: 18102.7056582\ttotal: 1.74s\tremaining: 10.2s\n",
      "146:\tlearn: 18027.2014314\ttotal: 1.75s\tremaining: 10.2s\n",
      "147:\tlearn: 17958.8833544\ttotal: 1.77s\tremaining: 10.2s\n",
      "148:\tlearn: 17877.7515143\ttotal: 1.78s\tremaining: 10.2s\n",
      "149:\tlearn: 17809.9812392\ttotal: 1.79s\tremaining: 10.1s\n",
      "150:\tlearn: 17795.0909426\ttotal: 1.8s\tremaining: 10.1s\n",
      "151:\tlearn: 17736.7043881\ttotal: 1.81s\tremaining: 10.1s\n",
      "152:\tlearn: 17680.3373975\ttotal: 1.82s\tremaining: 10.1s\n",
      "153:\tlearn: 17647.1431059\ttotal: 1.83s\tremaining: 10.1s\n",
      "154:\tlearn: 17587.2064877\ttotal: 1.84s\tremaining: 10s\n",
      "155:\tlearn: 17535.3799927\ttotal: 1.85s\tremaining: 10s\n",
      "156:\tlearn: 17477.4849392\ttotal: 1.86s\tremaining: 9.98s\n",
      "157:\tlearn: 17440.2406059\ttotal: 1.87s\tremaining: 9.95s\n",
      "158:\tlearn: 17387.8290247\ttotal: 1.88s\tremaining: 9.93s\n",
      "159:\tlearn: 17333.1434315\ttotal: 1.89s\tremaining: 9.9s\n",
      "160:\tlearn: 17263.7749777\ttotal: 1.9s\tremaining: 9.89s\n",
      "161:\tlearn: 17212.6154788\ttotal: 1.91s\tremaining: 9.86s\n",
      "162:\tlearn: 17142.8481234\ttotal: 1.92s\tremaining: 9.84s\n"
     ]
    },
    {
     "name": "stdout",
     "output_type": "stream",
     "text": [
      "163:\tlearn: 17102.2280869\ttotal: 1.93s\tremaining: 9.82s\n",
      "164:\tlearn: 17044.3873550\ttotal: 1.94s\tremaining: 9.81s\n",
      "165:\tlearn: 17014.7092703\ttotal: 1.95s\tremaining: 9.79s\n",
      "166:\tlearn: 16967.7316402\ttotal: 1.96s\tremaining: 9.78s\n",
      "167:\tlearn: 16931.6964920\ttotal: 1.97s\tremaining: 9.76s\n",
      "168:\tlearn: 16865.1730418\ttotal: 1.98s\tremaining: 9.74s\n",
      "169:\tlearn: 16828.9904666\ttotal: 1.99s\tremaining: 9.71s\n",
      "170:\tlearn: 16783.8284613\ttotal: 2s\tremaining: 9.7s\n",
      "171:\tlearn: 16730.4320556\ttotal: 2.01s\tremaining: 9.69s\n",
      "172:\tlearn: 16657.3930164\ttotal: 2.02s\tremaining: 9.67s\n",
      "173:\tlearn: 16621.1248204\ttotal: 2.04s\tremaining: 9.66s\n",
      "174:\tlearn: 16562.2326492\ttotal: 2.05s\tremaining: 9.65s\n",
      "175:\tlearn: 16503.4974241\ttotal: 2.06s\tremaining: 9.63s\n",
      "176:\tlearn: 16459.9665916\ttotal: 2.07s\tremaining: 9.63s\n",
      "177:\tlearn: 16417.1965580\ttotal: 2.08s\tremaining: 9.61s\n",
      "178:\tlearn: 16385.1334872\ttotal: 2.09s\tremaining: 9.59s\n",
      "179:\tlearn: 16334.1290976\ttotal: 2.1s\tremaining: 9.59s\n",
      "180:\tlearn: 16287.7571761\ttotal: 2.12s\tremaining: 9.59s\n",
      "181:\tlearn: 16228.3168635\ttotal: 2.13s\tremaining: 9.57s\n",
      "182:\tlearn: 16191.1654288\ttotal: 2.14s\tremaining: 9.56s\n",
      "183:\tlearn: 16160.3491798\ttotal: 2.15s\tremaining: 9.54s\n",
      "184:\tlearn: 16112.2235153\ttotal: 2.16s\tremaining: 9.53s\n",
      "185:\tlearn: 16078.0272005\ttotal: 2.17s\tremaining: 9.52s\n",
      "186:\tlearn: 16043.8938972\ttotal: 2.19s\tremaining: 9.5s\n",
      "187:\tlearn: 15998.5020481\ttotal: 2.2s\tremaining: 9.49s\n",
      "188:\tlearn: 15955.6373569\ttotal: 2.21s\tremaining: 9.47s\n",
      "189:\tlearn: 15918.2241772\ttotal: 2.22s\tremaining: 9.46s\n",
      "190:\tlearn: 15874.6384086\ttotal: 2.23s\tremaining: 9.44s\n",
      "191:\tlearn: 15843.9963458\ttotal: 2.24s\tremaining: 9.43s\n",
      "192:\tlearn: 15795.4551505\ttotal: 2.25s\tremaining: 9.42s\n",
      "193:\tlearn: 15763.6202920\ttotal: 2.26s\tremaining: 9.4s\n",
      "194:\tlearn: 15708.5954513\ttotal: 2.27s\tremaining: 9.38s\n",
      "195:\tlearn: 15677.4104393\ttotal: 2.29s\tremaining: 9.38s\n",
      "196:\tlearn: 15640.5025106\ttotal: 2.3s\tremaining: 9.37s\n",
      "197:\tlearn: 15608.8170846\ttotal: 2.31s\tremaining: 9.38s\n",
      "198:\tlearn: 15575.7097926\ttotal: 2.33s\tremaining: 9.36s\n",
      "199:\tlearn: 15544.5104335\ttotal: 2.34s\tremaining: 9.35s\n",
      "200:\tlearn: 15504.8917872\ttotal: 2.35s\tremaining: 9.33s\n",
      "201:\tlearn: 15473.8279972\ttotal: 2.36s\tremaining: 9.32s\n",
      "202:\tlearn: 15456.5522116\ttotal: 2.37s\tremaining: 9.3s\n",
      "203:\tlearn: 15419.7887703\ttotal: 2.38s\tremaining: 9.29s\n",
      "204:\tlearn: 15373.3842027\ttotal: 2.39s\tremaining: 9.27s\n",
      "205:\tlearn: 15345.8486769\ttotal: 2.4s\tremaining: 9.26s\n",
      "206:\tlearn: 15331.0953455\ttotal: 2.41s\tremaining: 9.24s\n",
      "207:\tlearn: 15299.3970095\ttotal: 2.42s\tremaining: 9.23s\n",
      "208:\tlearn: 15263.4100071\ttotal: 2.43s\tremaining: 9.21s\n",
      "209:\tlearn: 15246.1432650\ttotal: 2.44s\tremaining: 9.19s\n",
      "210:\tlearn: 15224.4137889\ttotal: 2.46s\tremaining: 9.18s\n",
      "211:\tlearn: 15196.8950621\ttotal: 2.46s\tremaining: 9.16s\n",
      "212:\tlearn: 15160.9672414\ttotal: 2.47s\tremaining: 9.14s\n",
      "213:\tlearn: 15120.2328546\ttotal: 2.48s\tremaining: 9.13s\n",
      "214:\tlearn: 15086.8874481\ttotal: 2.49s\tremaining: 9.1s\n",
      "215:\tlearn: 15051.5406192\ttotal: 2.5s\tremaining: 9.08s\n",
      "216:\tlearn: 15018.5670437\ttotal: 2.51s\tremaining: 9.06s\n",
      "217:\tlearn: 14979.7367385\ttotal: 2.52s\tremaining: 9.05s\n",
      "218:\tlearn: 14949.6690463\ttotal: 2.53s\tremaining: 9.04s\n",
      "219:\tlearn: 14923.1954425\ttotal: 2.55s\tremaining: 9.04s\n",
      "220:\tlearn: 14893.8217785\ttotal: 2.56s\tremaining: 9.02s\n",
      "221:\tlearn: 14855.2761872\ttotal: 2.57s\tremaining: 9.01s\n",
      "222:\tlearn: 14835.3858115\ttotal: 2.58s\tremaining: 9s\n",
      "223:\tlearn: 14804.4542576\ttotal: 2.59s\tremaining: 8.99s\n",
      "224:\tlearn: 14782.8109437\ttotal: 2.6s\tremaining: 8.97s\n",
      "225:\tlearn: 14746.3779594\ttotal: 2.61s\tremaining: 8.95s\n",
      "226:\tlearn: 14714.7602138\ttotal: 2.62s\tremaining: 8.94s\n",
      "227:\tlearn: 14677.5295875\ttotal: 2.63s\tremaining: 8.92s\n",
      "228:\tlearn: 14647.5698829\ttotal: 2.64s\tremaining: 8.9s\n",
      "229:\tlearn: 14613.5526618\ttotal: 2.66s\tremaining: 8.9s\n",
      "230:\tlearn: 14592.7090719\ttotal: 2.67s\tremaining: 8.89s\n",
      "231:\tlearn: 14559.4205922\ttotal: 2.68s\tremaining: 8.88s\n",
      "232:\tlearn: 14543.2141842\ttotal: 2.7s\tremaining: 8.88s\n",
      "233:\tlearn: 14505.7553974\ttotal: 2.71s\tremaining: 8.86s\n",
      "234:\tlearn: 14471.2003376\ttotal: 2.72s\tremaining: 8.84s\n",
      "235:\tlearn: 14446.7885927\ttotal: 2.73s\tremaining: 8.82s\n",
      "236:\tlearn: 14405.2644242\ttotal: 2.73s\tremaining: 8.81s\n",
      "237:\tlearn: 14368.4675742\ttotal: 2.75s\tremaining: 8.8s\n",
      "238:\tlearn: 14333.0655367\ttotal: 2.77s\tremaining: 8.81s\n",
      "239:\tlearn: 14304.0689918\ttotal: 2.77s\tremaining: 8.79s\n",
      "240:\tlearn: 14263.2889160\ttotal: 2.78s\tremaining: 8.77s\n",
      "241:\tlearn: 14235.8353560\ttotal: 2.79s\tremaining: 8.75s\n",
      "242:\tlearn: 14217.7963188\ttotal: 2.8s\tremaining: 8.73s\n",
      "243:\tlearn: 14185.7503256\ttotal: 2.82s\tremaining: 8.73s\n",
      "244:\tlearn: 14148.4761154\ttotal: 2.83s\tremaining: 8.73s\n",
      "245:\tlearn: 14130.6025346\ttotal: 2.85s\tremaining: 8.73s\n",
      "246:\tlearn: 14101.9726477\ttotal: 2.86s\tremaining: 8.72s\n",
      "247:\tlearn: 14077.2515115\ttotal: 2.87s\tremaining: 8.71s\n",
      "248:\tlearn: 14054.1005938\ttotal: 2.9s\tremaining: 8.75s\n",
      "249:\tlearn: 14025.7792250\ttotal: 2.91s\tremaining: 8.74s\n",
      "250:\tlearn: 14000.2283013\ttotal: 2.92s\tremaining: 8.73s\n",
      "251:\tlearn: 13965.2261192\ttotal: 2.94s\tremaining: 8.71s\n",
      "252:\tlearn: 13937.0345693\ttotal: 2.95s\tremaining: 8.71s\n",
      "253:\tlearn: 13915.6895039\ttotal: 2.96s\tremaining: 8.7s\n",
      "254:\tlearn: 13884.3673188\ttotal: 2.97s\tremaining: 8.68s\n",
      "255:\tlearn: 13858.7743995\ttotal: 2.98s\tremaining: 8.66s\n",
      "256:\tlearn: 13823.2270985\ttotal: 2.99s\tremaining: 8.65s\n",
      "257:\tlearn: 13797.3112273\ttotal: 3s\tremaining: 8.63s\n",
      "258:\tlearn: 13779.1425499\ttotal: 3.01s\tremaining: 8.62s\n",
      "259:\tlearn: 13752.6238377\ttotal: 3.02s\tremaining: 8.6s\n",
      "260:\tlearn: 13722.3056017\ttotal: 3.03s\tremaining: 8.58s\n",
      "261:\tlearn: 13701.2164417\ttotal: 3.04s\tremaining: 8.56s\n",
      "262:\tlearn: 13679.9543043\ttotal: 3.05s\tremaining: 8.55s\n",
      "263:\tlearn: 13652.7022838\ttotal: 3.06s\tremaining: 8.54s\n",
      "264:\tlearn: 13624.2019787\ttotal: 3.07s\tremaining: 8.52s\n",
      "265:\tlearn: 13596.8029586\ttotal: 3.08s\tremaining: 8.5s\n",
      "266:\tlearn: 13563.5318092\ttotal: 3.09s\tremaining: 8.48s\n",
      "267:\tlearn: 13533.3898127\ttotal: 3.1s\tremaining: 8.46s\n",
      "268:\tlearn: 13507.3384498\ttotal: 3.11s\tremaining: 8.45s\n",
      "269:\tlearn: 13482.7975180\ttotal: 3.12s\tremaining: 8.43s\n",
      "270:\tlearn: 13455.8646141\ttotal: 3.13s\tremaining: 8.41s\n",
      "271:\tlearn: 13430.6201896\ttotal: 3.14s\tremaining: 8.39s\n",
      "272:\tlearn: 13402.4764082\ttotal: 3.15s\tremaining: 8.38s\n",
      "273:\tlearn: 13379.7246224\ttotal: 3.16s\tremaining: 8.37s\n",
      "274:\tlearn: 13345.0759174\ttotal: 3.17s\tremaining: 8.36s\n",
      "275:\tlearn: 13322.5744429\ttotal: 3.18s\tremaining: 8.35s\n",
      "276:\tlearn: 13306.3200308\ttotal: 3.19s\tremaining: 8.34s\n",
      "277:\tlearn: 13282.9323783\ttotal: 3.2s\tremaining: 8.32s\n",
      "278:\tlearn: 13264.4493998\ttotal: 3.21s\tremaining: 8.3s\n",
      "279:\tlearn: 13236.7484995\ttotal: 3.22s\tremaining: 8.28s\n",
      "280:\tlearn: 13208.8312342\ttotal: 3.23s\tremaining: 8.28s\n",
      "281:\tlearn: 13178.0448569\ttotal: 3.24s\tremaining: 8.26s\n",
      "282:\tlearn: 13164.5644134\ttotal: 3.25s\tremaining: 8.24s\n",
      "283:\tlearn: 13139.6849499\ttotal: 3.26s\tremaining: 8.23s\n",
      "284:\tlearn: 13113.9586672\ttotal: 3.27s\tremaining: 8.21s\n",
      "285:\tlearn: 13088.7527679\ttotal: 3.28s\tremaining: 8.2s\n",
      "286:\tlearn: 13071.3727099\ttotal: 3.29s\tremaining: 8.18s\n",
      "287:\tlearn: 13036.1917969\ttotal: 3.31s\tremaining: 8.17s\n",
      "288:\tlearn: 13021.3103192\ttotal: 3.32s\tremaining: 8.16s\n",
      "289:\tlearn: 12996.5487472\ttotal: 3.33s\tremaining: 8.14s\n",
      "290:\tlearn: 12977.3824762\ttotal: 3.34s\tremaining: 8.14s\n",
      "291:\tlearn: 12949.2539943\ttotal: 3.35s\tremaining: 8.13s\n",
      "292:\tlearn: 12935.3571232\ttotal: 3.36s\tremaining: 8.12s\n",
      "293:\tlearn: 12910.0544652\ttotal: 3.37s\tremaining: 8.1s\n",
      "294:\tlearn: 12882.5854939\ttotal: 3.38s\tremaining: 8.09s\n",
      "295:\tlearn: 12853.2609149\ttotal: 3.4s\tremaining: 8.08s\n",
      "296:\tlearn: 12836.2072673\ttotal: 3.41s\tremaining: 8.06s\n",
      "297:\tlearn: 12813.2330664\ttotal: 3.42s\tremaining: 8.05s\n",
      "298:\tlearn: 12797.3584152\ttotal: 3.43s\tremaining: 8.04s\n",
      "299:\tlearn: 12773.2676970\ttotal: 3.44s\tremaining: 8.02s\n",
      "300:\tlearn: 12746.3976468\ttotal: 3.45s\tremaining: 8s\n",
      "301:\tlearn: 12723.6261014\ttotal: 3.46s\tremaining: 7.99s\n",
      "302:\tlearn: 12697.6229679\ttotal: 3.46s\tremaining: 7.97s\n",
      "303:\tlearn: 12673.5057734\ttotal: 3.47s\tremaining: 7.96s\n",
      "304:\tlearn: 12647.9801167\ttotal: 3.48s\tremaining: 7.94s\n",
      "305:\tlearn: 12623.5030199\ttotal: 3.49s\tremaining: 7.92s\n",
      "306:\tlearn: 12599.1297282\ttotal: 3.5s\tremaining: 7.91s\n",
      "307:\tlearn: 12573.3930768\ttotal: 3.51s\tremaining: 7.9s\n",
      "308:\tlearn: 12545.9787636\ttotal: 3.53s\tremaining: 7.89s\n",
      "309:\tlearn: 12519.6327626\ttotal: 3.54s\tremaining: 7.87s\n",
      "310:\tlearn: 12490.0008186\ttotal: 3.55s\tremaining: 7.86s\n",
      "311:\tlearn: 12472.1918202\ttotal: 3.56s\tremaining: 7.84s\n",
      "312:\tlearn: 12450.0671863\ttotal: 3.57s\tremaining: 7.83s\n",
      "313:\tlearn: 12429.0785009\ttotal: 3.58s\tremaining: 7.81s\n",
      "314:\tlearn: 12413.8328242\ttotal: 3.58s\tremaining: 7.79s\n",
      "315:\tlearn: 12388.0376880\ttotal: 3.59s\tremaining: 7.78s\n",
      "316:\tlearn: 12368.2875009\ttotal: 3.6s\tremaining: 7.76s\n",
      "317:\tlearn: 12347.0096281\ttotal: 3.61s\tremaining: 7.74s\n",
      "318:\tlearn: 12337.9391680\ttotal: 3.62s\tremaining: 7.73s\n",
      "319:\tlearn: 12316.8386428\ttotal: 3.63s\tremaining: 7.71s\n",
      "320:\tlearn: 12296.1184806\ttotal: 3.64s\tremaining: 7.69s\n",
      "321:\tlearn: 12273.3265972\ttotal: 3.65s\tremaining: 7.67s\n",
      "322:\tlearn: 12252.8208475\ttotal: 3.65s\tremaining: 7.66s\n",
      "323:\tlearn: 12231.6625295\ttotal: 3.66s\tremaining: 7.64s\n",
      "324:\tlearn: 12205.5182803\ttotal: 3.67s\tremaining: 7.63s\n",
      "325:\tlearn: 12184.0585051\ttotal: 3.68s\tremaining: 7.61s\n"
     ]
    },
    {
     "name": "stdout",
     "output_type": "stream",
     "text": [
      "326:\tlearn: 12165.0123211\ttotal: 3.69s\tremaining: 7.6s\n",
      "327:\tlearn: 12141.7595460\ttotal: 3.71s\tremaining: 7.59s\n",
      "328:\tlearn: 12125.8446567\ttotal: 3.72s\tremaining: 7.58s\n",
      "329:\tlearn: 12096.0679627\ttotal: 3.73s\tremaining: 7.57s\n",
      "330:\tlearn: 12071.9943322\ttotal: 3.74s\tremaining: 7.55s\n",
      "331:\tlearn: 12056.3759140\ttotal: 3.75s\tremaining: 7.54s\n",
      "332:\tlearn: 12037.4102479\ttotal: 3.76s\tremaining: 7.53s\n",
      "333:\tlearn: 12016.1646497\ttotal: 3.77s\tremaining: 7.53s\n",
      "334:\tlearn: 11994.4345650\ttotal: 3.79s\tremaining: 7.52s\n",
      "335:\tlearn: 11971.8909968\ttotal: 3.8s\tremaining: 7.5s\n",
      "336:\tlearn: 11956.4139341\ttotal: 3.81s\tremaining: 7.49s\n",
      "337:\tlearn: 11931.3245448\ttotal: 3.81s\tremaining: 7.47s\n",
      "338:\tlearn: 11925.0336457\ttotal: 3.83s\tremaining: 7.46s\n",
      "339:\tlearn: 11911.1579362\ttotal: 3.83s\tremaining: 7.44s\n",
      "340:\tlearn: 11886.7128040\ttotal: 3.84s\tremaining: 7.43s\n",
      "341:\tlearn: 11868.8421446\ttotal: 3.85s\tremaining: 7.42s\n",
      "342:\tlearn: 11851.6885643\ttotal: 3.87s\tremaining: 7.41s\n",
      "343:\tlearn: 11825.9419350\ttotal: 3.88s\tremaining: 7.4s\n",
      "344:\tlearn: 11807.6120407\ttotal: 3.9s\tremaining: 7.4s\n",
      "345:\tlearn: 11782.8170602\ttotal: 3.9s\tremaining: 7.38s\n",
      "346:\tlearn: 11762.7096086\ttotal: 3.92s\tremaining: 7.37s\n",
      "347:\tlearn: 11743.7908571\ttotal: 3.92s\tremaining: 7.35s\n",
      "348:\tlearn: 11726.3319602\ttotal: 3.93s\tremaining: 7.34s\n",
      "349:\tlearn: 11701.2450375\ttotal: 3.94s\tremaining: 7.33s\n",
      "350:\tlearn: 11679.7001191\ttotal: 3.96s\tremaining: 7.31s\n",
      "351:\tlearn: 11671.5470653\ttotal: 3.96s\tremaining: 7.3s\n",
      "352:\tlearn: 11650.6155313\ttotal: 3.97s\tremaining: 7.28s\n",
      "353:\tlearn: 11631.2862365\ttotal: 3.98s\tremaining: 7.27s\n",
      "354:\tlearn: 11616.0550418\ttotal: 3.99s\tremaining: 7.25s\n",
      "355:\tlearn: 11598.0653982\ttotal: 4s\tremaining: 7.24s\n",
      "356:\tlearn: 11581.0987471\ttotal: 4.01s\tremaining: 7.22s\n",
      "357:\tlearn: 11554.7657369\ttotal: 4.02s\tremaining: 7.21s\n",
      "358:\tlearn: 11539.4341771\ttotal: 4.03s\tremaining: 7.2s\n",
      "359:\tlearn: 11523.8630467\ttotal: 4.04s\tremaining: 7.19s\n",
      "360:\tlearn: 11501.9577047\ttotal: 4.05s\tremaining: 7.18s\n",
      "361:\tlearn: 11490.0163066\ttotal: 4.07s\tremaining: 7.17s\n",
      "362:\tlearn: 11464.8447536\ttotal: 4.08s\tremaining: 7.16s\n",
      "363:\tlearn: 11447.9281487\ttotal: 4.09s\tremaining: 7.14s\n",
      "364:\tlearn: 11433.5461794\ttotal: 4.1s\tremaining: 7.13s\n",
      "365:\tlearn: 11417.3222473\ttotal: 4.11s\tremaining: 7.11s\n",
      "366:\tlearn: 11394.1289545\ttotal: 4.12s\tremaining: 7.1s\n",
      "367:\tlearn: 11378.2206010\ttotal: 4.12s\tremaining: 7.08s\n",
      "368:\tlearn: 11360.4834986\ttotal: 4.13s\tremaining: 7.07s\n",
      "369:\tlearn: 11344.6167934\ttotal: 4.14s\tremaining: 7.05s\n",
      "370:\tlearn: 11327.7584859\ttotal: 4.15s\tremaining: 7.04s\n",
      "371:\tlearn: 11309.3485673\ttotal: 4.16s\tremaining: 7.03s\n",
      "372:\tlearn: 11288.8824777\ttotal: 4.17s\tremaining: 7.01s\n",
      "373:\tlearn: 11269.8554026\ttotal: 4.18s\tremaining: 7s\n",
      "374:\tlearn: 11250.0274028\ttotal: 4.19s\tremaining: 6.99s\n",
      "375:\tlearn: 11240.1947607\ttotal: 4.2s\tremaining: 6.97s\n",
      "376:\tlearn: 11225.7622622\ttotal: 4.21s\tremaining: 6.96s\n",
      "377:\tlearn: 11206.8638285\ttotal: 4.22s\tremaining: 6.95s\n",
      "378:\tlearn: 11191.9429938\ttotal: 4.24s\tremaining: 6.94s\n",
      "379:\tlearn: 11172.8909167\ttotal: 4.25s\tremaining: 6.93s\n",
      "380:\tlearn: 11153.9419467\ttotal: 4.25s\tremaining: 6.91s\n",
      "381:\tlearn: 11138.0017705\ttotal: 4.26s\tremaining: 6.9s\n",
      "382:\tlearn: 11131.9894010\ttotal: 4.27s\tremaining: 6.88s\n",
      "383:\tlearn: 11111.9010573\ttotal: 4.29s\tremaining: 6.88s\n",
      "384:\tlearn: 11097.5988191\ttotal: 4.3s\tremaining: 6.88s\n",
      "385:\tlearn: 11084.0617129\ttotal: 4.32s\tremaining: 6.87s\n",
      "386:\tlearn: 11063.3869762\ttotal: 4.33s\tremaining: 6.86s\n",
      "387:\tlearn: 11051.9251011\ttotal: 4.34s\tremaining: 6.85s\n",
      "388:\tlearn: 11035.7651035\ttotal: 4.35s\tremaining: 6.84s\n",
      "389:\tlearn: 11020.1768357\ttotal: 4.36s\tremaining: 6.82s\n",
      "390:\tlearn: 11002.7276896\ttotal: 4.37s\tremaining: 6.81s\n",
      "391:\tlearn: 10986.6344815\ttotal: 4.38s\tremaining: 6.79s\n",
      "392:\tlearn: 10968.6062965\ttotal: 4.39s\tremaining: 6.78s\n",
      "393:\tlearn: 10955.2742464\ttotal: 4.4s\tremaining: 6.77s\n",
      "394:\tlearn: 10933.2542101\ttotal: 4.41s\tremaining: 6.76s\n",
      "395:\tlearn: 10917.8724859\ttotal: 4.43s\tremaining: 6.75s\n",
      "396:\tlearn: 10902.7479174\ttotal: 4.44s\tremaining: 6.74s\n",
      "397:\tlearn: 10898.1254177\ttotal: 4.45s\tremaining: 6.73s\n",
      "398:\tlearn: 10885.6374075\ttotal: 4.46s\tremaining: 6.71s\n",
      "399:\tlearn: 10867.9260231\ttotal: 4.47s\tremaining: 6.7s\n",
      "400:\tlearn: 10854.0870151\ttotal: 4.48s\tremaining: 6.69s\n",
      "401:\tlearn: 10833.6658502\ttotal: 4.49s\tremaining: 6.68s\n",
      "402:\tlearn: 10820.3781053\ttotal: 4.5s\tremaining: 6.67s\n",
      "403:\tlearn: 10806.1586805\ttotal: 4.51s\tremaining: 6.66s\n",
      "404:\tlearn: 10780.6168077\ttotal: 4.52s\tremaining: 6.65s\n",
      "405:\tlearn: 10761.6823936\ttotal: 4.54s\tremaining: 6.63s\n",
      "406:\tlearn: 10747.7301865\ttotal: 4.55s\tremaining: 6.62s\n",
      "407:\tlearn: 10733.1341137\ttotal: 4.56s\tremaining: 6.61s\n",
      "408:\tlearn: 10712.1627248\ttotal: 4.57s\tremaining: 6.6s\n",
      "409:\tlearn: 10696.4713385\ttotal: 4.58s\tremaining: 6.59s\n",
      "410:\tlearn: 10679.5072617\ttotal: 4.59s\tremaining: 6.58s\n",
      "411:\tlearn: 10663.6265948\ttotal: 4.6s\tremaining: 6.57s\n",
      "412:\tlearn: 10649.0200180\ttotal: 4.61s\tremaining: 6.55s\n",
      "413:\tlearn: 10635.6925105\ttotal: 4.62s\tremaining: 6.54s\n",
      "414:\tlearn: 10623.9430750\ttotal: 4.63s\tremaining: 6.53s\n",
      "415:\tlearn: 10610.4722906\ttotal: 4.64s\tremaining: 6.52s\n",
      "416:\tlearn: 10597.6228990\ttotal: 4.65s\tremaining: 6.5s\n",
      "417:\tlearn: 10581.7053110\ttotal: 4.66s\tremaining: 6.49s\n",
      "418:\tlearn: 10570.0472639\ttotal: 4.67s\tremaining: 6.48s\n",
      "419:\tlearn: 10552.6582611\ttotal: 4.68s\tremaining: 6.46s\n",
      "420:\tlearn: 10545.5625646\ttotal: 4.69s\tremaining: 6.45s\n",
      "421:\tlearn: 10528.9892726\ttotal: 4.7s\tremaining: 6.44s\n",
      "422:\tlearn: 10517.3312099\ttotal: 4.71s\tremaining: 6.43s\n",
      "423:\tlearn: 10504.7823725\ttotal: 4.72s\tremaining: 6.41s\n",
      "424:\tlearn: 10487.2538137\ttotal: 4.73s\tremaining: 6.4s\n",
      "425:\tlearn: 10471.2157943\ttotal: 4.74s\tremaining: 6.39s\n",
      "426:\tlearn: 10454.6846282\ttotal: 4.76s\tremaining: 6.38s\n",
      "427:\tlearn: 10437.8653672\ttotal: 4.77s\tremaining: 6.37s\n",
      "428:\tlearn: 10423.1016538\ttotal: 4.78s\tremaining: 6.36s\n",
      "429:\tlearn: 10404.5733297\ttotal: 4.79s\tremaining: 6.35s\n",
      "430:\tlearn: 10389.2107126\ttotal: 4.8s\tremaining: 6.34s\n",
      "431:\tlearn: 10374.5915149\ttotal: 4.81s\tremaining: 6.33s\n",
      "432:\tlearn: 10359.3483867\ttotal: 4.82s\tremaining: 6.31s\n",
      "433:\tlearn: 10352.9680760\ttotal: 4.83s\tremaining: 6.3s\n",
      "434:\tlearn: 10339.0272781\ttotal: 4.84s\tremaining: 6.28s\n",
      "435:\tlearn: 10323.6827489\ttotal: 4.85s\tremaining: 6.27s\n",
      "436:\tlearn: 10309.3001686\ttotal: 4.86s\tremaining: 6.25s\n",
      "437:\tlearn: 10299.1498194\ttotal: 4.86s\tremaining: 6.24s\n",
      "438:\tlearn: 10282.7672139\ttotal: 4.87s\tremaining: 6.23s\n",
      "439:\tlearn: 10272.5904287\ttotal: 4.88s\tremaining: 6.22s\n",
      "440:\tlearn: 10255.5127538\ttotal: 4.89s\tremaining: 6.2s\n",
      "441:\tlearn: 10234.4243473\ttotal: 4.9s\tremaining: 6.19s\n",
      "442:\tlearn: 10218.9787961\ttotal: 4.91s\tremaining: 6.18s\n",
      "443:\tlearn: 10201.1828224\ttotal: 4.93s\tremaining: 6.17s\n",
      "444:\tlearn: 10186.8585033\ttotal: 4.94s\tremaining: 6.16s\n",
      "445:\tlearn: 10168.5607901\ttotal: 4.95s\tremaining: 6.15s\n",
      "446:\tlearn: 10156.9047809\ttotal: 4.96s\tremaining: 6.14s\n",
      "447:\tlearn: 10143.1364488\ttotal: 4.97s\tremaining: 6.13s\n",
      "448:\tlearn: 10130.3847798\ttotal: 4.98s\tremaining: 6.11s\n",
      "449:\tlearn: 10113.6267788\ttotal: 4.99s\tremaining: 6.1s\n",
      "450:\tlearn: 10099.5097507\ttotal: 5s\tremaining: 6.08s\n",
      "451:\tlearn: 10084.3262692\ttotal: 5.01s\tremaining: 6.07s\n",
      "452:\tlearn: 10067.7060254\ttotal: 5.02s\tremaining: 6.06s\n",
      "453:\tlearn: 10054.2574551\ttotal: 5.03s\tremaining: 6.04s\n",
      "454:\tlearn: 10041.8140583\ttotal: 5.03s\tremaining: 6.03s\n",
      "455:\tlearn: 10023.0055551\ttotal: 5.04s\tremaining: 6.02s\n",
      "456:\tlearn: 10006.8222998\ttotal: 5.05s\tremaining: 6s\n",
      "457:\tlearn: 9993.0944196\ttotal: 5.06s\tremaining: 5.99s\n",
      "458:\tlearn: 9978.7204201\ttotal: 5.07s\tremaining: 5.97s\n",
      "459:\tlearn: 9964.4423024\ttotal: 5.08s\tremaining: 5.96s\n",
      "460:\tlearn: 9946.4409635\ttotal: 5.09s\tremaining: 5.95s\n",
      "461:\tlearn: 9934.9527525\ttotal: 5.1s\tremaining: 5.94s\n",
      "462:\tlearn: 9927.7063459\ttotal: 5.11s\tremaining: 5.93s\n",
      "463:\tlearn: 9917.7151118\ttotal: 5.12s\tremaining: 5.92s\n",
      "464:\tlearn: 9904.8182801\ttotal: 5.14s\tremaining: 5.91s\n",
      "465:\tlearn: 9896.4150921\ttotal: 5.15s\tremaining: 5.9s\n",
      "466:\tlearn: 9881.0062123\ttotal: 5.16s\tremaining: 5.88s\n",
      "467:\tlearn: 9872.0012844\ttotal: 5.16s\tremaining: 5.87s\n",
      "468:\tlearn: 9859.9224561\ttotal: 5.17s\tremaining: 5.86s\n",
      "469:\tlearn: 9848.2490574\ttotal: 5.18s\tremaining: 5.84s\n",
      "470:\tlearn: 9834.9257198\ttotal: 5.19s\tremaining: 5.83s\n",
      "471:\tlearn: 9818.9366270\ttotal: 5.2s\tremaining: 5.82s\n",
      "472:\tlearn: 9812.0247561\ttotal: 5.21s\tremaining: 5.81s\n",
      "473:\tlearn: 9797.6611695\ttotal: 5.22s\tremaining: 5.8s\n",
      "474:\tlearn: 9784.7763369\ttotal: 5.23s\tremaining: 5.79s\n",
      "475:\tlearn: 9782.5538574\ttotal: 5.24s\tremaining: 5.77s\n",
      "476:\tlearn: 9767.9999761\ttotal: 5.25s\tremaining: 5.76s\n",
      "477:\tlearn: 9764.4241839\ttotal: 5.26s\tremaining: 5.75s\n",
      "478:\tlearn: 9751.3143414\ttotal: 5.27s\tremaining: 5.73s\n"
     ]
    },
    {
     "name": "stdout",
     "output_type": "stream",
     "text": [
      "479:\tlearn: 9736.7429608\ttotal: 5.28s\tremaining: 5.72s\n",
      "480:\tlearn: 9725.7257255\ttotal: 5.29s\tremaining: 5.71s\n",
      "481:\tlearn: 9718.6525042\ttotal: 5.31s\tremaining: 5.7s\n",
      "482:\tlearn: 9704.1278442\ttotal: 5.32s\tremaining: 5.69s\n",
      "483:\tlearn: 9690.2623963\ttotal: 5.33s\tremaining: 5.68s\n",
      "484:\tlearn: 9678.0768274\ttotal: 5.34s\tremaining: 5.67s\n",
      "485:\tlearn: 9662.7024497\ttotal: 5.35s\tremaining: 5.65s\n",
      "486:\tlearn: 9650.6268501\ttotal: 5.36s\tremaining: 5.64s\n",
      "487:\tlearn: 9641.1574284\ttotal: 5.36s\tremaining: 5.63s\n",
      "488:\tlearn: 9628.2163217\ttotal: 5.37s\tremaining: 5.62s\n",
      "489:\tlearn: 9619.0263646\ttotal: 5.38s\tremaining: 5.6s\n",
      "490:\tlearn: 9611.0242367\ttotal: 5.39s\tremaining: 5.59s\n",
      "491:\tlearn: 9596.8450081\ttotal: 5.4s\tremaining: 5.58s\n",
      "492:\tlearn: 9587.2074626\ttotal: 5.41s\tremaining: 5.56s\n",
      "493:\tlearn: 9575.9314739\ttotal: 5.42s\tremaining: 5.55s\n",
      "494:\tlearn: 9573.0322721\ttotal: 5.43s\tremaining: 5.54s\n",
      "495:\tlearn: 9562.2871735\ttotal: 5.44s\tremaining: 5.52s\n",
      "496:\tlearn: 9549.7376550\ttotal: 5.45s\tremaining: 5.51s\n",
      "497:\tlearn: 9538.9443243\ttotal: 5.46s\tremaining: 5.5s\n",
      "498:\tlearn: 9532.1990341\ttotal: 5.47s\tremaining: 5.49s\n",
      "499:\tlearn: 9521.3677557\ttotal: 5.48s\tremaining: 5.48s\n",
      "500:\tlearn: 9505.1499411\ttotal: 5.49s\tremaining: 5.47s\n",
      "501:\tlearn: 9490.8621581\ttotal: 5.5s\tremaining: 5.46s\n",
      "502:\tlearn: 9478.3248691\ttotal: 5.51s\tremaining: 5.45s\n",
      "503:\tlearn: 9466.6608286\ttotal: 5.52s\tremaining: 5.43s\n",
      "504:\tlearn: 9453.2660077\ttotal: 5.53s\tremaining: 5.42s\n",
      "505:\tlearn: 9441.6305260\ttotal: 5.54s\tremaining: 5.41s\n",
      "506:\tlearn: 9429.8386213\ttotal: 5.55s\tremaining: 5.4s\n",
      "507:\tlearn: 9421.7317885\ttotal: 5.56s\tremaining: 5.38s\n",
      "508:\tlearn: 9408.8993302\ttotal: 5.57s\tremaining: 5.37s\n",
      "509:\tlearn: 9407.4791909\ttotal: 5.58s\tremaining: 5.36s\n",
      "510:\tlearn: 9394.6903957\ttotal: 5.58s\tremaining: 5.34s\n",
      "511:\tlearn: 9386.0143738\ttotal: 5.6s\tremaining: 5.33s\n",
      "512:\tlearn: 9374.5289395\ttotal: 5.61s\tremaining: 5.32s\n",
      "513:\tlearn: 9359.5931255\ttotal: 5.61s\tremaining: 5.31s\n",
      "514:\tlearn: 9340.6419272\ttotal: 5.62s\tremaining: 5.29s\n",
      "515:\tlearn: 9330.3882491\ttotal: 5.64s\tremaining: 5.29s\n",
      "516:\tlearn: 9317.0819725\ttotal: 5.65s\tremaining: 5.28s\n",
      "517:\tlearn: 9307.0878402\ttotal: 5.66s\tremaining: 5.27s\n",
      "518:\tlearn: 9289.3491509\ttotal: 5.67s\tremaining: 5.25s\n",
      "519:\tlearn: 9276.4751268\ttotal: 5.68s\tremaining: 5.24s\n",
      "520:\tlearn: 9261.1489062\ttotal: 5.69s\tremaining: 5.23s\n",
      "521:\tlearn: 9252.5223692\ttotal: 5.7s\tremaining: 5.22s\n",
      "522:\tlearn: 9243.5113836\ttotal: 5.71s\tremaining: 5.21s\n",
      "523:\tlearn: 9221.7068064\ttotal: 5.72s\tremaining: 5.19s\n",
      "524:\tlearn: 9207.6896508\ttotal: 5.72s\tremaining: 5.18s\n",
      "525:\tlearn: 9195.9753749\ttotal: 5.73s\tremaining: 5.17s\n",
      "526:\tlearn: 9182.9620527\ttotal: 5.74s\tremaining: 5.16s\n",
      "527:\tlearn: 9173.5154407\ttotal: 5.75s\tremaining: 5.14s\n",
      "528:\tlearn: 9164.5894392\ttotal: 5.76s\tremaining: 5.13s\n",
      "529:\tlearn: 9152.5568482\ttotal: 5.77s\tremaining: 5.12s\n",
      "530:\tlearn: 9144.1482103\ttotal: 5.78s\tremaining: 5.1s\n",
      "531:\tlearn: 9140.7845612\ttotal: 5.79s\tremaining: 5.09s\n",
      "532:\tlearn: 9128.5601815\ttotal: 5.8s\tremaining: 5.08s\n",
      "533:\tlearn: 9125.9820045\ttotal: 5.81s\tremaining: 5.07s\n",
      "534:\tlearn: 9114.1023414\ttotal: 5.82s\tremaining: 5.06s\n",
      "535:\tlearn: 9111.9044573\ttotal: 5.84s\tremaining: 5.05s\n",
      "536:\tlearn: 9109.1031677\ttotal: 5.85s\tremaining: 5.04s\n",
      "537:\tlearn: 9097.7833417\ttotal: 5.86s\tremaining: 5.03s\n",
      "538:\tlearn: 9083.9789263\ttotal: 5.87s\tremaining: 5.02s\n",
      "539:\tlearn: 9075.6257451\ttotal: 5.87s\tremaining: 5s\n",
      "540:\tlearn: 9062.7597896\ttotal: 5.88s\tremaining: 4.99s\n",
      "541:\tlearn: 9046.3956179\ttotal: 5.89s\tremaining: 4.98s\n",
      "542:\tlearn: 9034.4096568\ttotal: 5.9s\tremaining: 4.97s\n",
      "543:\tlearn: 9024.9422757\ttotal: 5.91s\tremaining: 4.96s\n",
      "544:\tlearn: 9013.2583729\ttotal: 5.92s\tremaining: 4.94s\n",
      "545:\tlearn: 9003.1868473\ttotal: 5.93s\tremaining: 4.93s\n",
      "546:\tlearn: 8992.1864899\ttotal: 5.94s\tremaining: 4.92s\n",
      "547:\tlearn: 8979.2952795\ttotal: 5.95s\tremaining: 4.91s\n",
      "548:\tlearn: 8967.0114093\ttotal: 5.96s\tremaining: 4.9s\n",
      "549:\tlearn: 8955.1156648\ttotal: 5.97s\tremaining: 4.88s\n",
      "550:\tlearn: 8945.4446463\ttotal: 5.98s\tremaining: 4.88s\n",
      "551:\tlearn: 8940.4583448\ttotal: 6s\tremaining: 4.87s\n",
      "552:\tlearn: 8930.4620115\ttotal: 6.01s\tremaining: 4.86s\n",
      "553:\tlearn: 8920.9025043\ttotal: 6.02s\tremaining: 4.84s\n",
      "554:\tlearn: 8909.1989981\ttotal: 6.03s\tremaining: 4.83s\n",
      "555:\tlearn: 8891.7035950\ttotal: 6.04s\tremaining: 4.82s\n",
      "556:\tlearn: 8881.4440421\ttotal: 6.04s\tremaining: 4.81s\n",
      "557:\tlearn: 8870.7612669\ttotal: 6.05s\tremaining: 4.79s\n",
      "558:\tlearn: 8862.7918102\ttotal: 6.06s\tremaining: 4.78s\n",
      "559:\tlearn: 8853.9880750\ttotal: 6.07s\tremaining: 4.77s\n",
      "560:\tlearn: 8852.2257049\ttotal: 6.08s\tremaining: 4.76s\n",
      "561:\tlearn: 8850.3318549\ttotal: 6.09s\tremaining: 4.74s\n",
      "562:\tlearn: 8842.4547260\ttotal: 6.1s\tremaining: 4.73s\n",
      "563:\tlearn: 8837.2569219\ttotal: 6.11s\tremaining: 4.72s\n",
      "564:\tlearn: 8829.9504770\ttotal: 6.11s\tremaining: 4.71s\n",
      "565:\tlearn: 8819.6473927\ttotal: 6.12s\tremaining: 4.7s\n",
      "566:\tlearn: 8811.0267632\ttotal: 6.13s\tremaining: 4.68s\n",
      "567:\tlearn: 8803.5960579\ttotal: 6.14s\tremaining: 4.67s\n",
      "568:\tlearn: 8797.5632190\ttotal: 6.15s\tremaining: 4.66s\n",
      "569:\tlearn: 8785.8972617\ttotal: 6.16s\tremaining: 4.65s\n",
      "570:\tlearn: 8774.4812221\ttotal: 6.17s\tremaining: 4.64s\n",
      "571:\tlearn: 8772.7906559\ttotal: 6.19s\tremaining: 4.63s\n",
      "572:\tlearn: 8762.6511814\ttotal: 6.2s\tremaining: 4.62s\n",
      "573:\tlearn: 8753.3478435\ttotal: 6.21s\tremaining: 4.61s\n",
      "574:\tlearn: 8742.1314358\ttotal: 6.21s\tremaining: 4.59s\n",
      "575:\tlearn: 8740.5973378\ttotal: 6.22s\tremaining: 4.58s\n",
      "576:\tlearn: 8727.5298841\ttotal: 6.23s\tremaining: 4.57s\n",
      "577:\tlearn: 8714.3773284\ttotal: 6.24s\tremaining: 4.56s\n",
      "578:\tlearn: 8704.5559072\ttotal: 6.25s\tremaining: 4.54s\n",
      "579:\tlearn: 8692.7969928\ttotal: 6.26s\tremaining: 4.53s\n",
      "580:\tlearn: 8683.7617631\ttotal: 6.27s\tremaining: 4.52s\n",
      "581:\tlearn: 8671.1094793\ttotal: 6.28s\tremaining: 4.51s\n",
      "582:\tlearn: 8659.2221421\ttotal: 6.29s\tremaining: 4.5s\n",
      "583:\tlearn: 8648.8401327\ttotal: 6.29s\tremaining: 4.48s\n",
      "584:\tlearn: 8646.1698324\ttotal: 6.3s\tremaining: 4.47s\n",
      "585:\tlearn: 8634.4864538\ttotal: 6.31s\tremaining: 4.46s\n",
      "586:\tlearn: 8626.5955726\ttotal: 6.32s\tremaining: 4.45s\n",
      "587:\tlearn: 8614.7078513\ttotal: 6.34s\tremaining: 4.44s\n",
      "588:\tlearn: 8605.7260447\ttotal: 6.35s\tremaining: 4.43s\n",
      "589:\tlearn: 8593.9659572\ttotal: 6.36s\tremaining: 4.42s\n",
      "590:\tlearn: 8583.0271740\ttotal: 6.37s\tremaining: 4.41s\n",
      "591:\tlearn: 8572.5091780\ttotal: 6.39s\tremaining: 4.4s\n",
      "592:\tlearn: 8564.3941647\ttotal: 6.4s\tremaining: 4.39s\n",
      "593:\tlearn: 8556.2158001\ttotal: 6.42s\tremaining: 4.38s\n",
      "594:\tlearn: 8550.3275488\ttotal: 6.43s\tremaining: 4.37s\n",
      "595:\tlearn: 8542.1995291\ttotal: 6.45s\tremaining: 4.37s\n",
      "596:\tlearn: 8531.6002072\ttotal: 6.47s\tremaining: 4.37s\n",
      "597:\tlearn: 8517.6263313\ttotal: 6.48s\tremaining: 4.35s\n",
      "598:\tlearn: 8507.1966332\ttotal: 6.49s\tremaining: 4.34s\n",
      "599:\tlearn: 8497.4637306\ttotal: 6.5s\tremaining: 4.33s\n",
      "600:\tlearn: 8487.9782688\ttotal: 6.51s\tremaining: 4.32s\n",
      "601:\tlearn: 8479.5273764\ttotal: 6.52s\tremaining: 4.31s\n",
      "602:\tlearn: 8477.1549265\ttotal: 6.53s\tremaining: 4.3s\n",
      "603:\tlearn: 8460.9767506\ttotal: 6.54s\tremaining: 4.29s\n",
      "604:\tlearn: 8452.1019763\ttotal: 6.55s\tremaining: 4.28s\n",
      "605:\tlearn: 8443.3601910\ttotal: 6.56s\tremaining: 4.27s\n",
      "606:\tlearn: 8430.8311902\ttotal: 6.57s\tremaining: 4.26s\n",
      "607:\tlearn: 8418.5360557\ttotal: 6.58s\tremaining: 4.24s\n",
      "608:\tlearn: 8403.5317633\ttotal: 6.6s\tremaining: 4.24s\n",
      "609:\tlearn: 8395.0546529\ttotal: 6.61s\tremaining: 4.22s\n",
      "610:\tlearn: 8387.1265426\ttotal: 6.62s\tremaining: 4.21s\n",
      "611:\tlearn: 8379.6565956\ttotal: 6.63s\tremaining: 4.2s\n",
      "612:\tlearn: 8377.8174251\ttotal: 6.64s\tremaining: 4.19s\n",
      "613:\tlearn: 8373.7790169\ttotal: 6.65s\tremaining: 4.18s\n",
      "614:\tlearn: 8369.4665330\ttotal: 6.66s\tremaining: 4.17s\n",
      "615:\tlearn: 8358.7088593\ttotal: 6.67s\tremaining: 4.16s\n",
      "616:\tlearn: 8351.2898030\ttotal: 6.69s\tremaining: 4.15s\n",
      "617:\tlearn: 8343.9785474\ttotal: 6.7s\tremaining: 4.14s\n",
      "618:\tlearn: 8330.2535288\ttotal: 6.72s\tremaining: 4.13s\n",
      "619:\tlearn: 8321.0221978\ttotal: 6.73s\tremaining: 4.13s\n",
      "620:\tlearn: 8311.6487235\ttotal: 6.74s\tremaining: 4.11s\n",
      "621:\tlearn: 8300.8273186\ttotal: 6.75s\tremaining: 4.1s\n",
      "622:\tlearn: 8289.8594193\ttotal: 6.76s\tremaining: 4.09s\n",
      "623:\tlearn: 8282.2768241\ttotal: 6.78s\tremaining: 4.08s\n",
      "624:\tlearn: 8268.7634092\ttotal: 6.79s\tremaining: 4.07s\n",
      "625:\tlearn: 8265.6498105\ttotal: 6.8s\tremaining: 4.06s\n",
      "626:\tlearn: 8264.2157546\ttotal: 6.81s\tremaining: 4.05s\n",
      "627:\tlearn: 8253.2267503\ttotal: 6.82s\tremaining: 4.04s\n",
      "628:\tlearn: 8251.1631004\ttotal: 6.84s\tremaining: 4.03s\n",
      "629:\tlearn: 8242.7821619\ttotal: 6.85s\tremaining: 4.02s\n",
      "630:\tlearn: 8230.3055022\ttotal: 6.86s\tremaining: 4.01s\n"
     ]
    },
    {
     "name": "stdout",
     "output_type": "stream",
     "text": [
      "631:\tlearn: 8221.1109456\ttotal: 6.87s\tremaining: 4s\n",
      "632:\tlearn: 8219.5635624\ttotal: 6.88s\tremaining: 3.99s\n",
      "633:\tlearn: 8208.6903439\ttotal: 6.89s\tremaining: 3.98s\n",
      "634:\tlearn: 8197.1713042\ttotal: 6.9s\tremaining: 3.97s\n",
      "635:\tlearn: 8195.2331269\ttotal: 6.91s\tremaining: 3.96s\n",
      "636:\tlearn: 8189.3636097\ttotal: 6.93s\tremaining: 3.95s\n",
      "637:\tlearn: 8188.0181548\ttotal: 6.94s\tremaining: 3.94s\n",
      "638:\tlearn: 8178.3299656\ttotal: 6.95s\tremaining: 3.92s\n",
      "639:\tlearn: 8170.4636783\ttotal: 6.96s\tremaining: 3.91s\n",
      "640:\tlearn: 8160.9751059\ttotal: 6.96s\tremaining: 3.9s\n",
      "641:\tlearn: 8155.1355068\ttotal: 6.98s\tremaining: 3.89s\n",
      "642:\tlearn: 8143.9973511\ttotal: 6.99s\tremaining: 3.88s\n",
      "643:\tlearn: 8135.6679627\ttotal: 7s\tremaining: 3.87s\n",
      "644:\tlearn: 8120.6970873\ttotal: 7.01s\tremaining: 3.86s\n",
      "645:\tlearn: 8113.1138223\ttotal: 7.02s\tremaining: 3.85s\n",
      "646:\tlearn: 8105.1860756\ttotal: 7.03s\tremaining: 3.84s\n",
      "647:\tlearn: 8097.9563325\ttotal: 7.05s\tremaining: 3.83s\n",
      "648:\tlearn: 8091.6281810\ttotal: 7.06s\tremaining: 3.82s\n",
      "649:\tlearn: 8083.2840054\ttotal: 7.07s\tremaining: 3.81s\n",
      "650:\tlearn: 8076.2386596\ttotal: 7.08s\tremaining: 3.79s\n",
      "651:\tlearn: 8065.2800954\ttotal: 7.09s\tremaining: 3.78s\n",
      "652:\tlearn: 8055.1659603\ttotal: 7.1s\tremaining: 3.77s\n",
      "653:\tlearn: 8046.8031193\ttotal: 7.11s\tremaining: 3.76s\n",
      "654:\tlearn: 8036.3145999\ttotal: 7.12s\tremaining: 3.75s\n",
      "655:\tlearn: 8027.9000619\ttotal: 7.13s\tremaining: 3.74s\n",
      "656:\tlearn: 8021.7987994\ttotal: 7.14s\tremaining: 3.73s\n",
      "657:\tlearn: 8014.6679453\ttotal: 7.15s\tremaining: 3.72s\n",
      "658:\tlearn: 8008.6130539\ttotal: 7.16s\tremaining: 3.71s\n",
      "659:\tlearn: 7993.3179009\ttotal: 7.17s\tremaining: 3.69s\n",
      "660:\tlearn: 7983.8104163\ttotal: 7.18s\tremaining: 3.68s\n",
      "661:\tlearn: 7973.3015455\ttotal: 7.19s\tremaining: 3.67s\n",
      "662:\tlearn: 7965.0210582\ttotal: 7.2s\tremaining: 3.66s\n",
      "663:\tlearn: 7957.4760525\ttotal: 7.22s\tremaining: 3.65s\n",
      "664:\tlearn: 7949.9575050\ttotal: 7.26s\tremaining: 3.66s\n",
      "665:\tlearn: 7940.1900174\ttotal: 7.27s\tremaining: 3.65s\n",
      "666:\tlearn: 7932.1479894\ttotal: 7.28s\tremaining: 3.64s\n",
      "667:\tlearn: 7922.4870559\ttotal: 7.29s\tremaining: 3.63s\n",
      "668:\tlearn: 7918.1340455\ttotal: 7.3s\tremaining: 3.61s\n",
      "669:\tlearn: 7910.9424217\ttotal: 7.31s\tremaining: 3.6s\n",
      "670:\tlearn: 7902.3987324\ttotal: 7.32s\tremaining: 3.59s\n",
      "671:\tlearn: 7901.3157430\ttotal: 7.33s\tremaining: 3.58s\n",
      "672:\tlearn: 7892.4339908\ttotal: 7.34s\tremaining: 3.57s\n",
      "673:\tlearn: 7886.0154343\ttotal: 7.35s\tremaining: 3.55s\n",
      "674:\tlearn: 7878.8551154\ttotal: 7.36s\tremaining: 3.54s\n",
      "675:\tlearn: 7878.0104667\ttotal: 7.37s\tremaining: 3.53s\n",
      "676:\tlearn: 7872.4955042\ttotal: 7.38s\tremaining: 3.52s\n",
      "677:\tlearn: 7864.3526201\ttotal: 7.38s\tremaining: 3.51s\n",
      "678:\tlearn: 7853.7944457\ttotal: 7.39s\tremaining: 3.5s\n",
      "679:\tlearn: 7852.7042029\ttotal: 7.4s\tremaining: 3.48s\n",
      "680:\tlearn: 7846.6373608\ttotal: 7.42s\tremaining: 3.48s\n",
      "681:\tlearn: 7842.8749974\ttotal: 7.44s\tremaining: 3.47s\n",
      "682:\tlearn: 7835.6724012\ttotal: 7.45s\tremaining: 3.46s\n",
      "683:\tlearn: 7823.7275680\ttotal: 7.46s\tremaining: 3.44s\n",
      "684:\tlearn: 7815.4145239\ttotal: 7.47s\tremaining: 3.43s\n",
      "685:\tlearn: 7807.5852615\ttotal: 7.48s\tremaining: 3.42s\n",
      "686:\tlearn: 7806.5735852\ttotal: 7.49s\tremaining: 3.41s\n",
      "687:\tlearn: 7805.6985744\ttotal: 7.5s\tremaining: 3.4s\n",
      "688:\tlearn: 7793.8822721\ttotal: 7.5s\tremaining: 3.39s\n",
      "689:\tlearn: 7793.0251601\ttotal: 7.51s\tremaining: 3.38s\n",
      "690:\tlearn: 7792.0704089\ttotal: 7.52s\tremaining: 3.36s\n",
      "691:\tlearn: 7786.8501099\ttotal: 7.53s\tremaining: 3.35s\n",
      "692:\tlearn: 7778.1357885\ttotal: 7.54s\tremaining: 3.34s\n",
      "693:\tlearn: 7777.0938091\ttotal: 7.55s\tremaining: 3.33s\n",
      "694:\tlearn: 7772.5045937\ttotal: 7.56s\tremaining: 3.32s\n",
      "695:\tlearn: 7763.8772658\ttotal: 7.57s\tremaining: 3.31s\n",
      "696:\tlearn: 7754.4643933\ttotal: 7.58s\tremaining: 3.29s\n",
      "697:\tlearn: 7746.1173275\ttotal: 7.59s\tremaining: 3.28s\n",
      "698:\tlearn: 7745.1959462\ttotal: 7.6s\tremaining: 3.27s\n",
      "699:\tlearn: 7739.4943564\ttotal: 7.61s\tremaining: 3.26s\n",
      "700:\tlearn: 7731.4396490\ttotal: 7.62s\tremaining: 3.25s\n",
      "701:\tlearn: 7730.6968367\ttotal: 7.63s\tremaining: 3.24s\n",
      "702:\tlearn: 7719.8076566\ttotal: 7.64s\tremaining: 3.23s\n",
      "703:\tlearn: 7717.7408224\ttotal: 7.65s\tremaining: 3.22s\n",
      "704:\tlearn: 7707.6114687\ttotal: 7.66s\tremaining: 3.21s\n",
      "705:\tlearn: 7699.4484684\ttotal: 7.67s\tremaining: 3.2s\n",
      "706:\tlearn: 7691.8711186\ttotal: 7.68s\tremaining: 3.19s\n",
      "707:\tlearn: 7690.9981443\ttotal: 7.7s\tremaining: 3.17s\n",
      "708:\tlearn: 7682.2370780\ttotal: 7.71s\tremaining: 3.16s\n",
      "709:\tlearn: 7675.8703764\ttotal: 7.72s\tremaining: 3.15s\n",
      "710:\tlearn: 7664.3719621\ttotal: 7.73s\tremaining: 3.14s\n",
      "711:\tlearn: 7655.3596696\ttotal: 7.74s\tremaining: 3.13s\n",
      "712:\tlearn: 7645.2244998\ttotal: 7.75s\tremaining: 3.12s\n",
      "713:\tlearn: 7638.3683608\ttotal: 7.75s\tremaining: 3.11s\n",
      "714:\tlearn: 7632.4550870\ttotal: 7.77s\tremaining: 3.1s\n",
      "715:\tlearn: 7624.7256029\ttotal: 7.78s\tremaining: 3.09s\n",
      "716:\tlearn: 7618.0519984\ttotal: 7.8s\tremaining: 3.08s\n",
      "717:\tlearn: 7609.8014292\ttotal: 7.81s\tremaining: 3.07s\n",
      "718:\tlearn: 7605.8855564\ttotal: 7.82s\tremaining: 3.06s\n",
      "719:\tlearn: 7604.9625761\ttotal: 7.84s\tremaining: 3.05s\n",
      "720:\tlearn: 7594.1969715\ttotal: 7.86s\tremaining: 3.04s\n",
      "721:\tlearn: 7593.2888126\ttotal: 7.87s\tremaining: 3.03s\n",
      "722:\tlearn: 7586.3811078\ttotal: 7.88s\tremaining: 3.02s\n",
      "723:\tlearn: 7577.3723241\ttotal: 7.89s\tremaining: 3.01s\n",
      "724:\tlearn: 7566.4350418\ttotal: 7.9s\tremaining: 3s\n",
      "725:\tlearn: 7565.6534491\ttotal: 7.92s\tremaining: 2.99s\n",
      "726:\tlearn: 7560.2968976\ttotal: 7.94s\tremaining: 2.98s\n",
      "727:\tlearn: 7553.5724817\ttotal: 7.96s\tremaining: 2.97s\n",
      "728:\tlearn: 7551.5029296\ttotal: 7.98s\tremaining: 2.97s\n",
      "729:\tlearn: 7544.3848743\ttotal: 7.99s\tremaining: 2.95s\n",
      "730:\tlearn: 7538.8071887\ttotal: 8s\tremaining: 2.94s\n",
      "731:\tlearn: 7532.1204751\ttotal: 8.02s\tremaining: 2.94s\n",
      "732:\tlearn: 7526.8468331\ttotal: 8.03s\tremaining: 2.92s\n",
      "733:\tlearn: 7513.6644935\ttotal: 8.04s\tremaining: 2.91s\n",
      "734:\tlearn: 7512.9106593\ttotal: 8.05s\tremaining: 2.9s\n",
      "735:\tlearn: 7501.0287554\ttotal: 8.06s\tremaining: 2.89s\n",
      "736:\tlearn: 7492.1442189\ttotal: 8.08s\tremaining: 2.88s\n",
      "737:\tlearn: 7481.5970538\ttotal: 8.09s\tremaining: 2.87s\n",
      "738:\tlearn: 7470.0908362\ttotal: 8.11s\tremaining: 2.86s\n",
      "739:\tlearn: 7461.2034033\ttotal: 8.12s\tremaining: 2.85s\n",
      "740:\tlearn: 7452.2288688\ttotal: 8.13s\tremaining: 2.84s\n",
      "741:\tlearn: 7443.7689666\ttotal: 8.14s\tremaining: 2.83s\n",
      "742:\tlearn: 7432.3383613\ttotal: 8.16s\tremaining: 2.82s\n",
      "743:\tlearn: 7423.8035120\ttotal: 8.17s\tremaining: 2.81s\n",
      "744:\tlearn: 7416.4525735\ttotal: 8.18s\tremaining: 2.8s\n",
      "745:\tlearn: 7407.8829400\ttotal: 8.19s\tremaining: 2.79s\n",
      "746:\tlearn: 7398.6195083\ttotal: 8.2s\tremaining: 2.78s\n",
      "747:\tlearn: 7390.9322052\ttotal: 8.22s\tremaining: 2.77s\n",
      "748:\tlearn: 7382.6842307\ttotal: 8.24s\tremaining: 2.76s\n",
      "749:\tlearn: 7373.4280687\ttotal: 8.25s\tremaining: 2.75s\n",
      "750:\tlearn: 7368.6506302\ttotal: 8.27s\tremaining: 2.74s\n",
      "751:\tlearn: 7357.8310921\ttotal: 8.28s\tremaining: 2.73s\n",
      "752:\tlearn: 7351.6146161\ttotal: 8.3s\tremaining: 2.72s\n",
      "753:\tlearn: 7343.3365263\ttotal: 8.31s\tremaining: 2.71s\n",
      "754:\tlearn: 7338.2656237\ttotal: 8.32s\tremaining: 2.7s\n",
      "755:\tlearn: 7331.2650994\ttotal: 8.34s\tremaining: 2.69s\n",
      "756:\tlearn: 7322.4691797\ttotal: 8.35s\tremaining: 2.68s\n",
      "757:\tlearn: 7316.1333672\ttotal: 8.36s\tremaining: 2.67s\n",
      "758:\tlearn: 7309.6702590\ttotal: 8.37s\tremaining: 2.66s\n",
      "759:\tlearn: 7301.1508645\ttotal: 8.38s\tremaining: 2.65s\n",
      "760:\tlearn: 7292.4330022\ttotal: 8.39s\tremaining: 2.63s\n",
      "761:\tlearn: 7284.8937334\ttotal: 8.4s\tremaining: 2.62s\n",
      "762:\tlearn: 7284.1708490\ttotal: 8.41s\tremaining: 2.61s\n",
      "763:\tlearn: 7276.4435219\ttotal: 8.42s\tremaining: 2.6s\n",
      "764:\tlearn: 7271.5080753\ttotal: 8.43s\tremaining: 2.59s\n",
      "765:\tlearn: 7262.6884350\ttotal: 8.44s\tremaining: 2.58s\n",
      "766:\tlearn: 7255.1804001\ttotal: 8.45s\tremaining: 2.57s\n",
      "767:\tlearn: 7249.7489470\ttotal: 8.46s\tremaining: 2.56s\n",
      "768:\tlearn: 7240.3732309\ttotal: 8.47s\tremaining: 2.54s\n",
      "769:\tlearn: 7239.6628009\ttotal: 8.48s\tremaining: 2.53s\n",
      "770:\tlearn: 7238.7189251\ttotal: 8.49s\tremaining: 2.52s\n",
      "771:\tlearn: 7238.0492735\ttotal: 8.5s\tremaining: 2.51s\n",
      "772:\tlearn: 7228.6435271\ttotal: 8.51s\tremaining: 2.5s\n",
      "773:\tlearn: 7223.7295932\ttotal: 8.52s\tremaining: 2.49s\n",
      "774:\tlearn: 7223.0508744\ttotal: 8.53s\tremaining: 2.48s\n",
      "775:\tlearn: 7214.2451025\ttotal: 8.54s\tremaining: 2.47s\n",
      "776:\tlearn: 7208.7099788\ttotal: 8.55s\tremaining: 2.46s\n",
      "777:\tlearn: 7200.3853565\ttotal: 8.56s\tremaining: 2.44s\n",
      "778:\tlearn: 7194.0058825\ttotal: 8.57s\tremaining: 2.43s\n",
      "779:\tlearn: 7188.3607459\ttotal: 8.58s\tremaining: 2.42s\n",
      "780:\tlearn: 7175.9003881\ttotal: 8.59s\tremaining: 2.41s\n",
      "781:\tlearn: 7169.4989794\ttotal: 8.6s\tremaining: 2.4s\n",
      "782:\tlearn: 7162.8446633\ttotal: 8.62s\tremaining: 2.39s\n",
      "783:\tlearn: 7154.6816625\ttotal: 8.63s\tremaining: 2.38s\n",
      "784:\tlearn: 7143.3567218\ttotal: 8.64s\tremaining: 2.37s\n"
     ]
    },
    {
     "name": "stdout",
     "output_type": "stream",
     "text": [
      "785:\tlearn: 7142.6918032\ttotal: 8.65s\tremaining: 2.35s\n",
      "786:\tlearn: 7137.2293325\ttotal: 8.66s\tremaining: 2.34s\n",
      "787:\tlearn: 7130.1805161\ttotal: 8.68s\tremaining: 2.33s\n",
      "788:\tlearn: 7125.1425529\ttotal: 8.69s\tremaining: 2.32s\n",
      "789:\tlearn: 7114.1342715\ttotal: 8.7s\tremaining: 2.31s\n",
      "790:\tlearn: 7109.1127188\ttotal: 8.71s\tremaining: 2.3s\n",
      "791:\tlearn: 7100.7101830\ttotal: 8.72s\tremaining: 2.29s\n",
      "792:\tlearn: 7094.8501045\ttotal: 8.73s\tremaining: 2.28s\n",
      "793:\tlearn: 7089.5906702\ttotal: 8.74s\tremaining: 2.27s\n",
      "794:\tlearn: 7079.8961752\ttotal: 8.75s\tremaining: 2.26s\n",
      "795:\tlearn: 7074.9530133\ttotal: 8.76s\tremaining: 2.25s\n",
      "796:\tlearn: 7064.4982983\ttotal: 8.77s\tremaining: 2.23s\n",
      "797:\tlearn: 7055.3890419\ttotal: 8.78s\tremaining: 2.22s\n",
      "798:\tlearn: 7052.7769220\ttotal: 8.79s\tremaining: 2.21s\n",
      "799:\tlearn: 7047.4529943\ttotal: 8.8s\tremaining: 2.2s\n",
      "800:\tlearn: 7040.5405557\ttotal: 8.81s\tremaining: 2.19s\n",
      "801:\tlearn: 7034.7382462\ttotal: 8.83s\tremaining: 2.18s\n",
      "802:\tlearn: 7026.8820195\ttotal: 8.84s\tremaining: 2.17s\n",
      "803:\tlearn: 7022.2405209\ttotal: 8.85s\tremaining: 2.16s\n",
      "804:\tlearn: 7018.1161085\ttotal: 8.87s\tremaining: 2.15s\n",
      "805:\tlearn: 7012.5215398\ttotal: 8.88s\tremaining: 2.14s\n",
      "806:\tlearn: 7005.3301331\ttotal: 8.88s\tremaining: 2.12s\n",
      "807:\tlearn: 7000.1998264\ttotal: 8.89s\tremaining: 2.11s\n",
      "808:\tlearn: 6990.5874543\ttotal: 8.9s\tremaining: 2.1s\n",
      "809:\tlearn: 6984.0528662\ttotal: 8.91s\tremaining: 2.09s\n",
      "810:\tlearn: 6976.9529264\ttotal: 8.92s\tremaining: 2.08s\n",
      "811:\tlearn: 6973.0625978\ttotal: 8.93s\tremaining: 2.07s\n",
      "812:\tlearn: 6965.4779464\ttotal: 8.94s\tremaining: 2.06s\n",
      "813:\tlearn: 6964.8216242\ttotal: 8.95s\tremaining: 2.04s\n",
      "814:\tlearn: 6956.8221883\ttotal: 8.96s\tremaining: 2.03s\n",
      "815:\tlearn: 6951.3179054\ttotal: 8.97s\tremaining: 2.02s\n",
      "816:\tlearn: 6950.7188565\ttotal: 8.98s\tremaining: 2.01s\n",
      "817:\tlearn: 6945.1655284\ttotal: 8.99s\tremaining: 2s\n",
      "818:\tlearn: 6935.6332696\ttotal: 9s\tremaining: 1.99s\n",
      "819:\tlearn: 6927.5639653\ttotal: 9.01s\tremaining: 1.98s\n",
      "820:\tlearn: 6914.9394379\ttotal: 9.02s\tremaining: 1.97s\n",
      "821:\tlearn: 6908.0073139\ttotal: 9.04s\tremaining: 1.96s\n",
      "822:\tlearn: 6901.3440491\ttotal: 9.05s\tremaining: 1.95s\n",
      "823:\tlearn: 6900.5880663\ttotal: 9.06s\tremaining: 1.93s\n",
      "824:\tlearn: 6893.5198479\ttotal: 9.07s\tremaining: 1.92s\n",
      "825:\tlearn: 6886.1785601\ttotal: 9.08s\tremaining: 1.91s\n",
      "826:\tlearn: 6878.4478168\ttotal: 9.09s\tremaining: 1.9s\n",
      "827:\tlearn: 6869.2282220\ttotal: 9.1s\tremaining: 1.89s\n",
      "828:\tlearn: 6862.1235556\ttotal: 9.11s\tremaining: 1.88s\n",
      "829:\tlearn: 6855.3226079\ttotal: 9.12s\tremaining: 1.87s\n",
      "830:\tlearn: 6851.0446338\ttotal: 9.13s\tremaining: 1.86s\n",
      "831:\tlearn: 6845.4247507\ttotal: 9.14s\tremaining: 1.84s\n",
      "832:\tlearn: 6840.7718812\ttotal: 9.15s\tremaining: 1.83s\n",
      "833:\tlearn: 6833.9518727\ttotal: 9.16s\tremaining: 1.82s\n",
      "834:\tlearn: 6829.3023845\ttotal: 9.18s\tremaining: 1.81s\n",
      "835:\tlearn: 6828.5836730\ttotal: 9.19s\tremaining: 1.8s\n",
      "836:\tlearn: 6819.5003175\ttotal: 9.2s\tremaining: 1.79s\n",
      "837:\tlearn: 6818.5883409\ttotal: 9.21s\tremaining: 1.78s\n",
      "838:\tlearn: 6815.7166647\ttotal: 9.22s\tremaining: 1.77s\n",
      "839:\tlearn: 6807.3090728\ttotal: 9.24s\tremaining: 1.76s\n",
      "840:\tlearn: 6802.4717354\ttotal: 9.25s\tremaining: 1.75s\n",
      "841:\tlearn: 6796.4422890\ttotal: 9.26s\tremaining: 1.74s\n",
      "842:\tlearn: 6787.2119166\ttotal: 9.27s\tremaining: 1.73s\n",
      "843:\tlearn: 6779.4052666\ttotal: 9.28s\tremaining: 1.72s\n",
      "844:\tlearn: 6771.1949371\ttotal: 9.29s\tremaining: 1.7s\n",
      "845:\tlearn: 6762.1536961\ttotal: 9.3s\tremaining: 1.69s\n",
      "846:\tlearn: 6754.9116107\ttotal: 9.31s\tremaining: 1.68s\n",
      "847:\tlearn: 6754.2586878\ttotal: 9.32s\tremaining: 1.67s\n",
      "848:\tlearn: 6748.7259737\ttotal: 9.33s\tremaining: 1.66s\n",
      "849:\tlearn: 6748.0171598\ttotal: 9.34s\tremaining: 1.65s\n",
      "850:\tlearn: 6742.4912589\ttotal: 9.35s\tremaining: 1.64s\n",
      "851:\tlearn: 6735.4040509\ttotal: 9.37s\tremaining: 1.63s\n",
      "852:\tlearn: 6730.3350937\ttotal: 9.38s\tremaining: 1.62s\n",
      "853:\tlearn: 6722.4794974\ttotal: 9.39s\tremaining: 1.6s\n",
      "854:\tlearn: 6717.2449075\ttotal: 9.4s\tremaining: 1.59s\n",
      "855:\tlearn: 6716.4869718\ttotal: 9.41s\tremaining: 1.58s\n",
      "856:\tlearn: 6707.3965915\ttotal: 9.42s\tremaining: 1.57s\n",
      "857:\tlearn: 6701.8306980\ttotal: 9.43s\tremaining: 1.56s\n",
      "858:\tlearn: 6701.2885571\ttotal: 9.44s\tremaining: 1.55s\n",
      "859:\tlearn: 6696.0222804\ttotal: 9.45s\tremaining: 1.54s\n",
      "860:\tlearn: 6695.3194676\ttotal: 9.46s\tremaining: 1.53s\n",
      "861:\tlearn: 6688.9196288\ttotal: 9.47s\tremaining: 1.51s\n",
      "862:\tlearn: 6683.7528051\ttotal: 9.48s\tremaining: 1.5s\n",
      "863:\tlearn: 6679.1191986\ttotal: 9.49s\tremaining: 1.49s\n",
      "864:\tlearn: 6673.6684830\ttotal: 9.49s\tremaining: 1.48s\n",
      "865:\tlearn: 6668.1124719\ttotal: 9.5s\tremaining: 1.47s\n",
      "866:\tlearn: 6667.2291957\ttotal: 9.51s\tremaining: 1.46s\n",
      "867:\tlearn: 6659.0782956\ttotal: 9.52s\tremaining: 1.45s\n",
      "868:\tlearn: 6652.2676718\ttotal: 9.54s\tremaining: 1.44s\n",
      "869:\tlearn: 6646.5026280\ttotal: 9.55s\tremaining: 1.43s\n",
      "870:\tlearn: 6637.6085018\ttotal: 9.56s\tremaining: 1.42s\n",
      "871:\tlearn: 6630.3318697\ttotal: 9.57s\tremaining: 1.41s\n",
      "872:\tlearn: 6625.4973959\ttotal: 9.58s\tremaining: 1.39s\n",
      "873:\tlearn: 6624.9604421\ttotal: 9.6s\tremaining: 1.38s\n",
      "874:\tlearn: 6620.7760063\ttotal: 9.61s\tremaining: 1.37s\n",
      "875:\tlearn: 6614.6302131\ttotal: 9.62s\tremaining: 1.36s\n",
      "876:\tlearn: 6610.8275530\ttotal: 9.63s\tremaining: 1.35s\n",
      "877:\tlearn: 6603.9371771\ttotal: 9.64s\tremaining: 1.34s\n",
      "878:\tlearn: 6598.1169157\ttotal: 9.65s\tremaining: 1.33s\n",
      "879:\tlearn: 6589.5782060\ttotal: 9.66s\tremaining: 1.32s\n",
      "880:\tlearn: 6584.9975965\ttotal: 9.67s\tremaining: 1.31s\n",
      "881:\tlearn: 6584.4707010\ttotal: 9.68s\tremaining: 1.29s\n",
      "882:\tlearn: 6578.0713299\ttotal: 9.69s\tremaining: 1.28s\n",
      "883:\tlearn: 6572.9920269\ttotal: 9.7s\tremaining: 1.27s\n",
      "884:\tlearn: 6567.4111797\ttotal: 9.71s\tremaining: 1.26s\n",
      "885:\tlearn: 6561.9205051\ttotal: 9.71s\tremaining: 1.25s\n",
      "886:\tlearn: 6556.7231102\ttotal: 9.72s\tremaining: 1.24s\n",
      "887:\tlearn: 6552.0994303\ttotal: 9.74s\tremaining: 1.23s\n",
      "888:\tlearn: 6551.5826215\ttotal: 9.75s\tremaining: 1.22s\n",
      "889:\tlearn: 6547.1169832\ttotal: 9.76s\tremaining: 1.21s\n",
      "890:\tlearn: 6542.3692528\ttotal: 9.77s\tremaining: 1.2s\n",
      "891:\tlearn: 6539.6740642\ttotal: 9.78s\tremaining: 1.18s\n",
      "892:\tlearn: 6532.7756498\ttotal: 9.79s\tremaining: 1.17s\n",
      "893:\tlearn: 6523.2954795\ttotal: 9.8s\tremaining: 1.16s\n",
      "894:\tlearn: 6517.3727240\ttotal: 9.81s\tremaining: 1.15s\n",
      "895:\tlearn: 6513.0249316\ttotal: 9.82s\tremaining: 1.14s\n",
      "896:\tlearn: 6512.5454152\ttotal: 9.83s\tremaining: 1.13s\n",
      "897:\tlearn: 6503.2332234\ttotal: 9.84s\tremaining: 1.12s\n",
      "898:\tlearn: 6499.7779019\ttotal: 9.85s\tremaining: 1.11s\n",
      "899:\tlearn: 6491.5781077\ttotal: 9.86s\tremaining: 1.09s\n",
      "900:\tlearn: 6482.3463910\ttotal: 9.87s\tremaining: 1.08s\n",
      "901:\tlearn: 6475.4002979\ttotal: 9.88s\tremaining: 1.07s\n",
      "902:\tlearn: 6469.0387224\ttotal: 9.89s\tremaining: 1.06s\n",
      "903:\tlearn: 6466.0137328\ttotal: 9.89s\tremaining: 1.05s\n",
      "904:\tlearn: 6461.7594612\ttotal: 9.9s\tremaining: 1.04s\n",
      "905:\tlearn: 6456.6350126\ttotal: 9.92s\tremaining: 1.03s\n",
      "906:\tlearn: 6451.3639976\ttotal: 9.94s\tremaining: 1.02s\n",
      "907:\tlearn: 6445.8654377\ttotal: 9.96s\tremaining: 1.01s\n",
      "908:\tlearn: 6439.7073979\ttotal: 9.97s\tremaining: 998ms\n",
      "909:\tlearn: 6433.3409969\ttotal: 9.98s\tremaining: 987ms\n",
      "910:\tlearn: 6432.8971864\ttotal: 9.99s\tremaining: 976ms\n",
      "911:\tlearn: 6427.8333408\ttotal: 9.99s\tremaining: 965ms\n",
      "912:\tlearn: 6426.2246905\ttotal: 10s\tremaining: 954ms\n",
      "913:\tlearn: 6416.3793392\ttotal: 10s\tremaining: 943ms\n",
      "914:\tlearn: 6412.0970397\ttotal: 10s\tremaining: 932ms\n",
      "915:\tlearn: 6406.9738066\ttotal: 10s\tremaining: 921ms\n",
      "916:\tlearn: 6401.2051021\ttotal: 10.1s\tremaining: 910ms\n",
      "917:\tlearn: 6395.0588268\ttotal: 10.1s\tremaining: 899ms\n",
      "918:\tlearn: 6389.8300273\ttotal: 10.1s\tremaining: 888ms\n",
      "919:\tlearn: 6381.6488776\ttotal: 10.1s\tremaining: 877ms\n",
      "920:\tlearn: 6376.7154684\ttotal: 10.1s\tremaining: 866ms\n",
      "921:\tlearn: 6371.4360676\ttotal: 10.1s\tremaining: 855ms\n",
      "922:\tlearn: 6366.0462871\ttotal: 10.1s\tremaining: 845ms\n",
      "923:\tlearn: 6356.9209466\ttotal: 10.1s\tremaining: 834ms\n",
      "924:\tlearn: 6352.4516295\ttotal: 10.1s\tremaining: 823ms\n",
      "925:\tlearn: 6347.1299381\ttotal: 10.2s\tremaining: 812ms\n",
      "926:\tlearn: 6341.5148395\ttotal: 10.2s\tremaining: 803ms\n",
      "927:\tlearn: 6336.4942326\ttotal: 10.2s\tremaining: 792ms\n",
      "928:\tlearn: 6327.8172036\ttotal: 10.2s\tremaining: 781ms\n",
      "929:\tlearn: 6323.2738475\ttotal: 10.2s\tremaining: 770ms\n",
      "930:\tlearn: 6318.9374845\ttotal: 10.2s\tremaining: 759ms\n",
      "931:\tlearn: 6314.9925191\ttotal: 10.3s\tremaining: 748ms\n",
      "932:\tlearn: 6310.7942746\ttotal: 10.3s\tremaining: 738ms\n",
      "933:\tlearn: 6306.1636828\ttotal: 10.3s\tremaining: 727ms\n",
      "934:\tlearn: 6295.9228486\ttotal: 10.3s\tremaining: 716ms\n",
      "935:\tlearn: 6291.0992799\ttotal: 10.3s\tremaining: 705ms\n",
      "936:\tlearn: 6283.3481540\ttotal: 10.3s\tremaining: 694ms\n",
      "937:\tlearn: 6277.2374405\ttotal: 10.3s\tremaining: 683ms\n",
      "938:\tlearn: 6268.5646206\ttotal: 10.3s\tremaining: 672ms\n",
      "939:\tlearn: 6262.9805293\ttotal: 10.4s\tremaining: 661ms\n",
      "940:\tlearn: 6259.6464858\ttotal: 10.4s\tremaining: 650ms\n",
      "941:\tlearn: 6255.1609307\ttotal: 10.4s\tremaining: 639ms\n",
      "942:\tlearn: 6251.2758005\ttotal: 10.4s\tremaining: 628ms\n",
      "943:\tlearn: 6244.3272806\ttotal: 10.4s\tremaining: 617ms\n",
      "944:\tlearn: 6237.6529353\ttotal: 10.4s\tremaining: 606ms\n",
      "945:\tlearn: 6231.2302815\ttotal: 10.4s\tremaining: 595ms\n",
      "946:\tlearn: 6230.7417096\ttotal: 10.4s\tremaining: 584ms\n",
      "947:\tlearn: 6221.0777114\ttotal: 10.4s\tremaining: 573ms\n"
     ]
    },
    {
     "name": "stdout",
     "output_type": "stream",
     "text": [
      "948:\tlearn: 6220.6070150\ttotal: 10.5s\tremaining: 562ms\n",
      "949:\tlearn: 6216.2796616\ttotal: 10.5s\tremaining: 551ms\n",
      "950:\tlearn: 6208.1415046\ttotal: 10.5s\tremaining: 540ms\n",
      "951:\tlearn: 6207.5881537\ttotal: 10.5s\tremaining: 529ms\n",
      "952:\tlearn: 6202.7035796\ttotal: 10.5s\tremaining: 518ms\n",
      "953:\tlearn: 6195.9421895\ttotal: 10.5s\tremaining: 507ms\n",
      "954:\tlearn: 6193.6017791\ttotal: 10.5s\tremaining: 496ms\n",
      "955:\tlearn: 6188.2121729\ttotal: 10.5s\tremaining: 485ms\n",
      "956:\tlearn: 6181.1298407\ttotal: 10.5s\tremaining: 474ms\n",
      "957:\tlearn: 6177.3650854\ttotal: 10.6s\tremaining: 463ms\n",
      "958:\tlearn: 6171.5068023\ttotal: 10.6s\tremaining: 452ms\n",
      "959:\tlearn: 6164.7029557\ttotal: 10.6s\tremaining: 441ms\n",
      "960:\tlearn: 6164.1455000\ttotal: 10.6s\tremaining: 429ms\n",
      "961:\tlearn: 6162.9154077\ttotal: 10.6s\tremaining: 419ms\n",
      "962:\tlearn: 6157.1867506\ttotal: 10.6s\tremaining: 408ms\n",
      "963:\tlearn: 6150.3419536\ttotal: 10.6s\tremaining: 397ms\n",
      "964:\tlearn: 6142.2209048\ttotal: 10.6s\tremaining: 386ms\n",
      "965:\tlearn: 6136.1778219\ttotal: 10.6s\tremaining: 375ms\n",
      "966:\tlearn: 6133.3345529\ttotal: 10.7s\tremaining: 364ms\n",
      "967:\tlearn: 6127.3136608\ttotal: 10.7s\tremaining: 353ms\n",
      "968:\tlearn: 6122.3528561\ttotal: 10.7s\tremaining: 342ms\n",
      "969:\tlearn: 6115.5179398\ttotal: 10.7s\tremaining: 330ms\n",
      "970:\tlearn: 6112.0707655\ttotal: 10.7s\tremaining: 319ms\n",
      "971:\tlearn: 6104.6841795\ttotal: 10.7s\tremaining: 308ms\n",
      "972:\tlearn: 6096.3210043\ttotal: 10.7s\tremaining: 297ms\n",
      "973:\tlearn: 6092.4285051\ttotal: 10.7s\tremaining: 286ms\n",
      "974:\tlearn: 6087.9978502\ttotal: 10.7s\tremaining: 275ms\n",
      "975:\tlearn: 6081.4009746\ttotal: 10.8s\tremaining: 264ms\n",
      "976:\tlearn: 6076.2003409\ttotal: 10.8s\tremaining: 253ms\n",
      "977:\tlearn: 6069.8723150\ttotal: 10.8s\tremaining: 242ms\n",
      "978:\tlearn: 6063.1079574\ttotal: 10.8s\tremaining: 231ms\n",
      "979:\tlearn: 6054.0661250\ttotal: 10.8s\tremaining: 220ms\n",
      "980:\tlearn: 6051.3710879\ttotal: 10.8s\tremaining: 209ms\n",
      "981:\tlearn: 6047.5526605\ttotal: 10.8s\tremaining: 198ms\n",
      "982:\tlearn: 6043.3092574\ttotal: 10.8s\tremaining: 187ms\n",
      "983:\tlearn: 6038.8768128\ttotal: 10.8s\tremaining: 176ms\n",
      "984:\tlearn: 6035.2712999\ttotal: 10.9s\tremaining: 165ms\n",
      "985:\tlearn: 6032.6313692\ttotal: 10.9s\tremaining: 154ms\n",
      "986:\tlearn: 6030.1001678\ttotal: 10.9s\tremaining: 143ms\n",
      "987:\tlearn: 6027.1306631\ttotal: 10.9s\tremaining: 132ms\n",
      "988:\tlearn: 6020.4913225\ttotal: 10.9s\tremaining: 121ms\n",
      "989:\tlearn: 6016.7490025\ttotal: 10.9s\tremaining: 110ms\n",
      "990:\tlearn: 6010.8830873\ttotal: 10.9s\tremaining: 99.2ms\n",
      "991:\tlearn: 6008.4962489\ttotal: 10.9s\tremaining: 88.2ms\n",
      "992:\tlearn: 6001.5270737\ttotal: 10.9s\tremaining: 77.1ms\n",
      "993:\tlearn: 5997.1279771\ttotal: 11s\tremaining: 66.1ms\n",
      "994:\tlearn: 5995.1082370\ttotal: 11s\tremaining: 55.1ms\n",
      "995:\tlearn: 5988.6963059\ttotal: 11s\tremaining: 44.1ms\n",
      "996:\tlearn: 5988.2614332\ttotal: 11s\tremaining: 33.1ms\n",
      "997:\tlearn: 5981.0149515\ttotal: 11s\tremaining: 22ms\n",
      "998:\tlearn: 5975.0820567\ttotal: 11s\tremaining: 11ms\n",
      "999:\tlearn: 5970.6449996\ttotal: 11s\tremaining: 0us\n"
     ]
    },
    {
     "data": {
      "text/plain": [
       "168    0.000000\n",
       "138    0.000000\n",
       "140    0.000000\n",
       "144    0.000000\n",
       "157    0.000000\n",
       "         ...   \n",
       "55     5.131394\n",
       "46     5.392536\n",
       "53     5.913062\n",
       "17     7.079364\n",
       "26     8.805231\n",
       "Name: importance, Length: 337, dtype: float64"
      ]
     },
     "execution_count": 468,
     "metadata": {},
     "output_type": "execute_result"
    }
   ],
   "source": [
    "model = CatBoostRegressor(random_state=7, logging_level= 'Silent' )\n",
    "model.fit(x_train, y_train)\n",
    "\n",
    "features = pd.DataFrame()\n",
    "features['feature'] = x_train.columns\n",
    "features['importance'] = model.feature_importances_#feature별 가중치 크기\n",
    "features['importance'].sort_values(ascending=True)"
   ]
  },
  {
   "cell_type": "code",
   "execution_count": 469,
   "metadata": {},
   "outputs": [
    {
     "name": "stdout",
     "output_type": "stream",
     "text": [
      "PoolQC\n",
      "hasMasVnr\n",
      "hasGarage\n",
      "hasPoolArea\n",
      "Alley_Grvl\n",
      "BldgType_2fmCon\n",
      "BldgType_TwnhsE\n",
      "Condition1_Feedr\n",
      "Condition1_RRAn\n",
      "Condition1_RRNe\n",
      "Condition1_RRNn\n",
      "Condition2_Artery\n",
      "Condition2_RRAe\n",
      "Condition2_RRAn\n",
      "Condition2_RRNn\n",
      "Electrical_Mix\n",
      "Exterior1st_AsphShn\n",
      "Exterior1st_BrkComm\n",
      "Exterior1st_CBlock\n",
      "Exterior1st_ImStucc\n",
      "Exterior2nd_AsphShn\n",
      "Exterior2nd_Brk Cmn\n",
      "Exterior2nd_BrkFace\n",
      "Exterior2nd_CBlock\n",
      "Exterior2nd_ImStucc\n",
      "Exterior2nd_Other\n",
      "Exterior2nd_Stone\n",
      "Fence_MnPrv\n",
      "Fence_MnWw\n",
      "Fence_None\n",
      "Foundation_Slab\n",
      "Foundation_Wood\n",
      "Functional_Min2\n",
      "GarageType_Detchd\n",
      "GarageType_None\n",
      "Heating_Floor\n",
      "Heating_Grav\n",
      "Heating_Wall\n",
      "HeatingQC_Fa\n",
      "HeatingQC_Po\n",
      "HouseStyle_1.5Fin\n",
      "HouseStyle_1.5Unf\n",
      "HouseStyle_2.5Fin\n",
      "HouseStyle_2.5Unf\n",
      "HouseStyle_SFoyer\n",
      "HouseStyle_SLvl\n",
      "LotConfig_FR3\n",
      "MSSubClass_150\n",
      "MSSubClass_160\n",
      "MSSubClass_180\n",
      "MSSubClass_190\n",
      "MSSubClass_40\n",
      "MSSubClass_45\n",
      "MSSubClass_75\n",
      "MSSubClass_85\n",
      "MasVnrType_BrkCmn\n",
      "MiscFeature_Gar2\n",
      "MiscFeature_Othr\n",
      "MiscFeature_Shed\n",
      "MiscFeature_TenC\n",
      "Neighborhood_Blmngtn\n",
      "Neighborhood_Blueste\n",
      "Neighborhood_BrDale\n",
      "Neighborhood_IDOTRR\n",
      "Neighborhood_MeadowV\n",
      "Neighborhood_NPkVill\n",
      "Neighborhood_SawyerW\n",
      "Neighborhood_Veenker\n",
      "PavedDrive_P\n",
      "RoofMatl_CompShg\n",
      "RoofMatl_Membran\n",
      "RoofMatl_Metal\n",
      "RoofMatl_Roll\n",
      "RoofMatl_WdShake\n",
      "RoofStyle_Gambrel\n",
      "SaleType_COD\n",
      "SaleType_ConLI\n",
      "SaleType_Oth\n",
      "OverallCondBins_Po\n",
      "OverallCondBins_ EX\n",
      "YearBuiltBins_Very Old\n",
      "YearBuiltBins_Little Old\n",
      "TotalBsmtSFBins_3\n",
      "1stFlrSFBins_1\n",
      "2ndFlrSFBins_0\n",
      "GarageAreaBins_0\n",
      "GarageAreaBins_1\n",
      "GarageAreaBins_5\n"
     ]
    }
   ],
   "source": [
    "for i in range(len(features)) : # 특성 중요도 0인 컬럼 삭제\n",
    "    if features['importance'][i] == 0 :\n",
    "        print(features['feature'][i])\n",
    "        del data[features['feature'][i]]"
   ]
  },
  {
   "cell_type": "code",
   "execution_count": 470,
   "metadata": {},
   "outputs": [
    {
     "data": {
      "text/plain": [
       "((1313, 337), (438, 337), (1313,), (438,))"
      ]
     },
     "execution_count": 470,
     "metadata": {},
     "output_type": "execute_result"
    }
   ],
   "source": [
    "x_train, x_test, y_train, y_test = train_test_split(x,y,random_state=7,test_size=0.25)\n",
    "x_train.shape, x_test.shape, y_train.shape, y_test.shape"
   ]
  },
  {
   "cell_type": "code",
   "execution_count": 471,
   "metadata": {},
   "outputs": [
    {
     "data": {
      "text/plain": [
       "GridSearchCV(cv=5, error_score='raise-deprecating',\n",
       "             estimator=<catboost.core.CatBoostRegressor object at 0x0000027638F1C108>,\n",
       "             iid='warn', n_jobs=None,\n",
       "             param_grid={'iterations': [1000, 1100, 1200],\n",
       "                         'l2_leaf_reg': [1, 10, 20],\n",
       "                         'learning_rate': [0.1, 0.12, 0.13, 0.14],\n",
       "                         'logging_level': ['Silent']},\n",
       "             pre_dispatch='2*n_jobs', refit=True, return_train_score=False,\n",
       "             scoring=None, verbose=0)"
      ]
     },
     "execution_count": 471,
     "metadata": {},
     "output_type": "execute_result"
    }
   ],
   "source": [
    "model = CatBoostRegressor(random_state=7)\n",
    "param_grid = { \n",
    "            'learning_rate': [0.1, 0.12, 0.13, 0.14],\n",
    "             \"l2_leaf_reg\":[1, 10, 20],\n",
    "            'logging_level' : ['Silent'],\n",
    "            'iterations' : [1000, 1100, 1200]\n",
    "             }\n",
    "grid = GridSearchCV(model, param_grid, cv=5)\n",
    "grid.fit(x_train, y_train)"
   ]
  },
  {
   "cell_type": "code",
   "execution_count": 472,
   "metadata": {},
   "outputs": [
    {
     "name": "stdout",
     "output_type": "stream",
     "text": [
      "최상의 크로스 밸리데이션 점수: 0.92\n",
      "최적의 매개변수:  {'iterations': 1200, 'l2_leaf_reg': 20, 'learning_rate': 0.1, 'logging_level': 'Silent'}\n"
     ]
    }
   ],
   "source": [
    "print(\"최상의 크로스 밸리데이션 점수: {:.2f}\".format(grid.best_score_))\n",
    "print(\"최적의 매개변수: \", grid.best_params_)\n",
    "beepsound()"
   ]
  },
  {
   "cell_type": "code",
   "execution_count": 473,
   "metadata": {},
   "outputs": [
    {
     "name": "stdout",
     "output_type": "stream",
     "text": [
      "훈련 세트 정확도: 0.997\n",
      "테스트 세트 정확도: 0.942\n",
      "19831.6166324222\n"
     ]
    }
   ],
   "source": [
    "model = CatBoostRegressor(random_state=7,iterations=1200, l2_leaf_reg=20,learning_rate=0.1,logging_level='Silent')\n",
    "model.fit(x_train,y_train)\n",
    "print(\"훈련 세트 정확도: {:.3f}\".format(model.score(x_train, y_train)))\n",
    "print(\"테스트 세트 정확도: {:.3f}\".format(model.score(x_test, y_test)))\n",
    "pre = model.predict(x_test)\n",
    "print(np.sqrt(mean_squared_error(pre,y_test)))\n",
    "beepsound()"
   ]
  },
  {
   "cell_type": "code",
   "execution_count": null,
   "metadata": {
    "scrolled": false
   },
   "outputs": [],
   "source": [
    "model = CatBoostRegressor(iterations = 1200, random_state=7, l2_leaf_reg=20, learning_rate=0.14, logging_level='Silent')\n",
    "model.fit(x_train,y_train)\n",
    "print(\"훈련 세트 정확도: {:.3f}\".format(model.score(x_train, y_train)))\n",
    "print(\"테스트 세트 정확도: {:.3f}\".format(model.score(x_test, y_test)))\n",
    "pre = model.predict(x_test)\n",
    "print(np.sqrt(mean_squared_error(pre,y_test)))\n",
    "beepsound()"
   ]
  },
  {
   "cell_type": "code",
   "execution_count": 474,
   "metadata": {},
   "outputs": [
    {
     "data": {
      "image/png": "[encoded data removed]",
      "text/plain": [
       "<Figure size 576x432 with 1 Axes>"
      ]
     },
     "metadata": {},
     "output_type": "display_data"
    }
   ],
   "source": [
    "mpotances = model.feature_importances_\n",
    "feature_list = list(zip(model.feature_importances_,data.columns))\n",
    "feature_list.sort(reverse=True)\n",
    "feature_list=feature_list[:20]\n",
    "feature_list.sort(reverse=False)\n",
    "feature_df = pd.DataFrame(feature_list,columns=[\"score\",\"feature\"])\n",
    "plt.figure(figsize=(8,6),facecolor=\"#F0FDFF\")\n",
    "plt.title(\"Feature_Importances : {}\".format(str(model).split(\"(\")[0]), fontsize=\"xx-large\")\n",
    "plt.barh(feature_df[\"feature\"],feature_df[\"score\"],color=\"#C00000\")\n",
    "plt.grid(color=\"#CFE8E1\")"
   ]
  },
  {
   "cell_type": "code",
   "execution_count": 475,
   "metadata": {},
   "outputs": [],
   "source": [
    "import numpy as np"
   ]
  },
  {
   "cell_type": "code",
   "execution_count": 476,
   "metadata": {},
   "outputs": [
    {
     "name": "stdout",
     "output_type": "stream",
     "text": [
      "r2_score : 0.9420472111719699\n",
      "RMSE :  19831.6166324222\n"
     ]
    }
   ],
   "source": [
    "y_pred = model.predict(x_test)\n",
    "print(\"r2_score :\", r2_score(y_test,y_pred))\n",
    "print(\"RMSE : \",np.sqrt(mean_squared_error(y_test,y_pred)))"
   ]
  },
  {
   "cell_type": "code",
   "execution_count": 477,
   "metadata": {},
   "outputs": [
    {
     "data": {
      "text/plain": [
       "array([145233.50596703, 407374.38351022, 282022.43248814, 194425.01190037,\n",
       "       154552.2791621 , 101540.48456067, 204826.97126613, 221579.06213463,\n",
       "       177149.58520697, 114637.86925262, 135037.84062431, 157957.82515387,\n",
       "       192132.6494417 , 112375.4797857 , 128683.96106363, 348707.79403924,\n",
       "       157461.66194793, 154315.19904255, 216501.41831536, 189358.13708274,\n",
       "       285534.32284249, 120460.07556339,  92934.91815834, 181596.05161995,\n",
       "       178229.19411643, 180642.93882434, 141971.66210977, 171089.43034547,\n",
       "       159167.27422367, 310393.09799608, 205615.93791712, 283732.29960507,\n",
       "       117314.36533708, 212170.82771869, 196491.74953692, 161535.58932515,\n",
       "       190641.26864753, 143913.88114593, 117259.16745031, 341599.13241411,\n",
       "       112976.05551158, 141586.41636554, 172726.7954691 , 137567.67226206,\n",
       "       210387.53975715, 428524.53436553, 321597.05470561, 134656.29725534,\n",
       "        99570.96263921, 220045.80027016, 118770.01845843, 127872.50481162,\n",
       "       170217.85289367, 117422.83951293, 119345.15080601, 220185.97323289,\n",
       "       138830.08964329, 234463.19822072, 197873.24934483, 180907.57543025,\n",
       "       274773.98045638, 120139.34628826,  61134.87928679, 142695.45504001,\n",
       "       324035.35587821, 113648.27901653, 146348.2818466 , 105961.22885644,\n",
       "       139461.2095321 , 143887.95298573,  93896.29406999,  89209.54779224,\n",
       "        71718.36708096, 201350.25316197,  80261.21078713, 166966.99206023,\n",
       "       319791.24351923, 149570.81917033, 127859.46462758, 184154.64311167,\n",
       "       199854.6157046 , 132714.82107793, 289240.36047316, 228355.08504921,\n",
       "       194653.09310746, 191633.55207317, 228773.43281133, 117944.39680157,\n",
       "       138538.30029067, 140998.93712562, 198211.00922131, 192068.88461806,\n",
       "       271782.56014886,  51147.99625373, 418831.84009524, 194871.35943921,\n",
       "       209117.00587054, 217032.68613043, 190029.55858915, 137938.32579239,\n",
       "       185026.60112385, 184503.85866384, 211562.03510766, 146522.46578116,\n",
       "       313220.9579038 , 200424.46041758, 164794.33167207, 166311.3064681 ,\n",
       "       139383.86553057, 128862.38257938, 119909.85724955, 158120.22411334,\n",
       "       123280.29275571, 100068.399693  , 200432.97585686, 132928.49215801,\n",
       "       146864.45767751, 373580.73455837, 239245.62428468, 197162.63234703,\n",
       "       184199.55754707, 317055.68694036, 105532.56476926, 138779.48727029,\n",
       "       109363.76106105, 210585.06689695, 140052.78205711, 162761.7534786 ,\n",
       "       284889.65245027, 175081.13380401, 211631.38884689, 140210.19812515,\n",
       "       114944.20502732, 141043.36464443, 204967.50219344, 138080.1920198 ,\n",
       "       275186.89484112, 263546.51216471, 108286.60447088,  80565.8533607 ,\n",
       "       291826.5411383 , 130757.41334019, 116673.04816919, 180542.34236725,\n",
       "       234547.25777478, 189283.58182263, 228786.90464549, 430571.27174751,\n",
       "       178339.20616425, 222137.5794862 , 329995.63977066, 148631.64776176,\n",
       "        67037.9361223 , 216960.05189629, 131608.228017  , 155138.84580049,\n",
       "       186209.93200081, 116364.20004045, 163205.39447339, 161999.9104951 ,\n",
       "       112952.68010316, 124316.95131726, 211248.03240389, 144678.88048492,\n",
       "       335100.39715015, 429646.03781467, 189964.99455923, 158329.85733114,\n",
       "       212521.81721963, 175636.77289864, 160435.7436777 , 141973.12120515,\n",
       "       182797.01319032, 109599.95284159, 130201.77803403, 289022.87622479,\n",
       "       324999.05042901, 189033.74542564, 187683.07719655, 131345.06462845,\n",
       "       315071.46625467, 364206.25977211, 142629.39793176,  93060.65696145,\n",
       "       289996.1798805 , 114192.21571363, 123989.2842129 , 138681.52938411,\n",
       "       130030.3330292 , 166713.67670424, 421507.41805187, 148767.66440753,\n",
       "       444906.97254285, 146837.62981816, 231926.42810625, 123097.97846781,\n",
       "       187074.95950656, 260714.83782296, 197218.70293757, 420481.59222278,\n",
       "       155965.54916616, 247556.03429054, 139395.90552326, 203888.55000431,\n",
       "       151460.29524468,  89307.88994915, 166174.00389711, 453484.50398233,\n",
       "       128037.02232946, 197079.03178572, 136848.48966085, 181969.42244579,\n",
       "       136679.7873391 , 189864.60564598, 129629.33451659, 202071.69284732,\n",
       "       105532.41223451, 174033.76011622, 196354.06859895, 222014.44732105,\n",
       "       232374.80147059, 134152.20176359, 167740.02965797, 331664.70694261,\n",
       "       168406.31613868, 164937.90883545, 100896.6552961 , 137390.50510647,\n",
       "       115581.0888672 , 245205.94586231, 110373.92963635, 362695.25496081,\n",
       "       129305.98282884, 110893.4128203 , 118915.24662347, 202796.03300144,\n",
       "       151186.07635639, 132348.82299597, 156397.53065018,  55026.5464822 ,\n",
       "       204838.440351  , 128497.04807229, 190654.63481616, 166933.39181312,\n",
       "       139913.03850174, 181113.6256344 , 132768.85178622,  96534.85245487,\n",
       "       169399.07516313, 137481.86421996, 178059.97080325, 195771.83152678,\n",
       "       140639.34074633, 400928.95935524, 235636.1376629 , 203270.13267509,\n",
       "       330254.84476425, 284677.78054268, 260230.17671607, 138979.81792512,\n",
       "       172074.34305372, 227825.18057676, 238676.88376795, 272816.05289667,\n",
       "       127221.78650662, 155635.48027206, 208569.54190931, 139226.29516537,\n",
       "       142041.45746099, 112657.49912506, 131547.88427055,  51453.61719042,\n",
       "       147993.47608594, 270029.92782179, 341234.45367991, 164670.34812823,\n",
       "       163261.85958991, 131471.19940731, 145712.83888243, 122542.60313738,\n",
       "       178549.32814867,  76366.12707139, 158141.73488655, 211812.3196616 ,\n",
       "       160212.85127869, 246064.27546439, 114820.90443307, 100246.78342947,\n",
       "       184036.70122309, 106526.21622656, 137675.7429516 , 236554.44394244,\n",
       "       169396.68219458, 179098.83157254, 161512.22609865, 138497.81384792,\n",
       "       129861.28012364, 374613.26787344, 200909.62399328,  78842.28136729,\n",
       "       188543.58685896, 116632.49889882, 141939.68387462, 122136.93667166,\n",
       "       156576.58146621, 235211.75749877, 200536.12196108, 283764.73064693,\n",
       "       197845.1727469 , 191599.73875802, 142834.09616864, 143497.23906847,\n",
       "       424120.73387961, 136895.57145269, 156098.75675746, 127669.59435191,\n",
       "       113213.95812477, 198138.52668355, 137262.68602627, 107795.13376486,\n",
       "       242838.06879987, 447128.66917878, 184110.79981782, 300268.78056549,\n",
       "       109185.33332124, 124129.67619667, 132887.31066349, 223209.11969763,\n",
       "       195687.31058581, 120271.01132176, 148457.98445306, 209698.86862276,\n",
       "       320890.14312181, 148485.17242788, 113949.43381788, 118982.8156407 ,\n",
       "       292093.03095359,  80772.70228464, 114138.13294766, 162323.12346066,\n",
       "       143562.16469789, 141189.50775421, 148996.41305188, 248209.35543852,\n",
       "       227593.88982802, 273742.43440095, 240891.40928561,  84789.44575375,\n",
       "       100120.90467061, 109386.89695968, 140838.13848762, 221226.46440525,\n",
       "       145084.9548005 , 145620.5734312 , 141192.22865667, 100794.74020764,\n",
       "       170047.39798747, 155943.89645338,  91426.00430978, 188476.96335893,\n",
       "       135770.43998506, 108723.85756773,  64439.9300318 , 101152.61820052,\n",
       "       155429.638653  , 224681.60374383, 215766.03158561, 252290.05406677,\n",
       "       105725.91281843, 163403.76460161, 155062.1651228 , 174321.88043027,\n",
       "       139971.46701611, 116577.7129168 , 137034.50104497, 142958.34235347,\n",
       "       222740.18011175, 135222.78188253, 145814.41600387, 109160.94199192,\n",
       "       155631.62584069, 211029.78052477, 139705.63428256, 109479.71425328,\n",
       "       161816.45496312, 105009.59425196, 165466.23433627, 168853.12702302,\n",
       "        61442.54585876, 184802.47255026, 210473.99126249, 261626.11109997,\n",
       "       157487.36800145, 226851.77855838, 223784.4554417 , 133201.42022718,\n",
       "       159147.53084574, 151273.28614536,  82485.27927574, 115188.99792096,\n",
       "       136128.33400167,  86671.6048947 , 147386.3785384 , 122270.89594888,\n",
       "       323293.47515623, 140019.33442164, 166551.61544822, 212316.43932285,\n",
       "       121670.68091159, 146273.81205881, 161818.83429326, 185151.93359921,\n",
       "       125754.19500145, 196166.0280496 , 314484.47272445, 150940.58256685,\n",
       "       220865.2933901 , 165447.15685996, 167097.53526301, 190591.69656203,\n",
       "       436728.80913377, 128912.70705993, 243955.85475225, 178607.38811155,\n",
       "       130438.68331039, 395574.03830942, 132182.89167679, 142196.48686089,\n",
       "       164764.751277  , 149217.79406356, 174063.79730946, 115944.53122668,\n",
       "       277614.77995369,  95480.70969628, 255147.78707538, 120306.24493776,\n",
       "       161034.71340774, 145878.81397003])"
      ]
     },
     "execution_count": 477,
     "metadata": {},
     "output_type": "execute_result"
    }
   ],
   "source": [
    "y_pred"
   ]
  },
  {
   "cell_type": "code",
   "execution_count": 478,
   "metadata": {},
   "outputs": [
    {
     "data": {
      "text/plain": [
       "array([264962.12568144, 151033.46044846, 206385.24262601, ...,\n",
       "       133661.08091364, 193366.98264227, 121070.75326622])"
      ]
     },
     "execution_count": 478,
     "metadata": {},
     "output_type": "execute_result"
    }
   ],
   "source": [
    "pred = model.predict(test)\n",
    "pred"
   ]
  },
  {
   "cell_type": "code",
   "execution_count": 479,
   "metadata": {},
   "outputs": [],
   "source": [
    "sub_df = pd.read_csv(\"sample_submission.csv\",index_col=\"Id\")"
   ]
  },
  {
   "cell_type": "code",
   "execution_count": 480,
   "metadata": {},
   "outputs": [
    {
     "data": {
      "text/plain": [
       "Id\n",
       "1752    264962.125681\n",
       "1753    151033.460448\n",
       "1754    206385.242626\n",
       "1755    226160.412810\n",
       "1756    169362.300761\n",
       "1757    133008.592895\n",
       "1758     98907.964787\n",
       "1759    118933.667694\n",
       "1760    117908.992385\n",
       "1761    162112.222725\n",
       "Name: SalePrice, dtype: float64"
      ]
     },
     "execution_count": 480,
     "metadata": {},
     "output_type": "execute_result"
    }
   ],
   "source": [
    "sub_df[\"SalePrice\"] = pred\n",
    "sub_df[\"SalePrice\"].head(10)"
   ]
  },
  {
   "cell_type": "code",
   "execution_count": 481,
   "metadata": {
    "scrolled": true
   },
   "outputs": [],
   "source": [
    "sub_df.to_csv(\"catboost2.csv\")"
   ]
  },
  {
   "cell_type": "code",
   "execution_count": null,
   "metadata": {},
   "outputs": [],
   "source": []
  },
  {
   "cell_type": "code",
   "execution_count": null,
   "metadata": {},
   "outputs": [],
   "source": []
  },
  {
   "cell_type": "code",
   "execution_count": null,
   "metadata": {},
   "outputs": [],
   "source": []
  },
  {
   "cell_type": "code",
   "execution_count": null,
   "metadata": {},
   "outputs": [],
   "source": []
  },
  {
   "cell_type": "code",
   "execution_count": null,
   "metadata": {},
   "outputs": [],
   "source": []
  },
  {
   "cell_type": "code",
   "execution_count": null,
   "metadata": {},
   "outputs": [],
   "source": []
  },
  {
   "cell_type": "code",
   "execution_count": null,
   "metadata": {},
   "outputs": [],
   "source": []
  }
 ],
 "metadata": {
  "kernelspec": {
   "display_name": "Python 3",
   "language": "python",
   "name": "python3"
  },
  "language_info": {
   "codemirror_mode": {
    "name": "ipython",
    "version": 3
   },
   "file_extension": ".py",
   "mimetype": "text/x-python",
   "name": "python",
   "nbconvert_exporter": "python",
   "pygments_lexer": "ipython3",
   "version": "3.7.4"
  }
 },
 "nbformat": 4,
 "nbformat_minor": 4
}
