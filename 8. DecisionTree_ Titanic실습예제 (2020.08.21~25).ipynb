{
 "cells": [
  {
   "cell_type": "markdown",
   "metadata": {},
   "source": [
    "### 목표\n",
    "- 타이타닉 데이터 이용해서 생존자/사망자 예측해보자\n",
    "- 머신러닝 전체 과정을 학습해보자"
   ]
  },
  {
   "cell_type": "markdown",
   "metadata": {},
   "source": [
    "#### 머신러닝 과정\n",
    "- 문제정의\n",
    "- 데이터 수집: db, 크롤링...\n",
    "- 데이터 전처리\n",
    "- 탐색적 데이터 분석: 데이터끼리 상관관계, 최빈값, 최댓값, 평균값, 최솟값....\n",
    "- 모델 선택(하이퍼파라미터 조정) 및 학습\n",
    "- 모델 평가"
   ]
  },
  {
   "cell_type": "markdown",
   "metadata": {},
   "source": [
    "### 1. 문제정의\n",
    "- 생존자/사망자 예측\n",
    "- kaggle사이트에 올려 점수를 확인해보자(높은 점수를 차지해보자)\n",
    "- 머신러닝 전체 과정 학습"
   ]
  },
  {
   "cell_type": "markdown",
   "metadata": {},
   "source": [
    "### 2.데이터 수집"
   ]
  },
  {
   "cell_type": "markdown",
   "metadata": {},
   "source": [
    "- kaggle사이트에서 수집했다!"
   ]
  },
  {
   "cell_type": "markdown",
   "metadata": {},
   "source": [
    "#### train, test변수에 각각의 파일 로드해주세요!"
   ]
  },
  {
   "cell_type": "code",
   "execution_count": 1,
   "metadata": {},
   "outputs": [],
   "source": [
    "import numpy as np\n",
    "import pandas as pd\n",
    "import matplotlib.pyplot as plt\n",
    "import seaborn as sns   #데이터 시각화를 위한 라이브러리(matplotlib보다 빠르고 간단, 좀 더 다양한 색상)"
   ]
  },
  {
   "cell_type": "code",
   "execution_count": 2,
   "metadata": {},
   "outputs": [],
   "source": [
    "#PassengerId로 인덱스로 설정\n",
    "train = pd.read_csv('Data/train.csv', index_col = 'PassengerId')\n",
    "test = pd.read_csv('Data/test.csv', index_col = 'PassengerId')"
   ]
  },
  {
   "cell_type": "code",
   "execution_count": 3,
   "metadata": {},
   "outputs": [
    {
     "data": {
      "text/html": [
       "<div>\n",
       "<style scoped>\n",
       "    .dataframe tbody tr th:only-of-type {\n",
       "        vertical-align: middle;\n",
       "    }\n",
       "\n",
       "    .dataframe tbody tr th {\n",
       "        vertical-align: top;\n",
       "    }\n",
       "\n",
       "    .dataframe thead th {\n",
       "        text-align: right;\n",
       "    }\n",
       "</style>\n",
       "<table border=\"1\" class=\"dataframe\">\n",
       "  <thead>\n",
       "    <tr style=\"text-align: right;\">\n",
       "      <th></th>\n",
       "      <th>Survived</th>\n",
       "      <th>Pclass</th>\n",
       "      <th>Name</th>\n",
       "      <th>Sex</th>\n",
       "      <th>Age</th>\n",
       "      <th>SibSp</th>\n",
       "      <th>Parch</th>\n",
       "      <th>Ticket</th>\n",
       "      <th>Fare</th>\n",
       "      <th>Cabin</th>\n",
       "      <th>Embarked</th>\n",
       "    </tr>\n",
       "    <tr>\n",
       "      <th>PassengerId</th>\n",
       "      <th></th>\n",
       "      <th></th>\n",
       "      <th></th>\n",
       "      <th></th>\n",
       "      <th></th>\n",
       "      <th></th>\n",
       "      <th></th>\n",
       "      <th></th>\n",
       "      <th></th>\n",
       "      <th></th>\n",
       "      <th></th>\n",
       "    </tr>\n",
       "  </thead>\n",
       "  <tbody>\n",
       "    <tr>\n",
       "      <th>1</th>\n",
       "      <td>0</td>\n",
       "      <td>3</td>\n",
       "      <td>Braund, Mr. Owen Harris</td>\n",
       "      <td>male</td>\n",
       "      <td>22.0</td>\n",
       "      <td>1</td>\n",
       "      <td>0</td>\n",
       "      <td>A/5 21171</td>\n",
       "      <td>7.2500</td>\n",
       "      <td>NaN</td>\n",
       "      <td>S</td>\n",
       "    </tr>\n",
       "    <tr>\n",
       "      <th>2</th>\n",
       "      <td>1</td>\n",
       "      <td>1</td>\n",
       "      <td>Cumings, Mrs. John Bradley (Florence Briggs Th...</td>\n",
       "      <td>female</td>\n",
       "      <td>38.0</td>\n",
       "      <td>1</td>\n",
       "      <td>0</td>\n",
       "      <td>PC 17599</td>\n",
       "      <td>71.2833</td>\n",
       "      <td>C85</td>\n",
       "      <td>C</td>\n",
       "    </tr>\n",
       "    <tr>\n",
       "      <th>3</th>\n",
       "      <td>1</td>\n",
       "      <td>3</td>\n",
       "      <td>Heikkinen, Miss. Laina</td>\n",
       "      <td>female</td>\n",
       "      <td>26.0</td>\n",
       "      <td>0</td>\n",
       "      <td>0</td>\n",
       "      <td>STON/O2. 3101282</td>\n",
       "      <td>7.9250</td>\n",
       "      <td>NaN</td>\n",
       "      <td>S</td>\n",
       "    </tr>\n",
       "    <tr>\n",
       "      <th>4</th>\n",
       "      <td>1</td>\n",
       "      <td>1</td>\n",
       "      <td>Futrelle, Mrs. Jacques Heath (Lily May Peel)</td>\n",
       "      <td>female</td>\n",
       "      <td>35.0</td>\n",
       "      <td>1</td>\n",
       "      <td>0</td>\n",
       "      <td>113803</td>\n",
       "      <td>53.1000</td>\n",
       "      <td>C123</td>\n",
       "      <td>S</td>\n",
       "    </tr>\n",
       "    <tr>\n",
       "      <th>5</th>\n",
       "      <td>0</td>\n",
       "      <td>3</td>\n",
       "      <td>Allen, Mr. William Henry</td>\n",
       "      <td>male</td>\n",
       "      <td>35.0</td>\n",
       "      <td>0</td>\n",
       "      <td>0</td>\n",
       "      <td>373450</td>\n",
       "      <td>8.0500</td>\n",
       "      <td>NaN</td>\n",
       "      <td>S</td>\n",
       "    </tr>\n",
       "  </tbody>\n",
       "</table>\n",
       "</div>"
      ],
      "text/plain": [
       "             Survived  Pclass  \\\n",
       "PassengerId                     \n",
       "1                   0       3   \n",
       "2                   1       1   \n",
       "3                   1       3   \n",
       "4                   1       1   \n",
       "5                   0       3   \n",
       "\n",
       "                                                          Name     Sex   Age  \\\n",
       "PassengerId                                                                    \n",
       "1                                      Braund, Mr. Owen Harris    male  22.0   \n",
       "2            Cumings, Mrs. John Bradley (Florence Briggs Th...  female  38.0   \n",
       "3                                       Heikkinen, Miss. Laina  female  26.0   \n",
       "4                 Futrelle, Mrs. Jacques Heath (Lily May Peel)  female  35.0   \n",
       "5                                     Allen, Mr. William Henry    male  35.0   \n",
       "\n",
       "             SibSp  Parch            Ticket     Fare Cabin Embarked  \n",
       "PassengerId                                                          \n",
       "1                1      0         A/5 21171   7.2500   NaN        S  \n",
       "2                1      0          PC 17599  71.2833   C85        C  \n",
       "3                0      0  STON/O2. 3101282   7.9250   NaN        S  \n",
       "4                1      0            113803  53.1000  C123        S  \n",
       "5                0      0            373450   8.0500   NaN        S  "
      ]
     },
     "execution_count": 3,
     "metadata": {},
     "output_type": "execute_result"
    }
   ],
   "source": [
    "train.head()"
   ]
  },
  {
   "cell_type": "code",
   "execution_count": 4,
   "metadata": {},
   "outputs": [
    {
     "name": "stdout",
     "output_type": "stream",
     "text": [
      "(891, 11)\n",
      "(418, 10)\n"
     ]
    }
   ],
   "source": [
    "#shape: 데이터의 크기 확인\n",
    "print(train.shape)\n",
    "print(test.shape)"
   ]
  },
  {
   "cell_type": "markdown",
   "metadata": {},
   "source": [
    "### 3.데이터 전처리 및 데이터 탐색"
   ]
  },
  {
   "cell_type": "code",
   "execution_count": 5,
   "metadata": {},
   "outputs": [],
   "source": [
    "# 결측치 있는 컬럼 확인"
   ]
  },
  {
   "cell_type": "code",
   "execution_count": 6,
   "metadata": {
    "scrolled": true
   },
   "outputs": [
    {
     "name": "stdout",
     "output_type": "stream",
     "text": [
      "<class 'pandas.core.frame.DataFrame'>\n",
      "Int64Index: 891 entries, 1 to 891\n",
      "Data columns (total 11 columns):\n",
      " #   Column    Non-Null Count  Dtype  \n",
      "---  ------    --------------  -----  \n",
      " 0   Survived  891 non-null    int64  \n",
      " 1   Pclass    891 non-null    int64  \n",
      " 2   Name      891 non-null    object \n",
      " 3   Sex       891 non-null    object \n",
      " 4   Age       714 non-null    float64\n",
      " 5   SibSp     891 non-null    int64  \n",
      " 6   Parch     891 non-null    int64  \n",
      " 7   Ticket    891 non-null    object \n",
      " 8   Fare      891 non-null    float64\n",
      " 9   Cabin     204 non-null    object \n",
      " 10  Embarked  889 non-null    object \n",
      "dtypes: float64(2), int64(4), object(5)\n",
      "memory usage: 83.5+ KB\n"
     ]
    }
   ],
   "source": [
    "train.info()"
   ]
  },
  {
   "cell_type": "markdown",
   "metadata": {},
   "source": [
    "train 결측치가 있는 특성(=column) : Age, Cabin, Embarked"
   ]
  },
  {
   "cell_type": "code",
   "execution_count": 7,
   "metadata": {},
   "outputs": [
    {
     "name": "stdout",
     "output_type": "stream",
     "text": [
      "<class 'pandas.core.frame.DataFrame'>\n",
      "Int64Index: 418 entries, 892 to 1309\n",
      "Data columns (total 10 columns):\n",
      " #   Column    Non-Null Count  Dtype  \n",
      "---  ------    --------------  -----  \n",
      " 0   Pclass    418 non-null    int64  \n",
      " 1   Name      418 non-null    object \n",
      " 2   Sex       418 non-null    object \n",
      " 3   Age       332 non-null    float64\n",
      " 4   SibSp     418 non-null    int64  \n",
      " 5   Parch     418 non-null    int64  \n",
      " 6   Ticket    418 non-null    object \n",
      " 7   Fare      417 non-null    float64\n",
      " 8   Cabin     91 non-null     object \n",
      " 9   Embarked  418 non-null    object \n",
      "dtypes: float64(2), int64(3), object(5)\n",
      "memory usage: 35.9+ KB\n"
     ]
    }
   ],
   "source": [
    "test.info()"
   ]
  },
  {
   "cell_type": "markdown",
   "metadata": {},
   "source": [
    "test 결측치가 있는 특성: Age, Fare, Cabin"
   ]
  },
  {
   "cell_type": "markdown",
   "metadata": {},
   "source": [
    "#### Embarked(승선항) 결측치 채우기\n",
    "- S C Q 중에서 빈도값이 가장 높은 값으로 결측치를 채워보자"
   ]
  },
  {
   "cell_type": "code",
   "execution_count": 8,
   "metadata": {},
   "outputs": [
    {
     "data": {
      "text/plain": [
       "S    644\n",
       "C    168\n",
       "Q     77\n",
       "Name: Embarked, dtype: int64"
      ]
     },
     "execution_count": 8,
     "metadata": {},
     "output_type": "execute_result"
    }
   ],
   "source": [
    "# Value_counts()  >> series(1차원데이터)에만 적용됨\n",
    "train['Embarked'].value_counts()"
   ]
  },
  {
   "cell_type": "code",
   "execution_count": 9,
   "metadata": {},
   "outputs": [],
   "source": [
    "train['Embarked'] = train['Embarked'].fillna('S') #결측치 채워주고, 다시 초기화 시켜줘야 함  (안그러면 값이 둥둥 뜸)\n",
    "# train 결측치 채워줬으면 test도 해줘야하지만, 타이타닉은 test의 Embarked 값에 결측치 없으므로 여기서는 적용X\n",
    "# 'S'가 정답은 아니지만 여기서는 다른 정보가 없기에 가장 많은 수를 갖은 'S'로 채워줌 (단순 기술 통계치)"
   ]
  },
  {
   "cell_type": "code",
   "execution_count": 10,
   "metadata": {},
   "outputs": [
    {
     "name": "stdout",
     "output_type": "stream",
     "text": [
      "<class 'pandas.core.frame.DataFrame'>\n",
      "Int64Index: 891 entries, 1 to 891\n",
      "Data columns (total 11 columns):\n",
      " #   Column    Non-Null Count  Dtype  \n",
      "---  ------    --------------  -----  \n",
      " 0   Survived  891 non-null    int64  \n",
      " 1   Pclass    891 non-null    int64  \n",
      " 2   Name      891 non-null    object \n",
      " 3   Sex       891 non-null    object \n",
      " 4   Age       714 non-null    float64\n",
      " 5   SibSp     891 non-null    int64  \n",
      " 6   Parch     891 non-null    int64  \n",
      " 7   Ticket    891 non-null    object \n",
      " 8   Fare      891 non-null    float64\n",
      " 9   Cabin     204 non-null    object \n",
      " 10  Embarked  891 non-null    object \n",
      "dtypes: float64(2), int64(4), object(5)\n",
      "memory usage: 83.5+ KB\n"
     ]
    }
   ],
   "source": [
    "train.info()\n",
    "#cf. pandas의 object --> 문자타입"
   ]
  },
  {
   "cell_type": "markdown",
   "metadata": {},
   "source": [
    "### Age 결측치 채우기\n",
    "- 단순 기술 통계치로 채우지 않고, 다른 컬럼과의 상관관계를 이용해서 결측치를 채워보자\n",
    "- Age와 다른 컬럼의 상관관계를 확인해보자"
   ]
  },
  {
   "cell_type": "code",
   "execution_count": 11,
   "metadata": {},
   "outputs": [
    {
     "data": {
      "text/html": [
       "<div>\n",
       "<style scoped>\n",
       "    .dataframe tbody tr th:only-of-type {\n",
       "        vertical-align: middle;\n",
       "    }\n",
       "\n",
       "    .dataframe tbody tr th {\n",
       "        vertical-align: top;\n",
       "    }\n",
       "\n",
       "    .dataframe thead th {\n",
       "        text-align: right;\n",
       "    }\n",
       "</style>\n",
       "<table border=\"1\" class=\"dataframe\">\n",
       "  <thead>\n",
       "    <tr style=\"text-align: right;\">\n",
       "      <th></th>\n",
       "      <th>Survived</th>\n",
       "      <th>Pclass</th>\n",
       "      <th>Age</th>\n",
       "      <th>SibSp</th>\n",
       "      <th>Parch</th>\n",
       "      <th>Fare</th>\n",
       "    </tr>\n",
       "  </thead>\n",
       "  <tbody>\n",
       "    <tr>\n",
       "      <th>Survived</th>\n",
       "      <td>1.000000</td>\n",
       "      <td>-0.338481</td>\n",
       "      <td>-0.077221</td>\n",
       "      <td>-0.035322</td>\n",
       "      <td>0.081629</td>\n",
       "      <td>0.257307</td>\n",
       "    </tr>\n",
       "    <tr>\n",
       "      <th>Pclass</th>\n",
       "      <td>-0.338481</td>\n",
       "      <td>1.000000</td>\n",
       "      <td>-0.369226</td>\n",
       "      <td>0.083081</td>\n",
       "      <td>0.018443</td>\n",
       "      <td>-0.549500</td>\n",
       "    </tr>\n",
       "    <tr>\n",
       "      <th>Age</th>\n",
       "      <td>-0.077221</td>\n",
       "      <td>-0.369226</td>\n",
       "      <td>1.000000</td>\n",
       "      <td>-0.308247</td>\n",
       "      <td>-0.189119</td>\n",
       "      <td>0.096067</td>\n",
       "    </tr>\n",
       "    <tr>\n",
       "      <th>SibSp</th>\n",
       "      <td>-0.035322</td>\n",
       "      <td>0.083081</td>\n",
       "      <td>-0.308247</td>\n",
       "      <td>1.000000</td>\n",
       "      <td>0.414838</td>\n",
       "      <td>0.159651</td>\n",
       "    </tr>\n",
       "    <tr>\n",
       "      <th>Parch</th>\n",
       "      <td>0.081629</td>\n",
       "      <td>0.018443</td>\n",
       "      <td>-0.189119</td>\n",
       "      <td>0.414838</td>\n",
       "      <td>1.000000</td>\n",
       "      <td>0.216225</td>\n",
       "    </tr>\n",
       "    <tr>\n",
       "      <th>Fare</th>\n",
       "      <td>0.257307</td>\n",
       "      <td>-0.549500</td>\n",
       "      <td>0.096067</td>\n",
       "      <td>0.159651</td>\n",
       "      <td>0.216225</td>\n",
       "      <td>1.000000</td>\n",
       "    </tr>\n",
       "  </tbody>\n",
       "</table>\n",
       "</div>"
      ],
      "text/plain": [
       "          Survived    Pclass       Age     SibSp     Parch      Fare\n",
       "Survived  1.000000 -0.338481 -0.077221 -0.035322  0.081629  0.257307\n",
       "Pclass   -0.338481  1.000000 -0.369226  0.083081  0.018443 -0.549500\n",
       "Age      -0.077221 -0.369226  1.000000 -0.308247 -0.189119  0.096067\n",
       "SibSp    -0.035322  0.083081 -0.308247  1.000000  0.414838  0.159651\n",
       "Parch     0.081629  0.018443 -0.189119  0.414838  1.000000  0.216225\n",
       "Fare      0.257307 -0.549500  0.096067  0.159651  0.216225  1.000000"
      ]
     },
     "execution_count": 11,
     "metadata": {},
     "output_type": "execute_result"
    }
   ],
   "source": [
    "# corr() 상관관계 확인\n",
    "train.corr()"
   ]
  },
  {
   "cell_type": "markdown",
   "metadata": {},
   "source": [
    "- Age 컬럼과 상관관계가 가장 높은 컬럼은 Pclass\n",
    "- 여자, 남자의 평균 나이값이 다를 수 있으므로 Sex컬럼과 그룹핑을 통해 결측치를 채워보자"
   ]
  },
  {
   "cell_type": "code",
   "execution_count": 12,
   "metadata": {},
   "outputs": [
    {
     "data": {
      "text/html": [
       "<div>\n",
       "<style scoped>\n",
       "    .dataframe tbody tr th:only-of-type {\n",
       "        vertical-align: middle;\n",
       "    }\n",
       "\n",
       "    .dataframe tbody tr th {\n",
       "        vertical-align: top;\n",
       "    }\n",
       "\n",
       "    .dataframe thead th {\n",
       "        text-align: right;\n",
       "    }\n",
       "</style>\n",
       "<table border=\"1\" class=\"dataframe\">\n",
       "  <thead>\n",
       "    <tr style=\"text-align: right;\">\n",
       "      <th>Sex</th>\n",
       "      <th>female</th>\n",
       "      <th>male</th>\n",
       "    </tr>\n",
       "    <tr>\n",
       "      <th>Pclass</th>\n",
       "      <th></th>\n",
       "      <th></th>\n",
       "    </tr>\n",
       "  </thead>\n",
       "  <tbody>\n",
       "    <tr>\n",
       "      <th>1</th>\n",
       "      <td>34.611765</td>\n",
       "      <td>41.281386</td>\n",
       "    </tr>\n",
       "    <tr>\n",
       "      <th>2</th>\n",
       "      <td>28.722973</td>\n",
       "      <td>30.740707</td>\n",
       "    </tr>\n",
       "    <tr>\n",
       "      <th>3</th>\n",
       "      <td>21.750000</td>\n",
       "      <td>26.507589</td>\n",
       "    </tr>\n",
       "  </tbody>\n",
       "</table>\n",
       "</div>"
      ],
      "text/plain": [
       "Sex        female       male\n",
       "Pclass                      \n",
       "1       34.611765  41.281386\n",
       "2       28.722973  30.740707\n",
       "3       21.750000  26.507589"
      ]
     },
     "execution_count": 12,
     "metadata": {},
     "output_type": "execute_result"
    }
   ],
   "source": [
    "pt = train.pivot_table(values = 'Age',\n",
    "                      index = 'Pclass',\n",
    "                      columns = 'Sex',\n",
    "                      aggfunc = 'mean')\n",
    "pt"
   ]
  },
  {
   "cell_type": "code",
   "execution_count": 13,
   "metadata": {},
   "outputs": [
    {
     "data": {
      "text/plain": [
       "34.61176470588235"
      ]
     },
     "execution_count": 13,
     "metadata": {},
     "output_type": "execute_result"
    }
   ],
   "source": [
    "# Pclass가 1이고, Sex가 'female'인 값 인덱싱\n",
    "# loc이용(문자열 이름가지고 인덱싱. 행,열 둘다 넣어줄 수 있음)\n",
    "pt.loc[1,'female']"
   ]
  },
  {
   "cell_type": "code",
   "execution_count": 14,
   "metadata": {},
   "outputs": [
    {
     "data": {
      "text/plain": [
       "26.507588932806325"
      ]
     },
     "execution_count": 14,
     "metadata": {},
     "output_type": "execute_result"
    }
   ],
   "source": [
    "# Pclass가 3이고, Sex가 'male'인 값 인덱싱\n",
    "# loc이용\n",
    "pt.loc[3, 'male']"
   ]
  },
  {
   "cell_type": "code",
   "execution_count": 15,
   "metadata": {},
   "outputs": [],
   "source": [
    "def fill_age(row):\n",
    "    #만약 나이에 결측치가 있는 행이라면 피벗테이블 값을 넣어 줌\n",
    "    if np.isnan(row['Age']):\n",
    "        return pt.loc[row['Pclass'], row['Sex']]  #pt.loc[3, 'male'] 이런식으로 반환해줌\n",
    "    #결측치가 없다면 train데이터의 Age값을 그대로 넣어 줌\n",
    "    else:\n",
    "        return row['Age']"
   ]
  },
  {
   "cell_type": "code",
   "execution_count": 16,
   "metadata": {},
   "outputs": [],
   "source": [
    "train['Age'] = train.apply(fill_age, axis = 1).astype('int64') #뒤의 소수점값 필요없으므로 astype은 int64"
   ]
  },
  {
   "cell_type": "code",
   "execution_count": 17,
   "metadata": {},
   "outputs": [
    {
     "name": "stdout",
     "output_type": "stream",
     "text": [
      "<class 'pandas.core.frame.DataFrame'>\n",
      "Int64Index: 891 entries, 1 to 891\n",
      "Data columns (total 11 columns):\n",
      " #   Column    Non-Null Count  Dtype  \n",
      "---  ------    --------------  -----  \n",
      " 0   Survived  891 non-null    int64  \n",
      " 1   Pclass    891 non-null    int64  \n",
      " 2   Name      891 non-null    object \n",
      " 3   Sex       891 non-null    object \n",
      " 4   Age       891 non-null    int64  \n",
      " 5   SibSp     891 non-null    int64  \n",
      " 6   Parch     891 non-null    int64  \n",
      " 7   Ticket    891 non-null    object \n",
      " 8   Fare      891 non-null    float64\n",
      " 9   Cabin     204 non-null    object \n",
      " 10  Embarked  891 non-null    object \n",
      "dtypes: float64(1), int64(5), object(5)\n",
      "memory usage: 83.5+ KB\n"
     ]
    }
   ],
   "source": [
    "train.info()"
   ]
  },
  {
   "cell_type": "code",
   "execution_count": 18,
   "metadata": {},
   "outputs": [
    {
     "name": "stdout",
     "output_type": "stream",
     "text": [
      "<class 'pandas.core.frame.DataFrame'>\n",
      "Int64Index: 418 entries, 892 to 1309\n",
      "Data columns (total 10 columns):\n",
      " #   Column    Non-Null Count  Dtype  \n",
      "---  ------    --------------  -----  \n",
      " 0   Pclass    418 non-null    int64  \n",
      " 1   Name      418 non-null    object \n",
      " 2   Sex       418 non-null    object \n",
      " 3   Age       332 non-null    float64\n",
      " 4   SibSp     418 non-null    int64  \n",
      " 5   Parch     418 non-null    int64  \n",
      " 6   Ticket    418 non-null    object \n",
      " 7   Fare      417 non-null    float64\n",
      " 8   Cabin     91 non-null     object \n",
      " 9   Embarked  418 non-null    object \n",
      "dtypes: float64(2), int64(3), object(5)\n",
      "memory usage: 35.9+ KB\n"
     ]
    }
   ],
   "source": [
    "test.info()"
   ]
  },
  {
   "cell_type": "code",
   "execution_count": 19,
   "metadata": {},
   "outputs": [],
   "source": [
    "test['Age'] = test.apply(fill_age, axis = 1).astype('int64')"
   ]
  },
  {
   "cell_type": "code",
   "execution_count": 20,
   "metadata": {},
   "outputs": [
    {
     "name": "stdout",
     "output_type": "stream",
     "text": [
      "<class 'pandas.core.frame.DataFrame'>\n",
      "Int64Index: 418 entries, 892 to 1309\n",
      "Data columns (total 10 columns):\n",
      " #   Column    Non-Null Count  Dtype  \n",
      "---  ------    --------------  -----  \n",
      " 0   Pclass    418 non-null    int64  \n",
      " 1   Name      418 non-null    object \n",
      " 2   Sex       418 non-null    object \n",
      " 3   Age       418 non-null    int64  \n",
      " 4   SibSp     418 non-null    int64  \n",
      " 5   Parch     418 non-null    int64  \n",
      " 6   Ticket    418 non-null    object \n",
      " 7   Fare      417 non-null    float64\n",
      " 8   Cabin     91 non-null     object \n",
      " 9   Embarked  418 non-null    object \n",
      "dtypes: float64(1), int64(4), object(5)\n",
      "memory usage: 35.9+ KB\n"
     ]
    }
   ],
   "source": [
    "test.info()"
   ]
  },
  {
   "cell_type": "markdown",
   "metadata": {},
   "source": [
    "### Fare 결측치 채우기\n",
    "- Fare와 상관관계가 높은 컬럼확인 -> Pclass\n",
    "- Pclass와 Sex를 이용해서 결측치 채우기"
   ]
  },
  {
   "cell_type": "code",
   "execution_count": 21,
   "metadata": {},
   "outputs": [
    {
     "data": {
      "text/html": [
       "<div>\n",
       "<style scoped>\n",
       "    .dataframe tbody tr th:only-of-type {\n",
       "        vertical-align: middle;\n",
       "    }\n",
       "\n",
       "    .dataframe tbody tr th {\n",
       "        vertical-align: top;\n",
       "    }\n",
       "\n",
       "    .dataframe thead th {\n",
       "        text-align: right;\n",
       "    }\n",
       "</style>\n",
       "<table border=\"1\" class=\"dataframe\">\n",
       "  <thead>\n",
       "    <tr style=\"text-align: right;\">\n",
       "      <th></th>\n",
       "      <th>Survived</th>\n",
       "      <th>Pclass</th>\n",
       "      <th>Age</th>\n",
       "      <th>SibSp</th>\n",
       "      <th>Parch</th>\n",
       "      <th>Fare</th>\n",
       "    </tr>\n",
       "  </thead>\n",
       "  <tbody>\n",
       "    <tr>\n",
       "      <th>Survived</th>\n",
       "      <td>1.000000</td>\n",
       "      <td>-0.338481</td>\n",
       "      <td>-0.066538</td>\n",
       "      <td>-0.035322</td>\n",
       "      <td>0.081629</td>\n",
       "      <td>0.257307</td>\n",
       "    </tr>\n",
       "    <tr>\n",
       "      <th>Pclass</th>\n",
       "      <td>-0.338481</td>\n",
       "      <td>1.000000</td>\n",
       "      <td>-0.410104</td>\n",
       "      <td>0.083081</td>\n",
       "      <td>0.018443</td>\n",
       "      <td>-0.549500</td>\n",
       "    </tr>\n",
       "    <tr>\n",
       "      <th>Age</th>\n",
       "      <td>-0.066538</td>\n",
       "      <td>-0.410104</td>\n",
       "      <td>1.000000</td>\n",
       "      <td>-0.251439</td>\n",
       "      <td>-0.178855</td>\n",
       "      <td>0.120173</td>\n",
       "    </tr>\n",
       "    <tr>\n",
       "      <th>SibSp</th>\n",
       "      <td>-0.035322</td>\n",
       "      <td>0.083081</td>\n",
       "      <td>-0.251439</td>\n",
       "      <td>1.000000</td>\n",
       "      <td>0.414838</td>\n",
       "      <td>0.159651</td>\n",
       "    </tr>\n",
       "    <tr>\n",
       "      <th>Parch</th>\n",
       "      <td>0.081629</td>\n",
       "      <td>0.018443</td>\n",
       "      <td>-0.178855</td>\n",
       "      <td>0.414838</td>\n",
       "      <td>1.000000</td>\n",
       "      <td>0.216225</td>\n",
       "    </tr>\n",
       "    <tr>\n",
       "      <th>Fare</th>\n",
       "      <td>0.257307</td>\n",
       "      <td>-0.549500</td>\n",
       "      <td>0.120173</td>\n",
       "      <td>0.159651</td>\n",
       "      <td>0.216225</td>\n",
       "      <td>1.000000</td>\n",
       "    </tr>\n",
       "  </tbody>\n",
       "</table>\n",
       "</div>"
      ],
      "text/plain": [
       "          Survived    Pclass       Age     SibSp     Parch      Fare\n",
       "Survived  1.000000 -0.338481 -0.066538 -0.035322  0.081629  0.257307\n",
       "Pclass   -0.338481  1.000000 -0.410104  0.083081  0.018443 -0.549500\n",
       "Age      -0.066538 -0.410104  1.000000 -0.251439 -0.178855  0.120173\n",
       "SibSp    -0.035322  0.083081 -0.251439  1.000000  0.414838  0.159651\n",
       "Parch     0.081629  0.018443 -0.178855  0.414838  1.000000  0.216225\n",
       "Fare      0.257307 -0.549500  0.120173  0.159651  0.216225  1.000000"
      ]
     },
     "execution_count": 21,
     "metadata": {},
     "output_type": "execute_result"
    }
   ],
   "source": [
    "# corr\n",
    "train.corr()"
   ]
  },
  {
   "cell_type": "code",
   "execution_count": 22,
   "metadata": {},
   "outputs": [
    {
     "data": {
      "text/html": [
       "<div>\n",
       "<style scoped>\n",
       "    .dataframe tbody tr th:only-of-type {\n",
       "        vertical-align: middle;\n",
       "    }\n",
       "\n",
       "    .dataframe tbody tr th {\n",
       "        vertical-align: top;\n",
       "    }\n",
       "\n",
       "    .dataframe thead th {\n",
       "        text-align: right;\n",
       "    }\n",
       "</style>\n",
       "<table border=\"1\" class=\"dataframe\">\n",
       "  <thead>\n",
       "    <tr style=\"text-align: right;\">\n",
       "      <th>Sex</th>\n",
       "      <th>female</th>\n",
       "      <th>male</th>\n",
       "    </tr>\n",
       "    <tr>\n",
       "      <th>Pclass</th>\n",
       "      <th></th>\n",
       "      <th></th>\n",
       "    </tr>\n",
       "  </thead>\n",
       "  <tbody>\n",
       "    <tr>\n",
       "      <th>1</th>\n",
       "      <td>106.125798</td>\n",
       "      <td>67.226127</td>\n",
       "    </tr>\n",
       "    <tr>\n",
       "      <th>2</th>\n",
       "      <td>21.970121</td>\n",
       "      <td>19.741782</td>\n",
       "    </tr>\n",
       "    <tr>\n",
       "      <th>3</th>\n",
       "      <td>16.118810</td>\n",
       "      <td>12.661633</td>\n",
       "    </tr>\n",
       "  </tbody>\n",
       "</table>\n",
       "</div>"
      ],
      "text/plain": [
       "Sex         female       male\n",
       "Pclass                       \n",
       "1       106.125798  67.226127\n",
       "2        21.970121  19.741782\n",
       "3        16.118810  12.661633"
      ]
     },
     "execution_count": 22,
     "metadata": {},
     "output_type": "execute_result"
    }
   ],
   "source": [
    "# 피벗테이블 구성하여 요금 평균값 확인\n",
    "#인덱스 Pclass 기준, 컬럼은 Sex 기준, 값은 Fare 평균값\n",
    "\n",
    "pt2 = train.pivot_table(values = 'Fare',\n",
    "                      index = 'Pclass',\n",
    "                      columns = 'Sex',\n",
    "                      aggfunc = 'mean')\n",
    "pt2"
   ]
  },
  {
   "cell_type": "code",
   "execution_count": 23,
   "metadata": {},
   "outputs": [
    {
     "data": {
      "text/plain": [
       "PassengerId\n",
       "892       7.8292\n",
       "893       7.0000\n",
       "894       9.6875\n",
       "895       8.6625\n",
       "896      12.2875\n",
       "          ...   \n",
       "1305      8.0500\n",
       "1306    108.9000\n",
       "1307      7.2500\n",
       "1308      8.0500\n",
       "1309     22.3583\n",
       "Name: Fare, Length: 418, dtype: float64"
      ]
     },
     "execution_count": 23,
     "metadata": {},
     "output_type": "execute_result"
    }
   ],
   "source": [
    "test['Fare']  #소수점4자리까지"
   ]
  },
  {
   "cell_type": "code",
   "execution_count": 24,
   "metadata": {},
   "outputs": [
    {
     "data": {
      "text/html": [
       "<div>\n",
       "<style scoped>\n",
       "    .dataframe tbody tr th:only-of-type {\n",
       "        vertical-align: middle;\n",
       "    }\n",
       "\n",
       "    .dataframe tbody tr th {\n",
       "        vertical-align: top;\n",
       "    }\n",
       "\n",
       "    .dataframe thead th {\n",
       "        text-align: right;\n",
       "    }\n",
       "</style>\n",
       "<table border=\"1\" class=\"dataframe\">\n",
       "  <thead>\n",
       "    <tr style=\"text-align: right;\">\n",
       "      <th></th>\n",
       "      <th>Pclass</th>\n",
       "      <th>Name</th>\n",
       "      <th>Sex</th>\n",
       "      <th>Age</th>\n",
       "      <th>SibSp</th>\n",
       "      <th>Parch</th>\n",
       "      <th>Ticket</th>\n",
       "      <th>Fare</th>\n",
       "      <th>Cabin</th>\n",
       "      <th>Embarked</th>\n",
       "    </tr>\n",
       "    <tr>\n",
       "      <th>PassengerId</th>\n",
       "      <th></th>\n",
       "      <th></th>\n",
       "      <th></th>\n",
       "      <th></th>\n",
       "      <th></th>\n",
       "      <th></th>\n",
       "      <th></th>\n",
       "      <th></th>\n",
       "      <th></th>\n",
       "      <th></th>\n",
       "    </tr>\n",
       "  </thead>\n",
       "  <tbody>\n",
       "    <tr>\n",
       "      <th>1044</th>\n",
       "      <td>3</td>\n",
       "      <td>Storey, Mr. Thomas</td>\n",
       "      <td>male</td>\n",
       "      <td>60</td>\n",
       "      <td>0</td>\n",
       "      <td>0</td>\n",
       "      <td>3701</td>\n",
       "      <td>NaN</td>\n",
       "      <td>NaN</td>\n",
       "      <td>S</td>\n",
       "    </tr>\n",
       "  </tbody>\n",
       "</table>\n",
       "</div>"
      ],
      "text/plain": [
       "             Pclass                Name   Sex  Age  SibSp  Parch Ticket  Fare  \\\n",
       "PassengerId                                                                     \n",
       "1044              3  Storey, Mr. Thomas  male   60      0      0   3701   NaN   \n",
       "\n",
       "            Cabin Embarked  \n",
       "PassengerId                 \n",
       "1044          NaN        S  "
      ]
     },
     "execution_count": 24,
     "metadata": {},
     "output_type": "execute_result"
    }
   ],
   "source": [
    "#test Fare 컬럼의 결측치 있는 행 출력\n",
    "test[test['Fare'].isnull()]"
   ]
  },
  {
   "cell_type": "code",
   "execution_count": 25,
   "metadata": {},
   "outputs": [],
   "source": [
    "test['Fare'] = test['Fare'].fillna(12.6616)"
   ]
  },
  {
   "cell_type": "code",
   "execution_count": 26,
   "metadata": {},
   "outputs": [
    {
     "name": "stdout",
     "output_type": "stream",
     "text": [
      "<class 'pandas.core.frame.DataFrame'>\n",
      "Int64Index: 418 entries, 892 to 1309\n",
      "Data columns (total 10 columns):\n",
      " #   Column    Non-Null Count  Dtype  \n",
      "---  ------    --------------  -----  \n",
      " 0   Pclass    418 non-null    int64  \n",
      " 1   Name      418 non-null    object \n",
      " 2   Sex       418 non-null    object \n",
      " 3   Age       418 non-null    int64  \n",
      " 4   SibSp     418 non-null    int64  \n",
      " 5   Parch     418 non-null    int64  \n",
      " 6   Ticket    418 non-null    object \n",
      " 7   Fare      418 non-null    float64\n",
      " 8   Cabin     91 non-null     object \n",
      " 9   Embarked  418 non-null    object \n",
      "dtypes: float64(1), int64(4), object(5)\n",
      "memory usage: 35.9+ KB\n"
     ]
    }
   ],
   "source": [
    "test.info()"
   ]
  },
  {
   "cell_type": "markdown",
   "metadata": {},
   "source": [
    "### Cabin(객실,선실번호) 결측치 채우기"
   ]
  },
  {
   "cell_type": "code",
   "execution_count": 27,
   "metadata": {},
   "outputs": [
    {
     "data": {
      "text/plain": [
       "array([nan, 'C85', 'C123', 'E46', 'G6', 'C103', 'D56', 'A6',\n",
       "       'C23 C25 C27', 'B78', 'D33', 'B30', 'C52', 'B28', 'C83', 'F33',\n",
       "       'F G73', 'E31', 'A5', 'D10 D12', 'D26', 'C110', 'B58 B60', 'E101',\n",
       "       'F E69', 'D47', 'B86', 'F2', 'C2', 'E33', 'B19', 'A7', 'C49', 'F4',\n",
       "       'A32', 'B4', 'B80', 'A31', 'D36', 'D15', 'C93', 'C78', 'D35',\n",
       "       'C87', 'B77', 'E67', 'B94', 'C125', 'C99', 'C118', 'D7', 'A19',\n",
       "       'B49', 'D', 'C22 C26', 'C106', 'C65', 'E36', 'C54',\n",
       "       'B57 B59 B63 B66', 'C7', 'E34', 'C32', 'B18', 'C124', 'C91', 'E40',\n",
       "       'T', 'C128', 'D37', 'B35', 'E50', 'C82', 'B96 B98', 'E10', 'E44',\n",
       "       'A34', 'C104', 'C111', 'C92', 'E38', 'D21', 'E12', 'E63', 'A14',\n",
       "       'B37', 'C30', 'D20', 'B79', 'E25', 'D46', 'B73', 'C95', 'B38',\n",
       "       'B39', 'B22', 'C86', 'C70', 'A16', 'C101', 'C68', 'A10', 'E68',\n",
       "       'B41', 'A20', 'D19', 'D50', 'D9', 'A23', 'B50', 'A26', 'D48',\n",
       "       'E58', 'C126', 'B71', 'B51 B53 B55', 'D49', 'B5', 'B20', 'F G63',\n",
       "       'C62 C64', 'E24', 'C90', 'C45', 'E8', 'B101', 'D45', 'C46', 'D30',\n",
       "       'E121', 'D11', 'E77', 'F38', 'B3', 'D6', 'B82 B84', 'D17', 'A36',\n",
       "       'B102', 'B69', 'E49', 'C47', 'D28', 'E17', 'A24', 'C50', 'B42',\n",
       "       'C148'], dtype=object)"
      ]
     },
     "execution_count": 27,
     "metadata": {},
     "output_type": "execute_result"
    }
   ],
   "source": [
    "train['Cabin'].unique() #중복없이 볼 수 있는 unique"
   ]
  },
  {
   "cell_type": "code",
   "execution_count": 28,
   "metadata": {},
   "outputs": [],
   "source": [
    "train['Deck'] = train['Cabin'].fillna('M')  #임의의 알파벳M으로\n",
    "test['Deck'] = test['Cabin'].fillna('M') #결측치가 채워진 Cabin을 새롭게 만든 Deck에 채워줌"
   ]
  },
  {
   "cell_type": "code",
   "execution_count": 29,
   "metadata": {},
   "outputs": [],
   "source": [
    "train['Deck'] = train['Deck'].str[0]\n",
    "test['Deck'] = test['Deck'].str[0]"
   ]
  },
  {
   "cell_type": "code",
   "execution_count": 30,
   "metadata": {},
   "outputs": [
    {
     "data": {
      "text/plain": [
       "PassengerId\n",
       "1    M\n",
       "2    C\n",
       "3    M\n",
       "4    C\n",
       "5    M\n",
       "Name: Deck, dtype: object"
      ]
     },
     "execution_count": 30,
     "metadata": {},
     "output_type": "execute_result"
    }
   ],
   "source": [
    "train['Deck'].head()"
   ]
  },
  {
   "cell_type": "code",
   "execution_count": 31,
   "metadata": {},
   "outputs": [],
   "source": [
    "# Cabin 컬럼 무의미해져서 삭제함\n",
    "train.drop('Cabin', axis = 1, inplace = True) #inplace True로 주면 삭제가 바로 적용되어 초기화됨\n",
    "test.drop('Cabin', axis = 1, inplace = True)"
   ]
  },
  {
   "cell_type": "code",
   "execution_count": 32,
   "metadata": {},
   "outputs": [
    {
     "name": "stdout",
     "output_type": "stream",
     "text": [
      "<class 'pandas.core.frame.DataFrame'>\n",
      "Int64Index: 891 entries, 1 to 891\n",
      "Data columns (total 11 columns):\n",
      " #   Column    Non-Null Count  Dtype  \n",
      "---  ------    --------------  -----  \n",
      " 0   Survived  891 non-null    int64  \n",
      " 1   Pclass    891 non-null    int64  \n",
      " 2   Name      891 non-null    object \n",
      " 3   Sex       891 non-null    object \n",
      " 4   Age       891 non-null    int64  \n",
      " 5   SibSp     891 non-null    int64  \n",
      " 6   Parch     891 non-null    int64  \n",
      " 7   Ticket    891 non-null    object \n",
      " 8   Fare      891 non-null    float64\n",
      " 9   Embarked  891 non-null    object \n",
      " 10  Deck      891 non-null    object \n",
      "dtypes: float64(1), int64(5), object(5)\n",
      "memory usage: 83.5+ KB\n"
     ]
    }
   ],
   "source": [
    "train.info()"
   ]
  },
  {
   "cell_type": "code",
   "execution_count": 33,
   "metadata": {},
   "outputs": [
    {
     "name": "stdout",
     "output_type": "stream",
     "text": [
      "<class 'pandas.core.frame.DataFrame'>\n",
      "Int64Index: 418 entries, 892 to 1309\n",
      "Data columns (total 10 columns):\n",
      " #   Column    Non-Null Count  Dtype  \n",
      "---  ------    --------------  -----  \n",
      " 0   Pclass    418 non-null    int64  \n",
      " 1   Name      418 non-null    object \n",
      " 2   Sex       418 non-null    object \n",
      " 3   Age       418 non-null    int64  \n",
      " 4   SibSp     418 non-null    int64  \n",
      " 5   Parch     418 non-null    int64  \n",
      " 6   Ticket    418 non-null    object \n",
      " 7   Fare      418 non-null    float64\n",
      " 8   Embarked  418 non-null    object \n",
      " 9   Deck      418 non-null    object \n",
      "dtypes: float64(1), int64(4), object(5)\n",
      "memory usage: 35.9+ KB\n"
     ]
    }
   ],
   "source": [
    "test.info()"
   ]
  },
  {
   "cell_type": "markdown",
   "metadata": {},
   "source": [
    "### 데이터 탐색\n",
    "- train 데이터 탐색\n",
    "- test를 탐색하는 것은 모델 일반화에 도움이 되지 않기 때문에 하지 않음."
   ]
  },
  {
   "cell_type": "markdown",
   "metadata": {},
   "source": [
    "#### 범주형 데이터 탐색"
   ]
  },
  {
   "cell_type": "markdown",
   "metadata": {},
   "source": [
    "- Deck 시각화\n",
    "----> 선실의 정보와 연결하여 생존/사망 수 시각화 해보기"
   ]
  },
  {
   "cell_type": "code",
   "execution_count": 34,
   "metadata": {},
   "outputs": [
    {
     "data": {
      "text/html": [
       "<div>\n",
       "<style scoped>\n",
       "    .dataframe tbody tr th:only-of-type {\n",
       "        vertical-align: middle;\n",
       "    }\n",
       "\n",
       "    .dataframe tbody tr th {\n",
       "        vertical-align: top;\n",
       "    }\n",
       "\n",
       "    .dataframe thead th {\n",
       "        text-align: right;\n",
       "    }\n",
       "</style>\n",
       "<table border=\"1\" class=\"dataframe\">\n",
       "  <thead>\n",
       "    <tr style=\"text-align: right;\">\n",
       "      <th></th>\n",
       "      <th></th>\n",
       "      <th>Name</th>\n",
       "    </tr>\n",
       "    <tr>\n",
       "      <th>Deck</th>\n",
       "      <th>Survived</th>\n",
       "      <th></th>\n",
       "    </tr>\n",
       "  </thead>\n",
       "  <tbody>\n",
       "    <tr>\n",
       "      <th rowspan=\"2\" valign=\"top\">A</th>\n",
       "      <th>0</th>\n",
       "      <td>8</td>\n",
       "    </tr>\n",
       "    <tr>\n",
       "      <th>1</th>\n",
       "      <td>7</td>\n",
       "    </tr>\n",
       "    <tr>\n",
       "      <th rowspan=\"2\" valign=\"top\">B</th>\n",
       "      <th>0</th>\n",
       "      <td>12</td>\n",
       "    </tr>\n",
       "    <tr>\n",
       "      <th>1</th>\n",
       "      <td>35</td>\n",
       "    </tr>\n",
       "    <tr>\n",
       "      <th rowspan=\"2\" valign=\"top\">C</th>\n",
       "      <th>0</th>\n",
       "      <td>24</td>\n",
       "    </tr>\n",
       "    <tr>\n",
       "      <th>1</th>\n",
       "      <td>35</td>\n",
       "    </tr>\n",
       "    <tr>\n",
       "      <th rowspan=\"2\" valign=\"top\">D</th>\n",
       "      <th>0</th>\n",
       "      <td>8</td>\n",
       "    </tr>\n",
       "    <tr>\n",
       "      <th>1</th>\n",
       "      <td>25</td>\n",
       "    </tr>\n",
       "    <tr>\n",
       "      <th rowspan=\"2\" valign=\"top\">E</th>\n",
       "      <th>0</th>\n",
       "      <td>8</td>\n",
       "    </tr>\n",
       "    <tr>\n",
       "      <th>1</th>\n",
       "      <td>24</td>\n",
       "    </tr>\n",
       "    <tr>\n",
       "      <th rowspan=\"2\" valign=\"top\">F</th>\n",
       "      <th>0</th>\n",
       "      <td>5</td>\n",
       "    </tr>\n",
       "    <tr>\n",
       "      <th>1</th>\n",
       "      <td>8</td>\n",
       "    </tr>\n",
       "    <tr>\n",
       "      <th rowspan=\"2\" valign=\"top\">G</th>\n",
       "      <th>0</th>\n",
       "      <td>2</td>\n",
       "    </tr>\n",
       "    <tr>\n",
       "      <th>1</th>\n",
       "      <td>2</td>\n",
       "    </tr>\n",
       "    <tr>\n",
       "      <th rowspan=\"2\" valign=\"top\">M</th>\n",
       "      <th>0</th>\n",
       "      <td>481</td>\n",
       "    </tr>\n",
       "    <tr>\n",
       "      <th>1</th>\n",
       "      <td>206</td>\n",
       "    </tr>\n",
       "    <tr>\n",
       "      <th>T</th>\n",
       "      <th>0</th>\n",
       "      <td>1</td>\n",
       "    </tr>\n",
       "  </tbody>\n",
       "</table>\n",
       "</div>"
      ],
      "text/plain": [
       "               Name\n",
       "Deck Survived      \n",
       "A    0            8\n",
       "     1            7\n",
       "B    0           12\n",
       "     1           35\n",
       "C    0           24\n",
       "     1           35\n",
       "D    0            8\n",
       "     1           25\n",
       "E    0            8\n",
       "     1           24\n",
       "F    0            5\n",
       "     1            8\n",
       "G    0            2\n",
       "     1            2\n",
       "M    0          481\n",
       "     1          206\n",
       "T    0            1"
      ]
     },
     "execution_count": 34,
     "metadata": {},
     "output_type": "execute_result"
    }
   ],
   "source": [
    "train[['Deck','Survived','Name']].groupby(['Deck','Survived']).count()"
   ]
  },
  {
   "cell_type": "code",
   "execution_count": 35,
   "metadata": {},
   "outputs": [
    {
     "data": {
      "text/plain": [
       "<matplotlib.axes._subplots.AxesSubplot at 0x1f7320ea788>"
      ]
     },
     "execution_count": 35,
     "metadata": {},
     "output_type": "execute_result"
    },
    {
     "data": {
      "image/png": "[encoded data removed]",
      "text/plain": [
       "<Figure size 432x288 with 1 Axes>"
      ]
     },
     "metadata": {
      "needs_background": "light"
     },
     "output_type": "display_data"
    }
   ],
   "source": [
    "sns.countplot(data = train, x = 'Deck', hue = 'Survived')"
   ]
  },
  {
   "cell_type": "markdown",
   "metadata": {},
   "source": [
    "- M에서 상대적으로 사람이 많이 죽었구나\n",
    "- M이라는 값이 생존여부 판단하는 것에 의미가 있지 않을까?"
   ]
  },
  {
   "cell_type": "markdown",
   "metadata": {},
   "source": [
    "#### Pclass 시각화"
   ]
  },
  {
   "cell_type": "code",
   "execution_count": 36,
   "metadata": {},
   "outputs": [
    {
     "data": {
      "text/plain": [
       "<matplotlib.axes._subplots.AxesSubplot at 0x1f732864148>"
      ]
     },
     "execution_count": 36,
     "metadata": {},
     "output_type": "execute_result"
    },
    {
     "data": {
      "image/png": "[encoded data removed]",
      "text/plain": [
       "<Figure size 432x288 with 1 Axes>"
      ]
     },
     "metadata": {
      "needs_background": "light"
     },
     "output_type": "display_data"
    }
   ],
   "source": [
    "sns.countplot(data = train, x = 'Pclass', hue = 'Survived')"
   ]
  },
  {
   "cell_type": "markdown",
   "metadata": {},
   "source": [
    "- 3등급은 사망자가 월등히 많다"
   ]
  },
  {
   "cell_type": "markdown",
   "metadata": {},
   "source": [
    "#### Deck과 Pclass 시각화"
   ]
  },
  {
   "cell_type": "code",
   "execution_count": 37,
   "metadata": {},
   "outputs": [
    {
     "data": {
      "text/plain": [
       "<matplotlib.legend.Legend at 0x1f732864c48>"
      ]
     },
     "execution_count": 37,
     "metadata": {},
     "output_type": "execute_result"
    },
    {
     "data": {
      "image/png": "[encoded data removed]",
      "text/plain": [
       "<Figure size 432x288 with 1 Axes>"
      ]
     },
     "metadata": {
      "needs_background": "light"
     },
     "output_type": "display_data"
    }
   ],
   "source": [
    "sns.countplot(data = train, x = 'Deck', hue = 'Pclass')\n",
    "plt.legend(loc = 'upper right') #범례 오른쪽 위에 나오게 함"
   ]
  },
  {
   "cell_type": "markdown",
   "metadata": {},
   "source": [
    "#### Sex, Embarked 시각화해보기"
   ]
  },
  {
   "cell_type": "code",
   "execution_count": 38,
   "metadata": {},
   "outputs": [],
   "source": [
    "# 성별에 따른 생존/사망 수치 시각화"
   ]
  },
  {
   "cell_type": "code",
   "execution_count": 39,
   "metadata": {},
   "outputs": [
    {
     "data": {
      "text/plain": [
       "<matplotlib.axes._subplots.AxesSubplot at 0x1f7329f7f48>"
      ]
     },
     "execution_count": 39,
     "metadata": {},
     "output_type": "execute_result"
    },
    {
     "data": {
      "image/png": "[encoded data removed]",
      "text/plain": [
       "<Figure size 432x288 with 1 Axes>"
      ]
     },
     "metadata": {
      "needs_background": "light"
     },
     "output_type": "display_data"
    }
   ],
   "source": [
    "sns.countplot(data = train, x = 'Sex', hue = 'Survived')"
   ]
  },
  {
   "cell_type": "markdown",
   "metadata": {},
   "source": [
    "- 남성일때는 사망자 비율이 높다\n",
    "- 여성일때는 생존자 비율이 높다"
   ]
  },
  {
   "cell_type": "code",
   "execution_count": 40,
   "metadata": {},
   "outputs": [],
   "source": [
    "# 승선항에 따른 생존/사망 수치 시각화"
   ]
  },
  {
   "cell_type": "code",
   "execution_count": 41,
   "metadata": {},
   "outputs": [
    {
     "data": {
      "text/plain": [
       "<matplotlib.axes._subplots.AxesSubplot at 0x1f732a49e48>"
      ]
     },
     "execution_count": 41,
     "metadata": {},
     "output_type": "execute_result"
    },
    {
     "data": {
      "image/png": "[encoded data removed]",
      "text/plain": [
       "<Figure size 432x288 with 1 Axes>"
      ]
     },
     "metadata": {
      "needs_background": "light"
     },
     "output_type": "display_data"
    }
   ],
   "source": [
    "sns.countplot(data = train, x = 'Embarked', hue = 'Survived')"
   ]
  },
  {
   "cell_type": "markdown",
   "metadata": {},
   "source": [
    "- S에서는 사망비율이 높다\n",
    "- C에서는 생존비율이 좀 더 높다\n",
    "- Q에서는 사망비율이 좀 더 높다"
   ]
  },
  {
   "cell_type": "markdown",
   "metadata": {},
   "source": [
    "#### 수치형 데이터"
   ]
  },
  {
   "cell_type": "markdown",
   "metadata": {},
   "source": [
    "#### Age 시각화\n",
    "- 성별별 나이에 따른 사망/생존 분포 확인하기"
   ]
  },
  {
   "cell_type": "markdown",
   "metadata": {},
   "source": [
    "##### violinplot => boxplot + 데이터의 분포를 확인해 볼 수 있는 kde(kernel desnity estimation)"
   ]
  },
  {
   "cell_type": "code",
   "execution_count": 42,
   "metadata": {},
   "outputs": [
    {
     "data": {
      "text/plain": [
       "(0, 80)"
      ]
     },
     "execution_count": 42,
     "metadata": {},
     "output_type": "execute_result"
    },
    {
     "data": {
      "image/png": "[encoded data removed]",
      "text/plain": [
       "<Figure size 1080x360 with 1 Axes>"
      ]
     },
     "metadata": {
      "needs_background": "light"
     },
     "output_type": "display_data"
    }
   ],
   "source": [
    "plt.figure(figsize = (15,5))\n",
    "sns.violinplot(data = train,\n",
    "              x = 'Sex',\n",
    "              y = 'Age',\n",
    "              hue = 'Survived',\n",
    "              split = True)\n",
    "plt.ylim(0,80) #y축 0~80까지만 보겠다"
   ]
  },
  {
   "cell_type": "markdown",
   "metadata": {},
   "source": [
    "- 20~40대 사이가 대체적으로 분포가 넓게 나타남 -> 그 사이의 사망자가 좀 많음\n",
    "- 남자 어린아이의 경우 생존 분포가 더 넓게 나타남 -> 남자아이가 좀 더 많이 살아남음"
   ]
  },
  {
   "cell_type": "markdown",
   "metadata": {},
   "source": [
    "#### Fare 시각화\n",
    "- 성별별 요금에 따른 사망/생존 분포 확인\n",
    "- 요금은 1등칸->30파운드(375만원), 2등칸->13파운드(165만원), 3등칸->8파운드(100만원)"
   ]
  },
  {
   "cell_type": "code",
   "execution_count": 43,
   "metadata": {},
   "outputs": [
    {
     "data": {
      "text/plain": [
       "count    891.000000\n",
       "mean      32.204208\n",
       "std       49.693429\n",
       "min        0.000000\n",
       "25%        7.910400\n",
       "50%       14.454200\n",
       "75%       31.000000\n",
       "max      512.329200\n",
       "Name: Fare, dtype: float64"
      ]
     },
     "execution_count": 43,
     "metadata": {},
     "output_type": "execute_result"
    }
   ],
   "source": [
    "train['Fare'].describe() #통계 확인   #Fare요금 인덱싱하여 Series로 단순통계확인함"
   ]
  },
  {
   "cell_type": "code",
   "execution_count": 44,
   "metadata": {},
   "outputs": [
    {
     "data": {
      "text/plain": [
       "(0, 300)"
      ]
     },
     "execution_count": 44,
     "metadata": {},
     "output_type": "execute_result"
    },
    {
     "data": {
      "image/png": "[encoded data removed]",
      "text/plain": [
       "<Figure size 1080x360 with 1 Axes>"
      ]
     },
     "metadata": {
      "needs_background": "light"
     },
     "output_type": "display_data"
    }
   ],
   "source": [
    "# X축에 Sex, y축에 Fare, hue Survived\n",
    "plt.figure(figsize = (15,5))\n",
    "sns.violinplot(data = train,\n",
    "               x = 'Sex',\n",
    "               y = 'Fare',\n",
    "               hue = 'Survived',\n",
    "               split = True)\n",
    "plt.ylim(0, 300)"
   ]
  },
  {
   "cell_type": "markdown",
   "metadata": {},
   "source": [
    "- 요금값이 낮을수록 사망자 비율이 높다"
   ]
  },
  {
   "cell_type": "code",
   "execution_count": 45,
   "metadata": {},
   "outputs": [],
   "source": [
    "train['Family_Size'] = train['SibSp'] + train['Parch'] + 1        #새로운 특성 만들어줌 #+1은 numpy의 broadCasting 개념"
   ]
  },
  {
   "cell_type": "code",
   "execution_count": 46,
   "metadata": {},
   "outputs": [],
   "source": [
    "test['Family_Size'] = test['SibSp'] + test['Parch'] + 1"
   ]
  },
  {
   "cell_type": "code",
   "execution_count": 47,
   "metadata": {},
   "outputs": [
    {
     "data": {
      "text/plain": [
       "<matplotlib.axes._subplots.AxesSubplot at 0x1f732be9bc8>"
      ]
     },
     "execution_count": 47,
     "metadata": {},
     "output_type": "execute_result"
    },
    {
     "data": {
      "image/png": "[encoded data removed]",
      "text/plain": [
       "<Figure size 432x288 with 1 Axes>"
      ]
     },
     "metadata": {
      "needs_background": "light"
     },
     "output_type": "display_data"
    }
   ],
   "source": [
    "sns.countplot(data = train, x = 'Family_Size', hue = 'Survived')"
   ]
  },
  {
   "cell_type": "markdown",
   "metadata": {},
   "source": [
    "- 가족수가 1일때 사망비율이 높고, 2 ~ 4 생존비율이 높고, 5~ 사망비율이 높다."
   ]
  },
  {
   "cell_type": "code",
   "execution_count": 48,
   "metadata": {},
   "outputs": [],
   "source": [
    "# 숫자형 -> 범주형 : binning(사소한 관찰의 오류를 줄여 줄 수 있다.)"
   ]
  },
  {
   "cell_type": "code",
   "execution_count": 49,
   "metadata": {},
   "outputs": [],
   "source": [
    "# cut\n",
    "bins = [0,1,4,11]\n",
    "labels = ['Alone','Small','Large']\n",
    "train['Family_Group'] = pd.cut(train['Family_Size'], bins = bins, labels = labels)"
   ]
  },
  {
   "cell_type": "code",
   "execution_count": 50,
   "metadata": {
    "scrolled": true
   },
   "outputs": [
    {
     "name": "stdout",
     "output_type": "stream",
     "text": [
      "<class 'pandas.core.frame.DataFrame'>\n",
      "Int64Index: 891 entries, 1 to 891\n",
      "Data columns (total 13 columns):\n",
      " #   Column        Non-Null Count  Dtype   \n",
      "---  ------        --------------  -----   \n",
      " 0   Survived      891 non-null    int64   \n",
      " 1   Pclass        891 non-null    int64   \n",
      " 2   Name          891 non-null    object  \n",
      " 3   Sex           891 non-null    object  \n",
      " 4   Age           891 non-null    int64   \n",
      " 5   SibSp         891 non-null    int64   \n",
      " 6   Parch         891 non-null    int64   \n",
      " 7   Ticket        891 non-null    object  \n",
      " 8   Fare          891 non-null    float64 \n",
      " 9   Embarked      891 non-null    object  \n",
      " 10  Deck          891 non-null    object  \n",
      " 11  Family_Size   891 non-null    int64   \n",
      " 12  Family_Group  891 non-null    category\n",
      "dtypes: category(1), float64(1), int64(6), object(5)\n",
      "memory usage: 131.5+ KB\n"
     ]
    }
   ],
   "source": [
    "train.info()"
   ]
  },
  {
   "cell_type": "code",
   "execution_count": 51,
   "metadata": {},
   "outputs": [],
   "source": [
    "test['Family_Group'] = pd.cut(test['Family_Size'], bins = bins, labels = labels)"
   ]
  },
  {
   "cell_type": "code",
   "execution_count": 52,
   "metadata": {},
   "outputs": [
    {
     "name": "stdout",
     "output_type": "stream",
     "text": [
      "<class 'pandas.core.frame.DataFrame'>\n",
      "Int64Index: 418 entries, 892 to 1309\n",
      "Data columns (total 12 columns):\n",
      " #   Column        Non-Null Count  Dtype   \n",
      "---  ------        --------------  -----   \n",
      " 0   Pclass        418 non-null    int64   \n",
      " 1   Name          418 non-null    object  \n",
      " 2   Sex           418 non-null    object  \n",
      " 3   Age           418 non-null    int64   \n",
      " 4   SibSp         418 non-null    int64   \n",
      " 5   Parch         418 non-null    int64   \n",
      " 6   Ticket        418 non-null    object  \n",
      " 7   Fare          418 non-null    float64 \n",
      " 8   Embarked      418 non-null    object  \n",
      " 9   Deck          418 non-null    object  \n",
      " 10  Family_Size   418 non-null    int64   \n",
      " 11  Family_Group  418 non-null    category\n",
      "dtypes: category(1), float64(1), int64(5), object(5)\n",
      "memory usage: 39.7+ KB\n"
     ]
    }
   ],
   "source": [
    "test.info()"
   ]
  },
  {
   "cell_type": "markdown",
   "metadata": {},
   "source": [
    "### Text 데이터 다루기\n",
    "- Name 시각화\n",
    "- 중간 호칭만 추출"
   ]
  },
  {
   "cell_type": "code",
   "execution_count": 53,
   "metadata": {},
   "outputs": [],
   "source": [
    "#s = '안녕하세요, 저는 손지영입니다. 머신러닝수업하고있어요'\n",
    "#s"
   ]
  },
  {
   "cell_type": "code",
   "execution_count": 54,
   "metadata": {},
   "outputs": [],
   "source": [
    "#s.split(',')[1].split('.')[1]"
   ]
  },
  {
   "cell_type": "code",
   "execution_count": 55,
   "metadata": {},
   "outputs": [
    {
     "data": {
      "text/plain": [
       "'Braund, Mr. Owen Harris'"
      ]
     },
     "execution_count": 55,
     "metadata": {},
     "output_type": "execute_result"
    }
   ],
   "source": [
    "#1번째 행에 있는 MR라는 문자열 추출\n",
    "train.loc[1, 'Name']   #1인 이유는 0에 PassengerId 있기때문!"
   ]
  },
  {
   "cell_type": "code",
   "execution_count": 56,
   "metadata": {},
   "outputs": [
    {
     "data": {
      "text/plain": [
       "'Mr'"
      ]
     },
     "execution_count": 56,
     "metadata": {},
     "output_type": "execute_result"
    }
   ],
   "source": [
    "train.loc[1, 'Name'].split(',')[1].split('.')[0].strip()   #앞,뒤의 공백을 제거해주는 strip()"
   ]
  },
  {
   "cell_type": "markdown",
   "metadata": {},
   "source": [
    "# 2020.08.24"
   ]
  },
  {
   "cell_type": "code",
   "execution_count": 57,
   "metadata": {},
   "outputs": [
    {
     "data": {
      "text/plain": [
       "PassengerId\n",
       "1                                Braund, Mr. Owen Harris\n",
       "2      Cumings, Mrs. John Bradley (Florence Briggs Th...\n",
       "3                                 Heikkinen, Miss. Laina\n",
       "4           Futrelle, Mrs. Jacques Heath (Lily May Peel)\n",
       "5                               Allen, Mr. William Henry\n",
       "                             ...                        \n",
       "887                                Montvila, Rev. Juozas\n",
       "888                         Graham, Miss. Margaret Edith\n",
       "889             Johnston, Miss. Catherine Helen \"Carrie\"\n",
       "890                                Behr, Mr. Karl Howell\n",
       "891                                  Dooley, Mr. Patrick\n",
       "Name: Name, Length: 891, dtype: object"
      ]
     },
     "execution_count": 57,
     "metadata": {},
     "output_type": "execute_result"
    }
   ],
   "source": [
    "train['Name']"
   ]
  },
  {
   "cell_type": "code",
   "execution_count": 58,
   "metadata": {},
   "outputs": [],
   "source": [
    "def split_title(row): \n",
    "    # ','로 잘라낸 2번째 값을 다시 '.'을 기준으로 잘라내고, 잘라낸 결과값의 첫번째 값을 공백을 제거하고 반환하라.\n",
    "    return row.split(',')[1].split('.')[0].strip()"
   ]
  },
  {
   "cell_type": "code",
   "execution_count": 59,
   "metadata": {},
   "outputs": [],
   "source": [
    "train['Initial'] = train['Name'].apply(split_title)\n",
    "test['Initial'] = test['Name'].apply(split_title)\n",
    "# a = train['Name']\n",
    "# apply(split_title(a)) 같은 개념인데 여기서는 이렇게 안씀"
   ]
  },
  {
   "cell_type": "code",
   "execution_count": 60,
   "metadata": {
    "scrolled": true
   },
   "outputs": [],
   "source": [
    "###X_train"
   ]
  },
  {
   "cell_type": "code",
   "execution_count": 61,
   "metadata": {},
   "outputs": [],
   "source": [
    "train.drop('Name', axis = 1, inplace = True) #원본데이터 변경해주세요~~ == inplace = True\n",
    "test.drop('Name', axis = 1, inplace = True)"
   ]
  },
  {
   "cell_type": "code",
   "execution_count": 62,
   "metadata": {},
   "outputs": [
    {
     "data": {
      "text/plain": [
       "<matplotlib.axes._subplots.AxesSubplot at 0x1f732c95888>"
      ]
     },
     "execution_count": 62,
     "metadata": {},
     "output_type": "execute_result"
    },
    {
     "data": {
      "image/png": "[encoded data removed]",
      "text/plain": [
       "<Figure size 1080x360 with 1 Axes>"
      ]
     },
     "metadata": {
      "needs_background": "light"
     },
     "output_type": "display_data"
    }
   ],
   "source": [
    "# 시각화\n",
    "\n",
    "plt.figure(figsize = (15,5))\n",
    "sns.countplot(data = train, x = 'Initial', hue = 'Survived')"
   ]
  },
  {
   "cell_type": "code",
   "execution_count": 63,
   "metadata": {},
   "outputs": [
    {
     "data": {
      "text/plain": [
       "<matplotlib.axes._subplots.AxesSubplot at 0x1f732c9f108>"
      ]
     },
     "execution_count": 63,
     "metadata": {},
     "output_type": "execute_result"
    },
    {
     "data": {
      "image/png": "[encoded data removed]",
      "text/plain": [
       "<Figure size 1080x360 with 1 Axes>"
      ]
     },
     "metadata": {
      "needs_background": "light"
     },
     "output_type": "display_data"
    }
   ],
   "source": [
    "plt.figure(figsize = (15,5))\n",
    "plt.ylim(0,20)\n",
    "sns.countplot(data = train, x = 'Initial', hue = 'Survived')"
   ]
  },
  {
   "cell_type": "markdown",
   "metadata": {},
   "source": [
    "#### Master: 결혼하지 않은 남성, 주로 청소년 이하\n",
    "\n",
    "#### Rev: 목사님(6명 모두 사망)"
   ]
  },
  {
   "cell_type": "code",
   "execution_count": 64,
   "metadata": {},
   "outputs": [
    {
     "data": {
      "text/plain": [
       "array(['Mr', 'Mrs', 'Miss', 'Master', 'Don', 'Rev', 'Dr', 'Mme', 'Ms',\n",
       "       'Major', 'Lady', 'Sir', 'Mlle', 'Col', 'Capt', 'the Countess',\n",
       "       'Jonkheer'], dtype=object)"
      ]
     },
     "execution_count": 64,
     "metadata": {},
     "output_type": "execute_result"
    }
   ],
   "source": [
    "train['Initial'].unique()"
   ]
  },
  {
   "cell_type": "code",
   "execution_count": 65,
   "metadata": {},
   "outputs": [],
   "source": [
    "train['Initial'].replace(['Mlle','Mme' ,'Ms',  'Dr', 'Major','Lady','the Countess','Jonkheer','Col',  'Rev',  'Capt','Sir','Don','Dona'],\n",
    "                         ['Miss','Miss','Miss','Mrs','Mr',   'Mrs', 'Mrs',        'Other',    'Other','Other','Mr',  'Mr',  'Mr', 'Miss'], inplace = True)\n",
    "test['Initial'].replace(['Mlle','Mme' ,'Ms',  'Dr', 'Major','Lady','the Countess','Jonkheer','Col',  'Rev',  'Capt','Sir','Don','Dona'],\n",
    "                         ['Miss','Miss','Miss','Mrs','Mr',   'Mrs', 'Mrs',        'Other',    'Other','Other','Mr',  'Mr',  'Mr', 'Miss'], inplace = True)"
   ]
  },
  {
   "cell_type": "code",
   "execution_count": 66,
   "metadata": {},
   "outputs": [
    {
     "data": {
      "text/plain": [
       "array(['Mr', 'Mrs', 'Miss', 'Master', 'Other'], dtype=object)"
      ]
     },
     "execution_count": 66,
     "metadata": {},
     "output_type": "execute_result"
    }
   ],
   "source": [
    "train['Initial'].unique()"
   ]
  },
  {
   "cell_type": "markdown",
   "metadata": {},
   "source": [
    "### 티켓"
   ]
  },
  {
   "cell_type": "code",
   "execution_count": 67,
   "metadata": {},
   "outputs": [],
   "source": [
    "train.drop('Ticket', axis = 1, inplace = True) #티켓정보 필요없으니 날리기!\n",
    "test.drop('Ticket', axis = 1, inplace = True)"
   ]
  },
  {
   "cell_type": "code",
   "execution_count": 68,
   "metadata": {},
   "outputs": [
    {
     "name": "stdout",
     "output_type": "stream",
     "text": [
      "<class 'pandas.core.frame.DataFrame'>\n",
      "Int64Index: 891 entries, 1 to 891\n",
      "Data columns (total 12 columns):\n",
      " #   Column        Non-Null Count  Dtype   \n",
      "---  ------        --------------  -----   \n",
      " 0   Survived      891 non-null    int64   \n",
      " 1   Pclass        891 non-null    int64   \n",
      " 2   Sex           891 non-null    object  \n",
      " 3   Age           891 non-null    int64   \n",
      " 4   SibSp         891 non-null    int64   \n",
      " 5   Parch         891 non-null    int64   \n",
      " 6   Fare          891 non-null    float64 \n",
      " 7   Embarked      891 non-null    object  \n",
      " 8   Deck          891 non-null    object  \n",
      " 9   Family_Size   891 non-null    int64   \n",
      " 10  Family_Group  891 non-null    category\n",
      " 11  Initial       891 non-null    object  \n",
      "dtypes: category(1), float64(1), int64(6), object(4)\n",
      "memory usage: 124.5+ KB\n"
     ]
    }
   ],
   "source": [
    "train.info()"
   ]
  },
  {
   "cell_type": "code",
   "execution_count": 69,
   "metadata": {},
   "outputs": [
    {
     "data": {
      "text/plain": [
       "array(['Mr', 'Mrs', 'Miss', 'Master', 'Other'], dtype=object)"
      ]
     },
     "execution_count": 69,
     "metadata": {},
     "output_type": "execute_result"
    }
   ],
   "source": [
    " test['Initial'].unique()"
   ]
  },
  {
   "cell_type": "code",
   "execution_count": 70,
   "metadata": {},
   "outputs": [],
   "source": [
    "train['Family_Group'] =  train['Family_Group'].astype(\"object\")\n",
    "\n",
    "#연관관계 분석을 위해 문자를 \"수치형 데이터\"로 변환 (문자열 데이터로 어떠한 계산도 할 수 없기 때문!!)\n",
    "train['Sex'] = train['Sex'].map({'male':0, 'female':1})     #map[변환전, 변환후]\n",
    "test['Sex'] = test['Sex'].map({'male':0, 'female':1})\n",
    "\n",
    "train['Embarked'] = train['Embarked'].map({'C':0, 'Q':1, 'S':2})\n",
    "test['Embarked'] = test['Embarked'].map({'C':0, 'Q':1, 'S':2})\n",
    "\n",
    "train['Deck'] = train['Deck'].map({'A':0, 'B':1, 'C':2, 'D':3, 'E':4, 'F':5, 'G':6, 'M':7, 'T':8})\n",
    "test['Deck'] = test['Deck'].map({'A':0, 'B':1, 'C':2, 'D':3, 'E':4, 'F':5, 'G':6, 'M':7, 'T':8})\n",
    "\n",
    "train['Family_Group'] = train['Family_Group'].map({'Alone':0, 'Small':1, 'Large':2})\n",
    "test['Family_Group'] = test['Family_Group'].map({'Alone':0, 'Small':1, 'Large':2})\n",
    "\n",
    "train['Initial'] = train['Initial'].map({'Master':0, 'Miss':1, 'Mr':2,'Mrs':3, 'Other':4})\n",
    "test['Initial'] = test['Initial'].map({'Master':0, 'Miss':1, 'Mr':2, 'Mrs':3, 'Other':4})"
   ]
  },
  {
   "cell_type": "code",
   "execution_count": 71,
   "metadata": {},
   "outputs": [
    {
     "data": {
      "text/html": [
       "<div>\n",
       "<style scoped>\n",
       "    .dataframe tbody tr th:only-of-type {\n",
       "        vertical-align: middle;\n",
       "    }\n",
       "\n",
       "    .dataframe tbody tr th {\n",
       "        vertical-align: top;\n",
       "    }\n",
       "\n",
       "    .dataframe thead th {\n",
       "        text-align: right;\n",
       "    }\n",
       "</style>\n",
       "<table border=\"1\" class=\"dataframe\">\n",
       "  <thead>\n",
       "    <tr style=\"text-align: right;\">\n",
       "      <th></th>\n",
       "      <th>Survived</th>\n",
       "      <th>Pclass</th>\n",
       "      <th>Sex</th>\n",
       "      <th>Age</th>\n",
       "      <th>SibSp</th>\n",
       "      <th>Parch</th>\n",
       "      <th>Fare</th>\n",
       "      <th>Embarked</th>\n",
       "      <th>Deck</th>\n",
       "      <th>Family_Size</th>\n",
       "      <th>Family_Group</th>\n",
       "      <th>Initial</th>\n",
       "    </tr>\n",
       "    <tr>\n",
       "      <th>PassengerId</th>\n",
       "      <th></th>\n",
       "      <th></th>\n",
       "      <th></th>\n",
       "      <th></th>\n",
       "      <th></th>\n",
       "      <th></th>\n",
       "      <th></th>\n",
       "      <th></th>\n",
       "      <th></th>\n",
       "      <th></th>\n",
       "      <th></th>\n",
       "      <th></th>\n",
       "    </tr>\n",
       "  </thead>\n",
       "  <tbody>\n",
       "    <tr>\n",
       "      <th>1</th>\n",
       "      <td>0</td>\n",
       "      <td>3</td>\n",
       "      <td>0</td>\n",
       "      <td>22</td>\n",
       "      <td>1</td>\n",
       "      <td>0</td>\n",
       "      <td>7.2500</td>\n",
       "      <td>2</td>\n",
       "      <td>7</td>\n",
       "      <td>2</td>\n",
       "      <td>1</td>\n",
       "      <td>2</td>\n",
       "    </tr>\n",
       "    <tr>\n",
       "      <th>2</th>\n",
       "      <td>1</td>\n",
       "      <td>1</td>\n",
       "      <td>1</td>\n",
       "      <td>38</td>\n",
       "      <td>1</td>\n",
       "      <td>0</td>\n",
       "      <td>71.2833</td>\n",
       "      <td>0</td>\n",
       "      <td>2</td>\n",
       "      <td>2</td>\n",
       "      <td>1</td>\n",
       "      <td>3</td>\n",
       "    </tr>\n",
       "    <tr>\n",
       "      <th>3</th>\n",
       "      <td>1</td>\n",
       "      <td>3</td>\n",
       "      <td>1</td>\n",
       "      <td>26</td>\n",
       "      <td>0</td>\n",
       "      <td>0</td>\n",
       "      <td>7.9250</td>\n",
       "      <td>2</td>\n",
       "      <td>7</td>\n",
       "      <td>1</td>\n",
       "      <td>0</td>\n",
       "      <td>1</td>\n",
       "    </tr>\n",
       "    <tr>\n",
       "      <th>4</th>\n",
       "      <td>1</td>\n",
       "      <td>1</td>\n",
       "      <td>1</td>\n",
       "      <td>35</td>\n",
       "      <td>1</td>\n",
       "      <td>0</td>\n",
       "      <td>53.1000</td>\n",
       "      <td>2</td>\n",
       "      <td>2</td>\n",
       "      <td>2</td>\n",
       "      <td>1</td>\n",
       "      <td>3</td>\n",
       "    </tr>\n",
       "    <tr>\n",
       "      <th>5</th>\n",
       "      <td>0</td>\n",
       "      <td>3</td>\n",
       "      <td>0</td>\n",
       "      <td>35</td>\n",
       "      <td>0</td>\n",
       "      <td>0</td>\n",
       "      <td>8.0500</td>\n",
       "      <td>2</td>\n",
       "      <td>7</td>\n",
       "      <td>1</td>\n",
       "      <td>0</td>\n",
       "      <td>2</td>\n",
       "    </tr>\n",
       "  </tbody>\n",
       "</table>\n",
       "</div>"
      ],
      "text/plain": [
       "             Survived  Pclass  Sex  Age  SibSp  Parch     Fare  Embarked  \\\n",
       "PassengerId                                                                \n",
       "1                   0       3    0   22      1      0   7.2500         2   \n",
       "2                   1       1    1   38      1      0  71.2833         0   \n",
       "3                   1       3    1   26      0      0   7.9250         2   \n",
       "4                   1       1    1   35      1      0  53.1000         2   \n",
       "5                   0       3    0   35      0      0   8.0500         2   \n",
       "\n",
       "             Deck  Family_Size  Family_Group  Initial  \n",
       "PassengerId                                            \n",
       "1               7            2             1        2  \n",
       "2               2            2             1        3  \n",
       "3               7            1             0        1  \n",
       "4               2            2             1        3  \n",
       "5               7            1             0        2  "
      ]
     },
     "execution_count": 71,
     "metadata": {},
     "output_type": "execute_result"
    }
   ],
   "source": [
    "train.head()"
   ]
  },
  {
   "cell_type": "markdown",
   "metadata": {},
   "source": [
    "### 상관관계 분석"
   ]
  },
  {
   "cell_type": "code",
   "execution_count": 72,
   "metadata": {},
   "outputs": [
    {
     "data": {
      "text/plain": [
       "<matplotlib.axes._subplots.AxesSubplot at 0x1f732ed06c8>"
      ]
     },
     "execution_count": 72,
     "metadata": {},
     "output_type": "execute_result"
    },
    {
     "data": {
      "image/png": "[encoded data removed]",
      "text/plain": [
       "<Figure size 1008x864 with 2 Axes>"
      ]
     },
     "metadata": {
      "needs_background": "light"
     },
     "output_type": "display_data"
    }
   ],
   "source": [
    "plt.figure(figsize = (14,12))\n",
    "sns.heatmap(train.corr(), annot = True )"
   ]
  },
  {
   "cell_type": "markdown",
   "metadata": {},
   "source": [
    "### 특성 선택"
   ]
  },
  {
   "cell_type": "markdown",
   "metadata": {},
   "source": [
    ">- 범주형 데이터 인코딩\n",
    ">- 전체 데이터를 이용해서 학습\n",
    ">- 상관계수, Decision Tree 중요도를 활용해서 특성 고르기"
   ]
  },
  {
   "cell_type": "code",
   "execution_count": 73,
   "metadata": {},
   "outputs": [],
   "source": [
    "y_train = train['Survived']\n",
    "X_train = train.drop('Survived', axis = 1)\n",
    "\n",
    "X_test = test"
   ]
  },
  {
   "cell_type": "code",
   "execution_count": 74,
   "metadata": {},
   "outputs": [
    {
     "data": {
      "text/plain": [
       "Index(['Pclass', 'Sex', 'Age', 'SibSp', 'Parch', 'Fare', 'Embarked', 'Deck',\n",
       "       'Family_Size', 'Family_Group', 'Initial'],\n",
       "      dtype='object')"
      ]
     },
     "execution_count": 74,
     "metadata": {},
     "output_type": "execute_result"
    }
   ],
   "source": [
    "X_train.columns"
   ]
  },
  {
   "cell_type": "code",
   "execution_count": 75,
   "metadata": {},
   "outputs": [
    {
     "data": {
      "text/html": [
       "<div>\n",
       "<style scoped>\n",
       "    .dataframe tbody tr th:only-of-type {\n",
       "        vertical-align: middle;\n",
       "    }\n",
       "\n",
       "    .dataframe tbody tr th {\n",
       "        vertical-align: top;\n",
       "    }\n",
       "\n",
       "    .dataframe thead th {\n",
       "        text-align: right;\n",
       "    }\n",
       "</style>\n",
       "<table border=\"1\" class=\"dataframe\">\n",
       "  <thead>\n",
       "    <tr style=\"text-align: right;\">\n",
       "      <th></th>\n",
       "      <th>Pclass</th>\n",
       "      <th>Sex</th>\n",
       "      <th>Age</th>\n",
       "      <th>SibSp</th>\n",
       "      <th>Parch</th>\n",
       "      <th>Fare</th>\n",
       "      <th>Embarked</th>\n",
       "      <th>Deck</th>\n",
       "      <th>Family_Size</th>\n",
       "      <th>Family_Group</th>\n",
       "      <th>Initial</th>\n",
       "    </tr>\n",
       "    <tr>\n",
       "      <th>PassengerId</th>\n",
       "      <th></th>\n",
       "      <th></th>\n",
       "      <th></th>\n",
       "      <th></th>\n",
       "      <th></th>\n",
       "      <th></th>\n",
       "      <th></th>\n",
       "      <th></th>\n",
       "      <th></th>\n",
       "      <th></th>\n",
       "      <th></th>\n",
       "    </tr>\n",
       "  </thead>\n",
       "  <tbody>\n",
       "    <tr>\n",
       "      <th>1</th>\n",
       "      <td>3</td>\n",
       "      <td>0</td>\n",
       "      <td>22</td>\n",
       "      <td>1</td>\n",
       "      <td>0</td>\n",
       "      <td>7.2500</td>\n",
       "      <td>2</td>\n",
       "      <td>7</td>\n",
       "      <td>2</td>\n",
       "      <td>1</td>\n",
       "      <td>2</td>\n",
       "    </tr>\n",
       "    <tr>\n",
       "      <th>2</th>\n",
       "      <td>1</td>\n",
       "      <td>1</td>\n",
       "      <td>38</td>\n",
       "      <td>1</td>\n",
       "      <td>0</td>\n",
       "      <td>71.2833</td>\n",
       "      <td>0</td>\n",
       "      <td>2</td>\n",
       "      <td>2</td>\n",
       "      <td>1</td>\n",
       "      <td>3</td>\n",
       "    </tr>\n",
       "    <tr>\n",
       "      <th>3</th>\n",
       "      <td>3</td>\n",
       "      <td>1</td>\n",
       "      <td>26</td>\n",
       "      <td>0</td>\n",
       "      <td>0</td>\n",
       "      <td>7.9250</td>\n",
       "      <td>2</td>\n",
       "      <td>7</td>\n",
       "      <td>1</td>\n",
       "      <td>0</td>\n",
       "      <td>1</td>\n",
       "    </tr>\n",
       "    <tr>\n",
       "      <th>4</th>\n",
       "      <td>1</td>\n",
       "      <td>1</td>\n",
       "      <td>35</td>\n",
       "      <td>1</td>\n",
       "      <td>0</td>\n",
       "      <td>53.1000</td>\n",
       "      <td>2</td>\n",
       "      <td>2</td>\n",
       "      <td>2</td>\n",
       "      <td>1</td>\n",
       "      <td>3</td>\n",
       "    </tr>\n",
       "    <tr>\n",
       "      <th>5</th>\n",
       "      <td>3</td>\n",
       "      <td>0</td>\n",
       "      <td>35</td>\n",
       "      <td>0</td>\n",
       "      <td>0</td>\n",
       "      <td>8.0500</td>\n",
       "      <td>2</td>\n",
       "      <td>7</td>\n",
       "      <td>1</td>\n",
       "      <td>0</td>\n",
       "      <td>2</td>\n",
       "    </tr>\n",
       "    <tr>\n",
       "      <th>...</th>\n",
       "      <td>...</td>\n",
       "      <td>...</td>\n",
       "      <td>...</td>\n",
       "      <td>...</td>\n",
       "      <td>...</td>\n",
       "      <td>...</td>\n",
       "      <td>...</td>\n",
       "      <td>...</td>\n",
       "      <td>...</td>\n",
       "      <td>...</td>\n",
       "      <td>...</td>\n",
       "    </tr>\n",
       "    <tr>\n",
       "      <th>887</th>\n",
       "      <td>2</td>\n",
       "      <td>0</td>\n",
       "      <td>27</td>\n",
       "      <td>0</td>\n",
       "      <td>0</td>\n",
       "      <td>13.0000</td>\n",
       "      <td>2</td>\n",
       "      <td>7</td>\n",
       "      <td>1</td>\n",
       "      <td>0</td>\n",
       "      <td>4</td>\n",
       "    </tr>\n",
       "    <tr>\n",
       "      <th>888</th>\n",
       "      <td>1</td>\n",
       "      <td>1</td>\n",
       "      <td>19</td>\n",
       "      <td>0</td>\n",
       "      <td>0</td>\n",
       "      <td>30.0000</td>\n",
       "      <td>2</td>\n",
       "      <td>1</td>\n",
       "      <td>1</td>\n",
       "      <td>0</td>\n",
       "      <td>1</td>\n",
       "    </tr>\n",
       "    <tr>\n",
       "      <th>889</th>\n",
       "      <td>3</td>\n",
       "      <td>1</td>\n",
       "      <td>21</td>\n",
       "      <td>1</td>\n",
       "      <td>2</td>\n",
       "      <td>23.4500</td>\n",
       "      <td>2</td>\n",
       "      <td>7</td>\n",
       "      <td>4</td>\n",
       "      <td>1</td>\n",
       "      <td>1</td>\n",
       "    </tr>\n",
       "    <tr>\n",
       "      <th>890</th>\n",
       "      <td>1</td>\n",
       "      <td>0</td>\n",
       "      <td>26</td>\n",
       "      <td>0</td>\n",
       "      <td>0</td>\n",
       "      <td>30.0000</td>\n",
       "      <td>0</td>\n",
       "      <td>2</td>\n",
       "      <td>1</td>\n",
       "      <td>0</td>\n",
       "      <td>2</td>\n",
       "    </tr>\n",
       "    <tr>\n",
       "      <th>891</th>\n",
       "      <td>3</td>\n",
       "      <td>0</td>\n",
       "      <td>32</td>\n",
       "      <td>0</td>\n",
       "      <td>0</td>\n",
       "      <td>7.7500</td>\n",
       "      <td>1</td>\n",
       "      <td>7</td>\n",
       "      <td>1</td>\n",
       "      <td>0</td>\n",
       "      <td>2</td>\n",
       "    </tr>\n",
       "  </tbody>\n",
       "</table>\n",
       "<p>891 rows × 11 columns</p>\n",
       "</div>"
      ],
      "text/plain": [
       "             Pclass  Sex  Age  SibSp  Parch     Fare  Embarked  Deck  \\\n",
       "PassengerId                                                            \n",
       "1                 3    0   22      1      0   7.2500         2     7   \n",
       "2                 1    1   38      1      0  71.2833         0     2   \n",
       "3                 3    1   26      0      0   7.9250         2     7   \n",
       "4                 1    1   35      1      0  53.1000         2     2   \n",
       "5                 3    0   35      0      0   8.0500         2     7   \n",
       "...             ...  ...  ...    ...    ...      ...       ...   ...   \n",
       "887               2    0   27      0      0  13.0000         2     7   \n",
       "888               1    1   19      0      0  30.0000         2     1   \n",
       "889               3    1   21      1      2  23.4500         2     7   \n",
       "890               1    0   26      0      0  30.0000         0     2   \n",
       "891               3    0   32      0      0   7.7500         1     7   \n",
       "\n",
       "             Family_Size  Family_Group  Initial  \n",
       "PassengerId                                      \n",
       "1                      2             1        2  \n",
       "2                      2             1        3  \n",
       "3                      1             0        1  \n",
       "4                      2             1        3  \n",
       "5                      1             0        2  \n",
       "...                  ...           ...      ...  \n",
       "887                    1             0        4  \n",
       "888                    1             0        1  \n",
       "889                    4             1        1  \n",
       "890                    1             0        2  \n",
       "891                    1             0        2  \n",
       "\n",
       "[891 rows x 11 columns]"
      ]
     },
     "execution_count": 75,
     "metadata": {},
     "output_type": "execute_result"
    }
   ],
   "source": [
    "X_train"
   ]
  },
  {
   "cell_type": "code",
   "execution_count": 76,
   "metadata": {},
   "outputs": [
    {
     "data": {
      "text/plain": [
       "array([2, 3, 1, 0, 4], dtype=int64)"
      ]
     },
     "execution_count": 76,
     "metadata": {},
     "output_type": "execute_result"
    }
   ],
   "source": [
    "X_train['Initial'].unique()"
   ]
  },
  {
   "cell_type": "code",
   "execution_count": null,
   "metadata": {},
   "outputs": [],
   "source": []
  },
  {
   "cell_type": "code",
   "execution_count": 77,
   "metadata": {},
   "outputs": [],
   "source": [
    "X_train['Initial'] =  X_train['Initial'].astype('int32')"
   ]
  },
  {
   "cell_type": "code",
   "execution_count": 78,
   "metadata": {},
   "outputs": [],
   "source": [
    "cat_feature = ['Pclass','Embarked','Deck','Family_Group','Initial']"
   ]
  },
  {
   "cell_type": "code",
   "execution_count": 79,
   "metadata": {},
   "outputs": [],
   "source": [
    "#훈련데이터 One-hot Encoding\n",
    "\n",
    "for cat_name in cat_feature:\n",
    "    dummy = pd.get_dummies(X_train[cat_name], prefix = cat_name)\n",
    "    X_train = pd.concat([X_train, dummy], axis = 1)\n",
    "    X_train.drop(cat_name, axis = 1, inplace = True)"
   ]
  },
  {
   "cell_type": "code",
   "execution_count": 80,
   "metadata": {},
   "outputs": [],
   "source": [
    "#검증데이터 One-hot Encoding\n",
    "\n",
    "for cat_name in cat_feature:\n",
    "    dummy = pd.get_dummies(X_test[cat_name], prefix = cat_name)\n",
    "    X_test = pd.concat([X_test, dummy], axis = 1)\n",
    "    X_test.drop(cat_name, axis = 1, inplace = True)"
   ]
  },
  {
   "cell_type": "code",
   "execution_count": 81,
   "metadata": {},
   "outputs": [
    {
     "data": {
      "text/plain": [
       "(891, 29)"
      ]
     },
     "execution_count": 81,
     "metadata": {},
     "output_type": "execute_result"
    }
   ],
   "source": [
    "X_train.shape"
   ]
  },
  {
   "cell_type": "code",
   "execution_count": 82,
   "metadata": {},
   "outputs": [
    {
     "data": {
      "text/plain": [
       "(418, 28)"
      ]
     },
     "execution_count": 82,
     "metadata": {},
     "output_type": "execute_result"
    }
   ],
   "source": [
    "X_test.shape  #Deck가 7개"
   ]
  },
  {
   "cell_type": "code",
   "execution_count": 83,
   "metadata": {
    "scrolled": true
   },
   "outputs": [
    {
     "name": "stdout",
     "output_type": "stream",
     "text": [
      "<class 'pandas.core.frame.DataFrame'>\n",
      "Int64Index: 891 entries, 1 to 891\n",
      "Data columns (total 29 columns):\n",
      " #   Column          Non-Null Count  Dtype  \n",
      "---  ------          --------------  -----  \n",
      " 0   Sex             891 non-null    int64  \n",
      " 1   Age             891 non-null    int64  \n",
      " 2   SibSp           891 non-null    int64  \n",
      " 3   Parch           891 non-null    int64  \n",
      " 4   Fare            891 non-null    float64\n",
      " 5   Family_Size     891 non-null    int64  \n",
      " 6   Pclass_1        891 non-null    uint8  \n",
      " 7   Pclass_2        891 non-null    uint8  \n",
      " 8   Pclass_3        891 non-null    uint8  \n",
      " 9   Embarked_0      891 non-null    uint8  \n",
      " 10  Embarked_1      891 non-null    uint8  \n",
      " 11  Embarked_2      891 non-null    uint8  \n",
      " 12  Deck_0          891 non-null    uint8  \n",
      " 13  Deck_1          891 non-null    uint8  \n",
      " 14  Deck_2          891 non-null    uint8  \n",
      " 15  Deck_3          891 non-null    uint8  \n",
      " 16  Deck_4          891 non-null    uint8  \n",
      " 17  Deck_5          891 non-null    uint8  \n",
      " 18  Deck_6          891 non-null    uint8  \n",
      " 19  Deck_7          891 non-null    uint8  \n",
      " 20  Deck_8          891 non-null    uint8  \n",
      " 21  Family_Group_0  891 non-null    uint8  \n",
      " 22  Family_Group_1  891 non-null    uint8  \n",
      " 23  Family_Group_2  891 non-null    uint8  \n",
      " 24  Initial_0       891 non-null    uint8  \n",
      " 25  Initial_1       891 non-null    uint8  \n",
      " 26  Initial_2       891 non-null    uint8  \n",
      " 27  Initial_3       891 non-null    uint8  \n",
      " 28  Initial_4       891 non-null    uint8  \n",
      "dtypes: float64(1), int64(5), uint8(23)\n",
      "memory usage: 108.7 KB\n"
     ]
    }
   ],
   "source": [
    "X_train.info()"
   ]
  },
  {
   "cell_type": "code",
   "execution_count": 84,
   "metadata": {
    "scrolled": true
   },
   "outputs": [
    {
     "name": "stdout",
     "output_type": "stream",
     "text": [
      "<class 'pandas.core.frame.DataFrame'>\n",
      "Int64Index: 418 entries, 892 to 1309\n",
      "Data columns (total 28 columns):\n",
      " #   Column          Non-Null Count  Dtype  \n",
      "---  ------          --------------  -----  \n",
      " 0   Sex             418 non-null    int64  \n",
      " 1   Age             418 non-null    int64  \n",
      " 2   SibSp           418 non-null    int64  \n",
      " 3   Parch           418 non-null    int64  \n",
      " 4   Fare            418 non-null    float64\n",
      " 5   Family_Size     418 non-null    int64  \n",
      " 6   Pclass_1        418 non-null    uint8  \n",
      " 7   Pclass_2        418 non-null    uint8  \n",
      " 8   Pclass_3        418 non-null    uint8  \n",
      " 9   Embarked_0      418 non-null    uint8  \n",
      " 10  Embarked_1      418 non-null    uint8  \n",
      " 11  Embarked_2      418 non-null    uint8  \n",
      " 12  Deck_0          418 non-null    uint8  \n",
      " 13  Deck_1          418 non-null    uint8  \n",
      " 14  Deck_2          418 non-null    uint8  \n",
      " 15  Deck_3          418 non-null    uint8  \n",
      " 16  Deck_4          418 non-null    uint8  \n",
      " 17  Deck_5          418 non-null    uint8  \n",
      " 18  Deck_6          418 non-null    uint8  \n",
      " 19  Deck_7          418 non-null    uint8  \n",
      " 20  Family_Group_0  418 non-null    uint8  \n",
      " 21  Family_Group_1  418 non-null    uint8  \n",
      " 22  Family_Group_2  418 non-null    uint8  \n",
      " 23  Initial_0       418 non-null    uint8  \n",
      " 24  Initial_1       418 non-null    uint8  \n",
      " 25  Initial_2       418 non-null    uint8  \n",
      " 26  Initial_3       418 non-null    uint8  \n",
      " 27  Initial_4       418 non-null    uint8  \n",
      "dtypes: float64(1), int64(5), uint8(22)\n",
      "memory usage: 31.8 KB\n"
     ]
    }
   ],
   "source": [
    "X_test.info()"
   ]
  },
  {
   "cell_type": "code",
   "execution_count": 85,
   "metadata": {},
   "outputs": [
    {
     "data": {
      "text/plain": [
       "{'Deck_8'}"
      ]
     },
     "execution_count": 85,
     "metadata": {},
     "output_type": "execute_result"
    }
   ],
   "source": [
    "set(X_train.columns) - set(X_test.columns) #train목록에서 test목록을 빼줘서 없는 컬럼을 확인"
   ]
  },
  {
   "cell_type": "code",
   "execution_count": 86,
   "metadata": {},
   "outputs": [],
   "source": [
    "X_test['Deck_8'] = 0"
   ]
  },
  {
   "cell_type": "code",
   "execution_count": 87,
   "metadata": {},
   "outputs": [
    {
     "data": {
      "text/plain": [
       "(418, 29)"
      ]
     },
     "execution_count": 87,
     "metadata": {},
     "output_type": "execute_result"
    }
   ],
   "source": [
    "X_test.shape"
   ]
  },
  {
   "cell_type": "markdown",
   "metadata": {},
   "source": [
    "## 4.모델 선택 및 학습"
   ]
  },
  {
   "cell_type": "code",
   "execution_count": 88,
   "metadata": {},
   "outputs": [],
   "source": [
    "from sklearn.neighbors import KNeighborsClassifier\n",
    "from sklearn.tree import DecisionTreeClassifier"
   ]
  },
  {
   "cell_type": "code",
   "execution_count": 89,
   "metadata": {},
   "outputs": [],
   "source": [
    "from sklearn.model_selection import cross_val_score"
   ]
  },
  {
   "cell_type": "markdown",
   "metadata": {},
   "source": [
    "### KNN 모델"
   ]
  },
  {
   "cell_type": "code",
   "execution_count": 90,
   "metadata": {},
   "outputs": [],
   "source": [
    "knn_model = KNeighborsClassifier(n_neighbors=3)"
   ]
  },
  {
   "cell_type": "code",
   "execution_count": 91,
   "metadata": {},
   "outputs": [],
   "source": [
    "result = cross_val_score(knn_model,   #교차검증 수행시 이용할 객체\n",
    "                        X_train,      #훈련데이터\n",
    "                        y_train,      #정답데이터\n",
    "                        cv = 5)  #X_train을 5단계로 나눠서 바꿔가면서 수행해라"
   ]
  },
  {
   "cell_type": "code",
   "execution_count": 92,
   "metadata": {},
   "outputs": [
    {
     "data": {
      "text/plain": [
       "0.7306509321448749"
      ]
     },
     "execution_count": 92,
     "metadata": {},
     "output_type": "execute_result"
    }
   ],
   "source": [
    "result.mean()"
   ]
  },
  {
   "cell_type": "code",
   "execution_count": 93,
   "metadata": {},
   "outputs": [
    {
     "data": {
      "text/plain": [
       "array([0.72067039, 0.68539326, 0.74719101, 0.76966292, 0.73033708])"
      ]
     },
     "execution_count": 93,
     "metadata": {},
     "output_type": "execute_result"
    }
   ],
   "source": [
    "result"
   ]
  },
  {
   "cell_type": "markdown",
   "metadata": {},
   "source": [
    "# 2020-08-25"
   ]
  },
  {
   "cell_type": "markdown",
   "metadata": {},
   "source": [
    "## Tree 모델 사용"
   ]
  },
  {
   "cell_type": "code",
   "execution_count": 94,
   "metadata": {},
   "outputs": [
    {
     "data": {
      "text/plain": [
       "DecisionTreeClassifier(ccp_alpha=0.0, class_weight=None, criterion='gini',\n",
       "                       max_depth=5, max_features=None, max_leaf_nodes=None,\n",
       "                       min_impurity_decrease=0.0, min_impurity_split=None,\n",
       "                       min_samples_leaf=1, min_samples_split=2,\n",
       "                       min_weight_fraction_leaf=0.0, presort='deprecated',\n",
       "                       random_state=None, splitter='best')"
      ]
     },
     "execution_count": 94,
     "metadata": {},
     "output_type": "execute_result"
    }
   ],
   "source": [
    "tree_model = DecisionTreeClassifier(max_depth = 5)\n",
    "tree_model.fit(X_train, y_train)"
   ]
  },
  {
   "cell_type": "code",
   "execution_count": 95,
   "metadata": {},
   "outputs": [
    {
     "name": "stdout",
     "output_type": "stream",
     "text": [
      "Requirement already satisfied: graphviz in c:\\users\\songmin\\anaconda3\\lib\\site-packages (0.14.1)\n"
     ]
    }
   ],
   "source": [
    "#pip install graphviz\n",
    "#graphviz압출풀고 설치 (Install Options에서 Add Graphviz to the system PATH for current user 체크)\n",
    "# cmd -> 관리자권한 실행 -> cd C:\\Program Files\\Graphviz\\bin -> ##  dir/w 로 확인 ## -> dot -c"
   ]
  },
  {
   "cell_type": "code",
   "execution_count": 96,
   "metadata": {},
   "outputs": [
    {
     "data": {
      "image/svg+xml": [
       "<?xml version=\"1.0\" encoding=\"UTF-8\" standalone=\"no\"?>\r\n",
       "<!DOCTYPE svg PUBLIC \"-//W3C//DTD SVG 1.1//EN\"\r\n",
       " \"http://www.w3.org/Graphics/SVG/1.1/DTD/svg11.dtd\">\r\n",
       "<!-- Generated by graphviz version 2.44.2~dev.20200818.1009 (20200818.1009)\r\n",
       " -->\r\n",
       "<!-- Title: Tree Pages: 1 -->\r\n",
       "<svg width=\"2370pt\" height=\"671pt\"\r\n",
       " viewBox=\"0.00 0.00 2369.50 671.00\" xmlns=\"http://www.w3.org/2000/svg\" xmlns:xlink=\"http://www.w3.org/1999/xlink\">\r\n",
       "<g id=\"graph0\" class=\"graph\" transform=\"scale(1 1) rotate(0) translate(4 667)\">\r\n",
       "<title>Tree</title>\r\n",
       "<polygon fill=\"white\" stroke=\"transparent\" points=\"-4,4 -4,-667 2365.5,-667 2365.5,4 -4,4\"/>\r\n",
       "<!-- 0 -->\r\n",
       "<g id=\"node1\" class=\"node\">\r\n",
       "<title>0</title>\r\n",
       "<polygon fill=\"#f5cfb4\" stroke=\"black\" points=\"1222.5,-663 1104.5,-663 1104.5,-580 1222.5,-580 1222.5,-663\"/>\r\n",
       "<text text-anchor=\"middle\" x=\"1163.5\" y=\"-647.8\" font-family=\"Times New Roman,serif\" font-size=\"14.00\">Initial_2 &lt;= 0.5</text>\r\n",
       "<text text-anchor=\"middle\" x=\"1163.5\" y=\"-632.8\" font-family=\"Times New Roman,serif\" font-size=\"14.00\">gini = 0.473</text>\r\n",
       "<text text-anchor=\"middle\" x=\"1163.5\" y=\"-617.8\" font-family=\"Times New Roman,serif\" font-size=\"14.00\">samples = 891</text>\r\n",
       "<text text-anchor=\"middle\" x=\"1163.5\" y=\"-602.8\" font-family=\"Times New Roman,serif\" font-size=\"14.00\">value = [549, 342]</text>\r\n",
       "<text text-anchor=\"middle\" x=\"1163.5\" y=\"-587.8\" font-family=\"Times New Roman,serif\" font-size=\"14.00\">class = 사망</text>\r\n",
       "</g>\r\n",
       "<!-- 1 -->\r\n",
       "<g id=\"node2\" class=\"node\">\r\n",
       "<title>1</title>\r\n",
       "<polygon fill=\"#8dc7f0\" stroke=\"black\" points=\"869.5,-544 751.5,-544 751.5,-461 869.5,-461 869.5,-544\"/>\r\n",
       "<text text-anchor=\"middle\" x=\"810.5\" y=\"-528.8\" font-family=\"Times New Roman,serif\" font-size=\"14.00\">Pclass_3 &lt;= 0.5</text>\r\n",
       "<text text-anchor=\"middle\" x=\"810.5\" y=\"-513.8\" font-family=\"Times New Roman,serif\" font-size=\"14.00\">gini = 0.418</text>\r\n",
       "<text text-anchor=\"middle\" x=\"810.5\" y=\"-498.8\" font-family=\"Times New Roman,serif\" font-size=\"14.00\">samples = 369</text>\r\n",
       "<text text-anchor=\"middle\" x=\"810.5\" y=\"-483.8\" font-family=\"Times New Roman,serif\" font-size=\"14.00\">value = [110, 259]</text>\r\n",
       "<text text-anchor=\"middle\" x=\"810.5\" y=\"-468.8\" font-family=\"Times New Roman,serif\" font-size=\"14.00\">class = 생존</text>\r\n",
       "</g>\r\n",
       "<!-- 0&#45;&gt;1 -->\r\n",
       "<g id=\"edge1\" class=\"edge\">\r\n",
       "<title>0&#45;&gt;1</title>\r\n",
       "<path fill=\"none\" stroke=\"black\" d=\"M1104.42,-600.92C1042.44,-580.37 945.1,-548.11 879.6,-526.4\"/>\r\n",
       "<polygon fill=\"black\" stroke=\"black\" points=\"880.37,-522.97 869.78,-523.15 878.17,-529.62 880.37,-522.97\"/>\r\n",
       "<text text-anchor=\"middle\" x=\"881\" y=\"-541.79\" font-family=\"Times New Roman,serif\" font-size=\"14.00\">True</text>\r\n",
       "</g>\r\n",
       "<!-- 26 -->\r\n",
       "<g id=\"node27\" class=\"node\">\r\n",
       "<title>26</title>\r\n",
       "<polygon fill=\"#ea995e\" stroke=\"black\" points=\"1580,-544 1469,-544 1469,-461 1580,-461 1580,-544\"/>\r\n",
       "<text text-anchor=\"middle\" x=\"1524.5\" y=\"-528.8\" font-family=\"Times New Roman,serif\" font-size=\"14.00\">Fare &lt;= 26.269</text>\r\n",
       "<text text-anchor=\"middle\" x=\"1524.5\" y=\"-513.8\" font-family=\"Times New Roman,serif\" font-size=\"14.00\">gini = 0.267</text>\r\n",
       "<text text-anchor=\"middle\" x=\"1524.5\" y=\"-498.8\" font-family=\"Times New Roman,serif\" font-size=\"14.00\">samples = 522</text>\r\n",
       "<text text-anchor=\"middle\" x=\"1524.5\" y=\"-483.8\" font-family=\"Times New Roman,serif\" font-size=\"14.00\">value = [439, 83]</text>\r\n",
       "<text text-anchor=\"middle\" x=\"1524.5\" y=\"-468.8\" font-family=\"Times New Roman,serif\" font-size=\"14.00\">class = 사망</text>\r\n",
       "</g>\r\n",
       "<!-- 0&#45;&gt;26 -->\r\n",
       "<g id=\"edge26\" class=\"edge\">\r\n",
       "<title>0&#45;&gt;26</title>\r\n",
       "<path fill=\"none\" stroke=\"black\" d=\"M1222.71,-601.31C1287.72,-580.24 1391.81,-546.51 1459.16,-524.68\"/>\r\n",
       "<polygon fill=\"black\" stroke=\"black\" points=\"1460.39,-527.96 1468.82,-521.55 1458.23,-521.3 1460.39,-527.96\"/>\r\n",
       "<text text-anchor=\"middle\" x=\"1457.45\" y=\"-540.11\" font-family=\"Times New Roman,serif\" font-size=\"14.00\">False</text>\r\n",
       "</g>\r\n",
       "<!-- 2 -->\r\n",
       "<g id=\"node3\" class=\"node\">\r\n",
       "<title>2</title>\r\n",
       "<polygon fill=\"#51a9e8\" stroke=\"black\" points=\"525,-425 414,-425 414,-342 525,-342 525,-425\"/>\r\n",
       "<text text-anchor=\"middle\" x=\"469.5\" y=\"-409.8\" font-family=\"Times New Roman,serif\" font-size=\"14.00\">Initial_4 &lt;= 0.5</text>\r\n",
       "<text text-anchor=\"middle\" x=\"469.5\" y=\"-394.8\" font-family=\"Times New Roman,serif\" font-size=\"14.00\">gini = 0.19</text>\r\n",
       "<text text-anchor=\"middle\" x=\"469.5\" y=\"-379.8\" font-family=\"Times New Roman,serif\" font-size=\"14.00\">samples = 197</text>\r\n",
       "<text text-anchor=\"middle\" x=\"469.5\" y=\"-364.8\" font-family=\"Times New Roman,serif\" font-size=\"14.00\">value = [21, 176]</text>\r\n",
       "<text text-anchor=\"middle\" x=\"469.5\" y=\"-349.8\" font-family=\"Times New Roman,serif\" font-size=\"14.00\">class = 생존</text>\r\n",
       "</g>\r\n",
       "<!-- 1&#45;&gt;2 -->\r\n",
       "<g id=\"edge2\" class=\"edge\">\r\n",
       "<title>1&#45;&gt;2</title>\r\n",
       "<path fill=\"none\" stroke=\"black\" d=\"M751.49,-481.25C691.15,-460.55 597.62,-428.46 535.02,-406.98\"/>\r\n",
       "<polygon fill=\"black\" stroke=\"black\" points=\"535.84,-403.56 525.24,-403.63 533.57,-410.18 535.84,-403.56\"/>\r\n",
       "</g>\r\n",
       "<!-- 13 -->\r\n",
       "<g id=\"node14\" class=\"node\">\r\n",
       "<title>13</title>\r\n",
       "<polygon fill=\"#fdf7f2\" stroke=\"black\" points=\"873.5,-425 747.5,-425 747.5,-342 873.5,-342 873.5,-425\"/>\r\n",
       "<text text-anchor=\"middle\" x=\"810.5\" y=\"-409.8\" font-family=\"Times New Roman,serif\" font-size=\"14.00\">Family_Size &lt;= 4.5</text>\r\n",
       "<text text-anchor=\"middle\" x=\"810.5\" y=\"-394.8\" font-family=\"Times New Roman,serif\" font-size=\"14.00\">gini = 0.499</text>\r\n",
       "<text text-anchor=\"middle\" x=\"810.5\" y=\"-379.8\" font-family=\"Times New Roman,serif\" font-size=\"14.00\">samples = 172</text>\r\n",
       "<text text-anchor=\"middle\" x=\"810.5\" y=\"-364.8\" font-family=\"Times New Roman,serif\" font-size=\"14.00\">value = [89, 83]</text>\r\n",
       "<text text-anchor=\"middle\" x=\"810.5\" y=\"-349.8\" font-family=\"Times New Roman,serif\" font-size=\"14.00\">class = 사망</text>\r\n",
       "</g>\r\n",
       "<!-- 1&#45;&gt;13 -->\r\n",
       "<g id=\"edge13\" class=\"edge\">\r\n",
       "<title>1&#45;&gt;13</title>\r\n",
       "<path fill=\"none\" stroke=\"black\" d=\"M810.5,-460.91C810.5,-452.65 810.5,-443.86 810.5,-435.3\"/>\r\n",
       "<polygon fill=\"black\" stroke=\"black\" points=\"814,-435.02 810.5,-425.02 807,-435.02 814,-435.02\"/>\r\n",
       "</g>\r\n",
       "<!-- 3 -->\r\n",
       "<g id=\"node4\" class=\"node\">\r\n",
       "<title>3</title>\r\n",
       "<polygon fill=\"#48a4e7\" stroke=\"black\" points=\"340,-306 229,-306 229,-223 340,-223 340,-306\"/>\r\n",
       "<text text-anchor=\"middle\" x=\"284.5\" y=\"-290.8\" font-family=\"Times New Roman,serif\" font-size=\"14.00\">Sex &lt;= 0.5</text>\r\n",
       "<text text-anchor=\"middle\" x=\"284.5\" y=\"-275.8\" font-family=\"Times New Roman,serif\" font-size=\"14.00\">gini = 0.129</text>\r\n",
       "<text text-anchor=\"middle\" x=\"284.5\" y=\"-260.8\" font-family=\"Times New Roman,serif\" font-size=\"14.00\">samples = 188</text>\r\n",
       "<text text-anchor=\"middle\" x=\"284.5\" y=\"-245.8\" font-family=\"Times New Roman,serif\" font-size=\"14.00\">value = [13, 175]</text>\r\n",
       "<text text-anchor=\"middle\" x=\"284.5\" y=\"-230.8\" font-family=\"Times New Roman,serif\" font-size=\"14.00\">class = 생존</text>\r\n",
       "</g>\r\n",
       "<!-- 2&#45;&gt;3 -->\r\n",
       "<g id=\"edge3\" class=\"edge\">\r\n",
       "<title>2&#45;&gt;3</title>\r\n",
       "<path fill=\"none\" stroke=\"black\" d=\"M413.99,-347.4C393.51,-334.44 370.12,-319.65 348.92,-306.24\"/>\r\n",
       "<polygon fill=\"black\" stroke=\"black\" points=\"350.61,-303.17 340.29,-300.78 346.87,-309.08 350.61,-303.17\"/>\r\n",
       "</g>\r\n",
       "<!-- 10 -->\r\n",
       "<g id=\"node11\" class=\"node\">\r\n",
       "<title>10</title>\r\n",
       "<polygon fill=\"#e89152\" stroke=\"black\" points=\"534,-306 405,-306 405,-223 534,-223 534,-306\"/>\r\n",
       "<text text-anchor=\"middle\" x=\"469.5\" y=\"-290.8\" font-family=\"Times New Roman,serif\" font-size=\"14.00\">Embarked_0 &lt;= 0.5</text>\r\n",
       "<text text-anchor=\"middle\" x=\"469.5\" y=\"-275.8\" font-family=\"Times New Roman,serif\" font-size=\"14.00\">gini = 0.198</text>\r\n",
       "<text text-anchor=\"middle\" x=\"469.5\" y=\"-260.8\" font-family=\"Times New Roman,serif\" font-size=\"14.00\">samples = 9</text>\r\n",
       "<text text-anchor=\"middle\" x=\"469.5\" y=\"-245.8\" font-family=\"Times New Roman,serif\" font-size=\"14.00\">value = [8, 1]</text>\r\n",
       "<text text-anchor=\"middle\" x=\"469.5\" y=\"-230.8\" font-family=\"Times New Roman,serif\" font-size=\"14.00\">class = 사망</text>\r\n",
       "</g>\r\n",
       "<!-- 2&#45;&gt;10 -->\r\n",
       "<g id=\"edge10\" class=\"edge\">\r\n",
       "<title>2&#45;&gt;10</title>\r\n",
       "<path fill=\"none\" stroke=\"black\" d=\"M469.5,-341.91C469.5,-333.65 469.5,-324.86 469.5,-316.3\"/>\r\n",
       "<polygon fill=\"black\" stroke=\"black\" points=\"473,-316.02 469.5,-306.02 466,-316.02 473,-316.02\"/>\r\n",
       "</g>\r\n",
       "<!-- 4 -->\r\n",
       "<g id=\"node5\" class=\"node\">\r\n",
       "<title>4</title>\r\n",
       "<polygon fill=\"#72b9ec\" stroke=\"black\" points=\"213.5,-187 111.5,-187 111.5,-104 213.5,-104 213.5,-187\"/>\r\n",
       "<text text-anchor=\"middle\" x=\"162.5\" y=\"-171.8\" font-family=\"Times New Roman,serif\" font-size=\"14.00\">Initial_0 &lt;= 0.5</text>\r\n",
       "<text text-anchor=\"middle\" x=\"162.5\" y=\"-156.8\" font-family=\"Times New Roman,serif\" font-size=\"14.00\">gini = 0.346</text>\r\n",
       "<text text-anchor=\"middle\" x=\"162.5\" y=\"-141.8\" font-family=\"Times New Roman,serif\" font-size=\"14.00\">samples = 18</text>\r\n",
       "<text text-anchor=\"middle\" x=\"162.5\" y=\"-126.8\" font-family=\"Times New Roman,serif\" font-size=\"14.00\">value = [4, 14]</text>\r\n",
       "<text text-anchor=\"middle\" x=\"162.5\" y=\"-111.8\" font-family=\"Times New Roman,serif\" font-size=\"14.00\">class = 생존</text>\r\n",
       "</g>\r\n",
       "<!-- 3&#45;&gt;4 -->\r\n",
       "<g id=\"edge4\" class=\"edge\">\r\n",
       "<title>3&#45;&gt;4</title>\r\n",
       "<path fill=\"none\" stroke=\"black\" d=\"M242.17,-222.91C232.52,-213.65 222.18,-203.73 212.25,-194.21\"/>\r\n",
       "<polygon fill=\"black\" stroke=\"black\" points=\"214.39,-191.42 204.75,-187.02 209.55,-196.47 214.39,-191.42\"/>\r\n",
       "</g>\r\n",
       "<!-- 7 -->\r\n",
       "<g id=\"node8\" class=\"node\">\r\n",
       "<title>7</title>\r\n",
       "<polygon fill=\"#44a2e6\" stroke=\"black\" points=\"336.5,-187 232.5,-187 232.5,-104 336.5,-104 336.5,-187\"/>\r\n",
       "<text text-anchor=\"middle\" x=\"284.5\" y=\"-171.8\" font-family=\"Times New Roman,serif\" font-size=\"14.00\">Age &lt;= 2.5</text>\r\n",
       "<text text-anchor=\"middle\" x=\"284.5\" y=\"-156.8\" font-family=\"Times New Roman,serif\" font-size=\"14.00\">gini = 0.1</text>\r\n",
       "<text text-anchor=\"middle\" x=\"284.5\" y=\"-141.8\" font-family=\"Times New Roman,serif\" font-size=\"14.00\">samples = 170</text>\r\n",
       "<text text-anchor=\"middle\" x=\"284.5\" y=\"-126.8\" font-family=\"Times New Roman,serif\" font-size=\"14.00\">value = [9, 161]</text>\r\n",
       "<text text-anchor=\"middle\" x=\"284.5\" y=\"-111.8\" font-family=\"Times New Roman,serif\" font-size=\"14.00\">class = 생존</text>\r\n",
       "</g>\r\n",
       "<!-- 3&#45;&gt;7 -->\r\n",
       "<g id=\"edge7\" class=\"edge\">\r\n",
       "<title>3&#45;&gt;7</title>\r\n",
       "<path fill=\"none\" stroke=\"black\" d=\"M284.5,-222.91C284.5,-214.65 284.5,-205.86 284.5,-197.3\"/>\r\n",
       "<polygon fill=\"black\" stroke=\"black\" points=\"288,-197.02 284.5,-187.02 281,-197.02 288,-197.02\"/>\r\n",
       "</g>\r\n",
       "<!-- 5 -->\r\n",
       "<g id=\"node6\" class=\"node\">\r\n",
       "<title>5</title>\r\n",
       "<polygon fill=\"#f2c09c\" stroke=\"black\" points=\"95,-68 0,-68 0,0 95,0 95,-68\"/>\r\n",
       "<text text-anchor=\"middle\" x=\"47.5\" y=\"-52.8\" font-family=\"Times New Roman,serif\" font-size=\"14.00\">gini = 0.444</text>\r\n",
       "<text text-anchor=\"middle\" x=\"47.5\" y=\"-37.8\" font-family=\"Times New Roman,serif\" font-size=\"14.00\">samples = 6</text>\r\n",
       "<text text-anchor=\"middle\" x=\"47.5\" y=\"-22.8\" font-family=\"Times New Roman,serif\" font-size=\"14.00\">value = [4, 2]</text>\r\n",
       "<text text-anchor=\"middle\" x=\"47.5\" y=\"-7.8\" font-family=\"Times New Roman,serif\" font-size=\"14.00\">class = 사망</text>\r\n",
       "</g>\r\n",
       "<!-- 4&#45;&gt;5 -->\r\n",
       "<g id=\"edge5\" class=\"edge\">\r\n",
       "<title>4&#45;&gt;5</title>\r\n",
       "<path fill=\"none\" stroke=\"black\" d=\"M119.68,-103.73C109.91,-94.42 99.53,-84.54 89.78,-75.26\"/>\r\n",
       "<polygon fill=\"black\" stroke=\"black\" points=\"92.13,-72.66 82.47,-68.3 87.3,-77.73 92.13,-72.66\"/>\r\n",
       "</g>\r\n",
       "<!-- 6 -->\r\n",
       "<g id=\"node7\" class=\"node\">\r\n",
       "<title>6</title>\r\n",
       "<polygon fill=\"#399de5\" stroke=\"black\" points=\"211.5,-68 113.5,-68 113.5,0 211.5,0 211.5,-68\"/>\r\n",
       "<text text-anchor=\"middle\" x=\"162.5\" y=\"-52.8\" font-family=\"Times New Roman,serif\" font-size=\"14.00\">gini = 0.0</text>\r\n",
       "<text text-anchor=\"middle\" x=\"162.5\" y=\"-37.8\" font-family=\"Times New Roman,serif\" font-size=\"14.00\">samples = 12</text>\r\n",
       "<text text-anchor=\"middle\" x=\"162.5\" y=\"-22.8\" font-family=\"Times New Roman,serif\" font-size=\"14.00\">value = [0, 12]</text>\r\n",
       "<text text-anchor=\"middle\" x=\"162.5\" y=\"-7.8\" font-family=\"Times New Roman,serif\" font-size=\"14.00\">class = 생존</text>\r\n",
       "</g>\r\n",
       "<!-- 4&#45;&gt;6 -->\r\n",
       "<g id=\"edge6\" class=\"edge\">\r\n",
       "<title>4&#45;&gt;6</title>\r\n",
       "<path fill=\"none\" stroke=\"black\" d=\"M162.5,-103.73C162.5,-95.52 162.5,-86.86 162.5,-78.56\"/>\r\n",
       "<polygon fill=\"black\" stroke=\"black\" points=\"166,-78.3 162.5,-68.3 159,-78.3 166,-78.3\"/>\r\n",
       "</g>\r\n",
       "<!-- 8 -->\r\n",
       "<g id=\"node9\" class=\"node\">\r\n",
       "<title>8</title>\r\n",
       "<polygon fill=\"#ffffff\" stroke=\"black\" points=\"325,-68 230,-68 230,0 325,0 325,-68\"/>\r\n",
       "<text text-anchor=\"middle\" x=\"277.5\" y=\"-52.8\" font-family=\"Times New Roman,serif\" font-size=\"14.00\">gini = 0.5</text>\r\n",
       "<text text-anchor=\"middle\" x=\"277.5\" y=\"-37.8\" font-family=\"Times New Roman,serif\" font-size=\"14.00\">samples = 2</text>\r\n",
       "<text text-anchor=\"middle\" x=\"277.5\" y=\"-22.8\" font-family=\"Times New Roman,serif\" font-size=\"14.00\">value = [1, 1]</text>\r\n",
       "<text text-anchor=\"middle\" x=\"277.5\" y=\"-7.8\" font-family=\"Times New Roman,serif\" font-size=\"14.00\">class = 사망</text>\r\n",
       "</g>\r\n",
       "<!-- 7&#45;&gt;8 -->\r\n",
       "<g id=\"edge8\" class=\"edge\">\r\n",
       "<title>7&#45;&gt;8</title>\r\n",
       "<path fill=\"none\" stroke=\"black\" d=\"M281.89,-103.73C281.36,-95.43 280.8,-86.67 280.27,-78.28\"/>\r\n",
       "<polygon fill=\"black\" stroke=\"black\" points=\"283.76,-78.06 279.63,-68.3 276.77,-78.5 283.76,-78.06\"/>\r\n",
       "</g>\r\n",
       "<!-- 9 -->\r\n",
       "<g id=\"node10\" class=\"node\">\r\n",
       "<title>9</title>\r\n",
       "<polygon fill=\"#43a2e6\" stroke=\"black\" points=\"447.5,-68 343.5,-68 343.5,0 447.5,0 447.5,-68\"/>\r\n",
       "<text text-anchor=\"middle\" x=\"395.5\" y=\"-52.8\" font-family=\"Times New Roman,serif\" font-size=\"14.00\">gini = 0.091</text>\r\n",
       "<text text-anchor=\"middle\" x=\"395.5\" y=\"-37.8\" font-family=\"Times New Roman,serif\" font-size=\"14.00\">samples = 168</text>\r\n",
       "<text text-anchor=\"middle\" x=\"395.5\" y=\"-22.8\" font-family=\"Times New Roman,serif\" font-size=\"14.00\">value = [8, 160]</text>\r\n",
       "<text text-anchor=\"middle\" x=\"395.5\" y=\"-7.8\" font-family=\"Times New Roman,serif\" font-size=\"14.00\">class = 생존</text>\r\n",
       "</g>\r\n",
       "<!-- 7&#45;&gt;9 -->\r\n",
       "<g id=\"edge9\" class=\"edge\">\r\n",
       "<title>7&#45;&gt;9</title>\r\n",
       "<path fill=\"none\" stroke=\"black\" d=\"M325.83,-103.73C335.17,-94.51 345.08,-84.74 354.41,-75.53\"/>\r\n",
       "<polygon fill=\"black\" stroke=\"black\" points=\"357.08,-77.81 361.74,-68.3 352.17,-72.83 357.08,-77.81\"/>\r\n",
       "</g>\r\n",
       "<!-- 11 -->\r\n",
       "<g id=\"node12\" class=\"node\">\r\n",
       "<title>11</title>\r\n",
       "<polygon fill=\"#e58139\" stroke=\"black\" points=\"450,-179.5 355,-179.5 355,-111.5 450,-111.5 450,-179.5\"/>\r\n",
       "<text text-anchor=\"middle\" x=\"402.5\" y=\"-164.3\" font-family=\"Times New Roman,serif\" font-size=\"14.00\">gini = 0.0</text>\r\n",
       "<text text-anchor=\"middle\" x=\"402.5\" y=\"-149.3\" font-family=\"Times New Roman,serif\" font-size=\"14.00\">samples = 8</text>\r\n",
       "<text text-anchor=\"middle\" x=\"402.5\" y=\"-134.3\" font-family=\"Times New Roman,serif\" font-size=\"14.00\">value = [8, 0]</text>\r\n",
       "<text text-anchor=\"middle\" x=\"402.5\" y=\"-119.3\" font-family=\"Times New Roman,serif\" font-size=\"14.00\">class = 사망</text>\r\n",
       "</g>\r\n",
       "<!-- 10&#45;&gt;11 -->\r\n",
       "<g id=\"edge11\" class=\"edge\">\r\n",
       "<title>10&#45;&gt;11</title>\r\n",
       "<path fill=\"none\" stroke=\"black\" d=\"M446.25,-222.91C439.87,-211.76 432.94,-199.66 426.52,-188.44\"/>\r\n",
       "<polygon fill=\"black\" stroke=\"black\" points=\"429.5,-186.61 421.49,-179.67 423.43,-190.08 429.5,-186.61\"/>\r\n",
       "</g>\r\n",
       "<!-- 12 -->\r\n",
       "<g id=\"node13\" class=\"node\">\r\n",
       "<title>12</title>\r\n",
       "<polygon fill=\"#399de5\" stroke=\"black\" points=\"563,-179.5 468,-179.5 468,-111.5 563,-111.5 563,-179.5\"/>\r\n",
       "<text text-anchor=\"middle\" x=\"515.5\" y=\"-164.3\" font-family=\"Times New Roman,serif\" font-size=\"14.00\">gini = 0.0</text>\r\n",
       "<text text-anchor=\"middle\" x=\"515.5\" y=\"-149.3\" font-family=\"Times New Roman,serif\" font-size=\"14.00\">samples = 1</text>\r\n",
       "<text text-anchor=\"middle\" x=\"515.5\" y=\"-134.3\" font-family=\"Times New Roman,serif\" font-size=\"14.00\">value = [0, 1]</text>\r\n",
       "<text text-anchor=\"middle\" x=\"515.5\" y=\"-119.3\" font-family=\"Times New Roman,serif\" font-size=\"14.00\">class = 생존</text>\r\n",
       "</g>\r\n",
       "<!-- 10&#45;&gt;12 -->\r\n",
       "<g id=\"edge12\" class=\"edge\">\r\n",
       "<title>10&#45;&gt;12</title>\r\n",
       "<path fill=\"none\" stroke=\"black\" d=\"M485.46,-222.91C489.75,-211.98 494.41,-200.14 498.75,-189.11\"/>\r\n",
       "<polygon fill=\"black\" stroke=\"black\" points=\"502.06,-190.25 502.46,-179.67 495.54,-187.69 502.06,-190.25\"/>\r\n",
       "</g>\r\n",
       "<!-- 14 -->\r\n",
       "<g id=\"node15\" class=\"node\">\r\n",
       "<title>14</title>\r\n",
       "<polygon fill=\"#b1d9f5\" stroke=\"black\" points=\"803.5,-306 699.5,-306 699.5,-223 803.5,-223 803.5,-306\"/>\r\n",
       "<text text-anchor=\"middle\" x=\"751.5\" y=\"-290.8\" font-family=\"Times New Roman,serif\" font-size=\"14.00\">Age &lt;= 27.5</text>\r\n",
       "<text text-anchor=\"middle\" x=\"751.5\" y=\"-275.8\" font-family=\"Times New Roman,serif\" font-size=\"14.00\">gini = 0.47</text>\r\n",
       "<text text-anchor=\"middle\" x=\"751.5\" y=\"-260.8\" font-family=\"Times New Roman,serif\" font-size=\"14.00\">samples = 127</text>\r\n",
       "<text text-anchor=\"middle\" x=\"751.5\" y=\"-245.8\" font-family=\"Times New Roman,serif\" font-size=\"14.00\">value = [48, 79]</text>\r\n",
       "<text text-anchor=\"middle\" x=\"751.5\" y=\"-230.8\" font-family=\"Times New Roman,serif\" font-size=\"14.00\">class = 생존</text>\r\n",
       "</g>\r\n",
       "<!-- 13&#45;&gt;14 -->\r\n",
       "<g id=\"edge14\" class=\"edge\">\r\n",
       "<title>13&#45;&gt;14</title>\r\n",
       "<path fill=\"none\" stroke=\"black\" d=\"M790.03,-341.91C785.68,-333.29 781.05,-324.09 776.55,-315.17\"/>\r\n",
       "<polygon fill=\"black\" stroke=\"black\" points=\"779.56,-313.37 771.93,-306.02 773.31,-316.53 779.56,-313.37\"/>\r\n",
       "</g>\r\n",
       "<!-- 21 -->\r\n",
       "<g id=\"node22\" class=\"node\">\r\n",
       "<title>21</title>\r\n",
       "<polygon fill=\"#e88d4c\" stroke=\"black\" points=\"919.5,-306 821.5,-306 821.5,-223 919.5,-223 919.5,-306\"/>\r\n",
       "<text text-anchor=\"middle\" x=\"870.5\" y=\"-290.8\" font-family=\"Times New Roman,serif\" font-size=\"14.00\">Fare &lt;= 14.5</text>\r\n",
       "<text text-anchor=\"middle\" x=\"870.5\" y=\"-275.8\" font-family=\"Times New Roman,serif\" font-size=\"14.00\">gini = 0.162</text>\r\n",
       "<text text-anchor=\"middle\" x=\"870.5\" y=\"-260.8\" font-family=\"Times New Roman,serif\" font-size=\"14.00\">samples = 45</text>\r\n",
       "<text text-anchor=\"middle\" x=\"870.5\" y=\"-245.8\" font-family=\"Times New Roman,serif\" font-size=\"14.00\">value = [41, 4]</text>\r\n",
       "<text text-anchor=\"middle\" x=\"870.5\" y=\"-230.8\" font-family=\"Times New Roman,serif\" font-size=\"14.00\">class = 사망</text>\r\n",
       "</g>\r\n",
       "<!-- 13&#45;&gt;21 -->\r\n",
       "<g id=\"edge21\" class=\"edge\">\r\n",
       "<title>13&#45;&gt;21</title>\r\n",
       "<path fill=\"none\" stroke=\"black\" d=\"M831.32,-341.91C835.74,-333.29 840.45,-324.09 845.03,-315.17\"/>\r\n",
       "<polygon fill=\"black\" stroke=\"black\" points=\"848.27,-316.52 849.72,-306.02 842.04,-313.32 848.27,-316.52\"/>\r\n",
       "</g>\r\n",
       "<!-- 15 -->\r\n",
       "<g id=\"node16\" class=\"node\">\r\n",
       "<title>15</title>\r\n",
       "<polygon fill=\"#95cbf1\" stroke=\"black\" points=\"685.5,-187 581.5,-187 581.5,-104 685.5,-104 685.5,-187\"/>\r\n",
       "<text text-anchor=\"middle\" x=\"633.5\" y=\"-171.8\" font-family=\"Times New Roman,serif\" font-size=\"14.00\">Age &lt;= 7.5</text>\r\n",
       "<text text-anchor=\"middle\" x=\"633.5\" y=\"-156.8\" font-family=\"Times New Roman,serif\" font-size=\"14.00\">gini = 0.433</text>\r\n",
       "<text text-anchor=\"middle\" x=\"633.5\" y=\"-141.8\" font-family=\"Times New Roman,serif\" font-size=\"14.00\">samples = 104</text>\r\n",
       "<text text-anchor=\"middle\" x=\"633.5\" y=\"-126.8\" font-family=\"Times New Roman,serif\" font-size=\"14.00\">value = [33, 71]</text>\r\n",
       "<text text-anchor=\"middle\" x=\"633.5\" y=\"-111.8\" font-family=\"Times New Roman,serif\" font-size=\"14.00\">class = 생존</text>\r\n",
       "</g>\r\n",
       "<!-- 14&#45;&gt;15 -->\r\n",
       "<g id=\"edge15\" class=\"edge\">\r\n",
       "<title>14&#45;&gt;15</title>\r\n",
       "<path fill=\"none\" stroke=\"black\" d=\"M710.56,-222.91C701.22,-213.65 691.22,-203.73 681.62,-194.21\"/>\r\n",
       "<polygon fill=\"black\" stroke=\"black\" points=\"683.93,-191.58 674.37,-187.02 679,-196.55 683.93,-191.58\"/>\r\n",
       "</g>\r\n",
       "<!-- 18 -->\r\n",
       "<g id=\"node19\" class=\"node\">\r\n",
       "<title>18</title>\r\n",
       "<polygon fill=\"#f3c4a3\" stroke=\"black\" points=\"801.5,-187 703.5,-187 703.5,-104 801.5,-104 801.5,-187\"/>\r\n",
       "<text text-anchor=\"middle\" x=\"752.5\" y=\"-171.8\" font-family=\"Times New Roman,serif\" font-size=\"14.00\">Fare &lt;= 8.673</text>\r\n",
       "<text text-anchor=\"middle\" x=\"752.5\" y=\"-156.8\" font-family=\"Times New Roman,serif\" font-size=\"14.00\">gini = 0.454</text>\r\n",
       "<text text-anchor=\"middle\" x=\"752.5\" y=\"-141.8\" font-family=\"Times New Roman,serif\" font-size=\"14.00\">samples = 23</text>\r\n",
       "<text text-anchor=\"middle\" x=\"752.5\" y=\"-126.8\" font-family=\"Times New Roman,serif\" font-size=\"14.00\">value = [15, 8]</text>\r\n",
       "<text text-anchor=\"middle\" x=\"752.5\" y=\"-111.8\" font-family=\"Times New Roman,serif\" font-size=\"14.00\">class = 사망</text>\r\n",
       "</g>\r\n",
       "<!-- 14&#45;&gt;18 -->\r\n",
       "<g id=\"edge18\" class=\"edge\">\r\n",
       "<title>14&#45;&gt;18</title>\r\n",
       "<path fill=\"none\" stroke=\"black\" d=\"M751.85,-222.91C751.92,-214.65 751.99,-205.86 752.07,-197.3\"/>\r\n",
       "<polygon fill=\"black\" stroke=\"black\" points=\"755.57,-197.05 752.15,-187.02 748.57,-196.99 755.57,-197.05\"/>\r\n",
       "</g>\r\n",
       "<!-- 16 -->\r\n",
       "<g id=\"node17\" class=\"node\">\r\n",
       "<title>16</title>\r\n",
       "<polygon fill=\"#46a4e7\" stroke=\"black\" points=\"563.5,-68 465.5,-68 465.5,0 563.5,0 563.5,-68\"/>\r\n",
       "<text text-anchor=\"middle\" x=\"514.5\" y=\"-52.8\" font-family=\"Times New Roman,serif\" font-size=\"14.00\">gini = 0.117</text>\r\n",
       "<text text-anchor=\"middle\" x=\"514.5\" y=\"-37.8\" font-family=\"Times New Roman,serif\" font-size=\"14.00\">samples = 16</text>\r\n",
       "<text text-anchor=\"middle\" x=\"514.5\" y=\"-22.8\" font-family=\"Times New Roman,serif\" font-size=\"14.00\">value = [1, 15]</text>\r\n",
       "<text text-anchor=\"middle\" x=\"514.5\" y=\"-7.8\" font-family=\"Times New Roman,serif\" font-size=\"14.00\">class = 생존</text>\r\n",
       "</g>\r\n",
       "<!-- 15&#45;&gt;16 -->\r\n",
       "<g id=\"edge16\" class=\"edge\">\r\n",
       "<title>15&#45;&gt;16</title>\r\n",
       "<path fill=\"none\" stroke=\"black\" d=\"M589.19,-103.73C579.08,-94.42 568.34,-84.54 558.25,-75.26\"/>\r\n",
       "<polygon fill=\"black\" stroke=\"black\" points=\"560.42,-72.5 550.69,-68.3 555.68,-77.65 560.42,-72.5\"/>\r\n",
       "</g>\r\n",
       "<!-- 17 -->\r\n",
       "<g id=\"node18\" class=\"node\">\r\n",
       "<title>17</title>\r\n",
       "<polygon fill=\"#aad5f4\" stroke=\"black\" points=\"685.5,-68 581.5,-68 581.5,0 685.5,0 685.5,-68\"/>\r\n",
       "<text text-anchor=\"middle\" x=\"633.5\" y=\"-52.8\" font-family=\"Times New Roman,serif\" font-size=\"14.00\">gini = 0.463</text>\r\n",
       "<text text-anchor=\"middle\" x=\"633.5\" y=\"-37.8\" font-family=\"Times New Roman,serif\" font-size=\"14.00\">samples = 88</text>\r\n",
       "<text text-anchor=\"middle\" x=\"633.5\" y=\"-22.8\" font-family=\"Times New Roman,serif\" font-size=\"14.00\">value = [32, 56]</text>\r\n",
       "<text text-anchor=\"middle\" x=\"633.5\" y=\"-7.8\" font-family=\"Times New Roman,serif\" font-size=\"14.00\">class = 생존</text>\r\n",
       "</g>\r\n",
       "<!-- 15&#45;&gt;17 -->\r\n",
       "<g id=\"edge17\" class=\"edge\">\r\n",
       "<title>15&#45;&gt;17</title>\r\n",
       "<path fill=\"none\" stroke=\"black\" d=\"M633.5,-103.73C633.5,-95.52 633.5,-86.86 633.5,-78.56\"/>\r\n",
       "<polygon fill=\"black\" stroke=\"black\" points=\"637,-78.3 633.5,-68.3 630,-78.3 637,-78.3\"/>\r\n",
       "</g>\r\n",
       "<!-- 19 -->\r\n",
       "<g id=\"node20\" class=\"node\">\r\n",
       "<title>19</title>\r\n",
       "<polygon fill=\"#e58139\" stroke=\"black\" points=\"799,-68 704,-68 704,0 799,0 799,-68\"/>\r\n",
       "<text text-anchor=\"middle\" x=\"751.5\" y=\"-52.8\" font-family=\"Times New Roman,serif\" font-size=\"14.00\">gini = 0.0</text>\r\n",
       "<text text-anchor=\"middle\" x=\"751.5\" y=\"-37.8\" font-family=\"Times New Roman,serif\" font-size=\"14.00\">samples = 5</text>\r\n",
       "<text text-anchor=\"middle\" x=\"751.5\" y=\"-22.8\" font-family=\"Times New Roman,serif\" font-size=\"14.00\">value = [5, 0]</text>\r\n",
       "<text text-anchor=\"middle\" x=\"751.5\" y=\"-7.8\" font-family=\"Times New Roman,serif\" font-size=\"14.00\">class = 사망</text>\r\n",
       "</g>\r\n",
       "<!-- 18&#45;&gt;19 -->\r\n",
       "<g id=\"edge19\" class=\"edge\">\r\n",
       "<title>18&#45;&gt;19</title>\r\n",
       "<path fill=\"none\" stroke=\"black\" d=\"M752.13,-103.73C752.05,-95.52 751.97,-86.86 751.9,-78.56\"/>\r\n",
       "<polygon fill=\"black\" stroke=\"black\" points=\"755.4,-78.27 751.8,-68.3 748.4,-78.33 755.4,-78.27\"/>\r\n",
       "</g>\r\n",
       "<!-- 20 -->\r\n",
       "<g id=\"node21\" class=\"node\">\r\n",
       "<title>20</title>\r\n",
       "<polygon fill=\"#fae6d7\" stroke=\"black\" points=\"915.5,-68 817.5,-68 817.5,0 915.5,0 915.5,-68\"/>\r\n",
       "<text text-anchor=\"middle\" x=\"866.5\" y=\"-52.8\" font-family=\"Times New Roman,serif\" font-size=\"14.00\">gini = 0.494</text>\r\n",
       "<text text-anchor=\"middle\" x=\"866.5\" y=\"-37.8\" font-family=\"Times New Roman,serif\" font-size=\"14.00\">samples = 18</text>\r\n",
       "<text text-anchor=\"middle\" x=\"866.5\" y=\"-22.8\" font-family=\"Times New Roman,serif\" font-size=\"14.00\">value = [10, 8]</text>\r\n",
       "<text text-anchor=\"middle\" x=\"866.5\" y=\"-7.8\" font-family=\"Times New Roman,serif\" font-size=\"14.00\">class = 사망</text>\r\n",
       "</g>\r\n",
       "<!-- 18&#45;&gt;20 -->\r\n",
       "<g id=\"edge20\" class=\"edge\">\r\n",
       "<title>18&#45;&gt;20</title>\r\n",
       "<path fill=\"none\" stroke=\"black\" d=\"M794.95,-103.73C804.63,-94.42 814.92,-84.54 824.58,-75.26\"/>\r\n",
       "<polygon fill=\"black\" stroke=\"black\" points=\"827.04,-77.75 831.83,-68.3 822.2,-72.7 827.04,-77.75\"/>\r\n",
       "</g>\r\n",
       "<!-- 22 -->\r\n",
       "<g id=\"node23\" class=\"node\">\r\n",
       "<title>22</title>\r\n",
       "<polygon fill=\"#399de5\" stroke=\"black\" points=\"916,-179.5 821,-179.5 821,-111.5 916,-111.5 916,-179.5\"/>\r\n",
       "<text text-anchor=\"middle\" x=\"868.5\" y=\"-164.3\" font-family=\"Times New Roman,serif\" font-size=\"14.00\">gini = 0.0</text>\r\n",
       "<text text-anchor=\"middle\" x=\"868.5\" y=\"-149.3\" font-family=\"Times New Roman,serif\" font-size=\"14.00\">samples = 1</text>\r\n",
       "<text text-anchor=\"middle\" x=\"868.5\" y=\"-134.3\" font-family=\"Times New Roman,serif\" font-size=\"14.00\">value = [0, 1]</text>\r\n",
       "<text text-anchor=\"middle\" x=\"868.5\" y=\"-119.3\" font-family=\"Times New Roman,serif\" font-size=\"14.00\">class = 생존</text>\r\n",
       "</g>\r\n",
       "<!-- 21&#45;&gt;22 -->\r\n",
       "<g id=\"edge22\" class=\"edge\">\r\n",
       "<title>21&#45;&gt;22</title>\r\n",
       "<path fill=\"none\" stroke=\"black\" d=\"M869.81,-222.91C869.62,-212.2 869.43,-200.62 869.24,-189.78\"/>\r\n",
       "<polygon fill=\"black\" stroke=\"black\" points=\"872.74,-189.61 869.07,-179.67 865.74,-189.73 872.74,-189.61\"/>\r\n",
       "</g>\r\n",
       "<!-- 23 -->\r\n",
       "<g id=\"node24\" class=\"node\">\r\n",
       "<title>23</title>\r\n",
       "<polygon fill=\"#e78a47\" stroke=\"black\" points=\"1060.5,-187 934.5,-187 934.5,-104 1060.5,-104 1060.5,-187\"/>\r\n",
       "<text text-anchor=\"middle\" x=\"997.5\" y=\"-171.8\" font-family=\"Times New Roman,serif\" font-size=\"14.00\">Family_Size &lt;= 6.5</text>\r\n",
       "<text text-anchor=\"middle\" x=\"997.5\" y=\"-156.8\" font-family=\"Times New Roman,serif\" font-size=\"14.00\">gini = 0.127</text>\r\n",
       "<text text-anchor=\"middle\" x=\"997.5\" y=\"-141.8\" font-family=\"Times New Roman,serif\" font-size=\"14.00\">samples = 44</text>\r\n",
       "<text text-anchor=\"middle\" x=\"997.5\" y=\"-126.8\" font-family=\"Times New Roman,serif\" font-size=\"14.00\">value = [41, 3]</text>\r\n",
       "<text text-anchor=\"middle\" x=\"997.5\" y=\"-111.8\" font-family=\"Times New Roman,serif\" font-size=\"14.00\">class = 사망</text>\r\n",
       "</g>\r\n",
       "<!-- 21&#45;&gt;23 -->\r\n",
       "<g id=\"edge23\" class=\"edge\">\r\n",
       "<title>21&#45;&gt;23</title>\r\n",
       "<path fill=\"none\" stroke=\"black\" d=\"M914.56,-222.91C924.71,-213.56 935.59,-203.54 946.02,-193.93\"/>\r\n",
       "<polygon fill=\"black\" stroke=\"black\" points=\"948.53,-196.37 953.52,-187.02 943.79,-191.22 948.53,-196.37\"/>\r\n",
       "</g>\r\n",
       "<!-- 24 -->\r\n",
       "<g id=\"node25\" class=\"node\">\r\n",
       "<title>24</title>\r\n",
       "<polygon fill=\"#e58139\" stroke=\"black\" points=\"1031.5,-68 933.5,-68 933.5,0 1031.5,0 1031.5,-68\"/>\r\n",
       "<text text-anchor=\"middle\" x=\"982.5\" y=\"-52.8\" font-family=\"Times New Roman,serif\" font-size=\"14.00\">gini = 0.0</text>\r\n",
       "<text text-anchor=\"middle\" x=\"982.5\" y=\"-37.8\" font-family=\"Times New Roman,serif\" font-size=\"14.00\">samples = 25</text>\r\n",
       "<text text-anchor=\"middle\" x=\"982.5\" y=\"-22.8\" font-family=\"Times New Roman,serif\" font-size=\"14.00\">value = [25, 0]</text>\r\n",
       "<text text-anchor=\"middle\" x=\"982.5\" y=\"-7.8\" font-family=\"Times New Roman,serif\" font-size=\"14.00\">class = 사망</text>\r\n",
       "</g>\r\n",
       "<!-- 23&#45;&gt;24 -->\r\n",
       "<g id=\"edge24\" class=\"edge\">\r\n",
       "<title>23&#45;&gt;24</title>\r\n",
       "<path fill=\"none\" stroke=\"black\" d=\"M991.91,-103.73C990.78,-95.43 989.58,-86.67 988.43,-78.28\"/>\r\n",
       "<polygon fill=\"black\" stroke=\"black\" points=\"991.89,-77.73 987.06,-68.3 984.95,-78.68 991.89,-77.73\"/>\r\n",
       "</g>\r\n",
       "<!-- 25 -->\r\n",
       "<g id=\"node26\" class=\"node\">\r\n",
       "<title>25</title>\r\n",
       "<polygon fill=\"#ea995e\" stroke=\"black\" points=\"1147.5,-68 1049.5,-68 1049.5,0 1147.5,0 1147.5,-68\"/>\r\n",
       "<text text-anchor=\"middle\" x=\"1098.5\" y=\"-52.8\" font-family=\"Times New Roman,serif\" font-size=\"14.00\">gini = 0.266</text>\r\n",
       "<text text-anchor=\"middle\" x=\"1098.5\" y=\"-37.8\" font-family=\"Times New Roman,serif\" font-size=\"14.00\">samples = 19</text>\r\n",
       "<text text-anchor=\"middle\" x=\"1098.5\" y=\"-22.8\" font-family=\"Times New Roman,serif\" font-size=\"14.00\">value = [16, 3]</text>\r\n",
       "<text text-anchor=\"middle\" x=\"1098.5\" y=\"-7.8\" font-family=\"Times New Roman,serif\" font-size=\"14.00\">class = 사망</text>\r\n",
       "</g>\r\n",
       "<!-- 23&#45;&gt;25 -->\r\n",
       "<g id=\"edge25\" class=\"edge\">\r\n",
       "<title>23&#45;&gt;25</title>\r\n",
       "<path fill=\"none\" stroke=\"black\" d=\"M1035.11,-103.73C1043.52,-94.61 1052.45,-84.93 1060.86,-75.81\"/>\r\n",
       "<polygon fill=\"black\" stroke=\"black\" points=\"1063.58,-78.02 1067.79,-68.3 1058.43,-73.28 1063.58,-78.02\"/>\r\n",
       "</g>\r\n",
       "<!-- 27 -->\r\n",
       "<g id=\"node28\" class=\"node\">\r\n",
       "<title>27</title>\r\n",
       "<polygon fill=\"#e88f4f\" stroke=\"black\" points=\"1580,-425 1469,-425 1469,-342 1580,-342 1580,-425\"/>\r\n",
       "<text text-anchor=\"middle\" x=\"1524.5\" y=\"-409.8\" font-family=\"Times New Roman,serif\" font-size=\"14.00\">Deck_4 &lt;= 0.5</text>\r\n",
       "<text text-anchor=\"middle\" x=\"1524.5\" y=\"-394.8\" font-family=\"Times New Roman,serif\" font-size=\"14.00\">gini = 0.18</text>\r\n",
       "<text text-anchor=\"middle\" x=\"1524.5\" y=\"-379.8\" font-family=\"Times New Roman,serif\" font-size=\"14.00\">samples = 390</text>\r\n",
       "<text text-anchor=\"middle\" x=\"1524.5\" y=\"-364.8\" font-family=\"Times New Roman,serif\" font-size=\"14.00\">value = [351, 39]</text>\r\n",
       "<text text-anchor=\"middle\" x=\"1524.5\" y=\"-349.8\" font-family=\"Times New Roman,serif\" font-size=\"14.00\">class = 사망</text>\r\n",
       "</g>\r\n",
       "<!-- 26&#45;&gt;27 -->\r\n",
       "<g id=\"edge27\" class=\"edge\">\r\n",
       "<title>26&#45;&gt;27</title>\r\n",
       "<path fill=\"none\" stroke=\"black\" d=\"M1524.5,-460.91C1524.5,-452.65 1524.5,-443.86 1524.5,-435.3\"/>\r\n",
       "<polygon fill=\"black\" stroke=\"black\" points=\"1528,-435.02 1524.5,-425.02 1521,-435.02 1528,-435.02\"/>\r\n",
       "</g>\r\n",
       "<!-- 38 -->\r\n",
       "<g id=\"node39\" class=\"node\">\r\n",
       "<title>38</title>\r\n",
       "<polygon fill=\"#f2c09c\" stroke=\"black\" points=\"1927.5,-425 1823.5,-425 1823.5,-342 1927.5,-342 1927.5,-425\"/>\r\n",
       "<text text-anchor=\"middle\" x=\"1875.5\" y=\"-409.8\" font-family=\"Times New Roman,serif\" font-size=\"14.00\">Fare &lt;= 26.775</text>\r\n",
       "<text text-anchor=\"middle\" x=\"1875.5\" y=\"-394.8\" font-family=\"Times New Roman,serif\" font-size=\"14.00\">gini = 0.444</text>\r\n",
       "<text text-anchor=\"middle\" x=\"1875.5\" y=\"-379.8\" font-family=\"Times New Roman,serif\" font-size=\"14.00\">samples = 132</text>\r\n",
       "<text text-anchor=\"middle\" x=\"1875.5\" y=\"-364.8\" font-family=\"Times New Roman,serif\" font-size=\"14.00\">value = [88, 44]</text>\r\n",
       "<text text-anchor=\"middle\" x=\"1875.5\" y=\"-349.8\" font-family=\"Times New Roman,serif\" font-size=\"14.00\">class = 사망</text>\r\n",
       "</g>\r\n",
       "<!-- 26&#45;&gt;38 -->\r\n",
       "<g id=\"edge38\" class=\"edge\">\r\n",
       "<title>26&#45;&gt;38</title>\r\n",
       "<path fill=\"none\" stroke=\"black\" d=\"M1580.12,-482.96C1643.64,-461.79 1747.31,-427.23 1813.42,-405.19\"/>\r\n",
       "<polygon fill=\"black\" stroke=\"black\" points=\"1814.91,-408.39 1823.29,-401.9 1812.7,-401.74 1814.91,-408.39\"/>\r\n",
       "</g>\r\n",
       "<!-- 28 -->\r\n",
       "<g id=\"node29\" class=\"node\">\r\n",
       "<title>28</title>\r\n",
       "<polygon fill=\"#e88f4e\" stroke=\"black\" points=\"1515,-306 1404,-306 1404,-223 1515,-223 1515,-306\"/>\r\n",
       "<text text-anchor=\"middle\" x=\"1459.5\" y=\"-290.8\" font-family=\"Times New Roman,serif\" font-size=\"14.00\">Deck_3 &lt;= 0.5</text>\r\n",
       "<text text-anchor=\"middle\" x=\"1459.5\" y=\"-275.8\" font-family=\"Times New Roman,serif\" font-size=\"14.00\">gini = 0.177</text>\r\n",
       "<text text-anchor=\"middle\" x=\"1459.5\" y=\"-260.8\" font-family=\"Times New Roman,serif\" font-size=\"14.00\">samples = 388</text>\r\n",
       "<text text-anchor=\"middle\" x=\"1459.5\" y=\"-245.8\" font-family=\"Times New Roman,serif\" font-size=\"14.00\">value = [350, 38]</text>\r\n",
       "<text text-anchor=\"middle\" x=\"1459.5\" y=\"-230.8\" font-family=\"Times New Roman,serif\" font-size=\"14.00\">class = 사망</text>\r\n",
       "</g>\r\n",
       "<!-- 27&#45;&gt;28 -->\r\n",
       "<g id=\"edge28\" class=\"edge\">\r\n",
       "<title>27&#45;&gt;28</title>\r\n",
       "<path fill=\"none\" stroke=\"black\" d=\"M1501.95,-341.91C1497.11,-333.2 1491.94,-323.9 1486.94,-314.89\"/>\r\n",
       "<polygon fill=\"black\" stroke=\"black\" points=\"1489.93,-313.06 1482.01,-306.02 1483.81,-316.46 1489.93,-313.06\"/>\r\n",
       "</g>\r\n",
       "<!-- 35 -->\r\n",
       "<g id=\"node36\" class=\"node\">\r\n",
       "<title>35</title>\r\n",
       "<polygon fill=\"#ffffff\" stroke=\"black\" points=\"1641,-306 1538,-306 1538,-223 1641,-223 1641,-306\"/>\r\n",
       "<text text-anchor=\"middle\" x=\"1589.5\" y=\"-290.8\" font-family=\"Times New Roman,serif\" font-size=\"14.00\">Fare &lt;= 16.819</text>\r\n",
       "<text text-anchor=\"middle\" x=\"1589.5\" y=\"-275.8\" font-family=\"Times New Roman,serif\" font-size=\"14.00\">gini = 0.5</text>\r\n",
       "<text text-anchor=\"middle\" x=\"1589.5\" y=\"-260.8\" font-family=\"Times New Roman,serif\" font-size=\"14.00\">samples = 2</text>\r\n",
       "<text text-anchor=\"middle\" x=\"1589.5\" y=\"-245.8\" font-family=\"Times New Roman,serif\" font-size=\"14.00\">value = [1, 1]</text>\r\n",
       "<text text-anchor=\"middle\" x=\"1589.5\" y=\"-230.8\" font-family=\"Times New Roman,serif\" font-size=\"14.00\">class = 사망</text>\r\n",
       "</g>\r\n",
       "<!-- 27&#45;&gt;35 -->\r\n",
       "<g id=\"edge35\" class=\"edge\">\r\n",
       "<title>27&#45;&gt;35</title>\r\n",
       "<path fill=\"none\" stroke=\"black\" d=\"M1547.05,-341.91C1551.89,-333.2 1557.06,-323.9 1562.06,-314.89\"/>\r\n",
       "<polygon fill=\"black\" stroke=\"black\" points=\"1565.19,-316.46 1566.99,-306.02 1559.07,-313.06 1565.19,-316.46\"/>\r\n",
       "</g>\r\n",
       "<!-- 29 -->\r\n",
       "<g id=\"node30\" class=\"node\">\r\n",
       "<title>29</title>\r\n",
       "<polygon fill=\"#e88e4e\" stroke=\"black\" points=\"1377,-187 1266,-187 1266,-104 1377,-104 1377,-187\"/>\r\n",
       "<text text-anchor=\"middle\" x=\"1321.5\" y=\"-171.8\" font-family=\"Times New Roman,serif\" font-size=\"14.00\">Age &lt;= 32.5</text>\r\n",
       "<text text-anchor=\"middle\" x=\"1321.5\" y=\"-156.8\" font-family=\"Times New Roman,serif\" font-size=\"14.00\">gini = 0.173</text>\r\n",
       "<text text-anchor=\"middle\" x=\"1321.5\" y=\"-141.8\" font-family=\"Times New Roman,serif\" font-size=\"14.00\">samples = 386</text>\r\n",
       "<text text-anchor=\"middle\" x=\"1321.5\" y=\"-126.8\" font-family=\"Times New Roman,serif\" font-size=\"14.00\">value = [349, 37]</text>\r\n",
       "<text text-anchor=\"middle\" x=\"1321.5\" y=\"-111.8\" font-family=\"Times New Roman,serif\" font-size=\"14.00\">class = 사망</text>\r\n",
       "</g>\r\n",
       "<!-- 28&#45;&gt;29 -->\r\n",
       "<g id=\"edge29\" class=\"edge\">\r\n",
       "<title>28&#45;&gt;29</title>\r\n",
       "<path fill=\"none\" stroke=\"black\" d=\"M1411.62,-222.91C1400.49,-213.47 1388.55,-203.34 1377.11,-193.65\"/>\r\n",
       "<polygon fill=\"black\" stroke=\"black\" points=\"1379.18,-190.82 1369.29,-187.02 1374.66,-196.16 1379.18,-190.82\"/>\r\n",
       "</g>\r\n",
       "<!-- 32 -->\r\n",
       "<g id=\"node33\" class=\"node\">\r\n",
       "<title>32</title>\r\n",
       "<polygon fill=\"#ffffff\" stroke=\"black\" points=\"1524,-187 1395,-187 1395,-104 1524,-104 1524,-187\"/>\r\n",
       "<text text-anchor=\"middle\" x=\"1459.5\" y=\"-171.8\" font-family=\"Times New Roman,serif\" font-size=\"14.00\">Embarked_2 &lt;= 0.5</text>\r\n",
       "<text text-anchor=\"middle\" x=\"1459.5\" y=\"-156.8\" font-family=\"Times New Roman,serif\" font-size=\"14.00\">gini = 0.5</text>\r\n",
       "<text text-anchor=\"middle\" x=\"1459.5\" y=\"-141.8\" font-family=\"Times New Roman,serif\" font-size=\"14.00\">samples = 2</text>\r\n",
       "<text text-anchor=\"middle\" x=\"1459.5\" y=\"-126.8\" font-family=\"Times New Roman,serif\" font-size=\"14.00\">value = [1, 1]</text>\r\n",
       "<text text-anchor=\"middle\" x=\"1459.5\" y=\"-111.8\" font-family=\"Times New Roman,serif\" font-size=\"14.00\">class = 사망</text>\r\n",
       "</g>\r\n",
       "<!-- 28&#45;&gt;32 -->\r\n",
       "<g id=\"edge32\" class=\"edge\">\r\n",
       "<title>28&#45;&gt;32</title>\r\n",
       "<path fill=\"none\" stroke=\"black\" d=\"M1459.5,-222.91C1459.5,-214.65 1459.5,-205.86 1459.5,-197.3\"/>\r\n",
       "<polygon fill=\"black\" stroke=\"black\" points=\"1463,-197.02 1459.5,-187.02 1456,-197.02 1463,-197.02\"/>\r\n",
       "</g>\r\n",
       "<!-- 30 -->\r\n",
       "<g id=\"node31\" class=\"node\">\r\n",
       "<title>30</title>\r\n",
       "<polygon fill=\"#e89152\" stroke=\"black\" points=\"1277,-68 1166,-68 1166,0 1277,0 1277,-68\"/>\r\n",
       "<text text-anchor=\"middle\" x=\"1221.5\" y=\"-52.8\" font-family=\"Times New Roman,serif\" font-size=\"14.00\">gini = 0.199</text>\r\n",
       "<text text-anchor=\"middle\" x=\"1221.5\" y=\"-37.8\" font-family=\"Times New Roman,serif\" font-size=\"14.00\">samples = 286</text>\r\n",
       "<text text-anchor=\"middle\" x=\"1221.5\" y=\"-22.8\" font-family=\"Times New Roman,serif\" font-size=\"14.00\">value = [254, 32]</text>\r\n",
       "<text text-anchor=\"middle\" x=\"1221.5\" y=\"-7.8\" font-family=\"Times New Roman,serif\" font-size=\"14.00\">class = 사망</text>\r\n",
       "</g>\r\n",
       "<!-- 29&#45;&gt;30 -->\r\n",
       "<g id=\"edge30\" class=\"edge\">\r\n",
       "<title>29&#45;&gt;30</title>\r\n",
       "<path fill=\"none\" stroke=\"black\" d=\"M1284.26,-103.73C1275.93,-94.61 1267.1,-84.93 1258.77,-75.81\"/>\r\n",
       "<polygon fill=\"black\" stroke=\"black\" points=\"1261.24,-73.32 1251.91,-68.3 1256.07,-78.04 1261.24,-73.32\"/>\r\n",
       "</g>\r\n",
       "<!-- 31 -->\r\n",
       "<g id=\"node32\" class=\"node\">\r\n",
       "<title>31</title>\r\n",
       "<polygon fill=\"#e68843\" stroke=\"black\" points=\"1393.5,-68 1295.5,-68 1295.5,0 1393.5,0 1393.5,-68\"/>\r\n",
       "<text text-anchor=\"middle\" x=\"1344.5\" y=\"-52.8\" font-family=\"Times New Roman,serif\" font-size=\"14.00\">gini = 0.095</text>\r\n",
       "<text text-anchor=\"middle\" x=\"1344.5\" y=\"-37.8\" font-family=\"Times New Roman,serif\" font-size=\"14.00\">samples = 100</text>\r\n",
       "<text text-anchor=\"middle\" x=\"1344.5\" y=\"-22.8\" font-family=\"Times New Roman,serif\" font-size=\"14.00\">value = [95, 5]</text>\r\n",
       "<text text-anchor=\"middle\" x=\"1344.5\" y=\"-7.8\" font-family=\"Times New Roman,serif\" font-size=\"14.00\">class = 사망</text>\r\n",
       "</g>\r\n",
       "<!-- 29&#45;&gt;31 -->\r\n",
       "<g id=\"edge31\" class=\"edge\">\r\n",
       "<title>29&#45;&gt;31</title>\r\n",
       "<path fill=\"none\" stroke=\"black\" d=\"M1330.06,-103.73C1331.81,-95.43 1333.65,-86.67 1335.41,-78.28\"/>\r\n",
       "<polygon fill=\"black\" stroke=\"black\" points=\"1338.88,-78.81 1337.51,-68.3 1332.02,-77.37 1338.88,-78.81\"/>\r\n",
       "</g>\r\n",
       "<!-- 33 -->\r\n",
       "<g id=\"node34\" class=\"node\">\r\n",
       "<title>33</title>\r\n",
       "<polygon fill=\"#e58139\" stroke=\"black\" points=\"1507,-68 1412,-68 1412,0 1507,0 1507,-68\"/>\r\n",
       "<text text-anchor=\"middle\" x=\"1459.5\" y=\"-52.8\" font-family=\"Times New Roman,serif\" font-size=\"14.00\">gini = 0.0</text>\r\n",
       "<text text-anchor=\"middle\" x=\"1459.5\" y=\"-37.8\" font-family=\"Times New Roman,serif\" font-size=\"14.00\">samples = 1</text>\r\n",
       "<text text-anchor=\"middle\" x=\"1459.5\" y=\"-22.8\" font-family=\"Times New Roman,serif\" font-size=\"14.00\">value = [1, 0]</text>\r\n",
       "<text text-anchor=\"middle\" x=\"1459.5\" y=\"-7.8\" font-family=\"Times New Roman,serif\" font-size=\"14.00\">class = 사망</text>\r\n",
       "</g>\r\n",
       "<!-- 32&#45;&gt;33 -->\r\n",
       "<g id=\"edge33\" class=\"edge\">\r\n",
       "<title>32&#45;&gt;33</title>\r\n",
       "<path fill=\"none\" stroke=\"black\" d=\"M1459.5,-103.73C1459.5,-95.52 1459.5,-86.86 1459.5,-78.56\"/>\r\n",
       "<polygon fill=\"black\" stroke=\"black\" points=\"1463,-78.3 1459.5,-68.3 1456,-78.3 1463,-78.3\"/>\r\n",
       "</g>\r\n",
       "<!-- 34 -->\r\n",
       "<g id=\"node35\" class=\"node\">\r\n",
       "<title>34</title>\r\n",
       "<polygon fill=\"#399de5\" stroke=\"black\" points=\"1620,-68 1525,-68 1525,0 1620,0 1620,-68\"/>\r\n",
       "<text text-anchor=\"middle\" x=\"1572.5\" y=\"-52.8\" font-family=\"Times New Roman,serif\" font-size=\"14.00\">gini = 0.0</text>\r\n",
       "<text text-anchor=\"middle\" x=\"1572.5\" y=\"-37.8\" font-family=\"Times New Roman,serif\" font-size=\"14.00\">samples = 1</text>\r\n",
       "<text text-anchor=\"middle\" x=\"1572.5\" y=\"-22.8\" font-family=\"Times New Roman,serif\" font-size=\"14.00\">value = [0, 1]</text>\r\n",
       "<text text-anchor=\"middle\" x=\"1572.5\" y=\"-7.8\" font-family=\"Times New Roman,serif\" font-size=\"14.00\">class = 생존</text>\r\n",
       "</g>\r\n",
       "<!-- 32&#45;&gt;34 -->\r\n",
       "<g id=\"edge34\" class=\"edge\">\r\n",
       "<title>32&#45;&gt;34</title>\r\n",
       "<path fill=\"none\" stroke=\"black\" d=\"M1501.58,-103.73C1511.18,-94.42 1521.37,-84.54 1530.95,-75.26\"/>\r\n",
       "<polygon fill=\"black\" stroke=\"black\" points=\"1533.39,-77.77 1538.14,-68.3 1528.52,-72.75 1533.39,-77.77\"/>\r\n",
       "</g>\r\n",
       "<!-- 36 -->\r\n",
       "<g id=\"node37\" class=\"node\">\r\n",
       "<title>36</title>\r\n",
       "<polygon fill=\"#399de5\" stroke=\"black\" points=\"1637,-179.5 1542,-179.5 1542,-111.5 1637,-111.5 1637,-179.5\"/>\r\n",
       "<text text-anchor=\"middle\" x=\"1589.5\" y=\"-164.3\" font-family=\"Times New Roman,serif\" font-size=\"14.00\">gini = 0.0</text>\r\n",
       "<text text-anchor=\"middle\" x=\"1589.5\" y=\"-149.3\" font-family=\"Times New Roman,serif\" font-size=\"14.00\">samples = 1</text>\r\n",
       "<text text-anchor=\"middle\" x=\"1589.5\" y=\"-134.3\" font-family=\"Times New Roman,serif\" font-size=\"14.00\">value = [0, 1]</text>\r\n",
       "<text text-anchor=\"middle\" x=\"1589.5\" y=\"-119.3\" font-family=\"Times New Roman,serif\" font-size=\"14.00\">class = 생존</text>\r\n",
       "</g>\r\n",
       "<!-- 35&#45;&gt;36 -->\r\n",
       "<g id=\"edge36\" class=\"edge\">\r\n",
       "<title>35&#45;&gt;36</title>\r\n",
       "<path fill=\"none\" stroke=\"black\" d=\"M1589.5,-222.91C1589.5,-212.2 1589.5,-200.62 1589.5,-189.78\"/>\r\n",
       "<polygon fill=\"black\" stroke=\"black\" points=\"1593,-189.67 1589.5,-179.67 1586,-189.67 1593,-189.67\"/>\r\n",
       "</g>\r\n",
       "<!-- 37 -->\r\n",
       "<g id=\"node38\" class=\"node\">\r\n",
       "<title>37</title>\r\n",
       "<polygon fill=\"#e58139\" stroke=\"black\" points=\"1750,-179.5 1655,-179.5 1655,-111.5 1750,-111.5 1750,-179.5\"/>\r\n",
       "<text text-anchor=\"middle\" x=\"1702.5\" y=\"-164.3\" font-family=\"Times New Roman,serif\" font-size=\"14.00\">gini = 0.0</text>\r\n",
       "<text text-anchor=\"middle\" x=\"1702.5\" y=\"-149.3\" font-family=\"Times New Roman,serif\" font-size=\"14.00\">samples = 1</text>\r\n",
       "<text text-anchor=\"middle\" x=\"1702.5\" y=\"-134.3\" font-family=\"Times New Roman,serif\" font-size=\"14.00\">value = [1, 0]</text>\r\n",
       "<text text-anchor=\"middle\" x=\"1702.5\" y=\"-119.3\" font-family=\"Times New Roman,serif\" font-size=\"14.00\">class = 사망</text>\r\n",
       "</g>\r\n",
       "<!-- 35&#45;&gt;37 -->\r\n",
       "<g id=\"edge37\" class=\"edge\">\r\n",
       "<title>35&#45;&gt;37</title>\r\n",
       "<path fill=\"none\" stroke=\"black\" d=\"M1628.7,-222.91C1639.89,-211.32 1652.09,-198.7 1663.28,-187.11\"/>\r\n",
       "<polygon fill=\"black\" stroke=\"black\" points=\"1666.04,-189.29 1670.47,-179.67 1661,-184.43 1666.04,-189.29\"/>\r\n",
       "</g>\r\n",
       "<!-- 39 -->\r\n",
       "<g id=\"node40\" class=\"node\">\r\n",
       "<title>39</title>\r\n",
       "<polygon fill=\"#a5d2f3\" stroke=\"black\" points=\"1924.5,-306 1826.5,-306 1826.5,-223 1924.5,-223 1924.5,-306\"/>\r\n",
       "<text text-anchor=\"middle\" x=\"1875.5\" y=\"-290.8\" font-family=\"Times New Roman,serif\" font-size=\"14.00\">Age &lt;= 53.5</text>\r\n",
       "<text text-anchor=\"middle\" x=\"1875.5\" y=\"-275.8\" font-family=\"Times New Roman,serif\" font-size=\"14.00\">gini = 0.457</text>\r\n",
       "<text text-anchor=\"middle\" x=\"1875.5\" y=\"-260.8\" font-family=\"Times New Roman,serif\" font-size=\"14.00\">samples = 17</text>\r\n",
       "<text text-anchor=\"middle\" x=\"1875.5\" y=\"-245.8\" font-family=\"Times New Roman,serif\" font-size=\"14.00\">value = [6, 11]</text>\r\n",
       "<text text-anchor=\"middle\" x=\"1875.5\" y=\"-230.8\" font-family=\"Times New Roman,serif\" font-size=\"14.00\">class = 생존</text>\r\n",
       "</g>\r\n",
       "<!-- 38&#45;&gt;39 -->\r\n",
       "<g id=\"edge39\" class=\"edge\">\r\n",
       "<title>38&#45;&gt;39</title>\r\n",
       "<path fill=\"none\" stroke=\"black\" d=\"M1875.5,-341.91C1875.5,-333.65 1875.5,-324.86 1875.5,-316.3\"/>\r\n",
       "<polygon fill=\"black\" stroke=\"black\" points=\"1879,-316.02 1875.5,-306.02 1872,-316.02 1879,-316.02\"/>\r\n",
       "</g>\r\n",
       "<!-- 44 -->\r\n",
       "<g id=\"node45\" class=\"node\">\r\n",
       "<title>44</title>\r\n",
       "<polygon fill=\"#efb489\" stroke=\"black\" points=\"2104.5,-306 2000.5,-306 2000.5,-223 2104.5,-223 2104.5,-306\"/>\r\n",
       "<text text-anchor=\"middle\" x=\"2052.5\" y=\"-290.8\" font-family=\"Times New Roman,serif\" font-size=\"14.00\">Deck_7 &lt;= 0.5</text>\r\n",
       "<text text-anchor=\"middle\" x=\"2052.5\" y=\"-275.8\" font-family=\"Times New Roman,serif\" font-size=\"14.00\">gini = 0.409</text>\r\n",
       "<text text-anchor=\"middle\" x=\"2052.5\" y=\"-260.8\" font-family=\"Times New Roman,serif\" font-size=\"14.00\">samples = 115</text>\r\n",
       "<text text-anchor=\"middle\" x=\"2052.5\" y=\"-245.8\" font-family=\"Times New Roman,serif\" font-size=\"14.00\">value = [82, 33]</text>\r\n",
       "<text text-anchor=\"middle\" x=\"2052.5\" y=\"-230.8\" font-family=\"Times New Roman,serif\" font-size=\"14.00\">class = 사망</text>\r\n",
       "</g>\r\n",
       "<!-- 38&#45;&gt;44 -->\r\n",
       "<g id=\"edge44\" class=\"edge\">\r\n",
       "<title>38&#45;&gt;44</title>\r\n",
       "<path fill=\"none\" stroke=\"black\" d=\"M1927.65,-348.03C1947.81,-334.7 1971.03,-319.35 1991.93,-305.54\"/>\r\n",
       "<polygon fill=\"black\" stroke=\"black\" points=\"1994.01,-308.36 2000.42,-299.93 1990.15,-302.52 1994.01,-308.36\"/>\r\n",
       "</g>\r\n",
       "<!-- 40 -->\r\n",
       "<g id=\"node41\" class=\"node\">\r\n",
       "<title>40</title>\r\n",
       "<polygon fill=\"#5dafea\" stroke=\"black\" points=\"1869,-187 1768,-187 1768,-104 1869,-104 1869,-187\"/>\r\n",
       "<text text-anchor=\"middle\" x=\"1818.5\" y=\"-171.8\" font-family=\"Times New Roman,serif\" font-size=\"14.00\">Deck_1 &lt;= 0.5</text>\r\n",
       "<text text-anchor=\"middle\" x=\"1818.5\" y=\"-156.8\" font-family=\"Times New Roman,serif\" font-size=\"14.00\">gini = 0.26</text>\r\n",
       "<text text-anchor=\"middle\" x=\"1818.5\" y=\"-141.8\" font-family=\"Times New Roman,serif\" font-size=\"14.00\">samples = 13</text>\r\n",
       "<text text-anchor=\"middle\" x=\"1818.5\" y=\"-126.8\" font-family=\"Times New Roman,serif\" font-size=\"14.00\">value = [2, 11]</text>\r\n",
       "<text text-anchor=\"middle\" x=\"1818.5\" y=\"-111.8\" font-family=\"Times New Roman,serif\" font-size=\"14.00\">class = 생존</text>\r\n",
       "</g>\r\n",
       "<!-- 39&#45;&gt;40 -->\r\n",
       "<g id=\"edge40\" class=\"edge\">\r\n",
       "<title>39&#45;&gt;40</title>\r\n",
       "<path fill=\"none\" stroke=\"black\" d=\"M1855.72,-222.91C1851.52,-214.29 1847.04,-205.09 1842.7,-196.17\"/>\r\n",
       "<polygon fill=\"black\" stroke=\"black\" points=\"1845.77,-194.48 1838.24,-187.02 1839.47,-197.54 1845.77,-194.48\"/>\r\n",
       "</g>\r\n",
       "<!-- 43 -->\r\n",
       "<g id=\"node44\" class=\"node\">\r\n",
       "<title>43</title>\r\n",
       "<polygon fill=\"#e58139\" stroke=\"black\" points=\"1982,-179.5 1887,-179.5 1887,-111.5 1982,-111.5 1982,-179.5\"/>\r\n",
       "<text text-anchor=\"middle\" x=\"1934.5\" y=\"-164.3\" font-family=\"Times New Roman,serif\" font-size=\"14.00\">gini = 0.0</text>\r\n",
       "<text text-anchor=\"middle\" x=\"1934.5\" y=\"-149.3\" font-family=\"Times New Roman,serif\" font-size=\"14.00\">samples = 4</text>\r\n",
       "<text text-anchor=\"middle\" x=\"1934.5\" y=\"-134.3\" font-family=\"Times New Roman,serif\" font-size=\"14.00\">value = [4, 0]</text>\r\n",
       "<text text-anchor=\"middle\" x=\"1934.5\" y=\"-119.3\" font-family=\"Times New Roman,serif\" font-size=\"14.00\">class = 사망</text>\r\n",
       "</g>\r\n",
       "<!-- 39&#45;&gt;43 -->\r\n",
       "<g id=\"edge43\" class=\"edge\">\r\n",
       "<title>39&#45;&gt;43</title>\r\n",
       "<path fill=\"none\" stroke=\"black\" d=\"M1895.97,-222.91C1901.53,-211.87 1907.57,-199.9 1913.18,-188.77\"/>\r\n",
       "<polygon fill=\"black\" stroke=\"black\" points=\"1916.4,-190.17 1917.77,-179.67 1910.15,-187.02 1916.4,-190.17\"/>\r\n",
       "</g>\r\n",
       "<!-- 41 -->\r\n",
       "<g id=\"node42\" class=\"node\">\r\n",
       "<title>41</title>\r\n",
       "<polygon fill=\"#4ba6e7\" stroke=\"black\" points=\"1756.5,-68 1658.5,-68 1658.5,0 1756.5,0 1756.5,-68\"/>\r\n",
       "<text text-anchor=\"middle\" x=\"1707.5\" y=\"-52.8\" font-family=\"Times New Roman,serif\" font-size=\"14.00\">gini = 0.153</text>\r\n",
       "<text text-anchor=\"middle\" x=\"1707.5\" y=\"-37.8\" font-family=\"Times New Roman,serif\" font-size=\"14.00\">samples = 12</text>\r\n",
       "<text text-anchor=\"middle\" x=\"1707.5\" y=\"-22.8\" font-family=\"Times New Roman,serif\" font-size=\"14.00\">value = [1, 11]</text>\r\n",
       "<text text-anchor=\"middle\" x=\"1707.5\" y=\"-7.8\" font-family=\"Times New Roman,serif\" font-size=\"14.00\">class = 생존</text>\r\n",
       "</g>\r\n",
       "<!-- 40&#45;&gt;41 -->\r\n",
       "<g id=\"edge41\" class=\"edge\">\r\n",
       "<title>40&#45;&gt;41</title>\r\n",
       "<path fill=\"none\" stroke=\"black\" d=\"M1777.17,-103.73C1767.83,-94.51 1757.92,-84.74 1748.59,-75.53\"/>\r\n",
       "<polygon fill=\"black\" stroke=\"black\" points=\"1750.83,-72.83 1741.26,-68.3 1745.92,-77.81 1750.83,-72.83\"/>\r\n",
       "</g>\r\n",
       "<!-- 42 -->\r\n",
       "<g id=\"node43\" class=\"node\">\r\n",
       "<title>42</title>\r\n",
       "<polygon fill=\"#e58139\" stroke=\"black\" points=\"1870,-68 1775,-68 1775,0 1870,0 1870,-68\"/>\r\n",
       "<text text-anchor=\"middle\" x=\"1822.5\" y=\"-52.8\" font-family=\"Times New Roman,serif\" font-size=\"14.00\">gini = 0.0</text>\r\n",
       "<text text-anchor=\"middle\" x=\"1822.5\" y=\"-37.8\" font-family=\"Times New Roman,serif\" font-size=\"14.00\">samples = 1</text>\r\n",
       "<text text-anchor=\"middle\" x=\"1822.5\" y=\"-22.8\" font-family=\"Times New Roman,serif\" font-size=\"14.00\">value = [1, 0]</text>\r\n",
       "<text text-anchor=\"middle\" x=\"1822.5\" y=\"-7.8\" font-family=\"Times New Roman,serif\" font-size=\"14.00\">class = 사망</text>\r\n",
       "</g>\r\n",
       "<!-- 40&#45;&gt;42 -->\r\n",
       "<g id=\"edge42\" class=\"edge\">\r\n",
       "<title>40&#45;&gt;42</title>\r\n",
       "<path fill=\"none\" stroke=\"black\" d=\"M1819.99,-103.73C1820.29,-95.52 1820.61,-86.86 1820.91,-78.56\"/>\r\n",
       "<polygon fill=\"black\" stroke=\"black\" points=\"1824.42,-78.42 1821.28,-68.3 1817.42,-78.17 1824.42,-78.42\"/>\r\n",
       "</g>\r\n",
       "<!-- 45 -->\r\n",
       "<g id=\"node46\" class=\"node\">\r\n",
       "<title>45</title>\r\n",
       "<polygon fill=\"#f5cdb0\" stroke=\"black\" points=\"2104.5,-187 2000.5,-187 2000.5,-104 2104.5,-104 2104.5,-187\"/>\r\n",
       "<text text-anchor=\"middle\" x=\"2052.5\" y=\"-171.8\" font-family=\"Times New Roman,serif\" font-size=\"14.00\">Age &lt;= 43.5</text>\r\n",
       "<text text-anchor=\"middle\" x=\"2052.5\" y=\"-156.8\" font-family=\"Times New Roman,serif\" font-size=\"14.00\">gini = 0.469</text>\r\n",
       "<text text-anchor=\"middle\" x=\"2052.5\" y=\"-141.8\" font-family=\"Times New Roman,serif\" font-size=\"14.00\">samples = 72</text>\r\n",
       "<text text-anchor=\"middle\" x=\"2052.5\" y=\"-126.8\" font-family=\"Times New Roman,serif\" font-size=\"14.00\">value = [45, 27]</text>\r\n",
       "<text text-anchor=\"middle\" x=\"2052.5\" y=\"-111.8\" font-family=\"Times New Roman,serif\" font-size=\"14.00\">class = 사망</text>\r\n",
       "</g>\r\n",
       "<!-- 44&#45;&gt;45 -->\r\n",
       "<g id=\"edge45\" class=\"edge\">\r\n",
       "<title>44&#45;&gt;45</title>\r\n",
       "<path fill=\"none\" stroke=\"black\" d=\"M2052.5,-222.91C2052.5,-214.65 2052.5,-205.86 2052.5,-197.3\"/>\r\n",
       "<polygon fill=\"black\" stroke=\"black\" points=\"2056,-197.02 2052.5,-187.02 2049,-197.02 2056,-197.02\"/>\r\n",
       "</g>\r\n",
       "<!-- 48 -->\r\n",
       "<g id=\"node49\" class=\"node\">\r\n",
       "<title>48</title>\r\n",
       "<polygon fill=\"#e99559\" stroke=\"black\" points=\"2276.5,-187 2122.5,-187 2122.5,-104 2276.5,-104 2276.5,-187\"/>\r\n",
       "<text text-anchor=\"middle\" x=\"2199.5\" y=\"-171.8\" font-family=\"Times New Roman,serif\" font-size=\"14.00\">Family_Group_0 &lt;= 0.5</text>\r\n",
       "<text text-anchor=\"middle\" x=\"2199.5\" y=\"-156.8\" font-family=\"Times New Roman,serif\" font-size=\"14.00\">gini = 0.24</text>\r\n",
       "<text text-anchor=\"middle\" x=\"2199.5\" y=\"-141.8\" font-family=\"Times New Roman,serif\" font-size=\"14.00\">samples = 43</text>\r\n",
       "<text text-anchor=\"middle\" x=\"2199.5\" y=\"-126.8\" font-family=\"Times New Roman,serif\" font-size=\"14.00\">value = [37, 6]</text>\r\n",
       "<text text-anchor=\"middle\" x=\"2199.5\" y=\"-111.8\" font-family=\"Times New Roman,serif\" font-size=\"14.00\">class = 사망</text>\r\n",
       "</g>\r\n",
       "<!-- 44&#45;&gt;48 -->\r\n",
       "<g id=\"edge48\" class=\"edge\">\r\n",
       "<title>44&#45;&gt;48</title>\r\n",
       "<path fill=\"none\" stroke=\"black\" d=\"M2103.5,-222.91C2115.47,-213.38 2128.33,-203.15 2140.61,-193.37\"/>\r\n",
       "<polygon fill=\"black\" stroke=\"black\" points=\"2142.94,-195.99 2148.59,-187.02 2138.59,-190.51 2142.94,-195.99\"/>\r\n",
       "</g>\r\n",
       "<!-- 46 -->\r\n",
       "<g id=\"node47\" class=\"node\">\r\n",
       "<title>46</title>\r\n",
       "<polygon fill=\"#fef9f6\" stroke=\"black\" points=\"2006.5,-68 1902.5,-68 1902.5,0 2006.5,0 2006.5,-68\"/>\r\n",
       "<text text-anchor=\"middle\" x=\"1954.5\" y=\"-52.8\" font-family=\"Times New Roman,serif\" font-size=\"14.00\">gini = 0.5</text>\r\n",
       "<text text-anchor=\"middle\" x=\"1954.5\" y=\"-37.8\" font-family=\"Times New Roman,serif\" font-size=\"14.00\">samples = 41</text>\r\n",
       "<text text-anchor=\"middle\" x=\"1954.5\" y=\"-22.8\" font-family=\"Times New Roman,serif\" font-size=\"14.00\">value = [21, 20]</text>\r\n",
       "<text text-anchor=\"middle\" x=\"1954.5\" y=\"-7.8\" font-family=\"Times New Roman,serif\" font-size=\"14.00\">class = 사망</text>\r\n",
       "</g>\r\n",
       "<!-- 45&#45;&gt;46 -->\r\n",
       "<g id=\"edge46\" class=\"edge\">\r\n",
       "<title>45&#45;&gt;46</title>\r\n",
       "<path fill=\"none\" stroke=\"black\" d=\"M2016.01,-103.73C2007.85,-94.61 1999.19,-84.93 1991.02,-75.81\"/>\r\n",
       "<polygon fill=\"black\" stroke=\"black\" points=\"1993.58,-73.42 1984.3,-68.3 1988.36,-78.09 1993.58,-73.42\"/>\r\n",
       "</g>\r\n",
       "<!-- 47 -->\r\n",
       "<g id=\"node48\" class=\"node\">\r\n",
       "<title>47</title>\r\n",
       "<polygon fill=\"#eda673\" stroke=\"black\" points=\"2122.5,-68 2024.5,-68 2024.5,0 2122.5,0 2122.5,-68\"/>\r\n",
       "<text text-anchor=\"middle\" x=\"2073.5\" y=\"-52.8\" font-family=\"Times New Roman,serif\" font-size=\"14.00\">gini = 0.35</text>\r\n",
       "<text text-anchor=\"middle\" x=\"2073.5\" y=\"-37.8\" font-family=\"Times New Roman,serif\" font-size=\"14.00\">samples = 31</text>\r\n",
       "<text text-anchor=\"middle\" x=\"2073.5\" y=\"-22.8\" font-family=\"Times New Roman,serif\" font-size=\"14.00\">value = [24, 7]</text>\r\n",
       "<text text-anchor=\"middle\" x=\"2073.5\" y=\"-7.8\" font-family=\"Times New Roman,serif\" font-size=\"14.00\">class = 사망</text>\r\n",
       "</g>\r\n",
       "<!-- 45&#45;&gt;47 -->\r\n",
       "<g id=\"edge47\" class=\"edge\">\r\n",
       "<title>45&#45;&gt;47</title>\r\n",
       "<path fill=\"none\" stroke=\"black\" d=\"M2060.32,-103.73C2061.91,-95.43 2063.59,-86.67 2065.2,-78.28\"/>\r\n",
       "<polygon fill=\"black\" stroke=\"black\" points=\"2068.67,-78.78 2067.11,-68.3 2061.79,-77.46 2068.67,-78.78\"/>\r\n",
       "</g>\r\n",
       "<!-- 49 -->\r\n",
       "<g id=\"node50\" class=\"node\">\r\n",
       "<title>49</title>\r\n",
       "<polygon fill=\"#e58139\" stroke=\"black\" points=\"2245.5,-68 2147.5,-68 2147.5,0 2245.5,0 2245.5,-68\"/>\r\n",
       "<text text-anchor=\"middle\" x=\"2196.5\" y=\"-52.8\" font-family=\"Times New Roman,serif\" font-size=\"14.00\">gini = 0.0</text>\r\n",
       "<text text-anchor=\"middle\" x=\"2196.5\" y=\"-37.8\" font-family=\"Times New Roman,serif\" font-size=\"14.00\">samples = 23</text>\r\n",
       "<text text-anchor=\"middle\" x=\"2196.5\" y=\"-22.8\" font-family=\"Times New Roman,serif\" font-size=\"14.00\">value = [23, 0]</text>\r\n",
       "<text text-anchor=\"middle\" x=\"2196.5\" y=\"-7.8\" font-family=\"Times New Roman,serif\" font-size=\"14.00\">class = 사망</text>\r\n",
       "</g>\r\n",
       "<!-- 48&#45;&gt;49 -->\r\n",
       "<g id=\"edge49\" class=\"edge\">\r\n",
       "<title>48&#45;&gt;49</title>\r\n",
       "<path fill=\"none\" stroke=\"black\" d=\"M2198.38,-103.73C2198.16,-95.52 2197.92,-86.86 2197.69,-78.56\"/>\r\n",
       "<polygon fill=\"black\" stroke=\"black\" points=\"2201.18,-78.2 2197.41,-68.3 2194.19,-78.39 2201.18,-78.2\"/>\r\n",
       "</g>\r\n",
       "<!-- 50 -->\r\n",
       "<g id=\"node51\" class=\"node\">\r\n",
       "<title>50</title>\r\n",
       "<polygon fill=\"#f0b78e\" stroke=\"black\" points=\"2361.5,-68 2263.5,-68 2263.5,0 2361.5,0 2361.5,-68\"/>\r\n",
       "<text text-anchor=\"middle\" x=\"2312.5\" y=\"-52.8\" font-family=\"Times New Roman,serif\" font-size=\"14.00\">gini = 0.42</text>\r\n",
       "<text text-anchor=\"middle\" x=\"2312.5\" y=\"-37.8\" font-family=\"Times New Roman,serif\" font-size=\"14.00\">samples = 20</text>\r\n",
       "<text text-anchor=\"middle\" x=\"2312.5\" y=\"-22.8\" font-family=\"Times New Roman,serif\" font-size=\"14.00\">value = [14, 6]</text>\r\n",
       "<text text-anchor=\"middle\" x=\"2312.5\" y=\"-7.8\" font-family=\"Times New Roman,serif\" font-size=\"14.00\">class = 사망</text>\r\n",
       "</g>\r\n",
       "<!-- 48&#45;&gt;50 -->\r\n",
       "<g id=\"edge50\" class=\"edge\">\r\n",
       "<title>48&#45;&gt;50</title>\r\n",
       "<path fill=\"none\" stroke=\"black\" d=\"M2241.58,-103.73C2251.18,-94.42 2261.37,-84.54 2270.95,-75.26\"/>\r\n",
       "<polygon fill=\"black\" stroke=\"black\" points=\"2273.39,-77.77 2278.14,-68.3 2268.52,-72.75 2273.39,-77.77\"/>\r\n",
       "</g>\r\n",
       "</g>\r\n",
       "</svg>\r\n"
      ],
      "text/plain": [
       "<graphviz.files.Source at 0x1f7338c53c8>"
      ]
     },
     "metadata": {},
     "output_type": "display_data"
    }
   ],
   "source": [
    "from sklearn.tree import export_graphviz\n",
    "import graphviz\n",
    "\n",
    "export_graphviz(tree_model, out_file = 'tree.dot', class_names = ['사망','생존'],\n",
    "               feature_names = X_train.columns, impurity=True, filled=True)           #그래프 그리는 옵션들\n",
    "\n",
    "with open('tree.dot', encoding = 'UTF8') as f:\n",
    "    dot_graph = f.read()\n",
    "display(graphviz.Source(dot_graph))    "
   ]
  },
  {
   "cell_type": "code",
   "execution_count": 97,
   "metadata": {},
   "outputs": [],
   "source": [
    "result = cross_val_score(tree_model,\n",
    "                        X_train,\n",
    "                        y_train,\n",
    "                        cv = 5)"
   ]
  },
  {
   "cell_type": "code",
   "execution_count": 98,
   "metadata": {},
   "outputs": [
    {
     "data": {
      "text/plain": [
       "array([0.79329609, 0.80337079, 0.8258427 , 0.79775281, 0.87078652])"
      ]
     },
     "execution_count": 98,
     "metadata": {},
     "output_type": "execute_result"
    }
   ],
   "source": [
    "result"
   ]
  },
  {
   "cell_type": "code",
   "execution_count": 99,
   "metadata": {},
   "outputs": [
    {
     "data": {
      "text/plain": [
       "0.8182097796748478"
      ]
     },
     "execution_count": 99,
     "metadata": {},
     "output_type": "execute_result"
    }
   ],
   "source": [
    "result.mean()"
   ]
  },
  {
   "cell_type": "code",
   "execution_count": null,
   "metadata": {},
   "outputs": [],
   "source": []
  }
 ],
 "metadata": {
  "kernelspec": {
   "display_name": "Python 3",
   "language": "python",
   "name": "python3"
  },
  "language_info": {
   "codemirror_mode": {
    "name": "ipython",
    "version": 3
   },
   "file_extension": ".py",
   "mimetype": "text/x-python",
   "name": "python",
   "nbconvert_exporter": "python",
   "pygments_lexer": "ipython3",
   "version": "3.7.6"
  }
 },
 "nbformat": 4,
 "nbformat_minor": 4
}
