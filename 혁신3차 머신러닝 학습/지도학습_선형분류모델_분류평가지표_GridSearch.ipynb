{
 "cells": [
  {
   "cell_type": "markdown",
   "metadata": {
    "colab_type": "text",
    "id": "0hZ-mwVKgNlj"
   },
   "source": [
    "# Logistic Regression\n",
    "\n",
    "- 계산한 값이 0보다 작은 클래스는 -1, 0보다 크면 +1이라고 예측\n",
    "- 분류용 선형 모델에서는 결정경계가 입력의 선형함수 \n",
    "- 이진 선형 분류기는 선, 평면, 초평면을 이용하여 2개의 클래스를 구분하는 분류기\n",
    "\n",
    "- 선형 모델을 학습 시키는 알고리즘\n",
    "\n",
    "  (1) 특정 계수와 절편의 조합이 훈련 데이터에 얼마나 잘 맞는지 측정하는 방법\n",
    "  \n",
    "  (2) 사용할 수 있는 규제가 있는지 있다면 어떤 방식인지"
   ]
  },
  {
   "cell_type": "markdown",
   "metadata": {
    "colab_type": "text",
    "id": "vCUwtDvNZ0hu"
   },
   "source": [
    "## 와인 데이터를 이용한 분류\n",
    "- 포트투칼의 비뉴 베르드 지방에서 만들어진 와인을 측정한 데이터\n",
    "- 데이터셋 구성\n",
    "   - 1,599개의 레드와인 데이터, 4,898개의 화이트와인 데이터 (총 6,497개 데이터)\n",
    "   - 12개의 정보와 1개의 클래스로 구성\n"
   ]
  },
  {
   "cell_type": "code",
   "execution_count": 76,
   "metadata": {
    "colab": {
     "base_uri": "https://localhost:8080/",
     "height": 202
    },
    "colab_type": "code",
    "executionInfo": {
     "elapsed": 26864,
     "status": "ok",
     "timestamp": 1594562278296,
     "user": {
      "displayName": "강성관",
      "photoUrl": "",
      "userId": "00571094306841577419"
     },
     "user_tz": -540
    },
    "id": "rGRxfZN3Ti70",
    "outputId": "2c54e0c1-0c24-45f9-c84e-d2da9e8595a7"
   },
   "outputs": [
    {
     "data": {
      "text/html": [
       "<div>\n",
       "<style scoped>\n",
       "    .dataframe tbody tr th:only-of-type {\n",
       "        vertical-align: middle;\n",
       "    }\n",
       "\n",
       "    .dataframe tbody tr th {\n",
       "        vertical-align: top;\n",
       "    }\n",
       "\n",
       "    .dataframe thead th {\n",
       "        text-align: right;\n",
       "    }\n",
       "</style>\n",
       "<table border=\"1\" class=\"dataframe\">\n",
       "  <thead>\n",
       "    <tr style=\"text-align: right;\">\n",
       "      <th></th>\n",
       "      <th>0</th>\n",
       "      <th>1</th>\n",
       "      <th>2</th>\n",
       "      <th>3</th>\n",
       "      <th>4</th>\n",
       "      <th>5</th>\n",
       "      <th>6</th>\n",
       "      <th>7</th>\n",
       "      <th>8</th>\n",
       "      <th>9</th>\n",
       "      <th>10</th>\n",
       "      <th>11</th>\n",
       "      <th>12</th>\n",
       "    </tr>\n",
       "  </thead>\n",
       "  <tbody>\n",
       "    <tr>\n",
       "      <th>0</th>\n",
       "      <td>7.4</td>\n",
       "      <td>0.70</td>\n",
       "      <td>0.00</td>\n",
       "      <td>1.9</td>\n",
       "      <td>0.076</td>\n",
       "      <td>11.0</td>\n",
       "      <td>34.0</td>\n",
       "      <td>0.9978</td>\n",
       "      <td>3.51</td>\n",
       "      <td>0.56</td>\n",
       "      <td>9.4</td>\n",
       "      <td>5</td>\n",
       "      <td>1</td>\n",
       "    </tr>\n",
       "    <tr>\n",
       "      <th>1</th>\n",
       "      <td>7.8</td>\n",
       "      <td>0.88</td>\n",
       "      <td>0.00</td>\n",
       "      <td>2.6</td>\n",
       "      <td>0.098</td>\n",
       "      <td>25.0</td>\n",
       "      <td>67.0</td>\n",
       "      <td>0.9968</td>\n",
       "      <td>3.20</td>\n",
       "      <td>0.68</td>\n",
       "      <td>9.8</td>\n",
       "      <td>5</td>\n",
       "      <td>1</td>\n",
       "    </tr>\n",
       "    <tr>\n",
       "      <th>2</th>\n",
       "      <td>7.8</td>\n",
       "      <td>0.76</td>\n",
       "      <td>0.04</td>\n",
       "      <td>2.3</td>\n",
       "      <td>0.092</td>\n",
       "      <td>15.0</td>\n",
       "      <td>54.0</td>\n",
       "      <td>0.9970</td>\n",
       "      <td>3.26</td>\n",
       "      <td>0.65</td>\n",
       "      <td>9.8</td>\n",
       "      <td>5</td>\n",
       "      <td>1</td>\n",
       "    </tr>\n",
       "    <tr>\n",
       "      <th>3</th>\n",
       "      <td>11.2</td>\n",
       "      <td>0.28</td>\n",
       "      <td>0.56</td>\n",
       "      <td>1.9</td>\n",
       "      <td>0.075</td>\n",
       "      <td>17.0</td>\n",
       "      <td>60.0</td>\n",
       "      <td>0.9980</td>\n",
       "      <td>3.16</td>\n",
       "      <td>0.58</td>\n",
       "      <td>9.8</td>\n",
       "      <td>6</td>\n",
       "      <td>1</td>\n",
       "    </tr>\n",
       "    <tr>\n",
       "      <th>4</th>\n",
       "      <td>7.4</td>\n",
       "      <td>0.70</td>\n",
       "      <td>0.00</td>\n",
       "      <td>1.9</td>\n",
       "      <td>0.076</td>\n",
       "      <td>11.0</td>\n",
       "      <td>34.0</td>\n",
       "      <td>0.9978</td>\n",
       "      <td>3.51</td>\n",
       "      <td>0.56</td>\n",
       "      <td>9.4</td>\n",
       "      <td>5</td>\n",
       "      <td>1</td>\n",
       "    </tr>\n",
       "  </tbody>\n",
       "</table>\n",
       "</div>"
      ],
      "text/plain": [
       "     0     1     2    3      4     5     6       7     8     9    10  11  12\n",
       "0   7.4  0.70  0.00  1.9  0.076  11.0  34.0  0.9978  3.51  0.56  9.4   5   1\n",
       "1   7.8  0.88  0.00  2.6  0.098  25.0  67.0  0.9968  3.20  0.68  9.8   5   1\n",
       "2   7.8  0.76  0.04  2.3  0.092  15.0  54.0  0.9970  3.26  0.65  9.8   5   1\n",
       "3  11.2  0.28  0.56  1.9  0.075  17.0  60.0  0.9980  3.16  0.58  9.8   6   1\n",
       "4   7.4  0.70  0.00  1.9  0.076  11.0  34.0  0.9978  3.51  0.56  9.4   5   1"
      ]
     },
     "execution_count": 76,
     "metadata": {},
     "output_type": "execute_result"
    }
   ],
   "source": [
    "import pandas as pd\n",
    "\n",
    "wine = pd.read_csv(\"./Data/wine.csv\", header=None)\n",
    "wine.head()"
   ]
  },
  {
   "cell_type": "code",
   "execution_count": 77,
   "metadata": {
    "colab": {},
    "colab_type": "code",
    "executionInfo": {
     "elapsed": 28198,
     "status": "ok",
     "timestamp": 1594562279639,
     "user": {
      "displayName": "강성관",
      "photoUrl": "",
      "userId": "00571094306841577419"
     },
     "user_tz": -540
    },
    "id": "kNbaCweHaD3Y"
   },
   "outputs": [],
   "source": [
    "from sklearn.model_selection import train_test_split\n",
    "\n",
    "x_data = wine.iloc[:,0:-1]\n",
    "y_data = wine.iloc[:,-1]\n",
    "\n",
    "# 트레인, 테스트 데이터 나누기.\n",
    "X_train, X_test, y_train, y_test = train_test_split(x_data, y_data, test_size = 0.3,random_state=42)"
   ]
  },
  {
   "cell_type": "code",
   "execution_count": 78,
   "metadata": {
    "colab": {},
    "colab_type": "code",
    "executionInfo": {
     "elapsed": 28193,
     "status": "ok",
     "timestamp": 1594562279640,
     "user": {
      "displayName": "강성관",
      "photoUrl": "",
      "userId": "00571094306841577419"
     },
     "user_tz": -540
    },
    "id": "dNgi8VvSaJj2"
   },
   "outputs": [],
   "source": [
    "from sklearn.linear_model import LogisticRegression\n",
    "\n",
    "# solver가 liblinear에서 lbfgs로 변경되면서 max_iter의 크기를 크게 잡아주어야 학습이 제대로 됨\n",
    "lr_model_wine = LogisticRegression(C=0.01, max_iter=15000).fit(X_train, y_train)"
   ]
  },
  {
   "cell_type": "code",
   "execution_count": 79,
   "metadata": {
    "colab": {
     "base_uri": "https://localhost:8080/",
     "height": 36
    },
    "colab_type": "code",
    "executionInfo": {
     "elapsed": 28188,
     "status": "ok",
     "timestamp": 1594562279640,
     "user": {
      "displayName": "강성관",
      "photoUrl": "",
      "userId": "00571094306841577419"
     },
     "user_tz": -540
    },
    "id": "aSnyjbgCaP4W",
    "outputId": "951650b8-6f49-4fad-d4b6-84990f644552"
   },
   "outputs": [
    {
     "data": {
      "text/plain": [
       "0.9502968990543216"
      ]
     },
     "execution_count": 79,
     "metadata": {},
     "output_type": "execute_result"
    }
   ],
   "source": [
    "lr_model_wine.score(X_train, y_train)"
   ]
  },
  {
   "cell_type": "code",
   "execution_count": 80,
   "metadata": {
    "colab": {
     "base_uri": "https://localhost:8080/",
     "height": 36
    },
    "colab_type": "code",
    "executionInfo": {
     "elapsed": 28181,
     "status": "ok",
     "timestamp": 1594562279641,
     "user": {
      "displayName": "강성관",
      "photoUrl": "",
      "userId": "00571094306841577419"
     },
     "user_tz": -540
    },
    "id": "KO9UELOAaTw_",
    "outputId": "d877702d-4fb4-4a6a-e12f-9093a91cfe9e"
   },
   "outputs": [
    {
     "data": {
      "text/plain": [
       "0.9415384615384615"
      ]
     },
     "execution_count": 80,
     "metadata": {},
     "output_type": "execute_result"
    }
   ],
   "source": [
    "lr_model_wine.score(X_test, y_test)"
   ]
  },
  {
   "cell_type": "code",
   "execution_count": 81,
   "metadata": {
    "colab": {
     "base_uri": "https://localhost:8080/",
     "height": 36
    },
    "colab_type": "code",
    "executionInfo": {
     "elapsed": 28173,
     "status": "ok",
     "timestamp": 1594562279641,
     "user": {
      "displayName": "강성관",
      "photoUrl": "",
      "userId": "00571094306841577419"
     },
     "user_tz": -540
    },
    "id": "IwCGaf6xaXrv",
    "outputId": "0338df9c-c41e-4bae-d2c6-2caa1a6829e7"
   },
   "outputs": [
    {
     "data": {
      "text/plain": [
       "array([0, 0, 0, ..., 0, 0, 0], dtype=int64)"
      ]
     },
     "execution_count": 81,
     "metadata": {},
     "output_type": "execute_result"
    }
   ],
   "source": [
    "y_pred = lr_model_wine.predict(X_test)\n",
    "\n",
    "y_pred"
   ]
  },
  {
   "cell_type": "markdown",
   "metadata": {
    "colab_type": "text",
    "id": "0aH-LpU4IWZC"
   },
   "source": [
    "## (실습) 최적의 C 값을 찾아보자"
   ]
  },
  {
   "cell_type": "code",
   "execution_count": 82,
   "metadata": {
    "colab": {
     "base_uri": "https://localhost:8080/",
     "height": 497
    },
    "colab_type": "code",
    "executionInfo": {
     "elapsed": 35289,
     "status": "ok",
     "timestamp": 1594562286766,
     "user": {
      "displayName": "강성관",
      "photoUrl": "",
      "userId": "00571094306841577419"
     },
     "user_tz": -540
    },
    "id": "XRlBRlCNWUzB",
    "outputId": "719fa529-017e-4f61-f73c-20e27b88dade"
   },
   "outputs": [
    {
     "data": {
      "image/png": "[encoded data removed]",
      "text/plain": [
       "<Figure size 576x576 with 1 Axes>"
      ]
     },
     "metadata": {
      "needs_background": "light"
     },
     "output_type": "display_data"
    }
   ],
   "source": [
    "import matplotlib.pyplot as plt\n",
    "\n",
    "train_acc = []\n",
    "test_acc = []\n",
    "\n",
    "c_list = [\"0.001\",  \"0.01\", \"0.1\", \"1\", \"10\", \"100\", \"1000\"]\n",
    "\n",
    "for i in c_list:\n",
    "  lr_model = LogisticRegression(C=float(i), max_iter=15000)\n",
    "  lr_model.fit(X_train, y_train)\n",
    "  train_acc.append(lr_model.score(X_train, y_train))\n",
    "  test_acc.append(lr_model.score(X_test, y_test))\n",
    "\n",
    "plt.figure(figsize=(8,8))  \n",
    "plt.plot(c_list, train_acc, label=\"Train score\")\n",
    "plt.plot(c_list, test_acc, label=\"Test score\")\n",
    "plt.legend()\n",
    "plt.xlabel(\"C\")\n",
    "plt.ylabel(\"Score\")\n",
    "plt.show()"
   ]
  },
  {
   "cell_type": "markdown",
   "metadata": {
    "colab_type": "text",
    "id": "qS1S9sqLY4tj"
   },
   "source": [
    "## (실습) 교차 검증을 적용해 보자"
   ]
  },
  {
   "cell_type": "code",
   "execution_count": 83,
   "metadata": {
    "colab": {
     "base_uri": "https://localhost:8080/",
     "height": 36
    },
    "colab_type": "code",
    "executionInfo": {
     "elapsed": 35280,
     "status": "ok",
     "timestamp": 1594562286767,
     "user": {
      "displayName": "강성관",
      "photoUrl": "",
      "userId": "00571094306841577419"
     },
     "user_tz": -540
    },
    "id": "Y23ID7CbQc7K",
    "outputId": "574599a8-aa13-41bd-ec54-d8a924b3bafd"
   },
   "outputs": [
    {
     "data": {
      "text/plain": [
       "array([0.95054945, 0.95274725, 0.95269527, 0.93729373, 0.95159516])"
      ]
     },
     "execution_count": 83,
     "metadata": {},
     "output_type": "execute_result"
    }
   ],
   "source": [
    "from sklearn.model_selection import cross_val_score\n",
    "\n",
    "result = cross_val_score(lr_model_wine, X_train, y_train, cv=5)\n",
    "result"
   ]
  },
  {
   "cell_type": "code",
   "execution_count": 84,
   "metadata": {
    "colab": {
     "base_uri": "https://localhost:8080/",
     "height": 36
    },
    "colab_type": "code",
    "executionInfo": {
     "elapsed": 35270,
     "status": "ok",
     "timestamp": 1594562286767,
     "user": {
      "displayName": "강성관",
      "photoUrl": "",
      "userId": "00571094306841577419"
     },
     "user_tz": -540
    },
    "id": "UB9xIuQoXqSD",
    "outputId": "6d3380c2-d5e3-405c-b8f1-a688a7f0cf98"
   },
   "outputs": [
    {
     "data": {
      "text/plain": [
       "0.948976172342509"
      ]
     },
     "execution_count": 84,
     "metadata": {},
     "output_type": "execute_result"
    }
   ],
   "source": [
    "result.mean()"
   ]
  },
  {
   "cell_type": "markdown",
   "metadata": {
    "colab_type": "text",
    "id": "1zVmxrC1Fk0g"
   },
   "source": [
    "## Logistic Regression 특징\n",
    "\n",
    "- C 값에 의해 규제 (L1, L2 모두 사용)\n",
    "- 학습속도가 빠르고 예측도 빠름\n",
    "- 매우 큰 데이터셋과 희소한 데이터 셋에도 잘 동작함 (solver='sag')"
   ]
  },
  {
   "cell_type": "markdown",
   "metadata": {
    "colab_type": "text",
    "id": "E68iDwdzN1-o"
   },
   "source": [
    "# LinearSVC"
   ]
  },
  {
   "cell_type": "code",
   "execution_count": 85,
   "metadata": {
    "colab": {
     "base_uri": "https://localhost:8080/",
     "height": 75
    },
    "colab_type": "code",
    "executionInfo": {
     "elapsed": 36566,
     "status": "ok",
     "timestamp": 1594562288074,
     "user": {
      "displayName": "강성관",
      "photoUrl": "",
      "userId": "00571094306841577419"
     },
     "user_tz": -540
    },
    "id": "k9lkaQF6gIqq",
    "outputId": "29061231-29c6-4b90-ba70-50df41a29acf"
   },
   "outputs": [],
   "source": [
    "from sklearn.svm import LinearSVC\n",
    "\n",
    "svc_model_wine = LinearSVC(C=0.01).fit(X_train, y_train)"
   ]
  },
  {
   "cell_type": "code",
   "execution_count": 86,
   "metadata": {
    "colab": {
     "base_uri": "https://localhost:8080/",
     "height": 36
    },
    "colab_type": "code",
    "executionInfo": {
     "elapsed": 36559,
     "status": "ok",
     "timestamp": 1594562288074,
     "user": {
      "displayName": "강성관",
      "photoUrl": "",
      "userId": "00571094306841577419"
     },
     "user_tz": -540
    },
    "id": "fECZovAegsbi",
    "outputId": "6529a5ee-04fb-4624-c5a4-1d05408ecea3"
   },
   "outputs": [
    {
     "data": {
      "text/plain": [
       "0.9646153846153847"
      ]
     },
     "execution_count": 86,
     "metadata": {},
     "output_type": "execute_result"
    }
   ],
   "source": [
    "svc_model_wine.score(X_test, y_test)"
   ]
  },
  {
   "cell_type": "code",
   "execution_count": 87,
   "metadata": {
    "colab": {
     "base_uri": "https://localhost:8080/",
     "height": 36
    },
    "colab_type": "code",
    "executionInfo": {
     "elapsed": 36549,
     "status": "ok",
     "timestamp": 1594562288075,
     "user": {
      "displayName": "강성관",
      "photoUrl": "",
      "userId": "00571094306841577419"
     },
     "user_tz": -540
    },
    "id": "WMU3COw_gt_5",
    "outputId": "e0e79f3e-7509-4266-ff83-0d9365b2a712"
   },
   "outputs": [
    {
     "data": {
      "text/plain": [
       "array([0, 0, 0, ..., 0, 0, 0], dtype=int64)"
      ]
     },
     "execution_count": 87,
     "metadata": {},
     "output_type": "execute_result"
    }
   ],
   "source": [
    "pred = svc_model_wine.predict(X_test)\n",
    "\n",
    "pred"
   ]
  },
  {
   "cell_type": "markdown",
   "metadata": {
    "colab_type": "text",
    "id": "DWQXnmsrOAex"
   },
   "source": [
    "## Linear SVC와 Logistic Regression의 장단점\n",
    "\n",
    "- 선형 모델의 주요 매개변수는 회귀 모델에서는 alpha였고 LinearSVC와 LogisticRegression에서는 C\n",
    "- alpha 값이 클수록, C 값이 작을수록 모델이 단순해짐 -> 강한 규제\n",
    "- 회귀 모델에서 이 매개변수를 조정하는 일이 매우 중요\n",
    "\n",
    "- L1 규제를 사용할지 L2 규제를 사용할지를 정해야 함\n",
    "- 중요한 특성이 많지 않다고 생각하면 L1 규제를 사용하고 그렇지 않으면 기본적으로 L2 규제를 사용\n",
    "\n",
    "- 선형 모델은 학습 속도가 빠르고 예측도 빠름\n",
    "- 매우 큰 데이터셋과 희소한 데이터셋에도 잘 작동\n",
    "- 수십만에서 수백만 개의 샘플로 이뤄진 대용량 데이터셋이라면 기본 설정보다 빨리 처리하도록 LogisticRegression과 Ridge에 solver=’sag’ 옵션 20 을 줌\n",
    "\n",
    "- 선형 모델은 샘플에 비해 특성이 많을 때 잘 작동\n",
    "- 다른 모델로 학습하기 어려운 매우 큰 데이터셋에도 선형 모델을 많이 사용"
   ]
  },
  {
   "cell_type": "markdown",
   "metadata": {
    "colab_type": "text",
    "id": "CBY1akeXaY6V"
   },
   "source": [
    "# 분류 평가지표"
   ]
  },
  {
   "cell_type": "markdown",
   "metadata": {
    "colab_type": "text",
    "id": "U5UKmh-_PU3W"
   },
   "source": [
    "### scoring  파라미터 참조 사이트 : https://scikit-learn.org/stable/modules/model_evaluation.html\n",
    "\n",
    "### ROC / AUC : http://shinhanlife.ml/learning?type=2&section=8"
   ]
  },
  {
   "cell_type": "markdown",
   "metadata": {
    "colab_type": "text",
    "id": "8q5Id1zsy_vS"
   },
   "source": [
    "### 참고사이트 (추가할 내용)\n",
    "\n",
    "- https://data-newbie.tistory.com/31\n",
    "\n",
    "- https://itchipmunk.tistory.com/195"
   ]
  },
  {
   "cell_type": "code",
   "execution_count": 88,
   "metadata": {
    "colab": {},
    "colab_type": "code",
    "executionInfo": {
     "elapsed": 36540,
     "status": "ok",
     "timestamp": 1594562288076,
     "user": {
      "displayName": "강성관",
      "photoUrl": "",
      "userId": "00571094306841577419"
     },
     "user_tz": -540
    },
    "id": "BmoC1QY4aa5z"
   },
   "outputs": [],
   "source": [
    "import warnings\n",
    " \n",
    "# 경고 메시지 출력 안함  \n",
    "warnings.filterwarnings(\"ignore\")"
   ]
  },
  {
   "cell_type": "markdown",
   "metadata": {
    "colab_type": "text",
    "id": "YYK_7FD2fVRV"
   },
   "source": [
    "## 평가지표 종류 (사이킷런 패키지는 metrics 서브패키지)\n",
    "\n",
    "- confusion_matrix(y_true, y_pred)\n",
    "- accuracy_score(y_true, y_pred)\n",
    "- precision_score(y_true, y_pred)\n",
    "- recall_score(y_true, y_pred)\n",
    "- fbeta_score(y_true, y_pred, beta)\n",
    "- f1_score(y_true, y_pred)\n",
    "- classfication_report(y_true, y_pred)\n",
    "- roc_curve\n",
    "- auc"
   ]
  },
  {
   "cell_type": "markdown",
   "metadata": {
    "colab_type": "text",
    "id": "mii-_syGqqKF"
   },
   "source": [
    "# 2진 분류의 평가 지표\n",
    "\n",
    "- 에러의 종류 \n",
    "(1) 거짓 양성 : 잘못된 양성 예측\n",
    "(2) 거짓 음성 : 잘못된 음성 예측"
   ]
  },
  {
   "cell_type": "code",
   "execution_count": 89,
   "metadata": {
    "colab": {
     "base_uri": "https://localhost:8080/",
     "height": 36
    },
    "colab_type": "code",
    "executionInfo": {
     "elapsed": 36534,
     "status": "ok",
     "timestamp": 1594562288076,
     "user": {
      "displayName": "강성관",
      "photoUrl": "",
      "userId": "00571094306841577419"
     },
     "user_tz": -540
    },
    "id": "snwNR8w0qHEq",
    "outputId": "6f6e73b6-6cfb-4ae1-f98d-e64feb510c70"
   },
   "outputs": [
    {
     "name": "stdout",
     "output_type": "stream",
     "text": [
      "테스트 점수: 0.94\n"
     ]
    }
   ],
   "source": [
    "from sklearn.datasets import load_breast_cancer\n",
    "\n",
    "cancer = load_breast_cancer()\n",
    "\n",
    "X_train, X_test, y_train, y_test = train_test_split(cancer.data, cancer.target,\n",
    "                                                    random_state=0)\n",
    "\n",
    "lr = LogisticRegression(C=0.1).fit(X_train, y_train)\n",
    "  \n",
    "pred_lr = lr.predict(X_test)\n",
    "\n",
    "print(\"테스트 점수: {:.2f}\".format(lr.score(X_test, y_test)))"
   ]
  },
  {
   "cell_type": "markdown",
   "metadata": {
    "colab_type": "text",
    "id": "Gr5CiplMRSrq"
   },
   "source": [
    "## confusion matrix (오차 행렬)\n",
    "\n",
    "- 0,0 진짜 악성, 예측 악성\n",
    "- 0,1 진짜 악성, 예측 양성\n",
    "- 1,0 진짜 양성, 예측 악성\n",
    "- 1,1 진짜 양성, 예측 양성"
   ]
  },
  {
   "cell_type": "code",
   "execution_count": 90,
   "metadata": {
    "colab": {
     "base_uri": "https://localhost:8080/",
     "height": 55
    },
    "colab_type": "code",
    "executionInfo": {
     "elapsed": 36527,
     "status": "ok",
     "timestamp": 1594562288078,
     "user": {
      "displayName": "강성관",
      "photoUrl": "",
      "userId": "00571094306841577419"
     },
     "user_tz": -540
    },
    "id": "HPsfYiIyrhoK",
    "outputId": "e7ee3f36-58d8-4ffa-c27c-8ea7efc1f3c3"
   },
   "outputs": [
    {
     "name": "stdout",
     "output_type": "stream",
     "text": [
      "[[50  3]\n",
      " [ 5 85]]\n"
     ]
    }
   ],
   "source": [
    "from sklearn.metrics import confusion_matrix\n",
    "\n",
    "print(confusion_matrix(y_test, pred_lr))"
   ]
  },
  {
   "cell_type": "markdown",
   "metadata": {
    "colab_type": "text",
    "id": "iOJQ_cZ0t_6P"
   },
   "source": [
    "### classification_report 함수 : 정밀도(precision), 재현율 (recall), f1점수를 보여주는 기능\n",
    "\n",
    "- 정확도 : TP+TN / (TP + TN + FP + FN)\n",
    "\n",
    "- 정밀도 : 양성으로 예측된 것 (TP + FP) 중 얼마나 많은 샘플이 진짜 양성(TP) 인지 측정 \n",
    "\n",
    "- 재현율 (민감도) : 전체 양성 샘플 (TP + FN) 중에서 얼마나 많은 샘플이 양성 (TP)로 분류 되는지 측정 -> 진짜 양성 비율\n",
    "\n",
    "- f1점수 : 정밀도와 재현율을 이용한 점수"
   ]
  },
  {
   "cell_type": "code",
   "execution_count": 91,
   "metadata": {
    "colab": {
     "base_uri": "https://localhost:8080/",
     "height": 185
    },
    "colab_type": "code",
    "executionInfo": {
     "elapsed": 36518,
     "status": "ok",
     "timestamp": 1594562288078,
     "user": {
      "displayName": "강성관",
      "photoUrl": "",
      "userId": "00571094306841577419"
     },
     "user_tz": -540
    },
    "id": "mujEhdcruCj0",
    "outputId": "af395e31-4c28-48cd-c1e9-27be96577440"
   },
   "outputs": [
    {
     "name": "stdout",
     "output_type": "stream",
     "text": [
      "              precision    recall  f1-score   support\n",
      "\n",
      "          악성       0.91      0.94      0.93        53\n",
      "          양성       0.97      0.94      0.96        90\n",
      "\n",
      "    accuracy                           0.94       143\n",
      "   macro avg       0.94      0.94      0.94       143\n",
      "weighted avg       0.94      0.94      0.94       143\n",
      "\n"
     ]
    }
   ],
   "source": [
    "from sklearn.metrics import classification_report\n",
    "\n",
    "print(classification_report(y_test, pred_lr,\n",
    "                            target_names=[\"악성\", \"양성\"]))"
   ]
  },
  {
   "cell_type": "markdown",
   "metadata": {
    "colab_type": "text",
    "id": "dtDEoMKwQhAy"
   },
   "source": [
    "- macro avg : 다중분류 시에 각각의 클래스에 대해 recall, precision, f1을 구해서 평균을 내는 것 -> 분류자가 각 클래스에 대해 얼마나 평균적으로 잘 동작하는지 알고 싶을 때 사용\n",
    "   - macro recall : (Recall for Class 1 + Recall for Class 2) / 2\n",
    "\n",
    "- micro avg : 다중분류 시에 pooled 행렬을 이용하여 한번에 계산하는 것 -> 각 클래스별로 측정된 recall, recision, f1의 크기가 다른 경우 사용\n",
    "\n",
    "   - micro recall = (TP1 + TP2) / (TP1 + TP2 + FN1 + FN2) \n",
    "\n",
    "- weight avg (가중평균) : 개별치에 각각의 중요도,영향도(빈도) 등에 따라 가중치를 곱하여 구해지는 평균\n",
    "\n",
    "    - 일반평균 : (값1 + 값2) / 2\n",
    "    - 가중평균 : (값1*개수1 + 값2*개수2) / (개수1+개수2)"
   ]
  },
  {
   "cell_type": "markdown",
   "metadata": {
    "colab_type": "text",
    "id": "B_Di_QrPty4l"
   },
   "source": [
    "# 다중 분류의 평가지표\n",
    "\n",
    "- 다중 분류에 가장 널리 사용되는 평가지표 : f1-score"
   ]
  },
  {
   "cell_type": "code",
   "execution_count": 92,
   "metadata": {
    "colab": {
     "base_uri": "https://localhost:8080/",
     "height": 111
    },
    "colab_type": "code",
    "executionInfo": {
     "elapsed": 36511,
     "status": "ok",
     "timestamp": 1594562288079,
     "user": {
      "displayName": "강성관",
      "photoUrl": "",
      "userId": "00571094306841577419"
     },
     "user_tz": -540
    },
    "id": "jkUe76Dnrwhl",
    "outputId": "3ec5bd94-ead9-4cbe-e3f2-1444b353f9a7"
   },
   "outputs": [
    {
     "name": "stdout",
     "output_type": "stream",
     "text": [
      "정확도: 0.974\n",
      "오차 행렬:\n",
      "[[13  0  0]\n",
      " [ 0 15  1]\n",
      " [ 0  0  9]]\n"
     ]
    }
   ],
   "source": [
    "from sklearn.metrics import accuracy_score\n",
    "from sklearn.datasets import load_iris\n",
    "\n",
    "iris = load_iris()\n",
    "\n",
    "X_train, X_test, y_train, y_test = train_test_split(\n",
    "    iris.data, iris.target, random_state=0)\n",
    "\n",
    "lr = LogisticRegression().fit(X_train, y_train)\n",
    "\n",
    "pred = lr.predict(X_test)\n",
    "\n",
    "print(\"정확도: {:.3f}\".format(accuracy_score(y_test, pred)))\n",
    "print(\"오차 행렬:\\n{}\".format(confusion_matrix(y_test, pred)))"
   ]
  },
  {
   "cell_type": "code",
   "execution_count": 93,
   "metadata": {
    "colab": {
     "base_uri": "https://localhost:8080/",
     "height": 485
    },
    "colab_type": "code",
    "executionInfo": {
     "elapsed": 44701,
     "status": "ok",
     "timestamp": 1594562296271,
     "user": {
      "displayName": "강성관",
      "photoUrl": "",
      "userId": "00571094306841577419"
     },
     "user_tz": -540
    },
    "id": "4LPjehDTFryJ",
    "outputId": "859edded-1b8c-489c-a804-165486e5bd1a"
   },
   "outputs": [
    {
     "name": "stdout",
     "output_type": "stream",
     "text": [
      "Requirement already satisfied: mglearn in c:\\users\\hicoi\\anaconda3\\lib\\site-packages (0.1.9)\n",
      "Requirement already satisfied: joblib in c:\\users\\hicoi\\anaconda3\\lib\\site-packages (from mglearn) (0.16.0)\n",
      "Requirement already satisfied: matplotlib in c:\\users\\hicoi\\anaconda3\\lib\\site-packages (from mglearn) (3.2.2)\n",
      "Requirement already satisfied: numpy in c:\\users\\hicoi\\anaconda3\\lib\\site-packages (from mglearn) (1.18.5)\n",
      "Requirement already satisfied: pandas in c:\\users\\hicoi\\anaconda3\\lib\\site-packages (from mglearn) (1.0.5)\n",
      "Requirement already satisfied: cycler in c:\\users\\hicoi\\anaconda3\\lib\\site-packages (from mglearn) (0.10.0)\n",
      "Requirement already satisfied: imageio in c:\\users\\hicoi\\anaconda3\\lib\\site-packages (from mglearn) (2.9.0)\n",
      "Requirement already satisfied: pillow in c:\\users\\hicoi\\anaconda3\\lib\\site-packages (from mglearn) (7.2.0)\n",
      "Requirement already satisfied: scikit-learn in c:\\users\\hicoi\\anaconda3\\lib\\site-packages (from mglearn) (0.23.1)\n",
      "Requirement already satisfied: kiwisolver>=1.0.1 in c:\\users\\hicoi\\anaconda3\\lib\\site-packages (from matplotlib->mglearn) (1.2.0)\n",
      "Requirement already satisfied: python-dateutil>=2.1 in c:\\users\\hicoi\\anaconda3\\lib\\site-packages (from matplotlib->mglearn) (2.8.1)\n",
      "Requirement already satisfied: pyparsing!=2.0.4,!=2.1.2,!=2.1.6,>=2.0.1 in c:\\users\\hicoi\\anaconda3\\lib\\site-packages (from matplotlib->mglearn) (2.4.7)\n",
      "Requirement already satisfied: pytz>=2017.2 in c:\\users\\hicoi\\anaconda3\\lib\\site-packages (from pandas->mglearn) (2020.1)\n",
      "Requirement already satisfied: six in c:\\users\\hicoi\\anaconda3\\lib\\site-packages (from cycler->mglearn) (1.15.0)\n",
      "Requirement already satisfied: scipy>=0.19.1 in c:\\users\\hicoi\\anaconda3\\lib\\site-packages (from scikit-learn->mglearn) (1.5.0)\n",
      "Requirement already satisfied: threadpoolctl>=2.0.0 in c:\\users\\hicoi\\anaconda3\\lib\\site-packages (from scikit-learn->mglearn) (2.1.0)\n"
     ]
    }
   ],
   "source": [
    "!pip install mglearn"
   ]
  },
  {
   "cell_type": "code",
   "execution_count": 94,
   "metadata": {
    "colab": {
     "base_uri": "https://localhost:8080/",
     "height": 295
    },
    "colab_type": "code",
    "executionInfo": {
     "elapsed": 44695,
     "status": "ok",
     "timestamp": 1594562296272,
     "user": {
      "displayName": "강성관",
      "photoUrl": "",
      "userId": "00571094306841577419"
     },
     "user_tz": -540
    },
    "id": "ks2j9CcNvr8f",
    "outputId": "f2e27daa-3d79-42a1-cc3e-28cea2537d68"
   },
   "outputs": [
    {
     "data": {
      "image/png": "[encoded data removed]",
      "text/plain": [
       "<Figure size 432x288 with 1 Axes>"
      ]
     },
     "metadata": {
      "needs_background": "light"
     },
     "output_type": "display_data"
    }
   ],
   "source": [
    "import mglearn\n",
    "\n",
    "scores_image = mglearn.tools.heatmap(\n",
    "    confusion_matrix(y_test, pred), xlabel='pred label',\n",
    "    ylabel='actual label', xticklabels=iris.target_names,\n",
    "    yticklabels=iris.target_names, cmap=plt.cm.gray_r, fmt=\"%d\")    \n",
    "plt.title(\"Confusion Marix\")\n",
    "plt.gca().invert_yaxis()"
   ]
  },
  {
   "cell_type": "markdown",
   "metadata": {
    "colab_type": "text",
    "id": "YksyM8bcwH0u"
   },
   "source": [
    "- setosa와 versicolor 클래스의 행 값이 모두 0으로 분류\n",
    "\n",
    "- setosa와 virginica 클래스의 열 값이 모두 0으로 분류\n",
    "\n",
    "- versicolor 5개를 virginica로 잘못 분류"
   ]
  },
  {
   "cell_type": "markdown",
   "metadata": {
    "colab_type": "text",
    "id": "aF7aPnnTx1rx"
   },
   "source": [
    "### 정밀도, 재현율 f1 점수 계산"
   ]
  },
  {
   "cell_type": "code",
   "execution_count": 95,
   "metadata": {
    "colab": {
     "base_uri": "https://localhost:8080/",
     "height": 204
    },
    "colab_type": "code",
    "executionInfo": {
     "elapsed": 44690,
     "status": "ok",
     "timestamp": 1594562296273,
     "user": {
      "displayName": "강성관",
      "photoUrl": "",
      "userId": "00571094306841577419"
     },
     "user_tz": -540
    },
    "id": "BmYr_HJ5wGmI",
    "outputId": "ba3d3ccb-0c01-450c-8bd2-f78578058ae3"
   },
   "outputs": [
    {
     "name": "stdout",
     "output_type": "stream",
     "text": [
      "              precision    recall  f1-score   support\n",
      "\n",
      "      setosa       1.00      1.00      1.00        13\n",
      "  versicolor       1.00      0.94      0.97        16\n",
      "   virginica       0.90      1.00      0.95         9\n",
      "\n",
      "    accuracy                           0.97        38\n",
      "   macro avg       0.97      0.98      0.97        38\n",
      "weighted avg       0.98      0.97      0.97        38\n",
      "\n"
     ]
    }
   ],
   "source": [
    "print(classification_report(y_test, pred, target_names=[\"setosa\", \"versicolor\", \"virginica\"]))"
   ]
  },
  {
   "cell_type": "markdown",
   "metadata": {
    "colab_type": "text",
    "id": "65Fbcs7UydRB"
   },
   "source": [
    "- 0 클래스 (setosa)는 오차가 없으므로 정밀도와 재현율이 1.0으로 완벽함\n",
    "\n",
    "- 1 클래스 (versicolor)는 FP가 없어서 정밀도는 1이지만 FN이 존재하므로 재현율이 0.69가 됨\n",
    "\n",
    "- 2 클래스 (virginica)는 FN이 없어서 재현율이 1이지만 FP가이 존재하므로 0.64가 됨"
   ]
  },
  {
   "cell_type": "markdown",
   "metadata": {
    "colab_type": "text",
    "id": "6ARordl6Q3Rv"
   },
   "source": [
    "## ROC 곡선 그리기\n",
    "\n",
    "- ROC(Receiver Operating Characteristic) : 여러 임계값에서 분류기의 특성을 분석하는데 널리 사용되는 도구\n",
    "- 정밀도-재현율 곡선과 비슷하게 ROC 곡선은 분류기의 모든 임계값을 고려하지만 정밀도와 재현율 대신에 진짜 양성 비율 (TPR)에 대한 거짓 양성 비율 (FPR)을 나타냄\n",
    "\n",
    "- 클래스의 분포가 다르고 겹치는 부분이 존재한 경우에 Accuracy의 단점을 보완하기 위한 것\n",
    "\n",
    "- 진짜 양성비율 (TPR): 재현율 -> 예측한 값중 얼마나 정확히 예측했는지에 대한 비율\n",
    "- 가짜 양성비율 (FPR): 전체 음성 샘플 중에서 거짓 양성으로 잘못 분류한 비율\n"
   ]
  },
  {
   "cell_type": "code",
   "execution_count": 96,
   "metadata": {
    "colab": {},
    "colab_type": "code",
    "executionInfo": {
     "elapsed": 45343,
     "status": "aborted",
     "timestamp": 1594562296940,
     "user": {
      "displayName": "강성관",
      "photoUrl": "",
      "userId": "00571094306841577419"
     },
     "user_tz": -540
    },
    "id": "kaS_ZgorVxjI"
   },
   "outputs": [],
   "source": [
    "#Image('/gdrive/My Drive/Colab Notebooks/인공지능강의안/img/roc_auc.png')"
   ]
  },
  {
   "cell_type": "markdown",
   "metadata": {
    "colab_type": "text",
    "id": "5taczOsxWDYY"
   },
   "source": [
    "- 양 끝쪽의은 확실히 정상과 암 환자를 구분할 수 있지만 겹치는 부분은 불분명할 수 있음 -> Error\n",
    "\n",
    "\n",
    "- 많이 겹치는 부분이 많을 수록 직선에 가까워지고 성능이 떨어짐\n",
    "\n",
    "- 따라서, ROC 곡선이 좋은 모델을 선정하는 것이 필요\n",
    "\n",
    "- 구분선을 왼쪽으로 옮기면 (초록색) TN=0이므로 1-TNR=1, FN=0이므로 TPF=1 (초록색원 위치)\n",
    "\n",
    "- 구분선을 오른쪽으로 옮기면 (파란색) TP=0이므로 TPR=0, TN=1이므로 1-TNR=0 (파란색원 위치)"
   ]
  },
  {
   "cell_type": "markdown",
   "metadata": {
    "colab_type": "text",
    "id": "1eBhOnUfRsMq"
   },
   "source": [
    "### ROC 곡선 그리기\n",
    " \n",
    "- roc_curve() : ROC 곡선을 그리는 메소드\n",
    "\n",
    "- 왼쪽 위쪽에 가까울수록 이상적 - FPR이 낮게 유지되면서 재현율이 높다는 의미  <- 예측한 값중 얼마나 정확히 예측했는지에 대한 비율"
   ]
  },
  {
   "cell_type": "code",
   "execution_count": 97,
   "metadata": {
    "colab": {},
    "colab_type": "code",
    "executionInfo": {
     "elapsed": 45337,
     "status": "aborted",
     "timestamp": 1594562296941,
     "user": {
      "displayName": "강성관",
      "photoUrl": "",
      "userId": "00571094306841577419"
     },
     "user_tz": -540
    },
    "id": "ThHpsHbHRuHf"
   },
   "outputs": [
    {
     "data": {
      "image/png": "[encoded data removed]",
      "text/plain": [
       "<Figure size 432x288 with 1 Axes>"
      ]
     },
     "metadata": {
      "needs_background": "light"
     },
     "output_type": "display_data"
    }
   ],
   "source": [
    "from sklearn.metrics import roc_curve\n",
    "import matplotlib.pyplot as plt\n",
    "\n",
    "cancer = load_breast_cancer()\n",
    "\n",
    "X_train, X_test, y_train, y_test = train_test_split(cancer.data, cancer.target,\n",
    "                                                    random_state=0)\n",
    "\n",
    "lr = LogisticRegression(C=1).fit(X_train, y_train)\n",
    "\n",
    "fpr,tpr,_ = roc_curve(y_test, lr.decision_function(X_test))\n",
    "\n",
    "plt.plot(fpr,tpr)\n",
    "plt.xlabel(\"FPR\")          # 가짜 양성 비율 : 전체 음성 샘플중에서 거짓 양성으로 잘못 판정한 비율\n",
    "plt.ylabel(\"TPR(Recall)\")  # 재현율 : 예측한 값 중에서 얼마나 정확히 예측했는지에 대한 비율\n",
    "plt.show()"
   ]
  },
  {
   "cell_type": "markdown",
   "metadata": {
    "colab_type": "text",
    "id": "a7U0MMg4SRgh"
   },
   "source": [
    "### ROC 곡선 비교"
   ]
  },
  {
   "cell_type": "code",
   "execution_count": 98,
   "metadata": {
    "colab": {},
    "colab_type": "code",
    "executionInfo": {
     "elapsed": 45330,
     "status": "aborted",
     "timestamp": 1594562296941,
     "user": {
      "displayName": "강성관",
      "photoUrl": "",
      "userId": "00571094306841577419"
     },
     "user_tz": -540
    },
    "id": "0kxe-MymSQ9K"
   },
   "outputs": [
    {
     "data": {
      "text/plain": [
       "LogisticRegression(C=10)"
      ]
     },
     "execution_count": 98,
     "metadata": {},
     "output_type": "execute_result"
    }
   ],
   "source": [
    "lr2 = LogisticRegression(C=10)\n",
    "lr2.fit(X_train,y_train)"
   ]
  },
  {
   "cell_type": "code",
   "execution_count": 99,
   "metadata": {
    "colab": {},
    "colab_type": "code",
    "executionInfo": {
     "elapsed": 45324,
     "status": "aborted",
     "timestamp": 1594562296942,
     "user": {
      "displayName": "강성관",
      "photoUrl": "",
      "userId": "00571094306841577419"
     },
     "user_tz": -540
    },
    "id": "JkuAp4blSXQ5"
   },
   "outputs": [
    {
     "data": {
      "image/png": "[encoded data removed]",
      "text/plain": [
       "<Figure size 432x288 with 1 Axes>"
      ]
     },
     "metadata": {
      "needs_background": "light"
     },
     "output_type": "display_data"
    }
   ],
   "source": [
    "fpr2,tpr2,_ = roc_curve(y_test,lr2.decision_function(X_test))\n",
    "\n",
    "plt.plot(fpr,tpr, label=\"LinearRegression(C=1)\")\n",
    "plt.plot(fpr2,tpr2, label=\"LinearRegression(C=10)\")\n",
    "plt.legend()\n",
    "plt.xlabel(\"FPR\")  # 가짜 양성 비율 : 전체 음성 샘플중에서 거짓 양성으로 잘못 판정한 비율\n",
    "plt.ylabel(\"TPR(Recall)\") # 재현율 : 예측한 값 중에서 얼마나 정확히 예측했는지에 대한 비율\n",
    "plt.show()"
   ]
  },
  {
   "cell_type": "code",
   "execution_count": 100,
   "metadata": {
    "colab": {},
    "colab_type": "code",
    "executionInfo": {
     "elapsed": 45319,
     "status": "aborted",
     "timestamp": 1594562296943,
     "user": {
      "displayName": "강성관",
      "photoUrl": "",
      "userId": "00571094306841577419"
     },
     "user_tz": -540
    },
    "id": "a_JMLzZvG8_Z"
   },
   "outputs": [
    {
     "data": {
      "image/png": "[encoded data removed]",
      "text/plain": [
       "<Figure size 432x288 with 1 Axes>"
      ]
     },
     "metadata": {
      "needs_background": "light"
     },
     "output_type": "display_data"
    }
   ],
   "source": [
    "from sklearn.svm import LinearSVC\n",
    "\n",
    "svc = LinearSVC(C=0.01).fit(X_train, y_train)\n",
    "\n",
    "fpr3,tpr3,_ = roc_curve(y_test,svc.decision_function(X_test))\n",
    "\n",
    "plt.plot(fpr,tpr, label=\"LinearRegression(C=1)\")\n",
    "plt.plot(fpr2,tpr2, label=\"LinearRegression(C=10)\")\n",
    "plt.plot(fpr3,tpr3, label=\"LinearSVC(C=0.01)\")\n",
    "plt.legend()\n",
    "plt.xlabel(\"FPR\")\n",
    "plt.ylabel(\"TPR(Recall)\")\n",
    "plt.show()"
   ]
  },
  {
   "cell_type": "markdown",
   "metadata": {
    "colab_type": "text",
    "id": "OPCuizE7oN8I"
   },
   "source": [
    "## AUC (Area Under Curve) 그리기 ( 3차 패스)\n",
    "\n",
    "- ROC가 곡선으로 표현한다면 AUC는 면적으로 표시\n",
    "\n",
    "- roc_auc_score() 함수로 계산"
   ]
  },
  {
   "cell_type": "code",
   "execution_count": 101,
   "metadata": {
    "colab": {},
    "colab_type": "code",
    "executionInfo": {
     "elapsed": 45311,
     "status": "aborted",
     "timestamp": 1594562296943,
     "user": {
      "displayName": "강성관",
      "photoUrl": "",
      "userId": "00571094306841577419"
     },
     "user_tz": -540
    },
    "id": "IoE9xL2uo3WE"
   },
   "outputs": [
    {
     "name": "stdout",
     "output_type": "stream",
     "text": [
      "로지스틱 회귀의 AUC (0.1): 0.994\n",
      "로지스틱 회귀의 AUC (10): 0.994\n"
     ]
    }
   ],
   "source": [
    "from sklearn.metrics import roc_auc_score\n",
    "from sklearn.svm import SVC\n",
    "\n",
    "rf_auc = roc_auc_score(y_test, lr.predict_proba(X_test)[:, 1])\n",
    "svc_auc = roc_auc_score(y_test, lr2.decision_function(X_test))\n",
    "\n",
    "print(\"로지스틱 회귀의 AUC (0.1): {:.3f}\".format(rf_auc))\n",
    "print(\"로지스틱 회귀의 AUC (10): {:.3f}\".format(svc_auc))"
   ]
  },
  {
   "cell_type": "code",
   "execution_count": 102,
   "metadata": {
    "colab": {},
    "colab_type": "code",
    "executionInfo": {
     "elapsed": 45303,
     "status": "aborted",
     "timestamp": 1594562296944,
     "user": {
      "displayName": "강성관",
      "photoUrl": "",
      "userId": "00571094306841577419"
     },
     "user_tz": -540
    },
    "id": "wm3XwZjhq908"
   },
   "outputs": [
    {
     "name": "stdout",
     "output_type": "stream",
     "text": [
      "gamma = 1.00  정확도 = 0.63  AUC = 0.53\n",
      "gamma = 0.10  정확도 = 0.63  AUC = 0.86\n",
      "gamma = 0.01  정확도 = 0.64  AUC = 0.92\n"
     ]
    },
    {
     "data": {
      "text/plain": [
       "<matplotlib.legend.Legend at 0x2148bc47880>"
      ]
     },
     "execution_count": 102,
     "metadata": {},
     "output_type": "execute_result"
    },
    {
     "data": {
      "image/png": "[encoded data removed]",
      "text/plain": [
       "<Figure size 432x288 with 1 Axes>"
      ]
     },
     "metadata": {
      "needs_background": "light"
     },
     "output_type": "display_data"
    }
   ],
   "source": [
    "y = cancer.target == y_test[1]\n",
    "\n",
    "plt.figure()\n",
    "\n",
    "for gamma in [1, 0.1, 0.01]:\n",
    "    svc = SVC(gamma=gamma).fit(X_train, y_train)\n",
    "    accuracy = svc.score(X_test, y_test)\n",
    "    \n",
    "    auc = roc_auc_score(y_test, svc.decision_function(X_test))\n",
    "    fpr, tpr, _ = roc_curve(y_test , svc.decision_function(X_test))\n",
    "    \n",
    "    print(\"gamma = {:.2f}  정확도 = {:.2f}  AUC = {:.2f}\".format(\n",
    "        gamma, accuracy, auc))\n",
    "    plt.plot(fpr, tpr, label=\"gamma={:.2f}\".format(gamma))\n",
    "    \n",
    "plt.xlabel(\"FPR\")\n",
    "plt.ylabel(\"TPR\")\n",
    "plt.xlim(-0.01, 1)\n",
    "plt.ylim(0, 1.02)\n",
    "plt.legend(loc=\"best\")"
   ]
  },
  {
   "cell_type": "markdown",
   "metadata": {
    "colab_type": "text",
    "id": "fb4fR8KVrxN9"
   },
   "source": [
    "- gamma 값에 따라 정확도는 유사하지만 AUC와 ROC 곡선을 보면 세 모델의 차이를 뚜렷하게 확인할 수 있음\n",
    "\n",
    "- 결정함수에 의해 대부분의 양성 포인트는 어떤 음성 포인트보다 더 높은 점수를 가짐.\n",
    "\n",
    "- 불균형한 데이터를 사용할 경우 AUC로 평가하는 것을 권장"
   ]
  },
  {
   "cell_type": "markdown",
   "metadata": {
    "colab_type": "text",
    "id": "0F4Q6MEBo7ZN"
   },
   "source": [
    "# GridSearch\n",
    "\n",
    "- 매개변수을 선택하는 것은 머신러닝에서 중요한 일\n",
    "\n",
    "- GRID_SEARCH : 관심 있는 매개변수들을 대상으로 가능한 모든 조합 시도하는 것"
   ]
  },
  {
   "cell_type": "markdown",
   "metadata": {
    "colab_type": "text",
    "id": "CQhNYEqHaRcU"
   },
   "source": [
    "## GridSearchCV 메소드를 이용한 그리드서치\n",
    "\n",
    "- GridSearch 기능과 교차검증을 동시에 수행"
   ]
  },
  {
   "cell_type": "code",
   "execution_count": 103,
   "metadata": {
    "colab": {},
    "colab_type": "code",
    "executionInfo": {
     "elapsed": 1584,
     "status": "ok",
     "timestamp": 1594563904578,
     "user": {
      "displayName": "강성관",
      "photoUrl": "",
      "userId": "00571094306841577419"
     },
     "user_tz": -540
    },
    "id": "8alJXc2jaQvk"
   },
   "outputs": [],
   "source": [
    "# 딕셔너리 형태로 파라미터의 값들을 설정\n",
    "param_grid = {'C': [0.001, 0.01, 0.1, 1, 10, 100]}"
   ]
  },
  {
   "cell_type": "markdown",
   "metadata": {
    "colab_type": "text",
    "id": "XHNmYxhaYZKH"
   },
   "source": []
  },
  {
   "cell_type": "code",
   "execution_count": 104,
   "metadata": {
    "colab": {},
    "colab_type": "code",
    "executionInfo": {
     "elapsed": 1571,
     "status": "ok",
     "timestamp": 1594563908045,
     "user": {
      "displayName": "강성관",
      "photoUrl": "",
      "userId": "00571094306841577419"
     },
     "user_tz": -540
    },
    "id": "Hk8otxS9ab0c"
   },
   "outputs": [],
   "source": [
    "from sklearn.model_selection import GridSearchCV\n",
    "from sklearn.linear_model import LogisticRegression\n",
    "\n",
    "# return_train_score : 훈련 폴드(cv)의 점수를 받을지 여부를 설정\n",
    "# scoring : 분류 (accuracy, f1), 회귀 (neg_mean_squared_error, r2)\n",
    "# n_jobs : 병렬처리 수 (CPU 코어 수가 충분하다면 설정, 디폴트 1) - 내부적으로 멀티프로세스 동작 -> 속도 증가\n",
    "#grid_search = GridSearchCV(SVC(), param_grid, cv=5, return_train_score=True, scoring='f1_micro', n_jobs=2)\n",
    "grid_search = GridSearchCV(LogisticRegression(), param_grid, cv=5)"
   ]
  },
  {
   "cell_type": "code",
   "execution_count": 105,
   "metadata": {
    "colab": {
     "base_uri": "https://localhost:8080/",
     "height": 260
    },
    "colab_type": "code",
    "executionInfo": {
     "elapsed": 2011,
     "status": "ok",
     "timestamp": 1594563911870,
     "user": {
      "displayName": "강성관",
      "photoUrl": "",
      "userId": "00571094306841577419"
     },
     "user_tz": -540
    },
    "id": "vwjLZAVhajrl",
    "outputId": "6bdf86e9-db53-48f2-b23f-24372553df63"
   },
   "outputs": [
    {
     "data": {
      "text/plain": [
       "GridSearchCV(cv=5, estimator=LogisticRegression(),\n",
       "             param_grid={'C': [0.001, 0.01, 0.1, 1, 10, 100]})"
      ]
     },
     "execution_count": 105,
     "metadata": {},
     "output_type": "execute_result"
    }
   ],
   "source": [
    "from sklearn.datasets import load_iris\n",
    "from sklearn.model_selection import train_test_split\n",
    "\n",
    "iris = load_iris()\n",
    "X_train, X_test, y_train, y_test = train_test_split(iris.data, iris.target, random_state=0)\n",
    "\n",
    "grid_search.fit(X_train, y_train)"
   ]
  },
  {
   "cell_type": "markdown",
   "metadata": {
    "colab_type": "text",
    "id": "tIAo7oxEatkV"
   },
   "source": [
    "- GridSearchCV 객체에 fit() 매서드는 최적의 매개변수를 찾는 일 뿐만 아니라 교차 검증 성능이 가장 좋은 매개변수로 전체 훈련 데이터 세트에 대해 새로운 모델을 자동을 만듬\n",
    "\n",
    "- GridSearchCV는 전체 데이터로 학습한 모델에 접근할 수 있도록 predict()와 score() 메서드 제공\n",
    "\n",
    "- GridSearchCV 분류 : StratifiedKFold 회귀 : KFold\n",
    "\n",
    "- 사용에 따라서는 predict_proba, decision_function도 제공"
   ]
  },
  {
   "cell_type": "code",
   "execution_count": 106,
   "metadata": {
    "colab": {
     "base_uri": "https://localhost:8080/",
     "height": 36
    },
    "colab_type": "code",
    "executionInfo": {
     "elapsed": 1569,
     "status": "ok",
     "timestamp": 1594563372816,
     "user": {
      "displayName": "강성관",
      "photoUrl": "",
      "userId": "00571094306841577419"
     },
     "user_tz": -540
    },
    "id": "E0Al46AxbOCc",
    "outputId": "8da942d9-655d-4ee1-86eb-27971eaca7c4"
   },
   "outputs": [
    {
     "name": "stdout",
     "output_type": "stream",
     "text": [
      "테스트 세트 점수: 0.97\n"
     ]
    }
   ],
   "source": [
    "print(\"테스트 세트 점수: {:.2f}\".format(grid_search.score(X_test, y_test)))"
   ]
  },
  {
   "cell_type": "code",
   "execution_count": 107,
   "metadata": {
    "colab": {
     "base_uri": "https://localhost:8080/",
     "height": 55
    },
    "colab_type": "code",
    "executionInfo": {
     "elapsed": 1248,
     "status": "ok",
     "timestamp": 1594563377086,
     "user": {
      "displayName": "강성관",
      "photoUrl": "",
      "userId": "00571094306841577419"
     },
     "user_tz": -540
    },
    "id": "VXVx0SyUbQzO",
    "outputId": "ef7b80b7-e891-4e60-adda-9e0580c9f795"
   },
   "outputs": [
    {
     "name": "stdout",
     "output_type": "stream",
     "text": [
      "최적 매개변수: {'C': 10}\n",
      "최고 교차 검증 점수: 0.97\n"
     ]
    }
   ],
   "source": [
    "print(\"최적 매개변수: {}\".format(grid_search.best_params_))\n",
    "print(\"최고 교차 검증 점수: {:.2f}\".format(grid_search.best_score_))"
   ]
  },
  {
   "cell_type": "markdown",
   "metadata": {
    "colab_type": "text",
    "id": "U3LXIYJNbV02"
   },
   "source": [
    "- 최적 매개 변수에서 전체 훈련 세트를 사용하여 학습한 모델은 best_estimator_\n",
    "\n",
    "- grid_search 객체가 predict와 score 메서드를 가지고 있으므로 예측이나 모델을 평가하기 위해 best_estimator_ 속성을 사용할 필요가 없다."
   ]
  },
  {
   "cell_type": "code",
   "execution_count": 108,
   "metadata": {
    "colab": {
     "base_uri": "https://localhost:8080/",
     "height": 129
    },
    "colab_type": "code",
    "executionInfo": {
     "elapsed": 1538,
     "status": "ok",
     "timestamp": 1594563382061,
     "user": {
      "displayName": "강성관",
      "photoUrl": "",
      "userId": "00571094306841577419"
     },
     "user_tz": -540
    },
    "id": "DrazI5Wwbid1",
    "outputId": "f14671c8-f2a1-474e-9ac7-e299c0cfab58"
   },
   "outputs": [
    {
     "name": "stdout",
     "output_type": "stream",
     "text": [
      "최고 성능 모델:\n",
      "LogisticRegression(C=10)\n"
     ]
    }
   ],
   "source": [
    "print(\"최고 성능 모델:\\n{}\".format(grid_search.best_estimator_))"
   ]
  },
  {
   "cell_type": "markdown",
   "metadata": {
    "colab_type": "text",
    "id": "rONj4Q8eYl5J"
   },
   "source": [
    "(실습) DecisionTree 모델의 최적 파라미터 찾기 (max_depth, max_leaf_nodes, min_samples_leaf)"
   ]
  },
  {
   "cell_type": "code",
   "execution_count": 109,
   "metadata": {
    "colab": {
     "base_uri": "https://localhost:8080/",
     "height": 36
    },
    "colab_type": "code",
    "executionInfo": {
     "elapsed": 1799,
     "status": "ok",
     "timestamp": 1594563846577,
     "user": {
      "displayName": "강성관",
      "photoUrl": "",
      "userId": "00571094306841577419"
     },
     "user_tz": -540
    },
    "id": "Ql7TUjW9aRqR",
    "outputId": "b22f34d3-00ff-48e1-901c-e3f45dd3e54a"
   },
   "outputs": [
    {
     "data": {
      "text/plain": [
       "(150, 4)"
      ]
     },
     "execution_count": 109,
     "metadata": {},
     "output_type": "execute_result"
    }
   ],
   "source": [
    "iris.data.shape"
   ]
  },
  {
   "cell_type": "code",
   "execution_count": 110,
   "metadata": {
    "colab": {
     "base_uri": "https://localhost:8080/",
     "height": 372
    },
    "colab_type": "code",
    "executionInfo": {
     "elapsed": 2219,
     "status": "ok",
     "timestamp": 1594564192174,
     "user": {
      "displayName": "강성관",
      "photoUrl": "",
      "userId": "00571094306841577419"
     },
     "user_tz": -540
    },
    "id": "suFtN4mMYv9p",
    "outputId": "fdda0d24-4c44-42e2-e899-87cb28baf6e3"
   },
   "outputs": [
    {
     "data": {
      "text/plain": [
       "GridSearchCV(cv=5, estimator=DecisionTreeClassifier(),\n",
       "             param_grid={'max_depth': range(1, 5),\n",
       "                         'max_leaf_nodes': range(1, 50, 10),\n",
       "                         'min_samples_leaf': range(1, 150, 10)})"
      ]
     },
     "execution_count": 110,
     "metadata": {},
     "output_type": "execute_result"
    }
   ],
   "source": [
    "from sklearn.tree import DecisionTreeClassifier\n",
    "\n",
    "param = {\"max_depth\":range(1,5), \"max_leaf_nodes\":range(1, 50, 10), \"min_samples_leaf\":range(1, 150, 10)}\n",
    "\n",
    "grid_search = GridSearchCV(DecisionTreeClassifier(), param, cv=5)\n",
    "\n",
    "iris = load_iris()\n",
    "X_train, X_test, y_train, y_test = train_test_split(iris.data, iris.target, random_state=0)\n",
    "\n",
    "grid_search.fit(X_train, y_train)"
   ]
  },
  {
   "cell_type": "code",
   "execution_count": 111,
   "metadata": {
    "colab": {
     "base_uri": "https://localhost:8080/",
     "height": 55
    },
    "colab_type": "code",
    "executionInfo": {
     "elapsed": 1720,
     "status": "ok",
     "timestamp": 1594564203787,
     "user": {
      "displayName": "강성관",
      "photoUrl": "",
      "userId": "00571094306841577419"
     },
     "user_tz": -540
    },
    "id": "DbID9ek6bHU9",
    "outputId": "e1a0ad57-1e61-4a07-b72b-96ad8f6b3c93"
   },
   "outputs": [
    {
     "name": "stdout",
     "output_type": "stream",
     "text": [
      "최고의 매개변수 : {'max_depth': 3, 'max_leaf_nodes': 11, 'min_samples_leaf': 1}\n",
      "최고의 점수 : 0.9644268774703558\n"
     ]
    }
   ],
   "source": [
    "print(\"최고의 매개변수 :\", grid_search.best_params_)\n",
    "print(\"최고의 점수 :\", grid_search.best_score_)"
   ]
  }
 ],
 "metadata": {
  "accelerator": "GPU",
  "colab": {
   "collapsed_sections": [],
   "name": "ML006_지도학습_선형분류모델_분류평가지표_GridSearch.ipynb",
   "provenance": [
    {
     "file_id": "1vnLqFgqsr6W6EUievBTXnhDzJ2iOgdtF",
     "timestamp": 1594544207324
    },
    {
     "file_id": "1u7qn_d8y8G3u42FpSJDOLKG5Dajjt7pX",
     "timestamp": 1592932535691
    }
   ]
  },
  "kernelspec": {
   "display_name": "Python 3",
   "language": "python",
   "name": "python3"
  },
  "language_info": {
   "codemirror_mode": {
    "name": "ipython",
    "version": 3
   },
   "file_extension": ".py",
   "mimetype": "text/x-python",
   "name": "python",
   "nbconvert_exporter": "python",
   "pygments_lexer": "ipython3",
   "version": "3.8.3"
  }
 },
 "nbformat": 4,
 "nbformat_minor": 1
}
